{
 "cells": [
  {
   "cell_type": "markdown",
   "metadata": {
    "id": "qLO_siFYEPSg"
   },
   "source": [
    "# Dealing with imbalanced datasets, combining oversampling with VAE and undersampling to improve model recognition over all classes.  "
   ]
  },
  {
   "cell_type": "code",
   "execution_count": 1,
   "metadata": {
    "colab": {
     "base_uri": "https://localhost:8080/"
    },
    "executionInfo": {
     "elapsed": 11512,
     "status": "ok",
     "timestamp": 1689003146026,
     "user": {
      "displayName": "JACINTO DOMINGUEZ RULL",
      "userId": "04779779024889038949"
     },
     "user_tz": -120
    },
    "id": "4_CcHvHZUwyO",
    "outputId": "a11141cd-7a8d-4cdd-9bb7-3d4e0e56e314"
   },
   "outputs": [
    {
     "name": "stdout",
     "output_type": "stream",
     "text": [
      "Collecting catboost\n",
      "  Downloading catboost-1.2-cp310-cp310-manylinux2014_x86_64.whl (98.6 MB)\n",
      "\u001b[2K     \u001b[90m━━━━━━━━━━━━━━━━━━━━━━━━━━━━━━━━━━━━━━━━\u001b[0m \u001b[32m98.6/98.6 MB\u001b[0m \u001b[31m8.8 MB/s\u001b[0m eta \u001b[36m0:00:00\u001b[0m\n",
      "\u001b[?25hRequirement already satisfied: graphviz in /usr/local/lib/python3.10/dist-packages (from catboost) (0.20.1)\n",
      "Requirement already satisfied: matplotlib in /usr/local/lib/python3.10/dist-packages (from catboost) (3.7.1)\n",
      "Requirement already satisfied: numpy>=1.16.0 in /usr/local/lib/python3.10/dist-packages (from catboost) (1.22.4)\n",
      "Requirement already satisfied: pandas>=0.24 in /usr/local/lib/python3.10/dist-packages (from catboost) (1.5.3)\n",
      "Requirement already satisfied: scipy in /usr/local/lib/python3.10/dist-packages (from catboost) (1.10.1)\n",
      "Requirement already satisfied: plotly in /usr/local/lib/python3.10/dist-packages (from catboost) (5.13.1)\n",
      "Requirement already satisfied: six in /usr/local/lib/python3.10/dist-packages (from catboost) (1.16.0)\n",
      "Requirement already satisfied: python-dateutil>=2.8.1 in /usr/local/lib/python3.10/dist-packages (from pandas>=0.24->catboost) (2.8.2)\n",
      "Requirement already satisfied: pytz>=2020.1 in /usr/local/lib/python3.10/dist-packages (from pandas>=0.24->catboost) (2022.7.1)\n",
      "Requirement already satisfied: contourpy>=1.0.1 in /usr/local/lib/python3.10/dist-packages (from matplotlib->catboost) (1.1.0)\n",
      "Requirement already satisfied: cycler>=0.10 in /usr/local/lib/python3.10/dist-packages (from matplotlib->catboost) (0.11.0)\n",
      "Requirement already satisfied: fonttools>=4.22.0 in /usr/local/lib/python3.10/dist-packages (from matplotlib->catboost) (4.40.0)\n",
      "Requirement already satisfied: kiwisolver>=1.0.1 in /usr/local/lib/python3.10/dist-packages (from matplotlib->catboost) (1.4.4)\n",
      "Requirement already satisfied: packaging>=20.0 in /usr/local/lib/python3.10/dist-packages (from matplotlib->catboost) (23.1)\n",
      "Requirement already satisfied: pillow>=6.2.0 in /usr/local/lib/python3.10/dist-packages (from matplotlib->catboost) (8.4.0)\n",
      "Requirement already satisfied: pyparsing>=2.3.1 in /usr/local/lib/python3.10/dist-packages (from matplotlib->catboost) (3.1.0)\n",
      "Requirement already satisfied: tenacity>=6.2.0 in /usr/local/lib/python3.10/dist-packages (from plotly->catboost) (8.2.2)\n",
      "Installing collected packages: catboost\n",
      "Successfully installed catboost-1.2\n"
     ]
    }
   ],
   "source": [
    "!pip install catboost"
   ]
  },
  {
   "cell_type": "markdown",
   "metadata": {
    "id": "IOzC3QPArH_F"
   },
   "source": [
    "Import packages, classifiers and etc."
   ]
  },
  {
   "cell_type": "code",
   "execution_count": 2,
   "metadata": {
    "_cell_guid": "b1076dfc-b9ad-4769-8c92-a6c4dae69d19",
    "_uuid": "8f2839f25d086af736a60e9eeb907d3b93b6e0e5",
    "executionInfo": {
     "elapsed": 3701,
     "status": "ok",
     "timestamp": 1689003156224,
     "user": {
      "displayName": "JACINTO DOMINGUEZ RULL",
      "userId": "04779779024889038949"
     },
     "user_tz": -120
    },
    "id": "GDNB_c5RrH_I"
   },
   "outputs": [],
   "source": [
    "import pandas as pd\n",
    "import numpy as np\n",
    "\n",
    "from sklearn.preprocessing import StandardScaler\n",
    "from sklearn.model_selection import train_test_split, cross_validate\n",
    "\n",
    "from catboost import CatBoostClassifier\n",
    "from lightgbm import LGBMClassifier\n",
    "from xgboost import XGBClassifier\n",
    "from sklearn.ensemble import BaggingClassifier, RandomForestClassifier\n",
    "\n",
    "from sklearn.metrics import confusion_matrix, make_scorer\n",
    "from imblearn.metrics import classification_report_imbalanced, geometric_mean_score\n",
    "from collections import Counter\n",
    "\n",
    "from imblearn.over_sampling import SMOTE, RandomOverSampler"
   ]
  },
  {
   "cell_type": "markdown",
   "metadata": {
    "id": "7qxBXk4fPiJx"
   },
   "source": [
    "Import VAEOversampler."
   ]
  },
  {
   "cell_type": "code",
   "execution_count": 3,
   "metadata": {
    "executionInfo": {
     "elapsed": 4624,
     "status": "ok",
     "timestamp": 1689003160842,
     "user": {
      "displayName": "JACINTO DOMINGUEZ RULL",
      "userId": "04779779024889038949"
     },
     "user_tz": -120
    },
    "id": "DqyRUyWlvryO"
   },
   "outputs": [],
   "source": [
    "from VAEOversampler import VAEOversampler"
   ]
  },
  {
   "cell_type": "markdown",
   "metadata": {
    "id": "8UEMO2hTPztj"
   },
   "source": [
    "## Loading data  \n",
    "You can load some dataset from Imbalanced Learn list (https://imbalanced-learn.org/stable/datasets/index.html) or use your own data.  \n"
   ]
  },
  {
   "cell_type": "code",
   "execution_count": 4,
   "metadata": {
    "executionInfo": {
     "elapsed": 24735,
     "status": "ok",
     "timestamp": 1689003185570,
     "user": {
      "displayName": "JACINTO DOMINGUEZ RULL",
      "userId": "04779779024889038949"
     },
     "user_tz": -120
    },
    "id": "Xnh_x70FwVCi"
   },
   "outputs": [],
   "source": [
    "from imblearn.datasets import fetch_datasets\n",
    "\n",
    "dset_name = 'yeast_ml8'\n",
    "dset = fetch_datasets()[dset_name]\n",
    "\n",
    "X, y = StandardScaler().fit_transform(dset.data), dset.target"
   ]
  },
  {
   "cell_type": "code",
   "execution_count": 5,
   "metadata": {
    "colab": {
     "base_uri": "https://localhost:8080/"
    },
    "executionInfo": {
     "elapsed": 15,
     "status": "ok",
     "timestamp": 1689003185571,
     "user": {
      "displayName": "JACINTO DOMINGUEZ RULL",
      "userId": "04779779024889038949"
     },
     "user_tz": -120
    },
    "id": "v_SUvgVSByCD",
    "outputId": "3c85902f-cf0e-41c6-a4f0-dd6406046c7c"
   },
   "outputs": [
    {
     "data": {
      "text/plain": [
       "array([[ 0.9500571 ,  1.43265284,  0.64497763, ..., -0.433831  ,\n",
       "         1.2690119 ,  1.1880271 ],\n",
       "       [-0.24523899, -0.51160225, -0.36258548, ..., -0.13432431,\n",
       "         0.24157372,  1.16943572],\n",
       "       [-0.94033451,  0.22105826,  2.13831785, ..., -0.65652613,\n",
       "        -0.90691512, -0.42282975],\n",
       "       ...,\n",
       "       [ 2.46867899,  1.30830839, -0.33578603, ..., -0.39466613,\n",
       "        -0.2923849 , -0.01997965],\n",
       "       [ 0.98675457,  0.9047637 ,  1.65112863, ..., -0.19583726,\n",
       "         3.01240345,  1.36669356],\n",
       "       [-0.02275421,  0.31605624,  0.07629516, ...,  0.08539816,\n",
       "        -0.44657042, -1.54848887]])"
      ]
     },
     "execution_count": 5,
     "metadata": {},
     "output_type": "execute_result"
    }
   ],
   "source": [
    "X"
   ]
  },
  {
   "cell_type": "code",
   "execution_count": 6,
   "metadata": {
    "executionInfo": {
     "elapsed": 7,
     "status": "ok",
     "timestamp": 1689003185572,
     "user": {
      "displayName": "JACINTO DOMINGUEZ RULL",
      "userId": "04779779024889038949"
     },
     "user_tz": -120
    },
    "id": "Tb09lFMxPS2J"
   },
   "outputs": [],
   "source": [
    "y[y == -1] = 0"
   ]
  },
  {
   "cell_type": "markdown",
   "metadata": {
    "id": "hpLA_GmKSJwN"
   },
   "source": [
    "We split data into train and test partitions."
   ]
  },
  {
   "cell_type": "code",
   "execution_count": 7,
   "metadata": {
    "executionInfo": {
     "elapsed": 229,
     "status": "ok",
     "timestamp": 1689003201252,
     "user": {
      "displayName": "JACINTO DOMINGUEZ RULL",
      "userId": "04779779024889038949"
     },
     "user_tz": -120
    },
    "id": "ZS-Dd0R9GbBY"
   },
   "outputs": [],
   "source": [
    "X_train, X_test, y_train, y_test = train_test_split(X, y, test_size=0.2, random_state=42, stratify=y)"
   ]
  },
  {
   "cell_type": "markdown",
   "metadata": {
    "id": "Em7Um0N4rH_S"
   },
   "source": [
    "This is a simple function to undersample freely.  "
   ]
  },
  {
   "cell_type": "code",
   "execution_count": 8,
   "metadata": {
    "executionInfo": {
     "elapsed": 199,
     "status": "ok",
     "timestamp": 1689003204146,
     "user": {
      "displayName": "JACINTO DOMINGUEZ RULL",
      "userId": "04779779024889038949"
     },
     "user_tz": -120
    },
    "id": "1cdWcXE3Ofok"
   },
   "outputs": [],
   "source": [
    "# RUS\n",
    "\n",
    "def RUS(X_res, y_res, frac=1, minority_class_id=1, random_state=42):\n",
    "    X_res = pd.DataFrame(X_res)\n",
    "    X_res['Class'] = y_res\n",
    "\n",
    "    X_neg = X_res[y_res != minority_class_id].sample(frac=frac, random_state=random_state)\n",
    "    X_pos = X_res[y_res == minority_class_id].sample(frac=1, random_state=random_state)\n",
    "\n",
    "    X_rus = pd.concat([X_neg, X_pos], ignore_index=True)\n",
    "\n",
    "    X_eq = X_rus.drop('Class', axis=1)\n",
    "    y_eq = X_rus['Class']\n",
    "\n",
    "    return X_eq, y_eq"
   ]
  },
  {
   "cell_type": "code",
   "execution_count": 9,
   "metadata": {
    "executionInfo": {
     "elapsed": 5,
     "status": "ok",
     "timestamp": 1689003204453,
     "user": {
      "displayName": "JACINTO DOMINGUEZ RULL",
      "userId": "04779779024889038949"
     },
     "user_tz": -120
    },
    "id": "1Ep1nUMCES98"
   },
   "outputs": [],
   "source": [
    "def train_val(X, y, Xt, yt, random_state=42):\n",
    "    classifiers = {\n",
    "        \"CatBoostClassifier\": CatBoostClassifier(verbose=False, random_seed=random_state),\n",
    "        \"LGBMClassifier\": LGBMClassifier(random_state=random_state),\n",
    "        \"XGBClassifier\": XGBClassifier(random_state=random_state),\n",
    "        \"BaggingClassifier\": BaggingClassifier(random_state=random_state),\n",
    "        \"RandomForestClassifier\": RandomForestClassifier(random_state=random_state),\n",
    "    }\n",
    "    scores = []\n",
    "    predictions = []\n",
    "    for key, classifier in classifiers.items():\n",
    "        print('_' * 50)\n",
    "        name = key\n",
    "        classifier.fit(X, y)\n",
    "        print(\"Classifier: \", name)\n",
    "        y_pred = classifier.predict(Xt)\n",
    "        cm = confusion_matrix(yt, y_pred)\n",
    "        print(cm)\n",
    "        print('')\n",
    "        predictions.append(y_pred)\n",
    "        tn = cm[0,0]\n",
    "        fp = cm[0,1]\n",
    "        fn = cm[1,0]\n",
    "        tp = cm[1,1]\n",
    "        tnr = tn / (tn + fp)\n",
    "        tpr = tp / (tp + fn)\n",
    "        scores.append(tnr * tpr)\n",
    "        print('TNR:', round(tnr, 5))\n",
    "        print('TPR:', round(tpr, 5))\n",
    "        print('TNRxTPR:', round(tnr * tpr, 5))\n",
    "        print('G-mean:', round(np.sqrt(tnr * tpr), 5))\n",
    "\n",
    "    print('_' * 50)\n",
    "    print('Ensemble predictions (majority voting):')\n",
    "    predictions = np.sum(predictions, axis=0)\n",
    "    predictions[predictions < 3] = 0\n",
    "    predictions[predictions >= 3] = 1\n",
    "\n",
    "    cm = confusion_matrix(yt, predictions)\n",
    "    print(cm)\n",
    "    tn = cm[0,0]\n",
    "    fp = cm[0,1]\n",
    "    fn = cm[1,0]\n",
    "    tp = cm[1,1]\n",
    "    tnr = tn / (tn + fp)\n",
    "    tpr = tp / (tp + fn)\n",
    "    print('')\n",
    "    print('TNR:', round(tnr, 5))\n",
    "    print('TPR:', round(tpr, 5))\n",
    "    print('TNRxTPR:', round(tnr * tpr, 5))\n",
    "    print('G-mean:', round(np.sqrt(tnr * tpr), 5))\n"
   ]
  },
  {
   "cell_type": "markdown",
   "metadata": {
    "id": "A-n86Yaxbcji"
   },
   "source": [
    "## Without resampling (base line)\n",
    "Which is starting score?\n"
   ]
  },
  {
   "cell_type": "code",
   "execution_count": 10,
   "metadata": {
    "colab": {
     "base_uri": "https://localhost:8080/"
    },
    "executionInfo": {
     "elapsed": 303,
     "status": "ok",
     "timestamp": 1689003206578,
     "user": {
      "displayName": "JACINTO DOMINGUEZ RULL",
      "userId": "04779779024889038949"
     },
     "user_tz": -120
    },
    "id": "dW6YYJZ_bcjj",
    "outputId": "8946fc03-eeac-4074-82c9-8ecc023f6c46"
   },
   "outputs": [
    {
     "name": "stdout",
     "output_type": "stream",
     "text": [
      "Original dataset shape Counter({0: 2239, 1: 178})\n",
      "Ratio-> 12.6 : 1\n"
     ]
    }
   ],
   "source": [
    "print('Original dataset shape %s' % Counter(y))\n",
    "print('Ratio->', round(Counter(y)[0]/Counter(y)[1], 1), ': 1')"
   ]
  },
  {
   "cell_type": "code",
   "execution_count": 11,
   "metadata": {
    "colab": {
     "base_uri": "https://localhost:8080/"
    },
    "executionInfo": {
     "elapsed": 28903,
     "status": "ok",
     "timestamp": 1689003236970,
     "user": {
      "displayName": "JACINTO DOMINGUEZ RULL",
      "userId": "04779779024889038949"
     },
     "user_tz": -120
    },
    "id": "bSSkbO1qbcjj",
    "outputId": "0b5bbc51-af83-4bc5-9007-d728a3196502"
   },
   "outputs": [
    {
     "name": "stdout",
     "output_type": "stream",
     "text": [
      "__________________________________________________\n",
      "Classifier:  CatBoostClassifier\n",
      "[[448   0]\n",
      " [ 36   0]]\n",
      "\n",
      "TNR: 1.0\n",
      "TPR: 0.0\n",
      "TNRxTPR: 0.0\n",
      "G-mean: 0.0\n",
      "__________________________________________________\n",
      "Classifier:  LGBMClassifier\n",
      "[[448   0]\n",
      " [ 36   0]]\n",
      "\n",
      "TNR: 1.0\n",
      "TPR: 0.0\n",
      "TNRxTPR: 0.0\n",
      "G-mean: 0.0\n",
      "__________________________________________________\n",
      "Classifier:  XGBClassifier\n",
      "[[448   0]\n",
      " [ 36   0]]\n",
      "\n",
      "TNR: 1.0\n",
      "TPR: 0.0\n",
      "TNRxTPR: 0.0\n",
      "G-mean: 0.0\n",
      "__________________________________________________\n",
      "Classifier:  BaggingClassifier\n",
      "[[443   5]\n",
      " [ 36   0]]\n",
      "\n",
      "TNR: 0.98884\n",
      "TPR: 0.0\n",
      "TNRxTPR: 0.0\n",
      "G-mean: 0.0\n",
      "__________________________________________________\n",
      "Classifier:  RandomForestClassifier\n",
      "[[448   0]\n",
      " [ 36   0]]\n",
      "\n",
      "TNR: 1.0\n",
      "TPR: 0.0\n",
      "TNRxTPR: 0.0\n",
      "G-mean: 0.0\n",
      "__________________________________________________\n",
      "Ensemble predictions (majority voting):\n",
      "[[448   0]\n",
      " [ 36   0]]\n",
      "\n",
      "TNR: 1.0\n",
      "TPR: 0.0\n",
      "TNRxTPR: 0.0\n",
      "G-mean: 0.0\n"
     ]
    }
   ],
   "source": [
    "train_val(X_train, y_train, X_test, y_test)"
   ]
  },
  {
   "cell_type": "markdown",
   "metadata": {
    "id": "jcCxQq6-Uvyr"
   },
   "source": [
    "## Ratio 1:1  \n",
    "Let's see classifiers scores when dataset is balanced.  \n"
   ]
  },
  {
   "cell_type": "code",
   "execution_count": 12,
   "metadata": {
    "executionInfo": {
     "elapsed": 201,
     "status": "ok",
     "timestamp": 1689003246630,
     "user": {
      "displayName": "JACINTO DOMINGUEZ RULL",
      "userId": "04779779024889038949"
     },
     "user_tz": -120
    },
    "id": "BHJ2B9Cx_nsc"
   },
   "outputs": [],
   "source": [
    "# SMOTE\n",
    "\n",
    "sm = SMOTE(random_state=42, sampling_strategy=1) # N_rm / N_M\n",
    "X_res, y_res = sm.fit_resample(X_train, y_train)"
   ]
  },
  {
   "cell_type": "code",
   "execution_count": 13,
   "metadata": {
    "colab": {
     "base_uri": "https://localhost:8080/"
    },
    "executionInfo": {
     "elapsed": 5,
     "status": "ok",
     "timestamp": 1689003247437,
     "user": {
      "displayName": "JACINTO DOMINGUEZ RULL",
      "userId": "04779779024889038949"
     },
     "user_tz": -120
    },
    "id": "6U0Byc1lUvys",
    "outputId": "e36c220d-cf17-40a3-c3dd-d03740426f38"
   },
   "outputs": [
    {
     "name": "stdout",
     "output_type": "stream",
     "text": [
      "Resampled dataset shape Counter({0: 1791, 1: 1791})\n",
      "Ratio->  1 : 1.0\n"
     ]
    }
   ],
   "source": [
    "print('Resampled dataset shape %s' % Counter(y_res))\n",
    "print('Ratio->  1 :', round(Counter(y_res)[1]/Counter(y_res)[0], 1))"
   ]
  },
  {
   "cell_type": "code",
   "execution_count": 14,
   "metadata": {
    "colab": {
     "base_uri": "https://localhost:8080/"
    },
    "executionInfo": {
     "elapsed": 35538,
     "status": "ok",
     "timestamp": 1689003283243,
     "user": {
      "displayName": "JACINTO DOMINGUEZ RULL",
      "userId": "04779779024889038949"
     },
     "user_tz": -120
    },
    "id": "CMGEySDMpTdx",
    "outputId": "03bd425e-1a2f-48f4-b684-d5c549c39dfd",
    "scrolled": false
   },
   "outputs": [
    {
     "name": "stdout",
     "output_type": "stream",
     "text": [
      "__________________________________________________\n",
      "Classifier:  CatBoostClassifier\n",
      "[[437  11]\n",
      " [ 36   0]]\n",
      "\n",
      "TNR: 0.97545\n",
      "TPR: 0.0\n",
      "TNRxTPR: 0.0\n",
      "G-mean: 0.0\n",
      "__________________________________________________\n",
      "Classifier:  LGBMClassifier\n",
      "[[435  13]\n",
      " [ 36   0]]\n",
      "\n",
      "TNR: 0.97098\n",
      "TPR: 0.0\n",
      "TNRxTPR: 0.0\n",
      "G-mean: 0.0\n",
      "__________________________________________________\n",
      "Classifier:  XGBClassifier\n",
      "[[437  11]\n",
      " [ 35   1]]\n",
      "\n",
      "TNR: 0.97545\n",
      "TPR: 0.02778\n",
      "TNRxTPR: 0.0271\n",
      "G-mean: 0.16461\n",
      "__________________________________________________\n",
      "Classifier:  BaggingClassifier\n",
      "[[434  14]\n",
      " [ 36   0]]\n",
      "\n",
      "TNR: 0.96875\n",
      "TPR: 0.0\n",
      "TNRxTPR: 0.0\n",
      "G-mean: 0.0\n",
      "__________________________________________________\n",
      "Classifier:  RandomForestClassifier\n",
      "[[445   3]\n",
      " [ 36   0]]\n",
      "\n",
      "TNR: 0.9933\n",
      "TPR: 0.0\n",
      "TNRxTPR: 0.0\n",
      "G-mean: 0.0\n",
      "__________________________________________________\n",
      "Ensemble predictions (majority voting):\n",
      "[[442   6]\n",
      " [ 36   0]]\n",
      "\n",
      "TNR: 0.98661\n",
      "TPR: 0.0\n",
      "TNRxTPR: 0.0\n",
      "G-mean: 0.0\n"
     ]
    }
   ],
   "source": [
    "train_val(X_res, y_res, X_test, y_test)"
   ]
  },
  {
   "cell_type": "code",
   "execution_count": 15,
   "metadata": {
    "executionInfo": {
     "elapsed": 199,
     "status": "ok",
     "timestamp": 1689003286434,
     "user": {
      "displayName": "JACINTO DOMINGUEZ RULL",
      "userId": "04779779024889038949"
     },
     "user_tz": -120
    },
    "id": "hiRVkg2eUx0U"
   },
   "outputs": [],
   "source": [
    "# ROS\n",
    "\n",
    "ros = RandomOverSampler(random_state=42, sampling_strategy=1) # N_rm / N_M\n",
    "X_res, y_res = ros.fit_resample(X_train, y_train)"
   ]
  },
  {
   "cell_type": "code",
   "execution_count": 16,
   "metadata": {
    "colab": {
     "base_uri": "https://localhost:8080/"
    },
    "executionInfo": {
     "elapsed": 235,
     "status": "ok",
     "timestamp": 1689003287597,
     "user": {
      "displayName": "JACINTO DOMINGUEZ RULL",
      "userId": "04779779024889038949"
     },
     "user_tz": -120
    },
    "id": "7igPUXNbUvyu",
    "outputId": "d7a26237-386a-415e-ce19-078cf88e3693"
   },
   "outputs": [
    {
     "name": "stdout",
     "output_type": "stream",
     "text": [
      "Resampled dataset shape Counter({0: 1791, 1: 1791})\n",
      "Ratio->  1 : 1.0\n"
     ]
    }
   ],
   "source": [
    "print('Resampled dataset shape %s' % Counter(y_res))\n",
    "print('Ratio->  1 :', round(Counter(y_res)[1]/Counter(y_res)[0], 1))"
   ]
  },
  {
   "cell_type": "code",
   "execution_count": 17,
   "metadata": {
    "colab": {
     "base_uri": "https://localhost:8080/"
    },
    "executionInfo": {
     "elapsed": 27454,
     "status": "ok",
     "timestamp": 1689003317142,
     "user": {
      "displayName": "JACINTO DOMINGUEZ RULL",
      "userId": "04779779024889038949"
     },
     "user_tz": -120
    },
    "id": "IMANwdwxUx0b",
    "outputId": "611b82fe-fc75-43e5-efda-33e5647b3516",
    "scrolled": false
   },
   "outputs": [
    {
     "name": "stdout",
     "output_type": "stream",
     "text": [
      "__________________________________________________\n",
      "Classifier:  CatBoostClassifier\n",
      "[[448   0]\n",
      " [ 36   0]]\n",
      "\n",
      "TNR: 1.0\n",
      "TPR: 0.0\n",
      "TNRxTPR: 0.0\n",
      "G-mean: 0.0\n",
      "__________________________________________________\n",
      "Classifier:  LGBMClassifier\n",
      "[[448   0]\n",
      " [ 36   0]]\n",
      "\n",
      "TNR: 1.0\n",
      "TPR: 0.0\n",
      "TNRxTPR: 0.0\n",
      "G-mean: 0.0\n",
      "__________________________________________________\n",
      "Classifier:  XGBClassifier\n",
      "[[448   0]\n",
      " [ 36   0]]\n",
      "\n",
      "TNR: 1.0\n",
      "TPR: 0.0\n",
      "TNRxTPR: 0.0\n",
      "G-mean: 0.0\n",
      "__________________________________________________\n",
      "Classifier:  BaggingClassifier\n",
      "[[443   5]\n",
      " [ 35   1]]\n",
      "\n",
      "TNR: 0.98884\n",
      "TPR: 0.02778\n",
      "TNRxTPR: 0.02747\n",
      "G-mean: 0.16573\n",
      "__________________________________________________\n",
      "Classifier:  RandomForestClassifier\n",
      "[[448   0]\n",
      " [ 36   0]]\n",
      "\n",
      "TNR: 1.0\n",
      "TPR: 0.0\n",
      "TNRxTPR: 0.0\n",
      "G-mean: 0.0\n",
      "__________________________________________________\n",
      "Ensemble predictions (majority voting):\n",
      "[[448   0]\n",
      " [ 36   0]]\n",
      "\n",
      "TNR: 1.0\n",
      "TPR: 0.0\n",
      "TNRxTPR: 0.0\n",
      "G-mean: 0.0\n"
     ]
    }
   ],
   "source": [
    "train_val(X_res, y_res, X_test, y_test)"
   ]
  },
  {
   "cell_type": "code",
   "execution_count": 18,
   "metadata": {
    "colab": {
     "base_uri": "https://localhost:8080/"
    },
    "executionInfo": {
     "elapsed": 18186,
     "status": "ok",
     "timestamp": 1689003340317,
     "user": {
      "displayName": "JACINTO DOMINGUEZ RULL",
      "userId": "04779779024889038949"
     },
     "user_tz": -120
    },
    "id": "B065rYa3wO-o",
    "outputId": "a49b8b50-43ae-45f3-9a17-e68381173861"
   },
   "outputs": [
    {
     "name": "stdout",
     "output_type": "stream",
     "text": [
      "52/52 [==============================] - 0s 883us/step\n"
     ]
    }
   ],
   "source": [
    "# VAEOversampler\n",
    "\n",
    "vae_sampler = VAEOversampler(epochs=500,\n",
    "                              intermediate_dim=512,\n",
    "                              batch_size=64,\n",
    "                              random_state=42,\n",
    "                              verbose=False)\n",
    "X_res, y_res = vae_sampler.fit_resample(X_train, y_train)"
   ]
  },
  {
   "cell_type": "code",
   "execution_count": 19,
   "metadata": {
    "colab": {
     "base_uri": "https://localhost:8080/"
    },
    "executionInfo": {
     "elapsed": 11,
     "status": "ok",
     "timestamp": 1689003340318,
     "user": {
      "displayName": "JACINTO DOMINGUEZ RULL",
      "userId": "04779779024889038949"
     },
     "user_tz": -120
    },
    "id": "nOsNattyeSXh",
    "outputId": "87ab6bee-e0a4-4ad7-e26c-a711e6325cf4"
   },
   "outputs": [
    {
     "name": "stdout",
     "output_type": "stream",
     "text": [
      "Resampled dataset shape Counter({0.0: 1791, 1.0: 1791})\n",
      "Ratio->  1 : 1.0\n"
     ]
    }
   ],
   "source": [
    "print('Resampled dataset shape %s' % Counter(y_res))\n",
    "print('Ratio->  1 :', round(Counter(y_res)[1]/Counter(y_res)[0], 1))"
   ]
  },
  {
   "cell_type": "code",
   "execution_count": 20,
   "metadata": {
    "colab": {
     "base_uri": "https://localhost:8080/"
    },
    "executionInfo": {
     "elapsed": 30228,
     "status": "ok",
     "timestamp": 1689003370541,
     "user": {
      "displayName": "JACINTO DOMINGUEZ RULL",
      "userId": "04779779024889038949"
     },
     "user_tz": -120
    },
    "id": "6BNffQSbwO-t",
    "outputId": "4e3399f3-c69f-417e-80e0-4b666caf1418"
   },
   "outputs": [
    {
     "name": "stdout",
     "output_type": "stream",
     "text": [
      "__________________________________________________\n",
      "Classifier:  CatBoostClassifier\n",
      "[[448   0]\n",
      " [ 36   0]]\n",
      "\n",
      "TNR: 1.0\n",
      "TPR: 0.0\n",
      "TNRxTPR: 0.0\n",
      "G-mean: 0.0\n",
      "__________________________________________________\n",
      "Classifier:  LGBMClassifier\n",
      "[[448   0]\n",
      " [ 36   0]]\n",
      "\n",
      "TNR: 1.0\n",
      "TPR: 0.0\n",
      "TNRxTPR: 0.0\n",
      "G-mean: 0.0\n",
      "__________________________________________________\n",
      "Classifier:  XGBClassifier\n",
      "[[447   1]\n",
      " [ 36   0]]\n",
      "\n",
      "TNR: 0.99777\n",
      "TPR: 0.0\n",
      "TNRxTPR: 0.0\n",
      "G-mean: 0.0\n",
      "__________________________________________________\n",
      "Classifier:  BaggingClassifier\n",
      "[[448   0]\n",
      " [ 35   1]]\n",
      "\n",
      "TNR: 1.0\n",
      "TPR: 0.02778\n",
      "TNRxTPR: 0.02778\n",
      "G-mean: 0.16667\n",
      "__________________________________________________\n",
      "Classifier:  RandomForestClassifier\n",
      "[[448   0]\n",
      " [ 36   0]]\n",
      "\n",
      "TNR: 1.0\n",
      "TPR: 0.0\n",
      "TNRxTPR: 0.0\n",
      "G-mean: 0.0\n",
      "__________________________________________________\n",
      "Ensemble predictions (majority voting):\n",
      "[[448   0]\n",
      " [ 36   0]]\n",
      "\n",
      "TNR: 1.0\n",
      "TPR: 0.0\n",
      "TNRxTPR: 0.0\n",
      "G-mean: 0.0\n"
     ]
    }
   ],
   "source": [
    "train_val(X_res, y_res, X_test, y_test)"
   ]
  },
  {
   "cell_type": "markdown",
   "metadata": {
    "id": "w9swp8C1wO-w"
   },
   "source": [
    "## Under/Oversampling combination  \n",
    "Now we can tuning the number of instances for each class to optimize metric.  \n"
   ]
  },
  {
   "cell_type": "code",
   "execution_count": 21,
   "metadata": {
    "executionInfo": {
     "elapsed": 297,
     "status": "ok",
     "timestamp": 1689003388329,
     "user": {
      "displayName": "JACINTO DOMINGUEZ RULL",
      "userId": "04779779024889038949"
     },
     "user_tz": -120
    },
    "id": "D0jtqxJ8Uvyv"
   },
   "outputs": [],
   "source": [
    "# SMOTE\n",
    "\n",
    "sm = SMOTE(random_state=42, sampling_strategy=1) # N_rm / N_M\n",
    "X_res, y_res = sm.fit_resample(X_train, y_train)"
   ]
  },
  {
   "cell_type": "code",
   "execution_count": 22,
   "metadata": {
    "colab": {
     "base_uri": "https://localhost:8080/"
    },
    "executionInfo": {
     "elapsed": 188,
     "status": "ok",
     "timestamp": 1689003393186,
     "user": {
      "displayName": "JACINTO DOMINGUEZ RULL",
      "userId": "04779779024889038949"
     },
     "user_tz": -120
    },
    "id": "uQ3_RoAsUvyv",
    "outputId": "1675db52-776c-4566-f4ca-a647c98070aa"
   },
   "outputs": [
    {
     "name": "stdout",
     "output_type": "stream",
     "text": [
      "Resampled dataset shape Counter({1: 1791, 0: 269})\n",
      "Ratio->  1 : 6.7\n"
     ]
    }
   ],
   "source": [
    "# RUS\n",
    "\n",
    "X_eq, y_eq = RUS(X_res, y_res, frac=.15)\n",
    "\n",
    "print('Resampled dataset shape %s' % Counter(y_eq))\n",
    "print('Ratio->  1 :', round(Counter(y_eq)[1]/Counter(y_eq)[0], 1))"
   ]
  },
  {
   "cell_type": "code",
   "execution_count": 23,
   "metadata": {
    "colab": {
     "base_uri": "https://localhost:8080/"
    },
    "executionInfo": {
     "elapsed": 42543,
     "status": "ok",
     "timestamp": 1689003438286,
     "user": {
      "displayName": "JACINTO DOMINGUEZ RULL",
      "userId": "04779779024889038949"
     },
     "user_tz": -120
    },
    "id": "TPcOZeONUvyw",
    "outputId": "50134717-996d-44a2-fd59-24b22daf451d",
    "scrolled": false
   },
   "outputs": [
    {
     "name": "stdout",
     "output_type": "stream",
     "text": [
      "__________________________________________________\n",
      "Classifier:  CatBoostClassifier\n",
      "[[202 246]\n",
      " [  7  29]]\n",
      "\n",
      "TNR: 0.45089\n",
      "TPR: 0.80556\n",
      "TNRxTPR: 0.36322\n",
      "G-mean: 0.60268\n",
      "__________________________________________________\n",
      "Classifier:  LGBMClassifier\n",
      "[[247 201]\n",
      " [ 11  25]]\n",
      "\n",
      "TNR: 0.55134\n",
      "TPR: 0.69444\n",
      "TNRxTPR: 0.38287\n",
      "G-mean: 0.61877\n",
      "__________________________________________________\n",
      "Classifier:  XGBClassifier\n",
      "[[235 213]\n",
      " [ 11  25]]\n",
      "\n",
      "TNR: 0.52455\n",
      "TPR: 0.69444\n",
      "TNRxTPR: 0.36427\n",
      "G-mean: 0.60355\n",
      "__________________________________________________\n",
      "Classifier:  BaggingClassifier\n",
      "[[285 163]\n",
      " [ 21  15]]\n",
      "\n",
      "TNR: 0.63616\n",
      "TPR: 0.41667\n",
      "TNRxTPR: 0.26507\n",
      "G-mean: 0.51485\n",
      "__________________________________________________\n",
      "Classifier:  RandomForestClassifier\n",
      "[[248 200]\n",
      " [ 16  20]]\n",
      "\n",
      "TNR: 0.55357\n",
      "TPR: 0.55556\n",
      "TNRxTPR: 0.30754\n",
      "G-mean: 0.55456\n",
      "__________________________________________________\n",
      "Ensemble predictions (majority voting):\n",
      "[[234 214]\n",
      " [ 10  26]]\n",
      "\n",
      "TNR: 0.52232\n",
      "TPR: 0.72222\n",
      "TNRxTPR: 0.37723\n",
      "G-mean: 0.61419\n"
     ]
    }
   ],
   "source": [
    "train_val(X_eq, y_eq, X_test, y_test)"
   ]
  },
  {
   "cell_type": "code",
   "execution_count": 24,
   "metadata": {
    "executionInfo": {
     "elapsed": 224,
     "status": "ok",
     "timestamp": 1689003458893,
     "user": {
      "displayName": "JACINTO DOMINGUEZ RULL",
      "userId": "04779779024889038949"
     },
     "user_tz": -120
    },
    "id": "-mGQlfSdUvyw"
   },
   "outputs": [],
   "source": [
    "# ROS\n",
    "\n",
    "ros = RandomOverSampler(random_state=42, sampling_strategy=1) # N_rm / N_M\n",
    "X_res, y_res = ros.fit_resample(X_train, y_train)"
   ]
  },
  {
   "cell_type": "code",
   "execution_count": 25,
   "metadata": {
    "colab": {
     "base_uri": "https://localhost:8080/"
    },
    "executionInfo": {
     "elapsed": 4,
     "status": "ok",
     "timestamp": 1689003460118,
     "user": {
      "displayName": "JACINTO DOMINGUEZ RULL",
      "userId": "04779779024889038949"
     },
     "user_tz": -120
    },
    "id": "8fdzr1qOUvyw",
    "outputId": "8d212424-267f-460b-f5a3-d2f962ae51f7"
   },
   "outputs": [
    {
     "name": "stdout",
     "output_type": "stream",
     "text": [
      "Resampled dataset shape Counter({1: 1791, 0: 269})\n",
      "Ratio->  1 : 6.7\n"
     ]
    }
   ],
   "source": [
    "# RUS\n",
    "\n",
    "X_eq, y_eq = RUS(X_res, y_res, frac=.15)\n",
    "\n",
    "print('Resampled dataset shape %s' % Counter(y_eq))\n",
    "print('Ratio->  1 :', round(Counter(y_eq)[1]/Counter(y_eq)[0], 1))"
   ]
  },
  {
   "cell_type": "code",
   "execution_count": 26,
   "metadata": {
    "colab": {
     "base_uri": "https://localhost:8080/"
    },
    "executionInfo": {
     "elapsed": 26123,
     "status": "ok",
     "timestamp": 1689003487673,
     "user": {
      "displayName": "JACINTO DOMINGUEZ RULL",
      "userId": "04779779024889038949"
     },
     "user_tz": -120
    },
    "id": "u0UCU05gUvyw",
    "outputId": "bc091763-c93a-4a64-e751-c670fdea09a7",
    "scrolled": false
   },
   "outputs": [
    {
     "name": "stdout",
     "output_type": "stream",
     "text": [
      "__________________________________________________\n",
      "Classifier:  CatBoostClassifier\n",
      "[[227 221]\n",
      " [ 16  20]]\n",
      "\n",
      "TNR: 0.5067\n",
      "TPR: 0.55556\n",
      "TNRxTPR: 0.2815\n",
      "G-mean: 0.53056\n",
      "__________________________________________________\n",
      "Classifier:  LGBMClassifier\n",
      "[[351  97]\n",
      " [ 18  18]]\n",
      "\n",
      "TNR: 0.78348\n",
      "TPR: 0.5\n",
      "TNRxTPR: 0.39174\n",
      "G-mean: 0.62589\n",
      "__________________________________________________\n",
      "Classifier:  XGBClassifier\n",
      "[[317 131]\n",
      " [ 13  23]]\n",
      "\n",
      "TNR: 0.70759\n",
      "TPR: 0.63889\n",
      "TNRxTPR: 0.45207\n",
      "G-mean: 0.67236\n",
      "__________________________________________________\n",
      "Classifier:  BaggingClassifier\n",
      "[[279 169]\n",
      " [ 22  14]]\n",
      "\n",
      "TNR: 0.62277\n",
      "TPR: 0.38889\n",
      "TNRxTPR: 0.24219\n",
      "G-mean: 0.49213\n",
      "__________________________________________________\n",
      "Classifier:  RandomForestClassifier\n",
      "[[282 166]\n",
      " [ 22  14]]\n",
      "\n",
      "TNR: 0.62946\n",
      "TPR: 0.38889\n",
      "TNRxTPR: 0.24479\n",
      "G-mean: 0.49476\n",
      "__________________________________________________\n",
      "Ensemble predictions (majority voting):\n",
      "[[281 167]\n",
      " [ 20  16]]\n",
      "\n",
      "TNR: 0.62723\n",
      "TPR: 0.44444\n",
      "TNRxTPR: 0.27877\n",
      "G-mean: 0.52799\n"
     ]
    }
   ],
   "source": [
    "train_val(X_eq, y_eq, X_test, y_test)"
   ]
  },
  {
   "cell_type": "code",
   "execution_count": 40,
   "metadata": {
    "colab": {
     "base_uri": "https://localhost:8080/"
    },
    "executionInfo": {
     "elapsed": 970,
     "status": "ok",
     "timestamp": 1689003781574,
     "user": {
      "displayName": "JACINTO DOMINGUEZ RULL",
      "userId": "04779779024889038949"
     },
     "user_tz": -120
    },
    "id": "T6benPDnCzym",
    "outputId": "b908f997-e833-429f-eb2b-b199eec3be7f"
   },
   "outputs": [
    {
     "name": "stdout",
     "output_type": "stream",
     "text": [
      "155/155 [==============================] - 0s 1ms/step\n"
     ]
    }
   ],
   "source": [
    "# VAEOversampler\n",
    "\n",
    "X_res, y_res = vae_sampler.resample(X_train, y_train, sampling_strategy=3)"
   ]
  },
  {
   "cell_type": "code",
   "execution_count": 41,
   "metadata": {
    "colab": {
     "base_uri": "https://localhost:8080/"
    },
    "executionInfo": {
     "elapsed": 13,
     "status": "ok",
     "timestamp": 1689003781576,
     "user": {
      "displayName": "JACINTO DOMINGUEZ RULL",
      "userId": "04779779024889038949"
     },
     "user_tz": -120
    },
    "id": "7a1QqxB6Czyx",
    "outputId": "18d9c5bd-dcd1-438b-d3b6-ffaf79576c0b"
   },
   "outputs": [
    {
     "name": "stdout",
     "output_type": "stream",
     "text": [
      "Resampled dataset shape Counter({1.0: 5089, 0.0: 179})\n",
      "Ratio->  1 : 28.4\n"
     ]
    }
   ],
   "source": [
    "# RUS\n",
    "\n",
    "X_eq, y_eq = RUS(X_res, y_res, frac=.1)\n",
    "\n",
    "print('Resampled dataset shape %s' % Counter(y_eq))\n",
    "print('Ratio->  1 :', round(Counter(y_eq)[1]/Counter(y_eq)[0], 1))"
   ]
  },
  {
   "cell_type": "code",
   "execution_count": 42,
   "metadata": {
    "colab": {
     "base_uri": "https://localhost:8080/"
    },
    "executionInfo": {
     "elapsed": 28227,
     "status": "ok",
     "timestamp": 1689003810796,
     "user": {
      "displayName": "JACINTO DOMINGUEZ RULL",
      "userId": "04779779024889038949"
     },
     "user_tz": -120
    },
    "id": "oAv7STUxCzy0",
    "outputId": "12bb1e5d-55f9-49bf-847d-a02daf5e334e"
   },
   "outputs": [
    {
     "name": "stdout",
     "output_type": "stream",
     "text": [
      "__________________________________________________\n",
      "Classifier:  CatBoostClassifier\n",
      "[[305 143]\n",
      " [ 12  24]]\n",
      "\n",
      "TNR: 0.6808\n",
      "TPR: 0.66667\n",
      "TNRxTPR: 0.45387\n",
      "G-mean: 0.6737\n",
      "__________________________________________________\n",
      "Classifier:  LGBMClassifier\n",
      "[[302 146]\n",
      " [ 18  18]]\n",
      "\n",
      "TNR: 0.67411\n",
      "TPR: 0.5\n",
      "TNRxTPR: 0.33705\n",
      "G-mean: 0.58056\n",
      "__________________________________________________\n",
      "Classifier:  XGBClassifier\n",
      "[[281 167]\n",
      " [ 22  14]]\n",
      "\n",
      "TNR: 0.62723\n",
      "TPR: 0.38889\n",
      "TNRxTPR: 0.24392\n",
      "G-mean: 0.49389\n",
      "__________________________________________________\n",
      "Classifier:  BaggingClassifier\n",
      "[[324 124]\n",
      " [ 21  15]]\n",
      "\n",
      "TNR: 0.72321\n",
      "TPR: 0.41667\n",
      "TNRxTPR: 0.30134\n",
      "G-mean: 0.54894\n",
      "__________________________________________________\n",
      "Classifier:  RandomForestClassifier\n",
      "[[329 119]\n",
      " [ 22  14]]\n",
      "\n",
      "TNR: 0.73438\n",
      "TPR: 0.38889\n",
      "TNRxTPR: 0.28559\n",
      "G-mean: 0.53441\n",
      "__________________________________________________\n",
      "Ensemble predictions (majority voting):\n",
      "[[325 123]\n",
      " [ 18  18]]\n",
      "\n",
      "TNR: 0.72545\n",
      "TPR: 0.5\n",
      "TNRxTPR: 0.36272\n",
      "G-mean: 0.60227\n"
     ]
    }
   ],
   "source": [
    "train_val(X_eq, y_eq, X_test, y_test)"
   ]
  },
  {
   "cell_type": "markdown",
   "metadata": {
    "id": "RydFSMjOoD87"
   },
   "source": [
    "## References  \n",
    "\n",
    "  - Classification with Imbalanced Datasets:  \n",
    "    https://sci2s.ugr.es/imbalanced  \n",
    "  - Computer Vision:  Models, Learning, and Inference (Simon J.D. Prince):  \n",
    "    http://www.computervisionmodels.com/  \n",
    "  - Oversampling with VAEs:  \n",
    "    https://towardsdatascience.com/oversampling-with-vaes-e410887fe51  \n"
   ]
  }
 ],
 "metadata": {
  "colab": {
   "provenance": []
  },
  "gpuClass": "standard",
  "kernelspec": {
   "display_name": "Python 3 (ipykernel)",
   "language": "python",
   "name": "python3"
  },
  "language_info": {
   "codemirror_mode": {
    "name": "ipython",
    "version": 3
   },
   "file_extension": ".py",
   "mimetype": "text/x-python",
   "name": "python",
   "nbconvert_exporter": "python",
   "pygments_lexer": "ipython3",
   "version": "3.9.7"
  }
 },
 "nbformat": 4,
 "nbformat_minor": 1
}
