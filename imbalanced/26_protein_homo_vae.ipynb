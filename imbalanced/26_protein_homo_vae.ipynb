{
 "cells": [
  {
   "cell_type": "markdown",
   "metadata": {
    "id": "qLO_siFYEPSg"
   },
   "source": [
    "# Dealing with imbalanced datasets, combining oversampling with VAE and undersampling to improve model recognition over all classes.  "
   ]
  },
  {
   "cell_type": "code",
   "execution_count": 1,
   "metadata": {
    "colab": {
     "base_uri": "https://localhost:8080/"
    },
    "id": "4_CcHvHZUwyO",
    "outputId": "251f4c3a-dceb-4401-f7f9-9bee3ddd43ac"
   },
   "outputs": [
    {
     "name": "stdout",
     "output_type": "stream",
     "text": [
      "Collecting catboost\n",
      "  Downloading catboost-1.2-cp310-cp310-manylinux2014_x86_64.whl (98.6 MB)\n",
      "\u001b[2K     \u001b[90m━━━━━━━━━━━━━━━━━━━━━━━━━━━━━━━━━━━━━━━━\u001b[0m \u001b[32m98.6/98.6 MB\u001b[0m \u001b[31m7.1 MB/s\u001b[0m eta \u001b[36m0:00:00\u001b[0m\n",
      "\u001b[?25hRequirement already satisfied: graphviz in /usr/local/lib/python3.10/dist-packages (from catboost) (0.20.1)\n",
      "Requirement already satisfied: matplotlib in /usr/local/lib/python3.10/dist-packages (from catboost) (3.7.1)\n",
      "Requirement already satisfied: numpy>=1.16.0 in /usr/local/lib/python3.10/dist-packages (from catboost) (1.22.4)\n",
      "Requirement already satisfied: pandas>=0.24 in /usr/local/lib/python3.10/dist-packages (from catboost) (1.5.3)\n",
      "Requirement already satisfied: scipy in /usr/local/lib/python3.10/dist-packages (from catboost) (1.10.1)\n",
      "Requirement already satisfied: plotly in /usr/local/lib/python3.10/dist-packages (from catboost) (5.13.1)\n",
      "Requirement already satisfied: six in /usr/local/lib/python3.10/dist-packages (from catboost) (1.16.0)\n",
      "Requirement already satisfied: python-dateutil>=2.8.1 in /usr/local/lib/python3.10/dist-packages (from pandas>=0.24->catboost) (2.8.2)\n",
      "Requirement already satisfied: pytz>=2020.1 in /usr/local/lib/python3.10/dist-packages (from pandas>=0.24->catboost) (2022.7.1)\n",
      "Requirement already satisfied: contourpy>=1.0.1 in /usr/local/lib/python3.10/dist-packages (from matplotlib->catboost) (1.1.0)\n",
      "Requirement already satisfied: cycler>=0.10 in /usr/local/lib/python3.10/dist-packages (from matplotlib->catboost) (0.11.0)\n",
      "Requirement already satisfied: fonttools>=4.22.0 in /usr/local/lib/python3.10/dist-packages (from matplotlib->catboost) (4.40.0)\n",
      "Requirement already satisfied: kiwisolver>=1.0.1 in /usr/local/lib/python3.10/dist-packages (from matplotlib->catboost) (1.4.4)\n",
      "Requirement already satisfied: packaging>=20.0 in /usr/local/lib/python3.10/dist-packages (from matplotlib->catboost) (23.1)\n",
      "Requirement already satisfied: pillow>=6.2.0 in /usr/local/lib/python3.10/dist-packages (from matplotlib->catboost) (8.4.0)\n",
      "Requirement already satisfied: pyparsing>=2.3.1 in /usr/local/lib/python3.10/dist-packages (from matplotlib->catboost) (3.1.0)\n",
      "Requirement already satisfied: tenacity>=6.2.0 in /usr/local/lib/python3.10/dist-packages (from plotly->catboost) (8.2.2)\n",
      "Installing collected packages: catboost\n",
      "Successfully installed catboost-1.2\n"
     ]
    }
   ],
   "source": [
    "!pip install catboost"
   ]
  },
  {
   "cell_type": "markdown",
   "metadata": {
    "id": "IOzC3QPArH_F"
   },
   "source": [
    "Import packages, classifiers and etc."
   ]
  },
  {
   "cell_type": "code",
   "execution_count": 2,
   "metadata": {
    "_cell_guid": "b1076dfc-b9ad-4769-8c92-a6c4dae69d19",
    "_uuid": "8f2839f25d086af736a60e9eeb907d3b93b6e0e5",
    "id": "GDNB_c5RrH_I"
   },
   "outputs": [],
   "source": [
    "import pandas as pd\n",
    "import numpy as np\n",
    "\n",
    "from sklearn.preprocessing import StandardScaler\n",
    "from sklearn.model_selection import train_test_split, cross_validate\n",
    "\n",
    "from catboost import CatBoostClassifier\n",
    "from lightgbm import LGBMClassifier\n",
    "from xgboost import XGBClassifier\n",
    "from sklearn.ensemble import BaggingClassifier, RandomForestClassifier\n",
    "\n",
    "from sklearn.metrics import confusion_matrix, make_scorer\n",
    "from imblearn.metrics import classification_report_imbalanced, geometric_mean_score\n",
    "from collections import Counter\n",
    "\n",
    "from imblearn.over_sampling import SMOTE, RandomOverSampler"
   ]
  },
  {
   "cell_type": "markdown",
   "metadata": {
    "id": "7qxBXk4fPiJx"
   },
   "source": [
    "Import VAEOversampler."
   ]
  },
  {
   "cell_type": "code",
   "execution_count": 3,
   "metadata": {
    "id": "DqyRUyWlvryO"
   },
   "outputs": [],
   "source": [
    "from VAEOversampler import VAEOversampler"
   ]
  },
  {
   "cell_type": "markdown",
   "metadata": {
    "id": "8UEMO2hTPztj"
   },
   "source": [
    "## Loading data  \n",
    "You can load some dataset from Imbalanced Learn list (https://imbalanced-learn.org/stable/datasets/index.html) or use your own data.  \n"
   ]
  },
  {
   "cell_type": "code",
   "execution_count": 4,
   "metadata": {
    "id": "Xnh_x70FwVCi"
   },
   "outputs": [],
   "source": [
    "from imblearn.datasets import fetch_datasets\n",
    "\n",
    "dset_name = 'protein_homo'\n",
    "dset = fetch_datasets()[dset_name]\n",
    "\n",
    "X, y = StandardScaler().fit_transform(dset.data), dset.target"
   ]
  },
  {
   "cell_type": "code",
   "execution_count": 5,
   "metadata": {
    "colab": {
     "base_uri": "https://localhost:8080/"
    },
    "id": "v_SUvgVSByCD",
    "outputId": "ec55acb8-c5ba-4587-9448-15154ec0994e"
   },
   "outputs": [
    {
     "data": {
      "text/plain": [
       "array([[-4.82492993e-01,  1.36726796e+00,  9.56085932e-02, ...,\n",
       "        -7.66763046e-01, -2.90876703e-03,  1.13706209e+00],\n",
       "       [-1.66574940e-01,  1.50849637e+00, -1.45710580e-01, ...,\n",
       "         6.40459866e-01,  6.90526581e-01,  1.07701990e+00],\n",
       "       [ 8.33832229e-01,  1.71239795e-01, -8.77712073e-01, ...,\n",
       "        -1.14885668e+00, -2.90876703e-03,  9.63308956e-02],\n",
       "       ...,\n",
       "       [ 2.04485143e+00,  9.98882151e+00,  3.35746219e+01, ...,\n",
       "         2.73731520e+00,  9.57232484e-01,  1.17709021e+00],\n",
       "       [ 1.28928076e+00, -7.50242054e-03,  1.34242432e+00, ...,\n",
       "         2.24338927e+00,  1.49064429e+00,  1.15707615e+00],\n",
       "       [ 1.38668882e+00,  6.25818764e-01,  4.55196933e+00, ...,\n",
       "        -9.81108258e-01, -5.36320573e-01,  7.63168342e-02]])"
      ]
     },
     "execution_count": 5,
     "metadata": {},
     "output_type": "execute_result"
    }
   ],
   "source": [
    "X"
   ]
  },
  {
   "cell_type": "code",
   "execution_count": 6,
   "metadata": {
    "id": "Tb09lFMxPS2J"
   },
   "outputs": [],
   "source": [
    "y[y == -1] = 0"
   ]
  },
  {
   "cell_type": "markdown",
   "metadata": {
    "id": "hpLA_GmKSJwN"
   },
   "source": [
    "We split data into train and test partitions."
   ]
  },
  {
   "cell_type": "code",
   "execution_count": 7,
   "metadata": {
    "id": "ZS-Dd0R9GbBY"
   },
   "outputs": [],
   "source": [
    "X_train, X_test, y_train, y_test = train_test_split(X, y, test_size=0.2, random_state=42, stratify=y)"
   ]
  },
  {
   "cell_type": "markdown",
   "metadata": {
    "id": "Em7Um0N4rH_S"
   },
   "source": [
    "This is a simple function to undersample freely.  "
   ]
  },
  {
   "cell_type": "code",
   "execution_count": 8,
   "metadata": {
    "id": "1cdWcXE3Ofok"
   },
   "outputs": [],
   "source": [
    "# RUS\n",
    "\n",
    "def RUS(X_res, y_res, frac=1, minority_class_id=1, random_state=42):\n",
    "    X_res = pd.DataFrame(X_res)\n",
    "    X_res['Class'] = y_res\n",
    "\n",
    "    X_neg = X_res[y_res != minority_class_id].sample(frac=frac, random_state=random_state)\n",
    "    X_pos = X_res[y_res == minority_class_id].sample(frac=1, random_state=random_state)\n",
    "\n",
    "    X_rus = pd.concat([X_neg, X_pos], ignore_index=True)\n",
    "\n",
    "    X_eq = X_rus.drop('Class', axis=1)\n",
    "    y_eq = X_rus['Class']\n",
    "\n",
    "    return X_eq, y_eq"
   ]
  },
  {
   "cell_type": "code",
   "execution_count": 9,
   "metadata": {
    "id": "1Ep1nUMCES98"
   },
   "outputs": [],
   "source": [
    "def train_val(X, y, Xt, yt, random_state=42):\n",
    "    classifiers = {\n",
    "        \"CatBoostClassifier\": CatBoostClassifier(verbose=False, random_seed=random_state),\n",
    "        \"LGBMClassifier\": LGBMClassifier(random_state=random_state),\n",
    "        \"XGBClassifier\": XGBClassifier(random_state=random_state),\n",
    "        \"BaggingClassifier\": BaggingClassifier(random_state=random_state),\n",
    "        \"RandomForestClassifier\": RandomForestClassifier(random_state=random_state),\n",
    "    }\n",
    "    scores = []\n",
    "    predictions = []\n",
    "    for key, classifier in classifiers.items():\n",
    "        print('_' * 50)\n",
    "        name = key\n",
    "        classifier.fit(X, y)\n",
    "        print(\"Classifier: \", name)\n",
    "        y_pred = classifier.predict(Xt)\n",
    "        cm = confusion_matrix(yt, y_pred)\n",
    "        print(cm)\n",
    "        print('')\n",
    "        predictions.append(y_pred)\n",
    "        tn = cm[0,0]\n",
    "        fp = cm[0,1]\n",
    "        fn = cm[1,0]\n",
    "        tp = cm[1,1]\n",
    "        tnr = tn / (tn + fp)\n",
    "        tpr = tp / (tp + fn)\n",
    "        scores.append(tnr * tpr)\n",
    "        print('TNR:', round(tnr, 5))\n",
    "        print('TPR:', round(tpr, 5))\n",
    "        print('TNRxTPR:', round(tnr * tpr, 5))\n",
    "        print('G-mean:', round(np.sqrt(tnr * tpr), 5))\n",
    "\n",
    "    print('_' * 50)\n",
    "    print('Ensemble predictions (majority voting):')\n",
    "    predictions = np.sum(predictions, axis=0)\n",
    "    predictions[predictions < 3] = 0\n",
    "    predictions[predictions >= 3] = 1\n",
    "\n",
    "    cm = confusion_matrix(yt, predictions)\n",
    "    print(cm)\n",
    "    tn = cm[0,0]\n",
    "    fp = cm[0,1]\n",
    "    fn = cm[1,0]\n",
    "    tp = cm[1,1]\n",
    "    tnr = tn / (tn + fp)\n",
    "    tpr = tp / (tp + fn)\n",
    "    print('')\n",
    "    print('TNR:', round(tnr, 5))\n",
    "    print('TPR:', round(tpr, 5))\n",
    "    print('TNRxTPR:', round(tnr * tpr, 5))\n",
    "    print('G-mean:', round(np.sqrt(tnr * tpr), 5))\n"
   ]
  },
  {
   "cell_type": "markdown",
   "metadata": {
    "id": "A-n86Yaxbcji"
   },
   "source": [
    "## Without resampling (base line)\n",
    "Which is starting score?\n"
   ]
  },
  {
   "cell_type": "code",
   "execution_count": 10,
   "metadata": {
    "colab": {
     "base_uri": "https://localhost:8080/"
    },
    "id": "dW6YYJZ_bcjj",
    "outputId": "e6b1333f-5323-4183-d1af-0c75b1509c44"
   },
   "outputs": [
    {
     "name": "stdout",
     "output_type": "stream",
     "text": [
      "Original dataset shape Counter({0: 144455, 1: 1296})\n",
      "Ratio-> 111.5 : 1\n"
     ]
    }
   ],
   "source": [
    "print('Original dataset shape %s' % Counter(y))\n",
    "print('Ratio->', round(Counter(y)[0]/Counter(y)[1], 1), ': 1')"
   ]
  },
  {
   "cell_type": "code",
   "execution_count": 11,
   "metadata": {
    "colab": {
     "base_uri": "https://localhost:8080/"
    },
    "id": "bSSkbO1qbcjj",
    "outputId": "02122872-4565-4642-ce27-c8d367fbaa3f"
   },
   "outputs": [
    {
     "name": "stdout",
     "output_type": "stream",
     "text": [
      "__________________________________________________\n",
      "Classifier:  CatBoostClassifier\n",
      "[[28882    10]\n",
      " [   47   212]]\n",
      "\n",
      "TNR: 0.99965\n",
      "TPR: 0.81853\n",
      "TNRxTPR: 0.81825\n",
      "G-mean: 0.90457\n",
      "__________________________________________________\n",
      "Classifier:  LGBMClassifier\n",
      "[[28870    22]\n",
      " [   46   213]]\n",
      "\n",
      "TNR: 0.99924\n",
      "TPR: 0.82239\n",
      "TNRxTPR: 0.82177\n",
      "G-mean: 0.90651\n",
      "__________________________________________________\n",
      "Classifier:  XGBClassifier\n",
      "[[28886     6]\n",
      " [   52   207]]\n",
      "\n",
      "TNR: 0.99979\n",
      "TPR: 0.79923\n",
      "TNRxTPR: 0.79906\n",
      "G-mean: 0.8939\n",
      "__________________________________________________\n",
      "Classifier:  BaggingClassifier\n",
      "[[28884     8]\n",
      " [   60   199]]\n",
      "\n",
      "TNR: 0.99972\n",
      "TPR: 0.76834\n",
      "TNRxTPR: 0.76813\n",
      "G-mean: 0.87643\n",
      "__________________________________________________\n",
      "Classifier:  RandomForestClassifier\n",
      "[[28888     4]\n",
      " [   59   200]]\n",
      "\n",
      "TNR: 0.99986\n",
      "TPR: 0.7722\n",
      "TNRxTPR: 0.77209\n",
      "G-mean: 0.87869\n",
      "__________________________________________________\n",
      "Ensemble predictions (majority voting):\n",
      "[[28886     6]\n",
      " [   53   206]]\n",
      "\n",
      "TNR: 0.99979\n",
      "TPR: 0.79537\n",
      "TNRxTPR: 0.7952\n",
      "G-mean: 0.89174\n"
     ]
    }
   ],
   "source": [
    "train_val(X_train, y_train, X_test, y_test)"
   ]
  },
  {
   "cell_type": "markdown",
   "metadata": {
    "id": "jcCxQq6-Uvyr"
   },
   "source": [
    "## Ratio 1:1  \n",
    "Let's see classifiers scores when dataset is balanced.  \n"
   ]
  },
  {
   "cell_type": "code",
   "execution_count": 12,
   "metadata": {
    "id": "BHJ2B9Cx_nsc"
   },
   "outputs": [],
   "source": [
    "# SMOTE\n",
    "\n",
    "sm = SMOTE(random_state=42, sampling_strategy=1) # N_rm / N_M\n",
    "X_res, y_res = sm.fit_resample(X_train, y_train)"
   ]
  },
  {
   "cell_type": "code",
   "execution_count": 13,
   "metadata": {
    "colab": {
     "base_uri": "https://localhost:8080/"
    },
    "id": "6U0Byc1lUvys",
    "outputId": "97c6975d-a22c-4439-fc07-2ccdde9ef6e1"
   },
   "outputs": [
    {
     "name": "stdout",
     "output_type": "stream",
     "text": [
      "Resampled dataset shape Counter({0: 115563, 1: 115563})\n",
      "Ratio->  1 : 1.0\n"
     ]
    }
   ],
   "source": [
    "print('Resampled dataset shape %s' % Counter(y_res))\n",
    "print('Ratio->  1 :', round(Counter(y_res)[1]/Counter(y_res)[0], 1))"
   ]
  },
  {
   "cell_type": "code",
   "execution_count": 14,
   "metadata": {
    "colab": {
     "base_uri": "https://localhost:8080/"
    },
    "id": "CMGEySDMpTdx",
    "outputId": "49ab8ede-94c8-4795-9a78-7c5cf3957eff",
    "scrolled": false
   },
   "outputs": [
    {
     "name": "stdout",
     "output_type": "stream",
     "text": [
      "__________________________________________________\n",
      "Classifier:  CatBoostClassifier\n",
      "[[28838    54]\n",
      " [   27   232]]\n",
      "\n",
      "TNR: 0.99813\n",
      "TPR: 0.89575\n",
      "TNRxTPR: 0.89408\n",
      "G-mean: 0.94556\n",
      "__________________________________________________\n",
      "Classifier:  LGBMClassifier\n",
      "[[28773   119]\n",
      " [   25   234]]\n",
      "\n",
      "TNR: 0.99588\n",
      "TPR: 0.90347\n",
      "TNRxTPR: 0.89975\n",
      "G-mean: 0.94855\n",
      "__________________________________________________\n",
      "Classifier:  XGBClassifier\n",
      "[[28844    48]\n",
      " [   33   226]]\n",
      "\n",
      "TNR: 0.99834\n",
      "TPR: 0.87259\n",
      "TNRxTPR: 0.87114\n",
      "G-mean: 0.93335\n",
      "__________________________________________________\n",
      "Classifier:  BaggingClassifier\n",
      "[[28811    81]\n",
      " [   42   217]]\n",
      "\n",
      "TNR: 0.9972\n",
      "TPR: 0.83784\n",
      "TNRxTPR: 0.83549\n",
      "G-mean: 0.91405\n",
      "__________________________________________________\n",
      "Classifier:  RandomForestClassifier\n",
      "[[28870    22]\n",
      " [   38   221]]\n",
      "\n",
      "TNR: 0.99924\n",
      "TPR: 0.85328\n",
      "TNRxTPR: 0.85263\n",
      "G-mean: 0.92338\n",
      "__________________________________________________\n",
      "Ensemble predictions (majority voting):\n",
      "[[28853    39]\n",
      " [   32   227]]\n",
      "\n",
      "TNR: 0.99865\n",
      "TPR: 0.87645\n",
      "TNRxTPR: 0.87526\n",
      "G-mean: 0.93556\n"
     ]
    }
   ],
   "source": [
    "train_val(X_res, y_res, X_test, y_test)"
   ]
  },
  {
   "cell_type": "code",
   "execution_count": 15,
   "metadata": {
    "id": "hiRVkg2eUx0U"
   },
   "outputs": [],
   "source": [
    "# ROS\n",
    "\n",
    "ros = RandomOverSampler(random_state=42, sampling_strategy=1) # N_rm / N_M\n",
    "X_res, y_res = ros.fit_resample(X_train, y_train)"
   ]
  },
  {
   "cell_type": "code",
   "execution_count": 16,
   "metadata": {
    "colab": {
     "base_uri": "https://localhost:8080/"
    },
    "id": "7igPUXNbUvyu",
    "outputId": "427729d2-9bea-4e4d-cef6-a1e58c5957da"
   },
   "outputs": [
    {
     "name": "stdout",
     "output_type": "stream",
     "text": [
      "Resampled dataset shape Counter({0: 115563, 1: 115563})\n",
      "Ratio->  1 : 1.0\n"
     ]
    }
   ],
   "source": [
    "print('Resampled dataset shape %s' % Counter(y_res))\n",
    "print('Ratio->  1 :', round(Counter(y_res)[1]/Counter(y_res)[0], 1))"
   ]
  },
  {
   "cell_type": "code",
   "execution_count": 17,
   "metadata": {
    "colab": {
     "base_uri": "https://localhost:8080/"
    },
    "id": "IMANwdwxUx0b",
    "outputId": "04c9a597-fa3a-46cc-eac2-0aefdf65335b",
    "scrolled": false
   },
   "outputs": [
    {
     "name": "stdout",
     "output_type": "stream",
     "text": [
      "__________________________________________________\n",
      "Classifier:  CatBoostClassifier\n",
      "[[28850    42]\n",
      " [   30   229]]\n",
      "\n",
      "TNR: 0.99855\n",
      "TPR: 0.88417\n",
      "TNRxTPR: 0.88288\n",
      "G-mean: 0.93962\n",
      "__________________________________________________\n",
      "Classifier:  LGBMClassifier\n",
      "[[28841    51]\n",
      " [   27   232]]\n",
      "\n",
      "TNR: 0.99823\n",
      "TPR: 0.89575\n",
      "TNRxTPR: 0.89417\n",
      "G-mean: 0.94561\n",
      "__________________________________________________\n",
      "Classifier:  XGBClassifier\n",
      "[[28874    18]\n",
      " [   36   223]]\n",
      "\n",
      "TNR: 0.99938\n",
      "TPR: 0.861\n",
      "TNRxTPR: 0.86047\n",
      "G-mean: 0.92761\n",
      "__________________________________________________\n",
      "Classifier:  BaggingClassifier\n",
      "[[28871    21]\n",
      " [   60   199]]\n",
      "\n",
      "TNR: 0.99927\n",
      "TPR: 0.76834\n",
      "TNRxTPR: 0.76778\n",
      "G-mean: 0.87623\n",
      "__________________________________________________\n",
      "Classifier:  RandomForestClassifier\n",
      "[[28885     7]\n",
      " [   55   204]]\n",
      "\n",
      "TNR: 0.99976\n",
      "TPR: 0.78764\n",
      "TNRxTPR: 0.78745\n",
      "G-mean: 0.88739\n",
      "__________________________________________________\n",
      "Ensemble predictions (majority voting):\n",
      "[[28879    13]\n",
      " [   34   225]]\n",
      "\n",
      "TNR: 0.99955\n",
      "TPR: 0.86873\n",
      "TNRxTPR: 0.86833\n",
      "G-mean: 0.93184\n"
     ]
    }
   ],
   "source": [
    "train_val(X_res, y_res, X_test, y_test)"
   ]
  },
  {
   "cell_type": "code",
   "execution_count": 18,
   "metadata": {
    "colab": {
     "base_uri": "https://localhost:8080/"
    },
    "id": "B065rYa3wO-o",
    "outputId": "1b801b64-60f0-414c-87d4-08445b84c2e4"
   },
   "outputs": [
    {
     "name": "stdout",
     "output_type": "stream",
     "text": [
      "3579/3579 [==============================] - 6s 2ms/step\n"
     ]
    }
   ],
   "source": [
    "# VAEOversampler\n",
    "\n",
    "vae_sampler = VAEOversampler(epochs=500,\n",
    "                              intermediate_dim=512,\n",
    "                              batch_size=64,\n",
    "                              random_state=42,\n",
    "                              verbose=False)\n",
    "X_res, y_res = vae_sampler.fit_resample(X_train, y_train)"
   ]
  },
  {
   "cell_type": "code",
   "execution_count": 19,
   "metadata": {
    "colab": {
     "base_uri": "https://localhost:8080/"
    },
    "id": "nOsNattyeSXh",
    "outputId": "cce2a7e0-3b35-4e9f-b496-b014163f90dd"
   },
   "outputs": [
    {
     "name": "stdout",
     "output_type": "stream",
     "text": [
      "Resampled dataset shape Counter({0.0: 115563, 1.0: 115563})\n",
      "Ratio->  1 : 1.0\n"
     ]
    }
   ],
   "source": [
    "print('Resampled dataset shape %s' % Counter(y_res))\n",
    "print('Ratio->  1 :', round(Counter(y_res)[1]/Counter(y_res)[0], 1))"
   ]
  },
  {
   "cell_type": "code",
   "execution_count": 20,
   "metadata": {
    "colab": {
     "base_uri": "https://localhost:8080/"
    },
    "id": "6BNffQSbwO-t",
    "outputId": "1d9d0e69-898f-4ca9-879d-a084e9aa5b99"
   },
   "outputs": [
    {
     "name": "stdout",
     "output_type": "stream",
     "text": [
      "__________________________________________________\n",
      "Classifier:  CatBoostClassifier\n",
      "[[28884     8]\n",
      " [   53   206]]\n",
      "\n",
      "TNR: 0.99972\n",
      "TPR: 0.79537\n",
      "TNRxTPR: 0.79515\n",
      "G-mean: 0.89171\n",
      "__________________________________________________\n",
      "Classifier:  LGBMClassifier\n",
      "[[28885     7]\n",
      " [   49   210]]\n",
      "\n",
      "TNR: 0.99976\n",
      "TPR: 0.81081\n",
      "TNRxTPR: 0.81061\n",
      "G-mean: 0.90034\n",
      "__________________________________________________\n",
      "Classifier:  XGBClassifier\n",
      "[[28884     8]\n",
      " [   50   209]]\n",
      "\n",
      "TNR: 0.99972\n",
      "TPR: 0.80695\n",
      "TNRxTPR: 0.80673\n",
      "G-mean: 0.89818\n",
      "__________________________________________________\n",
      "Classifier:  BaggingClassifier\n",
      "[[28884     8]\n",
      " [   58   201]]\n",
      "\n",
      "TNR: 0.99972\n",
      "TPR: 0.77606\n",
      "TNRxTPR: 0.77585\n",
      "G-mean: 0.88082\n",
      "__________________________________________________\n",
      "Classifier:  RandomForestClassifier\n",
      "[[28888     4]\n",
      " [   61   198]]\n",
      "\n",
      "TNR: 0.99986\n",
      "TPR: 0.76448\n",
      "TNRxTPR: 0.76437\n",
      "G-mean: 0.87428\n",
      "__________________________________________________\n",
      "Ensemble predictions (majority voting):\n",
      "[[28887     5]\n",
      " [   50   209]]\n",
      "\n",
      "TNR: 0.99983\n",
      "TPR: 0.80695\n",
      "TNRxTPR: 0.80681\n",
      "G-mean: 0.89823\n"
     ]
    }
   ],
   "source": [
    "train_val(X_res, y_res, X_test, y_test)"
   ]
  },
  {
   "cell_type": "markdown",
   "metadata": {
    "id": "w9swp8C1wO-w"
   },
   "source": [
    "## Under/Oversampling combination  \n",
    "Now we can tuning the number of instances for each class to optimize metric.  \n"
   ]
  },
  {
   "cell_type": "code",
   "execution_count": 21,
   "metadata": {
    "id": "D0jtqxJ8Uvyv"
   },
   "outputs": [],
   "source": [
    "# SMOTE\n",
    "\n",
    "sm = SMOTE(random_state=42, sampling_strategy=.6) # N_rm / N_M\n",
    "X_res, y_res = sm.fit_resample(X_train, y_train)"
   ]
  },
  {
   "cell_type": "code",
   "execution_count": 22,
   "metadata": {
    "colab": {
     "base_uri": "https://localhost:8080/"
    },
    "id": "uQ3_RoAsUvyv",
    "outputId": "6d7e3aac-b1a1-4d21-99de-3d765b4dcf64"
   },
   "outputs": [
    {
     "name": "stdout",
     "output_type": "stream",
     "text": [
      "Resampled dataset shape Counter({1: 69337, 0: 8089})\n",
      "Ratio->  1 : 8.6\n"
     ]
    }
   ],
   "source": [
    "# RUS\n",
    "\n",
    "X_eq, y_eq = RUS(X_res, y_res, frac=.07)\n",
    "\n",
    "print('Resampled dataset shape %s' % Counter(y_eq))\n",
    "print('Ratio->  1 :', round(Counter(y_eq)[1]/Counter(y_eq)[0], 1))"
   ]
  },
  {
   "cell_type": "code",
   "execution_count": 23,
   "metadata": {
    "colab": {
     "base_uri": "https://localhost:8080/"
    },
    "id": "TPcOZeONUvyw",
    "outputId": "7a032497-763a-4d40-f01d-d59f9d6810d2",
    "scrolled": false
   },
   "outputs": [
    {
     "name": "stdout",
     "output_type": "stream",
     "text": [
      "__________________________________________________\n",
      "Classifier:  CatBoostClassifier\n",
      "[[28058   834]\n",
      " [    7   252]]\n",
      "\n",
      "TNR: 0.97113\n",
      "TPR: 0.97297\n",
      "TNRxTPR: 0.94489\n",
      "G-mean: 0.97205\n",
      "__________________________________________________\n",
      "Classifier:  LGBMClassifier\n",
      "[[28285   607]\n",
      " [   14   245]]\n",
      "\n",
      "TNR: 0.97899\n",
      "TPR: 0.94595\n",
      "TNRxTPR: 0.92607\n",
      "G-mean: 0.96233\n",
      "__________________________________________________\n",
      "Classifier:  XGBClassifier\n",
      "[[28350   542]\n",
      " [    9   250]]\n",
      "\n",
      "TNR: 0.98124\n",
      "TPR: 0.96525\n",
      "TNRxTPR: 0.94714\n",
      "G-mean: 0.97321\n",
      "__________________________________________________\n",
      "Classifier:  BaggingClassifier\n",
      "[[28164   728]\n",
      " [   26   233]]\n",
      "\n",
      "TNR: 0.9748\n",
      "TPR: 0.89961\n",
      "TNRxTPR: 0.87695\n",
      "G-mean: 0.93645\n",
      "__________________________________________________\n",
      "Classifier:  RandomForestClassifier\n",
      "[[28398   494]\n",
      " [   19   240]]\n",
      "\n",
      "TNR: 0.9829\n",
      "TPR: 0.92664\n",
      "TNRxTPR: 0.9108\n",
      "G-mean: 0.95436\n",
      "__________________________________________________\n",
      "Ensemble predictions (majority voting):\n",
      "[[28328   564]\n",
      " [   13   246]]\n",
      "\n",
      "TNR: 0.98048\n",
      "TPR: 0.94981\n",
      "TNRxTPR: 0.93127\n",
      "G-mean: 0.96502\n"
     ]
    }
   ],
   "source": [
    "train_val(X_eq, y_eq, X_test, y_test)"
   ]
  },
  {
   "cell_type": "code",
   "execution_count": 29,
   "metadata": {
    "id": "-mGQlfSdUvyw"
   },
   "outputs": [],
   "source": [
    "# ROS\n",
    "\n",
    "ros = RandomOverSampler(random_state=42, sampling_strategy=.7) # N_rm / N_M\n",
    "X_res, y_res = ros.fit_resample(X_train, y_train)"
   ]
  },
  {
   "cell_type": "code",
   "execution_count": 30,
   "metadata": {
    "colab": {
     "base_uri": "https://localhost:8080/"
    },
    "id": "8fdzr1qOUvyw",
    "outputId": "590cc778-1068-4260-fba3-8cc71230fe81"
   },
   "outputs": [
    {
     "name": "stdout",
     "output_type": "stream",
     "text": [
      "Resampled dataset shape Counter({1: 80894, 0: 5778})\n",
      "Ratio->  1 : 14.0\n"
     ]
    }
   ],
   "source": [
    "# RUS\n",
    "\n",
    "X_eq, y_eq = RUS(X_res, y_res, frac=.05)\n",
    "\n",
    "print('Resampled dataset shape %s' % Counter(y_eq))\n",
    "print('Ratio->  1 :', round(Counter(y_eq)[1]/Counter(y_eq)[0], 1))"
   ]
  },
  {
   "cell_type": "code",
   "execution_count": 31,
   "metadata": {
    "colab": {
     "base_uri": "https://localhost:8080/"
    },
    "id": "u0UCU05gUvyw",
    "outputId": "2571bff2-41a5-4300-82d0-7047456c4113",
    "scrolled": false
   },
   "outputs": [
    {
     "name": "stdout",
     "output_type": "stream",
     "text": [
      "__________________________________________________\n",
      "Classifier:  CatBoostClassifier\n",
      "[[27920   972]\n",
      " [    6   253]]\n",
      "\n",
      "TNR: 0.96636\n",
      "TPR: 0.97683\n",
      "TNRxTPR: 0.94397\n",
      "G-mean: 0.97158\n",
      "__________________________________________________\n",
      "Classifier:  LGBMClassifier\n",
      "[[28440   452]\n",
      " [   15   244]]\n",
      "\n",
      "TNR: 0.98436\n",
      "TPR: 0.94208\n",
      "TNRxTPR: 0.92735\n",
      "G-mean: 0.96299\n",
      "__________________________________________________\n",
      "Classifier:  XGBClassifier\n",
      "[[28482   410]\n",
      " [   13   246]]\n",
      "\n",
      "TNR: 0.98581\n",
      "TPR: 0.94981\n",
      "TNRxTPR: 0.93633\n",
      "G-mean: 0.96764\n",
      "__________________________________________________\n",
      "Classifier:  BaggingClassifier\n",
      "[[28237   655]\n",
      " [   27   232]]\n",
      "\n",
      "TNR: 0.97733\n",
      "TPR: 0.89575\n",
      "TNRxTPR: 0.87545\n",
      "G-mean: 0.93565\n",
      "__________________________________________________\n",
      "Classifier:  RandomForestClassifier\n",
      "[[28721   171]\n",
      " [   27   232]]\n",
      "\n",
      "TNR: 0.99408\n",
      "TPR: 0.89575\n",
      "TNRxTPR: 0.89045\n",
      "G-mean: 0.94364\n",
      "__________________________________________________\n",
      "Ensemble predictions (majority voting):\n",
      "[[28528   364]\n",
      " [   15   244]]\n",
      "\n",
      "TNR: 0.9874\n",
      "TPR: 0.94208\n",
      "TNRxTPR: 0.93022\n",
      "G-mean: 0.96448\n"
     ]
    }
   ],
   "source": [
    "train_val(X_eq, y_eq, X_test, y_test)"
   ]
  },
  {
   "cell_type": "code",
   "execution_count": 67,
   "metadata": {
    "colab": {
     "base_uri": "https://localhost:8080/"
    },
    "id": "T6benPDnCzym",
    "outputId": "1aa4d4ec-fc92-471d-a91a-0ea83192d5de"
   },
   "outputs": [
    {
     "name": "stdout",
     "output_type": "stream",
     "text": [
      "2506/2506 [==============================] - 3s 1ms/step\n"
     ]
    }
   ],
   "source": [
    "# VAEOversampler\n",
    "\n",
    "X_res, y_res = vae_sampler.resample(X_train, y_train, sampling_strategy=.7)"
   ]
  },
  {
   "cell_type": "code",
   "execution_count": 72,
   "metadata": {
    "colab": {
     "base_uri": "https://localhost:8080/"
    },
    "id": "7a1QqxB6Czyx",
    "outputId": "db44b1bc-3b28-41fa-9363-2320934eb503"
   },
   "outputs": [
    {
     "name": "stdout",
     "output_type": "stream",
     "text": [
      "Resampled dataset shape Counter({1.0: 81205, 0.0: 1502})\n",
      "Ratio->  1 : 54.1\n"
     ]
    }
   ],
   "source": [
    "# RUS\n",
    "\n",
    "X_eq, y_eq = RUS(X_res, y_res, frac=.013)\n",
    "\n",
    "print('Resampled dataset shape %s' % Counter(y_eq))\n",
    "print('Ratio->  1 :', round(Counter(y_eq)[1]/Counter(y_eq)[0], 1))"
   ]
  },
  {
   "cell_type": "code",
   "execution_count": 73,
   "metadata": {
    "colab": {
     "base_uri": "https://localhost:8080/"
    },
    "id": "oAv7STUxCzy0",
    "outputId": "94f93573-9c0f-428a-958f-6077de84c4d2"
   },
   "outputs": [
    {
     "name": "stdout",
     "output_type": "stream",
     "text": [
      "__________________________________________________\n",
      "Classifier:  CatBoostClassifier\n",
      "[[28040   852]\n",
      " [   10   249]]\n",
      "\n",
      "TNR: 0.97051\n",
      "TPR: 0.96139\n",
      "TNRxTPR: 0.93304\n",
      "G-mean: 0.96594\n",
      "__________________________________________________\n",
      "Classifier:  LGBMClassifier\n",
      "[[28105   787]\n",
      " [   15   244]]\n",
      "\n",
      "TNR: 0.97276\n",
      "TPR: 0.94208\n",
      "TNRxTPR: 0.91642\n",
      "G-mean: 0.9573\n",
      "__________________________________________________\n",
      "Classifier:  XGBClassifier\n",
      "[[28122   770]\n",
      " [    8   251]]\n",
      "\n",
      "TNR: 0.97335\n",
      "TPR: 0.96911\n",
      "TNRxTPR: 0.94328\n",
      "G-mean: 0.97123\n",
      "__________________________________________________\n",
      "Classifier:  BaggingClassifier\n",
      "[[27839  1053]\n",
      " [   15   244]]\n",
      "\n",
      "TNR: 0.96355\n",
      "TPR: 0.94208\n",
      "TNRxTPR: 0.90775\n",
      "G-mean: 0.95276\n",
      "__________________________________________________\n",
      "Classifier:  RandomForestClassifier\n",
      "[[28383   509]\n",
      " [   17   242]]\n",
      "\n",
      "TNR: 0.98238\n",
      "TPR: 0.93436\n",
      "TNRxTPR: 0.9179\n",
      "G-mean: 0.95807\n",
      "__________________________________________________\n",
      "Ensemble predictions (majority voting):\n",
      "[[28266   626]\n",
      " [   12   247]]\n",
      "\n",
      "TNR: 0.97833\n",
      "TPR: 0.95367\n",
      "TNRxTPR: 0.933\n",
      "G-mean: 0.96592\n"
     ]
    }
   ],
   "source": [
    "train_val(X_eq, y_eq, X_test, y_test)"
   ]
  },
  {
   "cell_type": "markdown",
   "metadata": {
    "id": "RydFSMjOoD87"
   },
   "source": [
    "## References  \n",
    "\n",
    "  - Classification with Imbalanced Datasets:  \n",
    "    https://sci2s.ugr.es/imbalanced  \n",
    "  - Computer Vision:  Models, Learning, and Inference (Simon J.D. Prince):  \n",
    "    http://www.computervisionmodels.com/  \n",
    "  - Oversampling with VAEs:  \n",
    "    https://towardsdatascience.com/oversampling-with-vaes-e410887fe51  \n"
   ]
  }
 ],
 "metadata": {
  "colab": {
   "provenance": []
  },
  "gpuClass": "standard",
  "kernelspec": {
   "display_name": "Python 3 (ipykernel)",
   "language": "python",
   "name": "python3"
  },
  "language_info": {
   "codemirror_mode": {
    "name": "ipython",
    "version": 3
   },
   "file_extension": ".py",
   "mimetype": "text/x-python",
   "name": "python",
   "nbconvert_exporter": "python",
   "pygments_lexer": "ipython3",
   "version": "3.9.7"
  }
 },
 "nbformat": 4,
 "nbformat_minor": 1
}
