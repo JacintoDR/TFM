{
 "cells": [
  {
   "cell_type": "markdown",
   "metadata": {
    "id": "qLO_siFYEPSg"
   },
   "source": [
    "# Dealing with imbalanced datasets, combining oversampling with VAE and undersampling to improve model recognition over all classes.  "
   ]
  },
  {
   "cell_type": "markdown",
   "metadata": {
    "id": "IOzC3QPArH_F"
   },
   "source": [
    "Import packages, classifiers and etc."
   ]
  },
  {
   "cell_type": "code",
   "execution_count": 1,
   "metadata": {
    "_cell_guid": "b1076dfc-b9ad-4769-8c92-a6c4dae69d19",
    "_uuid": "8f2839f25d086af736a60e9eeb907d3b93b6e0e5",
    "executionInfo": {
     "elapsed": 4745,
     "status": "ok",
     "timestamp": 1680781530119,
     "user": {
      "displayName": "JACINTO DOMINGUEZ RULL",
      "userId": "04779779024889038949"
     },
     "user_tz": -120
    },
    "id": "GDNB_c5RrH_I"
   },
   "outputs": [],
   "source": [
    "import pandas as pd\n",
    "import numpy as np\n",
    "\n",
    "from sklearn.preprocessing import StandardScaler\n",
    "from sklearn.model_selection import train_test_split, cross_validate\n",
    "\n",
    "from catboost import CatBoostClassifier\n",
    "from lightgbm import LGBMClassifier\n",
    "from xgboost import XGBClassifier\n",
    "from sklearn.ensemble import BaggingClassifier, RandomForestClassifier\n",
    "\n",
    "from sklearn.metrics import confusion_matrix, make_scorer\n",
    "from imblearn.metrics import classification_report_imbalanced, geometric_mean_score\n",
    "from collections import Counter\n",
    "\n",
    "from imblearn.over_sampling import SMOTE, RandomOverSampler"
   ]
  },
  {
   "cell_type": "markdown",
   "metadata": {
    "id": "7qxBXk4fPiJx"
   },
   "source": [
    "Import VAEOversampler."
   ]
  },
  {
   "cell_type": "code",
   "execution_count": 2,
   "metadata": {
    "executionInfo": {
     "elapsed": 7132,
     "status": "ok",
     "timestamp": 1680781537245,
     "user": {
      "displayName": "JACINTO DOMINGUEZ RULL",
      "userId": "04779779024889038949"
     },
     "user_tz": -120
    },
    "id": "DqyRUyWlvryO"
   },
   "outputs": [
    {
     "name": "stderr",
     "output_type": "stream",
     "text": [
      "2023-07-10 16:35:20.468574: W tensorflow/stream_executor/platform/default/dso_loader.cc:64] Could not load dynamic library 'libcudart.so.11.0'; dlerror: libcudart.so.11.0: cannot open shared object file: No such file or directory\n",
      "2023-07-10 16:35:20.468596: I tensorflow/stream_executor/cuda/cudart_stub.cc:29] Ignore above cudart dlerror if you do not have a GPU set up on your machine.\n"
     ]
    }
   ],
   "source": [
    "from VAEOversampler import VAEOversampler"
   ]
  },
  {
   "cell_type": "markdown",
   "metadata": {
    "id": "8UEMO2hTPztj"
   },
   "source": [
    "## Loading data  \n",
    "You can load some dataset from Imbalanced Learn list (https://imbalanced-learn.org/stable/datasets/index.html) or use your own data.  \n"
   ]
  },
  {
   "cell_type": "code",
   "execution_count": 3,
   "metadata": {
    "colab": {
     "base_uri": "https://localhost:8080/"
    },
    "executionInfo": {
     "elapsed": 73951,
     "status": "ok",
     "timestamp": 1680781611184,
     "user": {
      "displayName": "JACINTO DOMINGUEZ RULL",
      "userId": "04779779024889038949"
     },
     "user_tz": -120
    },
    "id": "Xnh_x70FwVCi",
    "outputId": "80020616-33fc-406e-e66f-d29de74c6d9e"
   },
   "outputs": [],
   "source": [
    "from imblearn.datasets import fetch_datasets\n",
    "\n",
    "dset_name = 'pen_digits'\n",
    "dset = fetch_datasets()[dset_name]\n",
    "\n",
    "X, y = StandardScaler().fit_transform(dset.data), dset.target"
   ]
  },
  {
   "cell_type": "code",
   "execution_count": 4,
   "metadata": {
    "colab": {
     "base_uri": "https://localhost:8080/"
    },
    "executionInfo": {
     "elapsed": 20,
     "status": "ok",
     "timestamp": 1680781611187,
     "user": {
      "displayName": "JACINTO DOMINGUEZ RULL",
      "userId": "04779779024889038949"
     },
     "user_tz": -120
    },
    "id": "v_SUvgVSByCD",
    "outputId": "8459fbec-91c6-4170-86bd-edbd4ce8c0ca"
   },
   "outputs": [
    {
     "data": {
      "text/plain": [
       "array([[ 0.23895455,  0.91749192, -0.51650341, ...,  1.66082614,\n",
       "        -0.17451493,  1.93296504],\n",
       "       [-1.13305889,  0.23922621, -0.51650341, ..., -0.9934575 ,\n",
       "         1.26231828, -0.63855782],\n",
       "       [-1.13305889, -1.73391041, -0.36465342, ..., -0.29972428,\n",
       "        -0.74924822, -0.80626583],\n",
       "       ...,\n",
       "       [ 0.50168052,  0.91749192, -0.51650341, ...,  1.75131309,\n",
       "        -0.22240937,  1.79320836],\n",
       "       [-0.57841516,  0.91749192, -1.54149087, ...,  1.87196234,\n",
       "        -0.89293154,  1.45779234],\n",
       "       [-0.02377143,  0.91749192, -0.13687843, ..., -0.26956196,\n",
       "         0.42416557, -0.80626583]])"
      ]
     },
     "execution_count": 4,
     "metadata": {},
     "output_type": "execute_result"
    }
   ],
   "source": [
    "X"
   ]
  },
  {
   "cell_type": "code",
   "execution_count": 5,
   "metadata": {
    "executionInfo": {
     "elapsed": 252,
     "status": "ok",
     "timestamp": 1680781619405,
     "user": {
      "displayName": "JACINTO DOMINGUEZ RULL",
      "userId": "04779779024889038949"
     },
     "user_tz": -120
    },
    "id": "Tb09lFMxPS2J"
   },
   "outputs": [],
   "source": [
    "y[y == -1] = 0"
   ]
  },
  {
   "cell_type": "markdown",
   "metadata": {
    "id": "hpLA_GmKSJwN"
   },
   "source": [
    "We split data into train and test partitions."
   ]
  },
  {
   "cell_type": "code",
   "execution_count": 6,
   "metadata": {
    "executionInfo": {
     "elapsed": 221,
     "status": "ok",
     "timestamp": 1680781622914,
     "user": {
      "displayName": "JACINTO DOMINGUEZ RULL",
      "userId": "04779779024889038949"
     },
     "user_tz": -120
    },
    "id": "ZS-Dd0R9GbBY"
   },
   "outputs": [],
   "source": [
    "X_train, X_test, y_train, y_test = train_test_split(X, y, test_size=0.2, random_state=42, stratify=y)"
   ]
  },
  {
   "cell_type": "markdown",
   "metadata": {
    "id": "Em7Um0N4rH_S"
   },
   "source": [
    "This is a simple function to undersample freely.  "
   ]
  },
  {
   "cell_type": "code",
   "execution_count": 7,
   "metadata": {
    "executionInfo": {
     "elapsed": 9,
     "status": "ok",
     "timestamp": 1680781626758,
     "user": {
      "displayName": "JACINTO DOMINGUEZ RULL",
      "userId": "04779779024889038949"
     },
     "user_tz": -120
    },
    "id": "1cdWcXE3Ofok"
   },
   "outputs": [],
   "source": [
    "# RUS\n",
    "\n",
    "def RUS(X_res, y_res, frac=1, minority_class_id=1, random_state=42):\n",
    "    X_res = pd.DataFrame(X_res)\n",
    "    X_res['Class'] = y_res  \n",
    "    \n",
    "    X_neg = X_res[y_res != minority_class_id].sample(frac=frac, random_state=random_state)\n",
    "    X_pos = X_res[y_res == minority_class_id].sample(frac=1, random_state=random_state)\n",
    "    \n",
    "    X_rus = pd.concat([X_neg, X_pos], ignore_index=True)\n",
    "\n",
    "    X_eq = X_rus.drop('Class', axis=1)\n",
    "    y_eq = X_rus['Class']\n",
    "\n",
    "    return X_eq, y_eq"
   ]
  },
  {
   "cell_type": "code",
   "execution_count": 8,
   "metadata": {
    "executionInfo": {
     "elapsed": 579,
     "status": "ok",
     "timestamp": 1680781628461,
     "user": {
      "displayName": "JACINTO DOMINGUEZ RULL",
      "userId": "04779779024889038949"
     },
     "user_tz": -120
    },
    "id": "1Ep1nUMCES98"
   },
   "outputs": [],
   "source": [
    "def train_val(X, y, Xt, yt, random_state=42):\n",
    "    classifiers = {\n",
    "        \"CatBoostClassifier\": CatBoostClassifier(verbose=False, random_seed=random_state),\n",
    "        \"LGBMClassifier\": LGBMClassifier(random_state=random_state),\n",
    "        \"XGBClassifier\": XGBClassifier(random_state=random_state),\n",
    "        \"BaggingClassifier\": BaggingClassifier(random_state=random_state),\n",
    "        \"RandomForestClassifier\": RandomForestClassifier(random_state=random_state),\n",
    "    }\n",
    "    scores = []\n",
    "    predictions = []\n",
    "    for key, classifier in classifiers.items():\n",
    "        print('_' * 50)\n",
    "        name = key\n",
    "        classifier.fit(X, y)\n",
    "        print(\"Classifier: \", name)\n",
    "        y_pred = classifier.predict(Xt)\n",
    "        cm = confusion_matrix(yt, y_pred)\n",
    "        print(cm)\n",
    "        print('')\n",
    "        predictions.append(y_pred)\n",
    "        tn = cm[0,0]\n",
    "        fp = cm[0,1]\n",
    "        fn = cm[1,0]\n",
    "        tp = cm[1,1]\n",
    "        tnr = tn / (tn + fp)\n",
    "        tpr = tp / (tp + fn)\n",
    "        scores.append(tnr * tpr)\n",
    "        print('TNR:', round(tnr, 5))\n",
    "        print('TPR:', round(tpr, 5))\n",
    "        print('TNRxTPR:', round(tnr * tpr, 5))\n",
    "        print('G-mean:', round(np.sqrt(tnr * tpr), 5))\n",
    "\n",
    "    print('_' * 50)\n",
    "    print('Ensemble predictions (majority voting):')\n",
    "    predictions = np.sum(predictions, axis=0)\n",
    "    predictions[predictions < 3] = 0\n",
    "    predictions[predictions >= 3] = 1\n",
    "\n",
    "    cm = confusion_matrix(yt, predictions)\n",
    "    print(cm)\n",
    "    tn = cm[0,0]\n",
    "    fp = cm[0,1]\n",
    "    fn = cm[1,0]\n",
    "    tp = cm[1,1]\n",
    "    tnr = tn / (tn + fp)\n",
    "    tpr = tp / (tp + fn)\n",
    "    print('')\n",
    "    print('TNR:', round(tnr, 5))\n",
    "    print('TPR:', round(tpr, 5))\n",
    "    print('TNRxTPR:', round(tnr * tpr, 5))\n",
    "    print('G-mean:', round(np.sqrt(tnr * tpr), 5))\n",
    "    "
   ]
  },
  {
   "cell_type": "markdown",
   "metadata": {},
   "source": [
    "## Without resampling (base line) \n",
    "Which is starting score?\n"
   ]
  },
  {
   "cell_type": "code",
   "execution_count": 9,
   "metadata": {},
   "outputs": [
    {
     "name": "stdout",
     "output_type": "stream",
     "text": [
      "Original dataset shape Counter({0: 9937, 1: 1055})\n",
      "Ratio-> 9.4 : 1\n"
     ]
    }
   ],
   "source": [
    "print('Original dataset shape %s' % Counter(y))\n",
    "print('Ratio->', round(Counter(y)[0]/Counter(y)[1], 1), ': 1')"
   ]
  },
  {
   "cell_type": "code",
   "execution_count": 10,
   "metadata": {},
   "outputs": [
    {
     "name": "stdout",
     "output_type": "stream",
     "text": [
      "__________________________________________________\n",
      "Classifier:  CatBoostClassifier\n",
      "[[1988    0]\n",
      " [   0  211]]\n",
      "\n",
      "TNR: 1.0\n",
      "TPR: 1.0\n",
      "TNRxTPR: 1.0\n",
      "G-mean: 1.0\n",
      "__________________________________________________\n",
      "Classifier:  LGBMClassifier\n",
      "[[1988    0]\n",
      " [   1  210]]\n",
      "\n",
      "TNR: 1.0\n",
      "TPR: 0.99526\n",
      "TNRxTPR: 0.99526\n",
      "G-mean: 0.99763\n",
      "__________________________________________________\n",
      "Classifier:  XGBClassifier\n",
      "[[1988    0]\n",
      " [   0  211]]\n",
      "\n",
      "TNR: 1.0\n",
      "TPR: 1.0\n",
      "TNRxTPR: 1.0\n",
      "G-mean: 1.0\n",
      "__________________________________________________\n",
      "Classifier:  BaggingClassifier\n",
      "[[1986    2]\n",
      " [  10  201]]\n",
      "\n",
      "TNR: 0.99899\n",
      "TPR: 0.95261\n",
      "TNRxTPR: 0.95165\n",
      "G-mean: 0.97552\n",
      "__________________________________________________\n",
      "Classifier:  RandomForestClassifier\n",
      "[[1988    0]\n",
      " [   2  209]]\n",
      "\n",
      "TNR: 1.0\n",
      "TPR: 0.99052\n",
      "TNRxTPR: 0.99052\n",
      "G-mean: 0.99525\n",
      "__________________________________________________\n",
      "Ensemble predictions (majority voting):\n",
      "[[1988    0]\n",
      " [   0  211]]\n",
      "\n",
      "TNR: 1.0\n",
      "TPR: 1.0\n",
      "TNRxTPR: 1.0\n",
      "G-mean: 1.0\n"
     ]
    }
   ],
   "source": [
    "train_val(X_train, y_train, X_test, y_test)"
   ]
  },
  {
   "cell_type": "markdown",
   "metadata": {},
   "source": [
    "## Ratio 1:1  \n",
    "Let's see classifiers scores when dataset is balanced.  \n"
   ]
  },
  {
   "cell_type": "code",
   "execution_count": 10,
   "metadata": {
    "colab": {
     "base_uri": "https://localhost:8080/"
    },
    "executionInfo": {
     "elapsed": 9,
     "status": "ok",
     "timestamp": 1678643391827,
     "user": {
      "displayName": "JACINTO DOMINGUEZ RULL",
      "userId": "04779779024889038949"
     },
     "user_tz": -60
    },
    "id": "BHJ2B9Cx_nsc",
    "outputId": "fc58f853-eb93-4896-fcb4-54fb90ceeaa9"
   },
   "outputs": [
    {
     "name": "stderr",
     "output_type": "stream",
     "text": [
      "Exception ignored on calling ctypes callback function: <function _ThreadpoolInfo._find_modules_with_dl_iterate_phdr.<locals>.match_module_callback at 0x7fe13f0951f0>\n",
      "Traceback (most recent call last):\n",
      "  File \"/home/a/anaconda3/lib/python3.9/site-packages/threadpoolctl.py\", line 400, in match_module_callback\n",
      "    self._make_module_from_path(filepath)\n",
      "  File \"/home/a/anaconda3/lib/python3.9/site-packages/threadpoolctl.py\", line 515, in _make_module_from_path\n",
      "    module = module_class(filepath, prefix, user_api, internal_api)\n",
      "  File \"/home/a/anaconda3/lib/python3.9/site-packages/threadpoolctl.py\", line 606, in __init__\n",
      "    self.version = self.get_version()\n",
      "  File \"/home/a/anaconda3/lib/python3.9/site-packages/threadpoolctl.py\", line 646, in get_version\n",
      "    config = get_config().split()\n",
      "AttributeError: 'NoneType' object has no attribute 'split'\n"
     ]
    }
   ],
   "source": [
    "# SMOTE\n",
    "\n",
    "sm = SMOTE(random_state=42, sampling_strategy=1) # N_rm / N_M\n",
    "X_res, y_res = sm.fit_resample(X_train, y_train)"
   ]
  },
  {
   "cell_type": "code",
   "execution_count": 11,
   "metadata": {},
   "outputs": [
    {
     "name": "stdout",
     "output_type": "stream",
     "text": [
      "Resampled dataset shape Counter({1: 7949, 0: 7949})\n",
      "Ratio->  1 : 1.0\n"
     ]
    }
   ],
   "source": [
    "print('Resampled dataset shape %s' % Counter(y_res))\n",
    "print('Ratio->  1 :', round(Counter(y_res)[1]/Counter(y_res)[0], 1))"
   ]
  },
  {
   "cell_type": "code",
   "execution_count": 12,
   "metadata": {
    "colab": {
     "base_uri": "https://localhost:8080/"
    },
    "executionInfo": {
     "elapsed": 4090,
     "status": "ok",
     "timestamp": 1678643398595,
     "user": {
      "displayName": "JACINTO DOMINGUEZ RULL",
      "userId": "04779779024889038949"
     },
     "user_tz": -60
    },
    "id": "CMGEySDMpTdx",
    "outputId": "7963af02-4a66-40d8-d6e9-7a516be33818",
    "scrolled": false
   },
   "outputs": [
    {
     "name": "stdout",
     "output_type": "stream",
     "text": [
      "__________________________________________________\n",
      "Classifier:  CatBoostClassifier\n",
      "[[1988    0]\n",
      " [   0  211]]\n",
      "\n",
      "TNR: 1.0\n",
      "TPR: 1.0\n",
      "TNRxTPR: 1.0\n",
      "G-mean: 1.0\n",
      "__________________________________________________\n",
      "Classifier:  LGBMClassifier\n",
      "[[1987    1]\n",
      " [   1  210]]\n",
      "\n",
      "TNR: 0.9995\n",
      "TPR: 0.99526\n",
      "TNRxTPR: 0.99476\n",
      "G-mean: 0.99738\n",
      "__________________________________________________\n",
      "Classifier:  XGBClassifier\n",
      "[[1988    0]\n",
      " [   0  211]]\n",
      "\n",
      "TNR: 1.0\n",
      "TPR: 1.0\n",
      "TNRxTPR: 1.0\n",
      "G-mean: 1.0\n",
      "__________________________________________________\n",
      "Classifier:  BaggingClassifier\n",
      "[[1985    3]\n",
      " [   7  204]]\n",
      "\n",
      "TNR: 0.99849\n",
      "TPR: 0.96682\n",
      "TNRxTPR: 0.96537\n",
      "G-mean: 0.98253\n",
      "__________________________________________________\n",
      "Classifier:  RandomForestClassifier\n",
      "[[1988    0]\n",
      " [   2  209]]\n",
      "\n",
      "TNR: 1.0\n",
      "TPR: 0.99052\n",
      "TNRxTPR: 0.99052\n",
      "G-mean: 0.99525\n",
      "__________________________________________________\n",
      "Ensemble predictions (majority voting):\n",
      "[[1988    0]\n",
      " [   0  211]]\n",
      "\n",
      "TNR: 1.0\n",
      "TPR: 1.0\n",
      "TNRxTPR: 1.0\n",
      "G-mean: 1.0\n"
     ]
    }
   ],
   "source": [
    "train_val(X_res, y_res, X_test, y_test)"
   ]
  },
  {
   "cell_type": "code",
   "execution_count": 13,
   "metadata": {
    "colab": {
     "base_uri": "https://localhost:8080/"
    },
    "executionInfo": {
     "elapsed": 216,
     "status": "ok",
     "timestamp": 1678643478772,
     "user": {
      "displayName": "JACINTO DOMINGUEZ RULL",
      "userId": "04779779024889038949"
     },
     "user_tz": -60
    },
    "id": "hiRVkg2eUx0U",
    "outputId": "02ae118b-eae6-4fee-86be-85eaa83c3ebd"
   },
   "outputs": [],
   "source": [
    "# ROS\n",
    "\n",
    "ros = RandomOverSampler(random_state=42, sampling_strategy=1) # N_rm / N_M\n",
    "X_res, y_res = ros.fit_resample(X_train, y_train)"
   ]
  },
  {
   "cell_type": "code",
   "execution_count": 14,
   "metadata": {},
   "outputs": [
    {
     "name": "stdout",
     "output_type": "stream",
     "text": [
      "Resampled dataset shape Counter({1: 7949, 0: 7949})\n",
      "Ratio->  1 : 1.0\n"
     ]
    }
   ],
   "source": [
    "print('Resampled dataset shape %s' % Counter(y_res))\n",
    "print('Ratio->  1 :', round(Counter(y_res)[1]/Counter(y_res)[0], 1))"
   ]
  },
  {
   "cell_type": "code",
   "execution_count": 15,
   "metadata": {
    "colab": {
     "base_uri": "https://localhost:8080/"
    },
    "executionInfo": {
     "elapsed": 1682,
     "status": "ok",
     "timestamp": 1678643482664,
     "user": {
      "displayName": "JACINTO DOMINGUEZ RULL",
      "userId": "04779779024889038949"
     },
     "user_tz": -60
    },
    "id": "IMANwdwxUx0b",
    "outputId": "0f94cab4-4e4e-4a0b-acea-6584e212a754",
    "scrolled": false
   },
   "outputs": [
    {
     "name": "stdout",
     "output_type": "stream",
     "text": [
      "__________________________________________________\n",
      "Classifier:  CatBoostClassifier\n",
      "[[1988    0]\n",
      " [   0  211]]\n",
      "\n",
      "TNR: 1.0\n",
      "TPR: 1.0\n",
      "TNRxTPR: 1.0\n",
      "G-mean: 1.0\n",
      "__________________________________________________\n",
      "Classifier:  LGBMClassifier\n",
      "[[1988    0]\n",
      " [   1  210]]\n",
      "\n",
      "TNR: 1.0\n",
      "TPR: 0.99526\n",
      "TNRxTPR: 0.99526\n",
      "G-mean: 0.99763\n",
      "__________________________________________________\n",
      "Classifier:  XGBClassifier\n",
      "[[1987    1]\n",
      " [   0  211]]\n",
      "\n",
      "TNR: 0.9995\n",
      "TPR: 1.0\n",
      "TNRxTPR: 0.9995\n",
      "G-mean: 0.99975\n",
      "__________________________________________________\n",
      "Classifier:  BaggingClassifier\n",
      "[[1986    2]\n",
      " [   9  202]]\n",
      "\n",
      "TNR: 0.99899\n",
      "TPR: 0.95735\n",
      "TNRxTPR: 0.95638\n",
      "G-mean: 0.97795\n",
      "__________________________________________________\n",
      "Classifier:  RandomForestClassifier\n",
      "[[1988    0]\n",
      " [   1  210]]\n",
      "\n",
      "TNR: 1.0\n",
      "TPR: 0.99526\n",
      "TNRxTPR: 0.99526\n",
      "G-mean: 0.99763\n",
      "__________________________________________________\n",
      "Ensemble predictions (majority voting):\n",
      "[[1988    0]\n",
      " [   0  211]]\n",
      "\n",
      "TNR: 1.0\n",
      "TPR: 1.0\n",
      "TNRxTPR: 1.0\n",
      "G-mean: 1.0\n"
     ]
    }
   ],
   "source": [
    "train_val(X_res, y_res, X_test, y_test)"
   ]
  },
  {
   "cell_type": "code",
   "execution_count": 16,
   "metadata": {
    "colab": {
     "base_uri": "https://localhost:8080/"
    },
    "executionInfo": {
     "elapsed": 8054,
     "status": "ok",
     "timestamp": 1680781639220,
     "user": {
      "displayName": "JACINTO DOMINGUEZ RULL",
      "userId": "04779779024889038949"
     },
     "user_tz": -120
    },
    "id": "B065rYa3wO-o",
    "outputId": "a6b36d82-dfe8-422f-bc67-ed0ee80bd43b"
   },
   "outputs": [
    {
     "name": "stderr",
     "output_type": "stream",
     "text": [
      "2023-07-09 23:24:39.494680: W tensorflow/stream_executor/platform/default/dso_loader.cc:64] Could not load dynamic library 'libcuda.so.1'; dlerror: libcuda.so.1: cannot open shared object file: No such file or directory\n",
      "2023-07-09 23:24:39.494706: W tensorflow/stream_executor/cuda/cuda_driver.cc:269] failed call to cuInit: UNKNOWN ERROR (303)\n",
      "2023-07-09 23:24:39.494721: I tensorflow/stream_executor/cuda/cuda_diagnostics.cc:156] kernel driver does not appear to be running on this host (a-Modern-15-A5M): /proc/driver/nvidia/version does not exist\n",
      "2023-07-09 23:24:39.494929: I tensorflow/core/platform/cpu_feature_guard.cc:151] This TensorFlow binary is optimized with oneAPI Deep Neural Network Library (oneDNN) to use the following CPU instructions in performance-critical operations:  AVX2 FMA\n",
      "To enable them in other operations, rebuild TensorFlow with the appropriate compiler flags.\n"
     ]
    }
   ],
   "source": [
    "# VAEOversampler\n",
    "\n",
    "vae_sampler = VAEOversampler(epochs=500,\n",
    "                              intermediate_dim=512,\n",
    "                              batch_size=64,\n",
    "                              random_state=42,\n",
    "                              verbose=False)\n",
    "X_res, y_res = vae_sampler.fit_resample(X_train, y_train)"
   ]
  },
  {
   "cell_type": "code",
   "execution_count": 17,
   "metadata": {
    "colab": {
     "base_uri": "https://localhost:8080/"
    },
    "executionInfo": {
     "elapsed": 13,
     "status": "ok",
     "timestamp": 1680781639221,
     "user": {
      "displayName": "JACINTO DOMINGUEZ RULL",
      "userId": "04779779024889038949"
     },
     "user_tz": -120
    },
    "id": "nOsNattyeSXh",
    "outputId": "3785fbee-89eb-4c1d-a7c3-e16dee7a54fa"
   },
   "outputs": [
    {
     "name": "stdout",
     "output_type": "stream",
     "text": [
      "Resampled dataset shape Counter({1.0: 7949, 0.0: 7949})\n",
      "Ratio->  1 : 1.0\n"
     ]
    }
   ],
   "source": [
    "print('Resampled dataset shape %s' % Counter(y_res))\n",
    "print('Ratio->  1 :', round(Counter(y_res)[1]/Counter(y_res)[0], 1))"
   ]
  },
  {
   "cell_type": "code",
   "execution_count": 18,
   "metadata": {
    "colab": {
     "base_uri": "https://localhost:8080/"
    },
    "executionInfo": {
     "elapsed": 26871,
     "status": "ok",
     "timestamp": 1680781673947,
     "user": {
      "displayName": "JACINTO DOMINGUEZ RULL",
      "userId": "04779779024889038949"
     },
     "user_tz": -120
    },
    "id": "6BNffQSbwO-t",
    "outputId": "531ff526-a2cf-496e-9ca6-a39d5f792077"
   },
   "outputs": [
    {
     "name": "stdout",
     "output_type": "stream",
     "text": [
      "__________________________________________________\n",
      "Classifier:  CatBoostClassifier\n",
      "[[1988    0]\n",
      " [   0  211]]\n",
      "\n",
      "TNR: 1.0\n",
      "TPR: 1.0\n",
      "TNRxTPR: 1.0\n",
      "G-mean: 1.0\n",
      "__________________________________________________\n",
      "Classifier:  LGBMClassifier\n",
      "[[1987    1]\n",
      " [   2  209]]\n",
      "\n",
      "TNR: 0.9995\n",
      "TPR: 0.99052\n",
      "TNRxTPR: 0.99002\n",
      "G-mean: 0.995\n",
      "__________________________________________________\n",
      "Classifier:  XGBClassifier\n",
      "[[1988    0]\n",
      " [   1  210]]\n",
      "\n",
      "TNR: 1.0\n",
      "TPR: 0.99526\n",
      "TNRxTPR: 0.99526\n",
      "G-mean: 0.99763\n",
      "__________________________________________________\n",
      "Classifier:  BaggingClassifier\n",
      "[[1987    1]\n",
      " [   9  202]]\n",
      "\n",
      "TNR: 0.9995\n",
      "TPR: 0.95735\n",
      "TNRxTPR: 0.95686\n",
      "G-mean: 0.97819\n",
      "__________________________________________________\n",
      "Classifier:  RandomForestClassifier\n",
      "[[1988    0]\n",
      " [   2  209]]\n",
      "\n",
      "TNR: 1.0\n",
      "TPR: 0.99052\n",
      "TNRxTPR: 0.99052\n",
      "G-mean: 0.99525\n",
      "__________________________________________________\n",
      "Ensemble predictions (majority voting):\n",
      "[[1988    0]\n",
      " [   1  210]]\n",
      "\n",
      "TNR: 1.0\n",
      "TPR: 0.99526\n",
      "TNRxTPR: 0.99526\n",
      "G-mean: 0.99763\n"
     ]
    }
   ],
   "source": [
    "train_val(X_res, y_res, X_test, y_test)"
   ]
  },
  {
   "cell_type": "markdown",
   "metadata": {
    "id": "w9swp8C1wO-w"
   },
   "source": [
    "## Under/Oversampling combination  \n",
    "Now we can tuning the number of instances for each class to optimize metric.  \n"
   ]
  },
  {
   "cell_type": "code",
   "execution_count": 22,
   "metadata": {
    "colab": {
     "base_uri": "https://localhost:8080/"
    },
    "executionInfo": {
     "elapsed": 9,
     "status": "ok",
     "timestamp": 1678643391827,
     "user": {
      "displayName": "JACINTO DOMINGUEZ RULL",
      "userId": "04779779024889038949"
     },
     "user_tz": -60
    },
    "id": "BHJ2B9Cx_nsc",
    "outputId": "fc58f853-eb93-4896-fcb4-54fb90ceeaa9"
   },
   "outputs": [
    {
     "name": "stderr",
     "output_type": "stream",
     "text": [
      "Exception ignored on calling ctypes callback function: <function _ThreadpoolInfo._find_modules_with_dl_iterate_phdr.<locals>.match_module_callback at 0x7fe18682f700>\n",
      "Traceback (most recent call last):\n",
      "  File \"/home/a/anaconda3/lib/python3.9/site-packages/threadpoolctl.py\", line 400, in match_module_callback\n",
      "    self._make_module_from_path(filepath)\n",
      "  File \"/home/a/anaconda3/lib/python3.9/site-packages/threadpoolctl.py\", line 515, in _make_module_from_path\n",
      "    module = module_class(filepath, prefix, user_api, internal_api)\n",
      "  File \"/home/a/anaconda3/lib/python3.9/site-packages/threadpoolctl.py\", line 606, in __init__\n",
      "    self.version = self.get_version()\n",
      "  File \"/home/a/anaconda3/lib/python3.9/site-packages/threadpoolctl.py\", line 646, in get_version\n",
      "    config = get_config().split()\n",
      "AttributeError: 'NoneType' object has no attribute 'split'\n"
     ]
    }
   ],
   "source": [
    "# SMOTE\n",
    "\n",
    "sm = SMOTE(random_state=42, sampling_strategy=.9) # N_rm / N_M\n",
    "X_res, y_res = sm.fit_resample(X_train, y_train)"
   ]
  },
  {
   "cell_type": "code",
   "execution_count": 23,
   "metadata": {},
   "outputs": [
    {
     "name": "stdout",
     "output_type": "stream",
     "text": [
      "Resampled dataset shape Counter({1: 7154, 0: 6359})\n",
      "Ratio->  1 : 1.1\n"
     ]
    }
   ],
   "source": [
    "# RUS\n",
    "\n",
    "X_eq, y_eq = RUS(X_res, y_res, frac=.8)\n",
    "\n",
    "print('Resampled dataset shape %s' % Counter(y_eq))\n",
    "print('Ratio->  1 :', round(Counter(y_eq)[1]/Counter(y_eq)[0], 1))"
   ]
  },
  {
   "cell_type": "code",
   "execution_count": 24,
   "metadata": {
    "colab": {
     "base_uri": "https://localhost:8080/"
    },
    "executionInfo": {
     "elapsed": 4090,
     "status": "ok",
     "timestamp": 1678643398595,
     "user": {
      "displayName": "JACINTO DOMINGUEZ RULL",
      "userId": "04779779024889038949"
     },
     "user_tz": -60
    },
    "id": "CMGEySDMpTdx",
    "outputId": "7963af02-4a66-40d8-d6e9-7a516be33818",
    "scrolled": false
   },
   "outputs": [
    {
     "name": "stdout",
     "output_type": "stream",
     "text": [
      "__________________________________________________\n",
      "Classifier:  CatBoostClassifier\n",
      "[[1988    0]\n",
      " [   0  211]]\n",
      "\n",
      "TNR: 1.0\n",
      "TPR: 1.0\n",
      "TNRxTPR: 1.0\n",
      "G-mean: 1.0\n",
      "__________________________________________________\n",
      "Classifier:  LGBMClassifier\n",
      "[[1988    0]\n",
      " [   1  210]]\n",
      "\n",
      "TNR: 1.0\n",
      "TPR: 0.99526\n",
      "TNRxTPR: 0.99526\n",
      "G-mean: 0.99763\n",
      "__________________________________________________\n",
      "Classifier:  XGBClassifier\n",
      "[[1987    1]\n",
      " [   0  211]]\n",
      "\n",
      "TNR: 0.9995\n",
      "TPR: 1.0\n",
      "TNRxTPR: 0.9995\n",
      "G-mean: 0.99975\n",
      "__________________________________________________\n",
      "Classifier:  BaggingClassifier\n",
      "[[1988    0]\n",
      " [   6  205]]\n",
      "\n",
      "TNR: 1.0\n",
      "TPR: 0.97156\n",
      "TNRxTPR: 0.97156\n",
      "G-mean: 0.98568\n",
      "__________________________________________________\n",
      "Classifier:  RandomForestClassifier\n",
      "[[1988    0]\n",
      " [   1  210]]\n",
      "\n",
      "TNR: 1.0\n",
      "TPR: 0.99526\n",
      "TNRxTPR: 0.99526\n",
      "G-mean: 0.99763\n",
      "__________________________________________________\n",
      "Ensemble predictions (majority voting):\n",
      "[[1988    0]\n",
      " [   0  211]]\n",
      "\n",
      "TNR: 1.0\n",
      "TPR: 1.0\n",
      "TNRxTPR: 1.0\n",
      "G-mean: 1.0\n"
     ]
    }
   ],
   "source": [
    "train_val(X_eq, y_eq, X_test, y_test)"
   ]
  },
  {
   "cell_type": "code",
   "execution_count": 25,
   "metadata": {},
   "outputs": [],
   "source": [
    "# ROS\n",
    "\n",
    "ros = RandomOverSampler(random_state=42, sampling_strategy=1) # N_rm / N_M\n",
    "X_res, y_res = ros.fit_resample(X_train, y_train)"
   ]
  },
  {
   "cell_type": "code",
   "execution_count": 26,
   "metadata": {},
   "outputs": [
    {
     "name": "stdout",
     "output_type": "stream",
     "text": [
      "Resampled dataset shape Counter({1: 7949, 0: 7154})\n",
      "Ratio->  1 : 1.1\n"
     ]
    }
   ],
   "source": [
    "# RUS\n",
    "\n",
    "X_eq, y_eq = RUS(X_res, y_res, frac=.9)\n",
    "\n",
    "print('Resampled dataset shape %s' % Counter(y_eq))\n",
    "print('Ratio->  1 :', round(Counter(y_eq)[1]/Counter(y_eq)[0], 1))"
   ]
  },
  {
   "cell_type": "code",
   "execution_count": 27,
   "metadata": {
    "colab": {
     "base_uri": "https://localhost:8080/"
    },
    "executionInfo": {
     "elapsed": 4090,
     "status": "ok",
     "timestamp": 1678643398595,
     "user": {
      "displayName": "JACINTO DOMINGUEZ RULL",
      "userId": "04779779024889038949"
     },
     "user_tz": -60
    },
    "id": "CMGEySDMpTdx",
    "outputId": "7963af02-4a66-40d8-d6e9-7a516be33818",
    "scrolled": false
   },
   "outputs": [
    {
     "name": "stdout",
     "output_type": "stream",
     "text": [
      "__________________________________________________\n",
      "Classifier:  CatBoostClassifier\n",
      "[[1988    0]\n",
      " [   0  211]]\n",
      "\n",
      "TNR: 1.0\n",
      "TPR: 1.0\n",
      "TNRxTPR: 1.0\n",
      "G-mean: 1.0\n",
      "__________________________________________________\n",
      "Classifier:  LGBMClassifier\n",
      "[[1986    2]\n",
      " [   1  210]]\n",
      "\n",
      "TNR: 0.99899\n",
      "TPR: 0.99526\n",
      "TNRxTPR: 0.99426\n",
      "G-mean: 0.99713\n",
      "__________________________________________________\n",
      "Classifier:  XGBClassifier\n",
      "[[1988    0]\n",
      " [   0  211]]\n",
      "\n",
      "TNR: 1.0\n",
      "TPR: 1.0\n",
      "TNRxTPR: 1.0\n",
      "G-mean: 1.0\n",
      "__________________________________________________\n",
      "Classifier:  BaggingClassifier\n",
      "[[1985    3]\n",
      " [   9  202]]\n",
      "\n",
      "TNR: 0.99849\n",
      "TPR: 0.95735\n",
      "TNRxTPR: 0.9559\n",
      "G-mean: 0.9777\n",
      "__________________________________________________\n",
      "Classifier:  RandomForestClassifier\n",
      "[[1988    0]\n",
      " [   3  208]]\n",
      "\n",
      "TNR: 1.0\n",
      "TPR: 0.98578\n",
      "TNRxTPR: 0.98578\n",
      "G-mean: 0.99287\n",
      "__________________________________________________\n",
      "Ensemble predictions (majority voting):\n",
      "[[1988    0]\n",
      " [   0  211]]\n",
      "\n",
      "TNR: 1.0\n",
      "TPR: 1.0\n",
      "TNRxTPR: 1.0\n",
      "G-mean: 1.0\n"
     ]
    }
   ],
   "source": [
    "train_val(X_eq, y_eq, X_test, y_test)"
   ]
  },
  {
   "cell_type": "code",
   "execution_count": 28,
   "metadata": {
    "colab": {
     "base_uri": "https://localhost:8080/"
    },
    "executionInfo": {
     "elapsed": 1868,
     "status": "ok",
     "timestamp": 1680781738049,
     "user": {
      "displayName": "JACINTO DOMINGUEZ RULL",
      "userId": "04779779024889038949"
     },
     "user_tz": -120
    },
    "id": "T6benPDnCzym",
    "outputId": "152adb4b-751a-41ad-c30c-161b093f5cd1"
   },
   "outputs": [],
   "source": [
    "# VAEOversampler\n",
    "\n",
    "X_res, y_res = vae_sampler.resample(X_train, y_train, sampling_strategy=.9)"
   ]
  },
  {
   "cell_type": "code",
   "execution_count": 29,
   "metadata": {
    "colab": {
     "base_uri": "https://localhost:8080/"
    },
    "executionInfo": {
     "elapsed": 452,
     "status": "ok",
     "timestamp": 1680781789407,
     "user": {
      "displayName": "JACINTO DOMINGUEZ RULL",
      "userId": "04779779024889038949"
     },
     "user_tz": -120
    },
    "id": "7a1QqxB6Czyx",
    "outputId": "2b05f53a-776d-4560-dbe6-f14163438c12"
   },
   "outputs": [
    {
     "name": "stdout",
     "output_type": "stream",
     "text": [
      "Resampled dataset shape Counter({1.0: 7238, 0.0: 5564})\n",
      "Ratio->  1 : 1.3\n"
     ]
    }
   ],
   "source": [
    "# RUS\n",
    "\n",
    "X_eq, y_eq = RUS(X_res, y_res, frac=.7)\n",
    "\n",
    "print('Resampled dataset shape %s' % Counter(y_eq))\n",
    "print('Ratio->  1 :', round(Counter(y_eq)[1]/Counter(y_eq)[0], 1))"
   ]
  },
  {
   "cell_type": "code",
   "execution_count": 30,
   "metadata": {
    "colab": {
     "base_uri": "https://localhost:8080/"
    },
    "executionInfo": {
     "elapsed": 18111,
     "status": "ok",
     "timestamp": 1680781808511,
     "user": {
      "displayName": "JACINTO DOMINGUEZ RULL",
      "userId": "04779779024889038949"
     },
     "user_tz": -120
    },
    "id": "oAv7STUxCzy0",
    "outputId": "a1ca764e-548c-407f-b5a8-4b3fffdc1270"
   },
   "outputs": [
    {
     "name": "stdout",
     "output_type": "stream",
     "text": [
      "__________________________________________________\n",
      "Classifier:  CatBoostClassifier\n",
      "[[1988    0]\n",
      " [   0  211]]\n",
      "\n",
      "TNR: 1.0\n",
      "TPR: 1.0\n",
      "TNRxTPR: 1.0\n",
      "G-mean: 1.0\n",
      "__________________________________________________\n",
      "Classifier:  LGBMClassifier\n",
      "[[1987    1]\n",
      " [   0  211]]\n",
      "\n",
      "TNR: 0.9995\n",
      "TPR: 1.0\n",
      "TNRxTPR: 0.9995\n",
      "G-mean: 0.99975\n",
      "__________________________________________________\n",
      "Classifier:  XGBClassifier\n",
      "[[1987    1]\n",
      " [   0  211]]\n",
      "\n",
      "TNR: 0.9995\n",
      "TPR: 1.0\n",
      "TNRxTPR: 0.9995\n",
      "G-mean: 0.99975\n",
      "__________________________________________________\n",
      "Classifier:  BaggingClassifier\n",
      "[[1986    2]\n",
      " [   8  203]]\n",
      "\n",
      "TNR: 0.99899\n",
      "TPR: 0.96209\n",
      "TNRxTPR: 0.96112\n",
      "G-mean: 0.98037\n",
      "__________________________________________________\n",
      "Classifier:  RandomForestClassifier\n",
      "[[1988    0]\n",
      " [   2  209]]\n",
      "\n",
      "TNR: 1.0\n",
      "TPR: 0.99052\n",
      "TNRxTPR: 0.99052\n",
      "G-mean: 0.99525\n",
      "__________________________________________________\n",
      "Ensemble predictions (majority voting):\n",
      "[[1988    0]\n",
      " [   0  211]]\n",
      "\n",
      "TNR: 1.0\n",
      "TPR: 1.0\n",
      "TNRxTPR: 1.0\n",
      "G-mean: 1.0\n"
     ]
    }
   ],
   "source": [
    "train_val(X_eq, y_eq, X_test, y_test)"
   ]
  },
  {
   "cell_type": "markdown",
   "metadata": {
    "id": "RydFSMjOoD87"
   },
   "source": [
    "## References  \n",
    "\n",
    "  - Classification with Imbalanced Datasets:  \n",
    "    https://sci2s.ugr.es/imbalanced  \n",
    "  - Computer Vision:  Models, Learning, and Inference (Simon J.D. Prince):  \n",
    "    http://www.computervisionmodels.com/  \n",
    "  - Oversampling with VAEs:  \n",
    "    https://towardsdatascience.com/oversampling-with-vaes-e410887fe51  \n"
   ]
  }
 ],
 "metadata": {
  "colab": {
   "provenance": []
  },
  "gpuClass": "standard",
  "kernelspec": {
   "display_name": "Python 3 (ipykernel)",
   "language": "python",
   "name": "python3"
  },
  "language_info": {
   "codemirror_mode": {
    "name": "ipython",
    "version": 3
   },
   "file_extension": ".py",
   "mimetype": "text/x-python",
   "name": "python",
   "nbconvert_exporter": "python",
   "pygments_lexer": "ipython3",
   "version": "3.9.7"
  }
 },
 "nbformat": 4,
 "nbformat_minor": 1
}
