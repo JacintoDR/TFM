{
 "cells": [
  {
   "cell_type": "markdown",
   "metadata": {
    "id": "qLO_siFYEPSg"
   },
   "source": [
    "# Dealing with imbalanced datasets, combining oversampling with VAE and undersampling to improve model recognition over all classes.  "
   ]
  },
  {
   "cell_type": "markdown",
   "metadata": {
    "id": "IOzC3QPArH_F"
   },
   "source": [
    "Import packages, classifiers and etc."
   ]
  },
  {
   "cell_type": "code",
   "execution_count": 1,
   "metadata": {
    "_cell_guid": "b1076dfc-b9ad-4769-8c92-a6c4dae69d19",
    "_uuid": "8f2839f25d086af736a60e9eeb907d3b93b6e0e5",
    "executionInfo": {
     "elapsed": 3174,
     "status": "ok",
     "timestamp": 1688995206705,
     "user": {
      "displayName": "JACINTO DOMINGUEZ RULL",
      "userId": "04779779024889038949"
     },
     "user_tz": -120
    },
    "id": "GDNB_c5RrH_I"
   },
   "outputs": [],
   "source": [
    "import pandas as pd\n",
    "import numpy as np\n",
    "\n",
    "from sklearn.preprocessing import StandardScaler\n",
    "from sklearn.model_selection import train_test_split, cross_validate\n",
    "\n",
    "from catboost import CatBoostClassifier\n",
    "from lightgbm import LGBMClassifier\n",
    "from xgboost import XGBClassifier\n",
    "from sklearn.ensemble import BaggingClassifier, RandomForestClassifier\n",
    "\n",
    "from sklearn.metrics import confusion_matrix, make_scorer\n",
    "from imblearn.metrics import classification_report_imbalanced, geometric_mean_score\n",
    "from collections import Counter\n",
    "\n",
    "from imblearn.over_sampling import SMOTE, RandomOverSampler"
   ]
  },
  {
   "cell_type": "markdown",
   "metadata": {
    "id": "7qxBXk4fPiJx"
   },
   "source": [
    "Import VAEOversampler."
   ]
  },
  {
   "cell_type": "code",
   "execution_count": 2,
   "metadata": {
    "executionInfo": {
     "elapsed": 8866,
     "status": "ok",
     "timestamp": 1688995216025,
     "user": {
      "displayName": "JACINTO DOMINGUEZ RULL",
      "userId": "04779779024889038949"
     },
     "user_tz": -120
    },
    "id": "DqyRUyWlvryO"
   },
   "outputs": [
    {
     "name": "stderr",
     "output_type": "stream",
     "text": [
      "2023-07-11 12:34:41.947793: W tensorflow/stream_executor/platform/default/dso_loader.cc:64] Could not load dynamic library 'libcudart.so.11.0'; dlerror: libcudart.so.11.0: cannot open shared object file: No such file or directory\n",
      "2023-07-11 12:34:41.947823: I tensorflow/stream_executor/cuda/cudart_stub.cc:29] Ignore above cudart dlerror if you do not have a GPU set up on your machine.\n"
     ]
    }
   ],
   "source": [
    "from VAEOversampler import VAEOversampler"
   ]
  },
  {
   "cell_type": "markdown",
   "metadata": {
    "id": "8UEMO2hTPztj"
   },
   "source": [
    "## Loading data  \n",
    "You can load some dataset from Imbalanced Learn list (https://imbalanced-learn.org/stable/datasets/index.html) or use your own data.  \n"
   ]
  },
  {
   "cell_type": "code",
   "execution_count": 3,
   "metadata": {
    "executionInfo": {
     "elapsed": 62363,
     "status": "ok",
     "timestamp": 1688995285297,
     "user": {
      "displayName": "JACINTO DOMINGUEZ RULL",
      "userId": "04779779024889038949"
     },
     "user_tz": -120
    },
    "id": "Xnh_x70FwVCi"
   },
   "outputs": [],
   "source": [
    "from imblearn.datasets import fetch_datasets\n",
    "\n",
    "dset_name = 'mammography'\n",
    "dset = fetch_datasets()[dset_name]\n",
    "\n",
    "X, y = StandardScaler().fit_transform(dset.data), dset.target"
   ]
  },
  {
   "cell_type": "code",
   "execution_count": 4,
   "metadata": {
    "colab": {
     "base_uri": "https://localhost:8080/"
    },
    "executionInfo": {
     "elapsed": 506,
     "status": "ok",
     "timestamp": 1688995296163,
     "user": {
      "displayName": "JACINTO DOMINGUEZ RULL",
      "userId": "04779779024889038949"
     },
     "user_tz": -120
    },
    "id": "v_SUvgVSByCD",
    "outputId": "11fc0fdf-fc35-44e1-cde2-29ae6ccca978"
   },
   "outputs": [
    {
     "data": {
      "text/plain": [
       "array([[ 0.23002989,  5.07280511, -0.27607289,  0.83248134, -0.37788263,\n",
       "         0.48034378],\n",
       "       [ 0.15549807, -0.16939796,  0.67068217, -0.85959098, -0.37788263,\n",
       "        -0.94576553],\n",
       "       [-0.78444989, -0.44367356,  5.67495902, -0.85959098, -0.37788263,\n",
       "        -0.94576553],\n",
       "       ...,\n",
       "       [ 1.20504168,  1.76380266, -0.50149077,  1.56247766,  6.48936266,\n",
       "         0.93133561],\n",
       "       [ 0.73667692, -0.22248356, -0.05065502,  1.5097322 ,  0.53929325,\n",
       "         1.31528811],\n",
       "       [ 0.17701066, -0.19151695, -0.50149077,  1.5789342 ,  7.75105157,\n",
       "         1.55602027]])"
      ]
     },
     "execution_count": 4,
     "metadata": {},
     "output_type": "execute_result"
    }
   ],
   "source": [
    "X"
   ]
  },
  {
   "cell_type": "code",
   "execution_count": 5,
   "metadata": {
    "executionInfo": {
     "elapsed": 449,
     "status": "ok",
     "timestamp": 1688995298970,
     "user": {
      "displayName": "JACINTO DOMINGUEZ RULL",
      "userId": "04779779024889038949"
     },
     "user_tz": -120
    },
    "id": "Tb09lFMxPS2J"
   },
   "outputs": [],
   "source": [
    "y[y == -1] = 0"
   ]
  },
  {
   "cell_type": "markdown",
   "metadata": {
    "id": "hpLA_GmKSJwN"
   },
   "source": [
    "We split data into train and test partitions."
   ]
  },
  {
   "cell_type": "code",
   "execution_count": 6,
   "metadata": {
    "executionInfo": {
     "elapsed": 403,
     "status": "ok",
     "timestamp": 1688995301980,
     "user": {
      "displayName": "JACINTO DOMINGUEZ RULL",
      "userId": "04779779024889038949"
     },
     "user_tz": -120
    },
    "id": "ZS-Dd0R9GbBY"
   },
   "outputs": [],
   "source": [
    "X_train, X_test, y_train, y_test = train_test_split(X, y, test_size=0.2, random_state=42, stratify=y)"
   ]
  },
  {
   "cell_type": "markdown",
   "metadata": {
    "id": "Em7Um0N4rH_S"
   },
   "source": [
    "This is a simple function to undersample freely.  "
   ]
  },
  {
   "cell_type": "code",
   "execution_count": 7,
   "metadata": {
    "executionInfo": {
     "elapsed": 13,
     "status": "ok",
     "timestamp": 1688995303389,
     "user": {
      "displayName": "JACINTO DOMINGUEZ RULL",
      "userId": "04779779024889038949"
     },
     "user_tz": -120
    },
    "id": "1cdWcXE3Ofok"
   },
   "outputs": [],
   "source": [
    "# RUS\n",
    "\n",
    "def RUS(X_res, y_res, frac=1, minority_class_id=1, random_state=42):\n",
    "    X_res = pd.DataFrame(X_res)\n",
    "    X_res['Class'] = y_res\n",
    "\n",
    "    X_neg = X_res[y_res != minority_class_id].sample(frac=frac, random_state=random_state)\n",
    "    X_pos = X_res[y_res == minority_class_id].sample(frac=1, random_state=random_state)\n",
    "\n",
    "    X_rus = pd.concat([X_neg, X_pos], ignore_index=True)\n",
    "\n",
    "    X_eq = X_rus.drop('Class', axis=1)\n",
    "    y_eq = X_rus['Class']\n",
    "\n",
    "    return X_eq, y_eq"
   ]
  },
  {
   "cell_type": "code",
   "execution_count": 8,
   "metadata": {
    "executionInfo": {
     "elapsed": 10,
     "status": "ok",
     "timestamp": 1688995305101,
     "user": {
      "displayName": "JACINTO DOMINGUEZ RULL",
      "userId": "04779779024889038949"
     },
     "user_tz": -120
    },
    "id": "1Ep1nUMCES98"
   },
   "outputs": [],
   "source": [
    "def train_val(X, y, Xt, yt, random_state=42):\n",
    "    classifiers = {\n",
    "        \"CatBoostClassifier\": CatBoostClassifier(verbose=False, random_seed=random_state),\n",
    "        \"LGBMClassifier\": LGBMClassifier(random_state=random_state),\n",
    "        \"XGBClassifier\": XGBClassifier(random_state=random_state),\n",
    "        \"BaggingClassifier\": BaggingClassifier(random_state=random_state),\n",
    "        \"RandomForestClassifier\": RandomForestClassifier(random_state=random_state),\n",
    "    }\n",
    "    scores = []\n",
    "    predictions = []\n",
    "    for key, classifier in classifiers.items():\n",
    "        print('_' * 50)\n",
    "        name = key\n",
    "        classifier.fit(X, y)\n",
    "        print(\"Classifier: \", name)\n",
    "        y_pred = classifier.predict(Xt)\n",
    "        cm = confusion_matrix(yt, y_pred)\n",
    "        print(cm)\n",
    "        print('')\n",
    "        predictions.append(y_pred)\n",
    "        tn = cm[0,0]\n",
    "        fp = cm[0,1]\n",
    "        fn = cm[1,0]\n",
    "        tp = cm[1,1]\n",
    "        tnr = tn / (tn + fp)\n",
    "        tpr = tp / (tp + fn)\n",
    "        scores.append(tnr * tpr)\n",
    "        print('TNR:', round(tnr, 5))\n",
    "        print('TPR:', round(tpr, 5))\n",
    "        print('TNRxTPR:', round(tnr * tpr, 5))\n",
    "        print('G-mean:', round(np.sqrt(tnr * tpr), 5))\n",
    "\n",
    "    print('_' * 50)\n",
    "    print('Ensemble predictions (majority voting):')\n",
    "    predictions = np.sum(predictions, axis=0)\n",
    "    predictions[predictions < 3] = 0\n",
    "    predictions[predictions >= 3] = 1\n",
    "\n",
    "    cm = confusion_matrix(yt, predictions)\n",
    "    print(cm)\n",
    "    tn = cm[0,0]\n",
    "    fp = cm[0,1]\n",
    "    fn = cm[1,0]\n",
    "    tp = cm[1,1]\n",
    "    tnr = tn / (tn + fp)\n",
    "    tpr = tp / (tp + fn)\n",
    "    print('')\n",
    "    print('TNR:', round(tnr, 5))\n",
    "    print('TPR:', round(tpr, 5))\n",
    "    print('TNRxTPR:', round(tnr * tpr, 5))\n",
    "    print('G-mean:', round(np.sqrt(tnr * tpr), 5))\n"
   ]
  },
  {
   "cell_type": "markdown",
   "metadata": {},
   "source": [
    "## Without resampling (base line) \n",
    "Which is starting score?\n"
   ]
  },
  {
   "cell_type": "code",
   "execution_count": 9,
   "metadata": {},
   "outputs": [
    {
     "name": "stdout",
     "output_type": "stream",
     "text": [
      "Original dataset shape Counter({0: 10923, 1: 260})\n",
      "Ratio-> 42.0 : 1\n"
     ]
    }
   ],
   "source": [
    "print('Original dataset shape %s' % Counter(y))\n",
    "print('Ratio->', round(Counter(y)[0]/Counter(y)[1], 1), ': 1')"
   ]
  },
  {
   "cell_type": "code",
   "execution_count": 10,
   "metadata": {},
   "outputs": [
    {
     "name": "stdout",
     "output_type": "stream",
     "text": [
      "__________________________________________________\n",
      "Classifier:  CatBoostClassifier\n",
      "[[2178    7]\n",
      " [  18   34]]\n",
      "\n",
      "TNR: 0.9968\n",
      "TPR: 0.65385\n",
      "TNRxTPR: 0.65175\n",
      "G-mean: 0.80731\n",
      "__________________________________________________\n",
      "Classifier:  LGBMClassifier\n",
      "[[2180    5]\n",
      " [  16   36]]\n",
      "\n",
      "TNR: 0.99771\n",
      "TPR: 0.69231\n",
      "TNRxTPR: 0.69072\n",
      "G-mean: 0.8311\n",
      "__________________________________________________\n",
      "Classifier:  XGBClassifier\n",
      "[[2176    9]\n",
      " [  20   32]]\n",
      "\n",
      "TNR: 0.99588\n",
      "TPR: 0.61538\n",
      "TNRxTPR: 0.61285\n",
      "G-mean: 0.78285\n",
      "__________________________________________________\n",
      "Classifier:  BaggingClassifier\n",
      "[[2180    5]\n",
      " [  27   25]]\n",
      "\n",
      "TNR: 0.99771\n",
      "TPR: 0.48077\n",
      "TNRxTPR: 0.47967\n",
      "G-mean: 0.69258\n",
      "__________________________________________________\n",
      "Classifier:  RandomForestClassifier\n",
      "[[2181    4]\n",
      " [  27   25]]\n",
      "\n",
      "TNR: 0.99817\n",
      "TPR: 0.48077\n",
      "TNRxTPR: 0.47989\n",
      "G-mean: 0.69274\n",
      "__________________________________________________\n",
      "Ensemble predictions (majority voting):\n",
      "[[2182    3]\n",
      " [  22   30]]\n",
      "\n",
      "TNR: 0.99863\n",
      "TPR: 0.57692\n",
      "TNRxTPR: 0.57613\n",
      "G-mean: 0.75903\n"
     ]
    }
   ],
   "source": [
    "train_val(X_train, y_train, X_test, y_test)"
   ]
  },
  {
   "cell_type": "markdown",
   "metadata": {
    "id": "jcCxQq6-Uvyr"
   },
   "source": [
    "## Ratio 1:1  \n",
    "Let's see classifiers scores when dataset is balanced.  \n"
   ]
  },
  {
   "cell_type": "code",
   "execution_count": 11,
   "metadata": {
    "executionInfo": {
     "elapsed": 357,
     "status": "ok",
     "timestamp": 1688995307675,
     "user": {
      "displayName": "JACINTO DOMINGUEZ RULL",
      "userId": "04779779024889038949"
     },
     "user_tz": -120
    },
    "id": "BHJ2B9Cx_nsc"
   },
   "outputs": [],
   "source": [
    "# SMOTE\n",
    "\n",
    "sm = SMOTE(random_state=42, sampling_strategy=1) # N_rm / N_M\n",
    "X_res, y_res = sm.fit_resample(X_train, y_train)"
   ]
  },
  {
   "cell_type": "code",
   "execution_count": 12,
   "metadata": {
    "colab": {
     "base_uri": "https://localhost:8080/"
    },
    "executionInfo": {
     "elapsed": 387,
     "status": "ok",
     "timestamp": 1688995310860,
     "user": {
      "displayName": "JACINTO DOMINGUEZ RULL",
      "userId": "04779779024889038949"
     },
     "user_tz": -120
    },
    "id": "6U0Byc1lUvys",
    "outputId": "181ce847-ebb3-41e7-9ad6-e6da7cc70634"
   },
   "outputs": [
    {
     "name": "stdout",
     "output_type": "stream",
     "text": [
      "Resampled dataset shape Counter({0: 8738, 1: 8738})\n",
      "Ratio->  1 : 1.0\n"
     ]
    }
   ],
   "source": [
    "print('Resampled dataset shape %s' % Counter(y_res))\n",
    "print('Ratio->  1 :', round(Counter(y_res)[1]/Counter(y_res)[0], 1))"
   ]
  },
  {
   "cell_type": "code",
   "execution_count": 13,
   "metadata": {
    "colab": {
     "base_uri": "https://localhost:8080/"
    },
    "executionInfo": {
     "elapsed": 40216,
     "status": "ok",
     "timestamp": 1688995352688,
     "user": {
      "displayName": "JACINTO DOMINGUEZ RULL",
      "userId": "04779779024889038949"
     },
     "user_tz": -120
    },
    "id": "CMGEySDMpTdx",
    "outputId": "499c6531-cf29-4c8f-e045-290037f6543c",
    "scrolled": false
   },
   "outputs": [
    {
     "name": "stdout",
     "output_type": "stream",
     "text": [
      "__________________________________________________\n",
      "Classifier:  CatBoostClassifier\n",
      "[[2163   22]\n",
      " [  15   37]]\n",
      "\n",
      "TNR: 0.98993\n",
      "TPR: 0.71154\n",
      "TNRxTPR: 0.70437\n",
      "G-mean: 0.83927\n",
      "__________________________________________________\n",
      "Classifier:  LGBMClassifier\n",
      "[[2166   19]\n",
      " [   7   45]]\n",
      "\n",
      "TNR: 0.9913\n",
      "TPR: 0.86538\n",
      "TNRxTPR: 0.85786\n",
      "G-mean: 0.92621\n",
      "__________________________________________________\n",
      "Classifier:  XGBClassifier\n",
      "[[2169   16]\n",
      " [  12   40]]\n",
      "\n",
      "TNR: 0.99268\n",
      "TPR: 0.76923\n",
      "TNRxTPR: 0.7636\n",
      "G-mean: 0.87384\n",
      "__________________________________________________\n",
      "Classifier:  BaggingClassifier\n",
      "[[2150   35]\n",
      " [   8   44]]\n",
      "\n",
      "TNR: 0.98398\n",
      "TPR: 0.84615\n",
      "TNRxTPR: 0.8326\n",
      "G-mean: 0.91247\n",
      "__________________________________________________\n",
      "Classifier:  RandomForestClassifier\n",
      "[[2159   26]\n",
      " [  10   42]]\n",
      "\n",
      "TNR: 0.9881\n",
      "TPR: 0.80769\n",
      "TNRxTPR: 0.79808\n",
      "G-mean: 0.89335\n",
      "__________________________________________________\n",
      "Ensemble predictions (majority voting):\n",
      "[[2168   17]\n",
      " [  10   42]]\n",
      "\n",
      "TNR: 0.99222\n",
      "TPR: 0.80769\n",
      "TNRxTPR: 0.80141\n",
      "G-mean: 0.89521\n"
     ]
    }
   ],
   "source": [
    "train_val(X_res, y_res, X_test, y_test)"
   ]
  },
  {
   "cell_type": "code",
   "execution_count": 14,
   "metadata": {
    "executionInfo": {
     "elapsed": 628,
     "status": "ok",
     "timestamp": 1688995372242,
     "user": {
      "displayName": "JACINTO DOMINGUEZ RULL",
      "userId": "04779779024889038949"
     },
     "user_tz": -120
    },
    "id": "hiRVkg2eUx0U"
   },
   "outputs": [],
   "source": [
    "# ROS\n",
    "\n",
    "ros = RandomOverSampler(random_state=42, sampling_strategy=1) # N_rm / N_M\n",
    "X_res, y_res = ros.fit_resample(X_train, y_train)"
   ]
  },
  {
   "cell_type": "code",
   "execution_count": 15,
   "metadata": {
    "colab": {
     "base_uri": "https://localhost:8080/"
    },
    "executionInfo": {
     "elapsed": 15,
     "status": "ok",
     "timestamp": 1688995373401,
     "user": {
      "displayName": "JACINTO DOMINGUEZ RULL",
      "userId": "04779779024889038949"
     },
     "user_tz": -120
    },
    "id": "7igPUXNbUvyu",
    "outputId": "1553fdf0-4da8-4eca-8d96-157efd69a1fe"
   },
   "outputs": [
    {
     "name": "stdout",
     "output_type": "stream",
     "text": [
      "Resampled dataset shape Counter({0: 8738, 1: 8738})\n",
      "Ratio->  1 : 1.0\n"
     ]
    }
   ],
   "source": [
    "print('Resampled dataset shape %s' % Counter(y_res))\n",
    "print('Ratio->  1 :', round(Counter(y_res)[1]/Counter(y_res)[0], 1))"
   ]
  },
  {
   "cell_type": "code",
   "execution_count": 16,
   "metadata": {
    "colab": {
     "base_uri": "https://localhost:8080/"
    },
    "executionInfo": {
     "elapsed": 16416,
     "status": "ok",
     "timestamp": 1688995391595,
     "user": {
      "displayName": "JACINTO DOMINGUEZ RULL",
      "userId": "04779779024889038949"
     },
     "user_tz": -120
    },
    "id": "IMANwdwxUx0b",
    "outputId": "f53bd412-4cd1-4a21-ac45-4bbb7d5e13e5",
    "scrolled": false
   },
   "outputs": [
    {
     "name": "stdout",
     "output_type": "stream",
     "text": [
      "__________________________________________________\n",
      "Classifier:  CatBoostClassifier\n",
      "[[2172   13]\n",
      " [   8   44]]\n",
      "\n",
      "TNR: 0.99405\n",
      "TPR: 0.84615\n",
      "TNRxTPR: 0.84112\n",
      "G-mean: 0.91713\n",
      "__________________________________________________\n",
      "Classifier:  LGBMClassifier\n",
      "[[2171   14]\n",
      " [  12   40]]\n",
      "\n",
      "TNR: 0.99359\n",
      "TPR: 0.76923\n",
      "TNRxTPR: 0.7643\n",
      "G-mean: 0.87424\n",
      "__________________________________________________\n",
      "Classifier:  XGBClassifier\n",
      "[[2173   12]\n",
      " [  13   39]]\n",
      "\n",
      "TNR: 0.99451\n",
      "TPR: 0.75\n",
      "TNRxTPR: 0.74588\n",
      "G-mean: 0.86364\n",
      "__________________________________________________\n",
      "Classifier:  BaggingClassifier\n",
      "[[2168   17]\n",
      " [  19   33]]\n",
      "\n",
      "TNR: 0.99222\n",
      "TPR: 0.63462\n",
      "TNRxTPR: 0.62968\n",
      "G-mean: 0.79352\n",
      "__________________________________________________\n",
      "Classifier:  RandomForestClassifier\n",
      "[[2178    7]\n",
      " [  19   33]]\n",
      "\n",
      "TNR: 0.9968\n",
      "TPR: 0.63462\n",
      "TNRxTPR: 0.63258\n",
      "G-mean: 0.79535\n",
      "__________________________________________________\n",
      "Ensemble predictions (majority voting):\n",
      "[[2177    8]\n",
      " [  12   40]]\n",
      "\n",
      "TNR: 0.99634\n",
      "TPR: 0.76923\n",
      "TNRxTPR: 0.76641\n",
      "G-mean: 0.87545\n"
     ]
    }
   ],
   "source": [
    "train_val(X_res, y_res, X_test, y_test)"
   ]
  },
  {
   "cell_type": "code",
   "execution_count": 17,
   "metadata": {
    "colab": {
     "base_uri": "https://localhost:8080/"
    },
    "executionInfo": {
     "elapsed": 22962,
     "status": "ok",
     "timestamp": 1688995428676,
     "user": {
      "displayName": "JACINTO DOMINGUEZ RULL",
      "userId": "04779779024889038949"
     },
     "user_tz": -120
    },
    "id": "B065rYa3wO-o",
    "outputId": "c1a1f53d-b677-4e8b-a3fc-0baed87c76c7"
   },
   "outputs": [
    {
     "name": "stderr",
     "output_type": "stream",
     "text": [
      "2023-07-11 12:35:46.985803: W tensorflow/stream_executor/platform/default/dso_loader.cc:64] Could not load dynamic library 'libcuda.so.1'; dlerror: libcuda.so.1: cannot open shared object file: No such file or directory\n",
      "2023-07-11 12:35:46.985842: W tensorflow/stream_executor/cuda/cuda_driver.cc:269] failed call to cuInit: UNKNOWN ERROR (303)\n",
      "2023-07-11 12:35:46.985863: I tensorflow/stream_executor/cuda/cuda_diagnostics.cc:156] kernel driver does not appear to be running on this host (a-Modern-15-A5M): /proc/driver/nvidia/version does not exist\n",
      "2023-07-11 12:35:46.986094: I tensorflow/core/platform/cpu_feature_guard.cc:151] This TensorFlow binary is optimized with oneAPI Deep Neural Network Library (oneDNN) to use the following CPU instructions in performance-critical operations:  AVX2 FMA\n",
      "To enable them in other operations, rebuild TensorFlow with the appropriate compiler flags.\n"
     ]
    }
   ],
   "source": [
    "# VAEOversampler\n",
    "\n",
    "vae_sampler = VAEOversampler(epochs=500,\n",
    "                              intermediate_dim=512,\n",
    "                              batch_size=64,\n",
    "                              random_state=42,\n",
    "                              verbose=False)\n",
    "X_res, y_res = vae_sampler.fit_resample(X_train, y_train)"
   ]
  },
  {
   "cell_type": "code",
   "execution_count": 18,
   "metadata": {
    "colab": {
     "base_uri": "https://localhost:8080/"
    },
    "executionInfo": {
     "elapsed": 351,
     "status": "ok",
     "timestamp": 1688995436509,
     "user": {
      "displayName": "JACINTO DOMINGUEZ RULL",
      "userId": "04779779024889038949"
     },
     "user_tz": -120
    },
    "id": "nOsNattyeSXh",
    "outputId": "675e48ff-df76-48f7-daff-d244dda92b04"
   },
   "outputs": [
    {
     "name": "stdout",
     "output_type": "stream",
     "text": [
      "Resampled dataset shape Counter({0.0: 8738, 1.0: 8738})\n",
      "Ratio->  1 : 1.0\n"
     ]
    }
   ],
   "source": [
    "print('Resampled dataset shape %s' % Counter(y_res))\n",
    "print('Ratio->  1 :', round(Counter(y_res)[1]/Counter(y_res)[0], 1))"
   ]
  },
  {
   "cell_type": "code",
   "execution_count": 19,
   "metadata": {
    "colab": {
     "base_uri": "https://localhost:8080/"
    },
    "executionInfo": {
     "elapsed": 35736,
     "status": "ok",
     "timestamp": 1688995473714,
     "user": {
      "displayName": "JACINTO DOMINGUEZ RULL",
      "userId": "04779779024889038949"
     },
     "user_tz": -120
    },
    "id": "6BNffQSbwO-t",
    "outputId": "97f57313-8e43-4eba-8675-e0b72e987ccd"
   },
   "outputs": [
    {
     "name": "stdout",
     "output_type": "stream",
     "text": [
      "__________________________________________________\n",
      "Classifier:  CatBoostClassifier\n",
      "[[2179    6]\n",
      " [  21   31]]\n",
      "\n",
      "TNR: 0.99725\n",
      "TPR: 0.59615\n",
      "TNRxTPR: 0.59452\n",
      "G-mean: 0.77105\n",
      "__________________________________________________\n",
      "Classifier:  LGBMClassifier\n",
      "[[2178    7]\n",
      " [  21   31]]\n",
      "\n",
      "TNR: 0.9968\n",
      "TPR: 0.59615\n",
      "TNRxTPR: 0.59424\n",
      "G-mean: 0.77087\n",
      "__________________________________________________\n",
      "Classifier:  XGBClassifier\n",
      "[[2179    6]\n",
      " [  22   30]]\n",
      "\n",
      "TNR: 0.99725\n",
      "TPR: 0.57692\n",
      "TNRxTPR: 0.57534\n",
      "G-mean: 0.75851\n",
      "__________________________________________________\n",
      "Classifier:  BaggingClassifier\n",
      "[[2179    6]\n",
      " [  27   25]]\n",
      "\n",
      "TNR: 0.99725\n",
      "TPR: 0.48077\n",
      "TNRxTPR: 0.47945\n",
      "G-mean: 0.69242\n",
      "__________________________________________________\n",
      "Classifier:  RandomForestClassifier\n",
      "[[2181    4]\n",
      " [  23   29]]\n",
      "\n",
      "TNR: 0.99817\n",
      "TPR: 0.55769\n",
      "TNRxTPR: 0.55667\n",
      "G-mean: 0.7461\n",
      "__________________________________________________\n",
      "Ensemble predictions (majority voting):\n",
      "[[2181    4]\n",
      " [  22   30]]\n",
      "\n",
      "TNR: 0.99817\n",
      "TPR: 0.57692\n",
      "TNRxTPR: 0.57587\n",
      "G-mean: 0.75886\n"
     ]
    }
   ],
   "source": [
    "train_val(X_res, y_res, X_test, y_test)"
   ]
  },
  {
   "cell_type": "markdown",
   "metadata": {
    "id": "w9swp8C1wO-w"
   },
   "source": [
    "## Under/Oversampling combination  \n",
    "Now we can tuning the number of instances for each class to optimize metric.  \n"
   ]
  },
  {
   "cell_type": "code",
   "execution_count": 20,
   "metadata": {
    "executionInfo": {
     "elapsed": 353,
     "status": "ok",
     "timestamp": 1688996408236,
     "user": {
      "displayName": "JACINTO DOMINGUEZ RULL",
      "userId": "04779779024889038949"
     },
     "user_tz": -120
    },
    "id": "D0jtqxJ8Uvyv"
   },
   "outputs": [],
   "source": [
    "# SMOTE\n",
    "\n",
    "sm = SMOTE(random_state=42, sampling_strategy=1) # N_rm / N_M\n",
    "X_res, y_res = sm.fit_resample(X_train, y_train)"
   ]
  },
  {
   "cell_type": "code",
   "execution_count": 21,
   "metadata": {
    "colab": {
     "base_uri": "https://localhost:8080/"
    },
    "executionInfo": {
     "elapsed": 453,
     "status": "ok",
     "timestamp": 1688996413391,
     "user": {
      "displayName": "JACINTO DOMINGUEZ RULL",
      "userId": "04779779024889038949"
     },
     "user_tz": -120
    },
    "id": "uQ3_RoAsUvyv",
    "outputId": "9fcbbbc9-a53f-4242-a1af-f6fb09e825c2"
   },
   "outputs": [
    {
     "name": "stdout",
     "output_type": "stream",
     "text": [
      "Resampled dataset shape Counter({1: 8738, 0: 1748})\n",
      "Ratio->  1 : 5.0\n"
     ]
    }
   ],
   "source": [
    "# RUS\n",
    "\n",
    "X_eq, y_eq = RUS(X_res, y_res, frac=.2)\n",
    "\n",
    "print('Resampled dataset shape %s' % Counter(y_eq))\n",
    "print('Ratio->  1 :', round(Counter(y_eq)[1]/Counter(y_eq)[0], 1))"
   ]
  },
  {
   "cell_type": "code",
   "execution_count": 22,
   "metadata": {
    "colab": {
     "base_uri": "https://localhost:8080/"
    },
    "executionInfo": {
     "elapsed": 35144,
     "status": "ok",
     "timestamp": 1688996450845,
     "user": {
      "displayName": "JACINTO DOMINGUEZ RULL",
      "userId": "04779779024889038949"
     },
     "user_tz": -120
    },
    "id": "TPcOZeONUvyw",
    "outputId": "3303ee5a-4fdb-420a-b40f-6605533f1a34",
    "scrolled": false
   },
   "outputs": [
    {
     "name": "stdout",
     "output_type": "stream",
     "text": [
      "__________________________________________________\n",
      "Classifier:  CatBoostClassifier\n",
      "[[2082  103]\n",
      " [   3   49]]\n",
      "\n",
      "TNR: 0.95286\n",
      "TPR: 0.94231\n",
      "TNRxTPR: 0.89789\n",
      "G-mean: 0.94757\n",
      "__________________________________________________\n",
      "Classifier:  LGBMClassifier\n",
      "[[2097   88]\n",
      " [   3   49]]\n",
      "\n",
      "TNR: 0.95973\n",
      "TPR: 0.94231\n",
      "TNRxTPR: 0.90436\n",
      "G-mean: 0.95098\n",
      "__________________________________________________\n",
      "Classifier:  XGBClassifier\n",
      "[[2091   94]\n",
      " [   4   48]]\n",
      "\n",
      "TNR: 0.95698\n",
      "TPR: 0.92308\n",
      "TNRxTPR: 0.88337\n",
      "G-mean: 0.93988\n",
      "__________________________________________________\n",
      "Classifier:  BaggingClassifier\n",
      "[[2078  107]\n",
      " [   4   48]]\n",
      "\n",
      "TNR: 0.95103\n",
      "TPR: 0.92308\n",
      "TNRxTPR: 0.87787\n",
      "G-mean: 0.93695\n",
      "__________________________________________________\n",
      "Classifier:  RandomForestClassifier\n",
      "[[2075  110]\n",
      " [   4   48]]\n",
      "\n",
      "TNR: 0.94966\n",
      "TPR: 0.92308\n",
      "TNRxTPR: 0.87661\n",
      "G-mean: 0.93627\n",
      "__________________________________________________\n",
      "Ensemble predictions (majority voting):\n",
      "[[2092   93]\n",
      " [   4   48]]\n",
      "\n",
      "TNR: 0.95744\n",
      "TPR: 0.92308\n",
      "TNRxTPR: 0.88379\n",
      "G-mean: 0.9401\n"
     ]
    }
   ],
   "source": [
    "train_val(X_eq, y_eq, X_test, y_test)"
   ]
  },
  {
   "cell_type": "code",
   "execution_count": 23,
   "metadata": {
    "executionInfo": {
     "elapsed": 412,
     "status": "ok",
     "timestamp": 1688995653229,
     "user": {
      "displayName": "JACINTO DOMINGUEZ RULL",
      "userId": "04779779024889038949"
     },
     "user_tz": -120
    },
    "id": "-mGQlfSdUvyw"
   },
   "outputs": [],
   "source": [
    "# ROS\n",
    "\n",
    "ros = RandomOverSampler(random_state=42, sampling_strategy=1) # N_rm / N_M\n",
    "X_res, y_res = ros.fit_resample(X_train, y_train)"
   ]
  },
  {
   "cell_type": "code",
   "execution_count": 24,
   "metadata": {
    "colab": {
     "base_uri": "https://localhost:8080/"
    },
    "executionInfo": {
     "elapsed": 29,
     "status": "ok",
     "timestamp": 1688995654640,
     "user": {
      "displayName": "JACINTO DOMINGUEZ RULL",
      "userId": "04779779024889038949"
     },
     "user_tz": -120
    },
    "id": "8fdzr1qOUvyw",
    "outputId": "b3249966-2c06-4802-b332-a30b0fb4cee5"
   },
   "outputs": [
    {
     "name": "stdout",
     "output_type": "stream",
     "text": [
      "Resampled dataset shape Counter({1: 8738, 0: 1311})\n",
      "Ratio->  1 : 6.7\n"
     ]
    }
   ],
   "source": [
    "# RUS\n",
    "\n",
    "X_eq, y_eq = RUS(X_res, y_res, frac=.15)\n",
    "\n",
    "print('Resampled dataset shape %s' % Counter(y_eq))\n",
    "print('Ratio->  1 :', round(Counter(y_eq)[1]/Counter(y_eq)[0], 1))"
   ]
  },
  {
   "cell_type": "code",
   "execution_count": 25,
   "metadata": {
    "colab": {
     "base_uri": "https://localhost:8080/"
    },
    "executionInfo": {
     "elapsed": 11836,
     "status": "ok",
     "timestamp": 1688995668496,
     "user": {
      "displayName": "JACINTO DOMINGUEZ RULL",
      "userId": "04779779024889038949"
     },
     "user_tz": -120
    },
    "id": "u0UCU05gUvyw",
    "outputId": "c999c822-4c95-47a9-e53d-0089cbd4bf4f",
    "scrolled": false
   },
   "outputs": [
    {
     "name": "stdout",
     "output_type": "stream",
     "text": [
      "__________________________________________________\n",
      "Classifier:  CatBoostClassifier\n",
      "[[2099   86]\n",
      " [   2   50]]\n",
      "\n",
      "TNR: 0.96064\n",
      "TPR: 0.96154\n",
      "TNRxTPR: 0.92369\n",
      "G-mean: 0.96109\n",
      "__________________________________________________\n",
      "Classifier:  LGBMClassifier\n",
      "[[2121   64]\n",
      " [   5   47]]\n",
      "\n",
      "TNR: 0.97071\n",
      "TPR: 0.90385\n",
      "TNRxTPR: 0.87737\n",
      "G-mean: 0.93668\n",
      "__________________________________________________\n",
      "Classifier:  XGBClassifier\n",
      "[[2111   74]\n",
      " [   3   49]]\n",
      "\n",
      "TNR: 0.96613\n",
      "TPR: 0.94231\n",
      "TNRxTPR: 0.91039\n",
      "G-mean: 0.95415\n",
      "__________________________________________________\n",
      "Classifier:  BaggingClassifier\n",
      "[[2110   75]\n",
      " [   5   47]]\n",
      "\n",
      "TNR: 0.96568\n",
      "TPR: 0.90385\n",
      "TNRxTPR: 0.87282\n",
      "G-mean: 0.93425\n",
      "__________________________________________________\n",
      "Classifier:  RandomForestClassifier\n",
      "[[2135   50]\n",
      " [   7   45]]\n",
      "\n",
      "TNR: 0.97712\n",
      "TPR: 0.86538\n",
      "TNRxTPR: 0.84558\n",
      "G-mean: 0.91956\n",
      "__________________________________________________\n",
      "Ensemble predictions (majority voting):\n",
      "[[2124   61]\n",
      " [   5   47]]\n",
      "\n",
      "TNR: 0.97208\n",
      "TPR: 0.90385\n",
      "TNRxTPR: 0.87861\n",
      "G-mean: 0.93734\n"
     ]
    }
   ],
   "source": [
    "train_val(X_eq, y_eq, X_test, y_test)"
   ]
  },
  {
   "cell_type": "code",
   "execution_count": 39,
   "metadata": {
    "colab": {
     "base_uri": "https://localhost:8080/"
    },
    "executionInfo": {
     "elapsed": 635,
     "status": "ok",
     "timestamp": 1688996013493,
     "user": {
      "displayName": "JACINTO DOMINGUEZ RULL",
      "userId": "04779779024889038949"
     },
     "user_tz": -120
    },
    "id": "T6benPDnCzym",
    "outputId": "46345bea-6043-4461-dd80-7ab21fcc8cb0"
   },
   "outputs": [],
   "source": [
    "# VAEOversampler\n",
    "\n",
    "X_res, y_res = vae_sampler.resample(X_train, y_train, sampling_strategy=1.3)"
   ]
  },
  {
   "cell_type": "code",
   "execution_count": 40,
   "metadata": {
    "colab": {
     "base_uri": "https://localhost:8080/"
    },
    "executionInfo": {
     "elapsed": 22,
     "status": "ok",
     "timestamp": 1688996014915,
     "user": {
      "displayName": "JACINTO DOMINGUEZ RULL",
      "userId": "04779779024889038949"
     },
     "user_tz": -120
    },
    "id": "7a1QqxB6Czyx",
    "outputId": "a0c1b82e-ab5a-4668-bf61-2b0f2fe59de8"
   },
   "outputs": [
    {
     "name": "stdout",
     "output_type": "stream",
     "text": [
      "Resampled dataset shape Counter({1.0: 11297, 0.0: 699})\n",
      "Ratio->  1 : 16.2\n"
     ]
    }
   ],
   "source": [
    "# RUS\n",
    "\n",
    "X_eq, y_eq = RUS(X_res, y_res, frac=.08)\n",
    "\n",
    "print('Resampled dataset shape %s' % Counter(y_eq))\n",
    "print('Ratio->  1 :', round(Counter(y_eq)[1]/Counter(y_eq)[0], 1))"
   ]
  },
  {
   "cell_type": "code",
   "execution_count": 41,
   "metadata": {
    "colab": {
     "base_uri": "https://localhost:8080/"
    },
    "executionInfo": {
     "elapsed": 31547,
     "status": "ok",
     "timestamp": 1688996048806,
     "user": {
      "displayName": "JACINTO DOMINGUEZ RULL",
      "userId": "04779779024889038949"
     },
     "user_tz": -120
    },
    "id": "oAv7STUxCzy0",
    "outputId": "6dca37fe-0bd6-4dee-a12c-0d1f3c18c865"
   },
   "outputs": [
    {
     "name": "stdout",
     "output_type": "stream",
     "text": [
      "__________________________________________________\n",
      "Classifier:  CatBoostClassifier\n",
      "[[2115   70]\n",
      " [   5   47]]\n",
      "\n",
      "TNR: 0.96796\n",
      "TPR: 0.90385\n",
      "TNRxTPR: 0.87489\n",
      "G-mean: 0.93536\n",
      "__________________________________________________\n",
      "Classifier:  LGBMClassifier\n",
      "[[2108   77]\n",
      " [   3   49]]\n",
      "\n",
      "TNR: 0.96476\n",
      "TPR: 0.94231\n",
      "TNRxTPR: 0.9091\n",
      "G-mean: 0.95347\n",
      "__________________________________________________\n",
      "Classifier:  XGBClassifier\n",
      "[[2119   66]\n",
      " [   2   50]]\n",
      "\n",
      "TNR: 0.96979\n",
      "TPR: 0.96154\n",
      "TNRxTPR: 0.93249\n",
      "G-mean: 0.96566\n",
      "__________________________________________________\n",
      "Classifier:  BaggingClassifier\n",
      "[[2120   65]\n",
      " [  10   42]]\n",
      "\n",
      "TNR: 0.97025\n",
      "TPR: 0.80769\n",
      "TNRxTPR: 0.78366\n",
      "G-mean: 0.88525\n",
      "__________________________________________________\n",
      "Classifier:  RandomForestClassifier\n",
      "[[2129   56]\n",
      " [   4   48]]\n",
      "\n",
      "TNR: 0.97437\n",
      "TPR: 0.92308\n",
      "TNRxTPR: 0.89942\n",
      "G-mean: 0.94838\n",
      "__________________________________________________\n",
      "Ensemble predictions (majority voting):\n",
      "[[2132   53]\n",
      " [   3   49]]\n",
      "\n",
      "TNR: 0.97574\n",
      "TPR: 0.94231\n",
      "TNRxTPR: 0.91945\n",
      "G-mean: 0.95888\n"
     ]
    }
   ],
   "source": [
    "train_val(X_eq, y_eq, X_test, y_test)"
   ]
  },
  {
   "cell_type": "markdown",
   "metadata": {
    "id": "RydFSMjOoD87"
   },
   "source": [
    "## References  \n",
    "\n",
    "  - Classification with Imbalanced Datasets:  \n",
    "    https://sci2s.ugr.es/imbalanced  \n",
    "  - Computer Vision:  Models, Learning, and Inference (Simon J.D. Prince):  \n",
    "    http://www.computervisionmodels.com/  \n",
    "  - Oversampling with VAEs:  \n",
    "    https://towardsdatascience.com/oversampling-with-vaes-e410887fe51  \n"
   ]
  }
 ],
 "metadata": {
  "colab": {
   "provenance": []
  },
  "gpuClass": "standard",
  "kernelspec": {
   "display_name": "Python 3 (ipykernel)",
   "language": "python",
   "name": "python3"
  },
  "language_info": {
   "codemirror_mode": {
    "name": "ipython",
    "version": 3
   },
   "file_extension": ".py",
   "mimetype": "text/x-python",
   "name": "python",
   "nbconvert_exporter": "python",
   "pygments_lexer": "ipython3",
   "version": "3.9.7"
  }
 },
 "nbformat": 4,
 "nbformat_minor": 1
}
