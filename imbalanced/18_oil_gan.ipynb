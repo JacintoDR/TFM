{
 "cells": [
  {
   "cell_type": "markdown",
   "metadata": {
    "id": "Tg7zYIFPRgzh",
    "papermill": {
     "duration": 0.024568,
     "end_time": "2022-11-29T18:30:45.366138",
     "exception": false,
     "start_time": "2022-11-29T18:30:45.34157",
     "status": "completed"
    },
    "tags": []
   },
   "source": [
    "<a id='table'></a>\n",
    "\n",
    "<div style=\"color:white;display:fill;border-radius:15px;\n",
    "            font-size:150%;background-image: url(https://upload.wikimedia.org/wikipedia/commons/thumb/f/f3/Orion_Nebula_-_Hubble_2006_mosaic_18000.jpg/1200px-Orion_Nebula_-_Hubble_2006_mosaic_18000.jpg);\n",
    "            letter-spacing:1.0px\">\n",
    "    <p style=\"padding: 12px;color:white;\"><b><b><span style='color:#F1A424'> |</span></b> Table of contents</b></p>\n",
    "</div>\n",
    "\n",
    "* [1. Introduction](#Introduction)\n",
    "* [2. Pima Indians Diabetes Database](#Data)\n",
    "* [3. GAN model](#GAN)\n",
    "* [4. Quality assessment](#Quality)\n",
    "* [Conclusion](#Conclusion)\n"
   ]
  },
  {
   "cell_type": "markdown",
   "metadata": {
    "id": "aQgsfYV5QVSi",
    "papermill": {
     "duration": 0.017115,
     "end_time": "2022-11-29T18:30:45.406272",
     "exception": false,
     "start_time": "2022-11-29T18:30:45.389157",
     "status": "completed"
    },
    "tags": []
   },
   "source": [
    "<a id='Introduction'></a>\n",
    "\n",
    "# <b><span style='color:#F1A424'>| 1.</span> Introduction </b>\n",
    "\n",
    "[Table of contents](#table)\n",
    "\n",
    "<div style=\"color:white;display:fill;border-radius:15px;\n",
    "            font-size:150%;background-image: url(https://upload.wikimedia.org/wikipedia/commons/thumb/f/f3/Orion_Nebula_-_Hubble_2006_mosaic_18000.jpg/1200px-Orion_Nebula_-_Hubble_2006_mosaic_18000.jpg);\n",
    "            letter-spacing:1.0px\">\n",
    "    <p style=\"padding: 12px;color:white;\"><b><b><span style='color:#F1A424'> | 1.1. </span></b> About the NoteBook </b></p>\n",
    "</div>\n",
    "\n",
    "[Table of contents](#table)\n",
    "\n",
    "### Generative Adversarial Network\n",
    "A Generative Adversarial Network (GAN) is a type of deep learning architecture composed of two neural networks: a generator and a discriminator. The generator is trained to generate new data samples that are similar to a given set of real data samples, while the discriminator is trained to distinguish between the generated samples and the real samples. The two networks are trained in a competition with each other where the generator tries to produce samples that are indistinguishable from the real samples and the discriminator tries to correctly identify whether a sample is real or generated.\n",
    "\n",
    "### Code\n",
    "In the following NoteBook, the generator is a neural network that takes a random noise vector as input and generates a sample of fake data. The discriminator is another neural network that takes a sample of either real or generated data as input and outputs a scalar indicating the probability that the sample is real. The generator and discriminator are trained together in an adversarial manner, where the generator tries to generate samples that are classified as real by the discriminator, and the discriminator tries to correctly identify whether a sample is real or generated. The generator and discriminator are trained iteratively, alternating between updating the generator and the discriminator, until they reach convergence and the generated samples become indistinguishable from the real samples.\n",
    "\n",
    "https://samanemami.github.io/"
   ]
  },
  {
   "cell_type": "code",
   "execution_count": 1,
   "metadata": {
    "_kg_hide-input": true,
    "_kg_hide-output": false,
    "execution": {
     "iopub.execute_input": "2023-02-02T10:05:36.939558Z",
     "iopub.status.busy": "2023-02-02T10:05:36.939141Z",
     "iopub.status.idle": "2023-02-02T10:05:36.946288Z",
     "shell.execute_reply": "2023-02-02T10:05:36.944988Z",
     "shell.execute_reply.started": "2023-02-02T10:05:36.939516Z"
    },
    "papermill": {
     "duration": 4.053462,
     "end_time": "2022-11-29T18:30:49.473653",
     "exception": false,
     "start_time": "2022-11-29T18:30:45.420191",
     "status": "completed"
    },
    "tags": []
   },
   "outputs": [
    {
     "name": "stderr",
     "output_type": "stream",
     "text": [
      "2023-08-04 15:42:56.594185: W tensorflow/stream_executor/platform/default/dso_loader.cc:64] Could not load dynamic library 'libcudart.so.11.0'; dlerror: libcudart.so.11.0: cannot open shared object file: No such file or directory\n",
      "2023-08-04 15:42:56.594208: I tensorflow/stream_executor/cuda/cudart_stub.cc:29] Ignore above cudart dlerror if you do not have a GPU set up on your machine.\n"
     ]
    }
   ],
   "source": [
    "import os\n",
    "import logging\n",
    "import numpy as np\n",
    "import tensorflow as tf\n",
    "from sklearn.impute import KNNImputer\n",
    "from sklearn.preprocessing import StandardScaler\n",
    "from sklearn.model_selection import train_test_split\n",
    "import matplotlib.pyplot as plt\n",
    "import seaborn as sns\n",
    "import pandas as pd\n",
    "\n",
    "tf.get_logger().setLevel(logging.ERROR)\n"
   ]
  },
  {
   "cell_type": "code",
   "execution_count": 2,
   "metadata": {},
   "outputs": [],
   "source": [
    "from catboost import CatBoostClassifier\n",
    "from lightgbm import LGBMClassifier\n",
    "from xgboost import XGBClassifier\n",
    "from sklearn.ensemble import BaggingClassifier, RandomForestClassifier\n",
    "\n",
    "from sklearn.metrics import confusion_matrix, make_scorer\n",
    "from imblearn.metrics import classification_report_imbalanced, geometric_mean_score\n",
    "from collections import Counter"
   ]
  },
  {
   "cell_type": "markdown",
   "metadata": {},
   "source": [
    "<a id='Data'></a>\n",
    "\n",
    "#  <b><span style='color:#F1A424'>| 2. </span> Tabular Data</b>\n",
    "\n",
    "\n",
    "<div style=\"color:white;display:fill;border-radius:15px;\n",
    "            font-size:150%;background-image: url(https://upload.wikimedia.org/wikipedia/commons/thumb/f/f3/Orion_Nebula_-_Hubble_2006_mosaic_18000.jpg/1200px-Orion_Nebula_-_Hubble_2006_mosaic_18000.jpg);\n",
    "            letter-spacing:1.0px\">\n",
    "    <p style=\"padding: 12px;color:white;\"><b><b><span style='color:#F1A424'> | 2.1. </span></b> Pima Indians Diabetes Database </b></p>\n",
    "</div>\n",
    "\n",
    "[Table of contents](#table)\n",
    "\n"
   ]
  },
  {
   "cell_type": "code",
   "execution_count": 3,
   "metadata": {
    "execution": {
     "iopub.execute_input": "2023-02-02T10:05:36.94884Z",
     "iopub.status.busy": "2023-02-02T10:05:36.948185Z",
     "iopub.status.idle": "2023-02-02T10:05:37.15557Z",
     "shell.execute_reply": "2023-02-02T10:05:37.154685Z",
     "shell.execute_reply.started": "2023-02-02T10:05:36.948801Z"
    }
   },
   "outputs": [],
   "source": [
    "from imblearn.datasets import fetch_datasets\n",
    "\n",
    "dset_name = 'oil'\n",
    "dset = fetch_datasets()[dset_name]\n",
    "\n",
    "\n",
    "def _df(data):\n",
    "    df = pd.DataFrame(data)\n",
    "    for c in range(df.shape[1]):\n",
    "        mapping = {df.columns[c]: c}\n",
    "        df = df.rename(columns=mapping)\n",
    "    return df\n",
    "\n",
    "\n",
    "X, y = StandardScaler().fit_transform(dset.data), dset.target\n",
    "\n",
    "y[y == -1] = 0\n",
    "\n",
    "X_train, X_test, y_train, y_test = train_test_split(X, y, test_size=0.2, random_state=42, stratify=y)"
   ]
  },
  {
   "cell_type": "code",
   "execution_count": 4,
   "metadata": {},
   "outputs": [],
   "source": [
    "X_train_pos = X_train[y_train == 1]"
   ]
  },
  {
   "cell_type": "code",
   "execution_count": 5,
   "metadata": {},
   "outputs": [
    {
     "data": {
      "text/plain": [
       "(749, 49)"
      ]
     },
     "execution_count": 5,
     "metadata": {},
     "output_type": "execute_result"
    }
   ],
   "source": [
    "X_train.shape"
   ]
  },
  {
   "cell_type": "markdown",
   "metadata": {},
   "source": [
    "<a id='GAN'></a>\n",
    "#  <b><span style='color:#F1A424'>| 3. </span> Gan Model</b>\n",
    "\n",
    "<div style=\"color:white;display:fill;border-radius:15px;\n",
    "            font-size:150%;background-image: url(https://upload.wikimedia.org/wikipedia/commons/thumb/f/f3/Orion_Nebula_-_Hubble_2006_mosaic_18000.jpg/1200px-Orion_Nebula_-_Hubble_2006_mosaic_18000.jpg);\n",
    "            letter-spacing:1.0px\">\n",
    "    <p style=\"padding: 12px;color:white;\"><b><b><span style='color:#F1A424'> | 3.1. </span></b> GAN Class\n",
    " </b></p>\n",
    "</div>\n",
    "\n",
    "[Table of contents](#table)\n",
    "\n",
    "#### how to implement a  <b><span style='color:#F1A424'>GAN </span></b> using TensorFlow and generate fake tabular data from real data;\n",
    "\n",
    "\n",
    "* Define the generator model: The generator model is a neural network that takes a random noise vector as input and generates a sample of fake data. In this code, the generator model is defined using the Sequential class from TensorFlow and consists of two dense layers with ReLU activation.\n",
    "\n",
    "* Define the discriminator model: The discriminator model is another neural network that takes a sample of either real or generated data as input and outputs a scalar indicating the probability that the sample is real. In this code, the discriminator model is also defined using the Sequential class from TensorFlow and consists of two dense layers with ReLU activation, followed by a single dense layer with a sigmoid activation.\n",
    "\n",
    "* Define the combined model: The combined model is used to train the generator, and it consists of the generator and the discriminator connected together. The generator model is connected to the discriminator model by setting the discriminator to be non-trainable, which means that the gradients from the discriminator are not used to update its parameters during training.\n",
    "\n",
    "* Load the real data: The code loads the real data from a .csv file using Pandas and converts it to a Numpy array.\n",
    "\n",
    "* Train the GAN: The GAN is trained using a for-loop that trains the discriminator and the generator alternately. In each iteration, the discriminator is trained on a batch of real and generated data using discriminator.train_on_batch(X, labels), where X is a concatenation of real data and generated data, and labels is a vector indicating whether each sample is real or generated. The generator is then trained using the combined.train_on_batch(noise, np.ones(batch_size)) method, where noise is a random noise vector, and np.ones(batch_size) is a vector of ones with the same length as the batch size.\n",
    "\n",
    "* Generate fake samples: After the GAN has been trained, the code generates fake samples by feeding random noise into the generator model using generator.predict(noise).\n",
    "\n",
    "https://samanemami.medium.com/\n"
   ]
  },
  {
   "cell_type": "code",
   "execution_count": 6,
   "metadata": {
    "execution": {
     "iopub.execute_input": "2023-02-02T10:05:37.157997Z",
     "iopub.status.busy": "2023-02-02T10:05:37.1574Z",
     "iopub.status.idle": "2023-02-02T10:05:37.174941Z",
     "shell.execute_reply": "2023-02-02T10:05:37.173746Z",
     "shell.execute_reply.started": "2023-02-02T10:05:37.157944Z"
    }
   },
   "outputs": [],
   "source": [
    "# https://samanemami.github.io/\n",
    "import os\n",
    "import logging\n",
    "import numpy as np\n",
    "import pandas as pd\n",
    "import tensorflow as tf\n",
    "\n",
    "tf.get_logger().setLevel(logging.ERROR)\n",
    "\n",
    "\n",
    "class Gan():\n",
    "\n",
    "    def __init__(self, data):\n",
    "\n",
    "\n",
    "        self.data = data\n",
    "        self.n_epochs = 200\n",
    "\n",
    "    # Genereta random noise in a latent space\n",
    "    def _noise(self):\n",
    "        noise = np.random.normal(0, 1, self.data.shape)\n",
    "        return noise\n",
    "\n",
    "    def _generator(self):\n",
    "        model = tf.keras.Sequential(name=\"Generator_model\")\n",
    "        model.add(tf.keras.layers.Dense(15, activation='relu',\n",
    "                                        kernel_initializer='he_uniform',\n",
    "                                        input_dim=self.data.shape[1]))\n",
    "        model.add(tf.keras.layers.Dense(30, activation='relu'))\n",
    "        model.add(tf.keras.layers.Dense(\n",
    "            self.data.shape[1], activation='linear'))\n",
    "        return model\n",
    "\n",
    "    def _discriminator(self):\n",
    "        model = tf.keras.Sequential(name=\"Discriminator_model\")\n",
    "        model.add(tf.keras.layers.Dense(25, activation='relu',\n",
    "                                        kernel_initializer='he_uniform',\n",
    "                                        input_dim=self.data.shape[1]))\n",
    "        model.add(tf.keras.layers.Dense(50, activation='relu'))\n",
    "        # sigmoid => real or fake\n",
    "        model.add(tf.keras.layers.Dense(1, activation='sigmoid'))\n",
    "        model.compile(loss='binary_crossentropy',\n",
    "                      optimizer='adam',\n",
    "                      metrics=['accuracy'])\n",
    "\n",
    "        return model\n",
    "\n",
    "    # define the combined generator and discriminator model,\n",
    "    # for updating the generator\n",
    "    def _GAN(self, generator, discriminator):\n",
    "        discriminator.trainable = False\n",
    "        generator.trainable = True\n",
    "        model = tf.keras.Sequential(name=\"GAN\")\n",
    "        model.add(generator)\n",
    "        model.add(discriminator)\n",
    "        model.compile(loss='binary_crossentropy', optimizer='adam')\n",
    "        return model\n",
    "\n",
    "    # train the generator and discriminator\n",
    "    def train(self, generator, discriminator, gan):\n",
    "\n",
    "        # determine half the size of one batch, for updating the  discriminator\n",
    "        # manually enumerate epochs\n",
    "        for epoch in range(self.n_epochs):\n",
    "            \n",
    "            # Train the discriminator\n",
    "            generated_data = generator.predict(self._noise())\n",
    "            labels = np.concatenate([np.ones(self.data.shape[0]), np.zeros(self.data.shape[0])])\n",
    "            X = np.concatenate([self.data, generated_data])\n",
    "            discriminator.trainable = True\n",
    "            d_loss , _ = discriminator.train_on_batch(X, labels)\n",
    "\n",
    "            # Train the generator\n",
    "            noise = self._noise()\n",
    "            g_loss = gan.train_on_batch(noise, np.ones(self.data.shape[0]))\n",
    "\n",
    "\n",
    "            print('>%d, d1=%.3f, d2=%.3f' %(epoch+1, d_loss, g_loss))\n",
    "\n",
    "        return generator\n"
   ]
  },
  {
   "cell_type": "markdown",
   "metadata": {},
   "source": [
    "<div style=\"color:white;display:fill;border-radius:15px;\n",
    "            font-size:150%;background-image: url(https://upload.wikimedia.org/wikipedia/commons/thumb/f/f3/Orion_Nebula_-_Hubble_2006_mosaic_18000.jpg/1200px-Orion_Nebula_-_Hubble_2006_mosaic_18000.jpg);\n",
    "            letter-spacing:1.0px\">\n",
    "    <p style=\"padding: 12px;color:white;\"><b><b><span style='color:#F1A424'> | 3.2. </span></b> Generating synthetic data\n",
    " </b></p>\n",
    "</div>"
   ]
  },
  {
   "cell_type": "code",
   "execution_count": 7,
   "metadata": {
    "_kg_hide-output": true,
    "execution": {
     "iopub.execute_input": "2023-02-02T10:05:37.177585Z",
     "iopub.status.busy": "2023-02-02T10:05:37.176615Z"
    }
   },
   "outputs": [
    {
     "name": "stderr",
     "output_type": "stream",
     "text": [
      "2023-08-04 15:43:06.322528: W tensorflow/stream_executor/platform/default/dso_loader.cc:64] Could not load dynamic library 'libcuda.so.1'; dlerror: libcuda.so.1: cannot open shared object file: No such file or directory\n",
      "2023-08-04 15:43:06.322561: W tensorflow/stream_executor/cuda/cuda_driver.cc:269] failed call to cuInit: UNKNOWN ERROR (303)\n",
      "2023-08-04 15:43:06.322591: I tensorflow/stream_executor/cuda/cuda_diagnostics.cc:156] kernel driver does not appear to be running on this host (a-Modern-15-A5M): /proc/driver/nvidia/version does not exist\n",
      "2023-08-04 15:43:06.322927: I tensorflow/core/platform/cpu_feature_guard.cc:151] This TensorFlow binary is optimized with oneAPI Deep Neural Network Library (oneDNN) to use the following CPU instructions in performance-critical operations:  AVX2 FMA\n",
      "To enable them in other operations, rebuild TensorFlow with the appropriate compiler flags.\n"
     ]
    },
    {
     "name": "stdout",
     "output_type": "stream",
     "text": [
      ">1, d1=0.874, d2=0.907\n",
      ">2, d1=0.850, d2=0.861\n",
      ">3, d1=0.819, d2=0.822\n",
      ">4, d1=0.796, d2=0.849\n",
      ">5, d1=0.769, d2=0.811\n",
      ">6, d1=0.749, d2=0.806\n",
      ">7, d1=0.731, d2=0.776\n",
      ">8, d1=0.708, d2=0.781\n",
      ">9, d1=0.688, d2=0.776\n",
      ">10, d1=0.670, d2=0.766\n",
      ">11, d1=0.655, d2=0.720\n",
      ">12, d1=0.641, d2=0.722\n",
      ">13, d1=0.623, d2=0.724\n",
      ">14, d1=0.611, d2=0.689\n",
      ">15, d1=0.590, d2=0.668\n",
      ">16, d1=0.595, d2=0.644\n",
      ">17, d1=0.579, d2=0.679\n",
      ">18, d1=0.599, d2=0.623\n",
      ">19, d1=0.570, d2=0.608\n",
      ">20, d1=0.568, d2=0.612\n",
      ">21, d1=0.565, d2=0.665\n",
      ">22, d1=0.555, d2=0.625\n",
      ">23, d1=0.576, d2=0.598\n",
      ">24, d1=0.568, d2=0.592\n",
      ">25, d1=0.590, d2=0.600\n",
      ">26, d1=0.586, d2=0.571\n",
      ">27, d1=0.536, d2=0.548\n",
      ">28, d1=0.590, d2=0.581\n",
      ">29, d1=0.563, d2=0.539\n",
      ">30, d1=0.555, d2=0.551\n",
      ">31, d1=0.593, d2=0.550\n",
      ">32, d1=0.601, d2=0.564\n",
      ">33, d1=0.576, d2=0.566\n",
      ">34, d1=0.585, d2=0.534\n",
      ">35, d1=0.582, d2=0.513\n",
      ">36, d1=0.591, d2=0.537\n",
      ">37, d1=0.576, d2=0.519\n",
      ">38, d1=0.583, d2=0.578\n",
      ">39, d1=0.556, d2=0.528\n",
      ">40, d1=0.580, d2=0.545\n",
      ">41, d1=0.535, d2=0.589\n",
      ">42, d1=0.553, d2=0.533\n",
      ">43, d1=0.549, d2=0.552\n",
      ">44, d1=0.556, d2=0.592\n",
      ">45, d1=0.550, d2=0.594\n",
      ">46, d1=0.513, d2=0.593\n",
      ">47, d1=0.537, d2=0.590\n",
      ">48, d1=0.538, d2=0.608\n",
      ">49, d1=0.524, d2=0.630\n",
      ">50, d1=0.517, d2=0.652\n",
      ">51, d1=0.501, d2=0.692\n",
      ">52, d1=0.497, d2=0.666\n",
      ">53, d1=0.508, d2=0.678\n",
      ">54, d1=0.465, d2=0.706\n",
      ">55, d1=0.487, d2=0.701\n",
      ">56, d1=0.460, d2=0.760\n",
      ">57, d1=0.470, d2=0.777\n",
      ">58, d1=0.440, d2=0.789\n",
      ">59, d1=0.450, d2=0.769\n",
      ">60, d1=0.421, d2=0.799\n",
      ">61, d1=0.429, d2=0.900\n",
      ">62, d1=0.420, d2=0.820\n",
      ">63, d1=0.418, d2=0.920\n",
      ">64, d1=0.399, d2=0.902\n",
      ">65, d1=0.421, d2=0.935\n",
      ">66, d1=0.393, d2=0.924\n",
      ">67, d1=0.404, d2=0.950\n",
      ">68, d1=0.403, d2=1.022\n",
      ">69, d1=0.418, d2=0.948\n",
      ">70, d1=0.439, d2=0.986\n",
      ">71, d1=0.376, d2=0.957\n",
      ">72, d1=0.411, d2=0.948\n",
      ">73, d1=0.423, d2=1.020\n",
      ">74, d1=0.436, d2=0.986\n",
      ">75, d1=0.418, d2=0.927\n",
      ">76, d1=0.414, d2=0.993\n",
      ">77, d1=0.410, d2=0.904\n",
      ">78, d1=0.439, d2=1.106\n",
      ">79, d1=0.395, d2=0.960\n",
      ">80, d1=0.408, d2=1.087\n",
      ">81, d1=0.389, d2=1.033\n",
      ">82, d1=0.411, d2=1.055\n",
      ">83, d1=0.433, d2=1.061\n",
      ">84, d1=0.423, d2=1.054\n",
      ">85, d1=0.400, d2=1.003\n",
      ">86, d1=0.402, d2=0.944\n",
      ">87, d1=0.411, d2=1.009\n",
      ">88, d1=0.462, d2=0.998\n",
      ">89, d1=0.437, d2=1.006\n",
      ">90, d1=0.427, d2=1.014\n",
      ">91, d1=0.430, d2=0.917\n",
      ">92, d1=0.428, d2=0.966\n",
      ">93, d1=0.417, d2=0.935\n",
      ">94, d1=0.467, d2=0.912\n",
      ">95, d1=0.509, d2=0.820\n",
      ">96, d1=0.483, d2=0.938\n",
      ">97, d1=0.482, d2=1.053\n",
      ">98, d1=0.489, d2=0.920\n",
      ">99, d1=0.527, d2=0.967\n",
      ">100, d1=0.546, d2=0.874\n",
      ">101, d1=0.565, d2=0.894\n",
      ">102, d1=0.571, d2=0.961\n",
      ">103, d1=0.595, d2=1.004\n",
      ">104, d1=0.589, d2=0.902\n",
      ">105, d1=0.543, d2=0.837\n",
      ">106, d1=0.567, d2=0.957\n",
      ">107, d1=0.536, d2=0.948\n",
      ">108, d1=0.574, d2=0.935\n",
      ">109, d1=0.571, d2=0.975\n",
      ">110, d1=0.556, d2=1.023\n",
      ">111, d1=0.541, d2=1.007\n",
      ">112, d1=0.581, d2=0.963\n",
      ">113, d1=0.520, d2=1.043\n",
      ">114, d1=0.499, d2=1.067\n",
      ">115, d1=0.516, d2=1.039\n",
      ">116, d1=0.529, d2=1.096\n",
      ">117, d1=0.479, d2=1.120\n",
      ">118, d1=0.454, d2=1.107\n",
      ">119, d1=0.479, d2=1.231\n",
      ">120, d1=0.470, d2=1.251\n",
      ">121, d1=0.476, d2=1.233\n",
      ">122, d1=0.481, d2=1.099\n",
      ">123, d1=0.462, d2=1.089\n",
      ">124, d1=0.447, d2=1.281\n",
      ">125, d1=0.402, d2=1.180\n",
      ">126, d1=0.447, d2=1.256\n",
      ">127, d1=0.444, d2=1.172\n",
      ">128, d1=0.401, d2=1.101\n",
      ">129, d1=0.438, d2=1.061\n",
      ">130, d1=0.443, d2=0.989\n",
      ">131, d1=0.433, d2=1.047\n",
      ">132, d1=0.456, d2=1.075\n",
      ">133, d1=0.439, d2=1.044\n",
      ">134, d1=0.452, d2=1.146\n",
      ">135, d1=0.476, d2=0.866\n",
      ">136, d1=0.425, d2=1.145\n",
      ">137, d1=0.410, d2=1.122\n",
      ">138, d1=0.475, d2=0.946\n",
      ">139, d1=0.440, d2=0.911\n",
      ">140, d1=0.443, d2=0.873\n",
      ">141, d1=0.493, d2=0.903\n",
      ">142, d1=0.443, d2=0.809\n",
      ">143, d1=0.465, d2=0.887\n",
      ">144, d1=0.480, d2=0.844\n",
      ">145, d1=0.465, d2=0.782\n",
      ">146, d1=0.470, d2=0.827\n",
      ">147, d1=0.453, d2=0.830\n",
      ">148, d1=0.461, d2=0.819\n",
      ">149, d1=0.461, d2=0.792\n",
      ">150, d1=0.442, d2=0.816\n",
      ">151, d1=0.436, d2=0.880\n",
      ">152, d1=0.452, d2=0.912\n",
      ">153, d1=0.436, d2=0.938\n",
      ">154, d1=0.441, d2=0.944\n",
      ">155, d1=0.405, d2=0.891\n",
      ">156, d1=0.379, d2=0.963\n",
      ">157, d1=0.386, d2=0.957\n",
      ">158, d1=0.384, d2=1.014\n",
      ">159, d1=0.393, d2=1.065\n",
      ">160, d1=0.378, d2=1.037\n",
      ">161, d1=0.356, d2=0.985\n",
      ">162, d1=0.349, d2=1.026\n",
      ">163, d1=0.343, d2=1.103\n",
      ">164, d1=0.322, d2=1.106\n",
      ">165, d1=0.315, d2=1.173\n",
      ">166, d1=0.309, d2=1.106\n",
      ">167, d1=0.314, d2=1.185\n",
      ">168, d1=0.304, d2=1.182\n",
      ">169, d1=0.283, d2=1.212\n",
      ">170, d1=0.300, d2=1.162\n",
      ">171, d1=0.278, d2=1.271\n",
      ">172, d1=0.275, d2=1.286\n",
      ">173, d1=0.252, d2=1.315\n",
      ">174, d1=0.258, d2=1.292\n",
      ">175, d1=0.276, d2=1.293\n",
      ">176, d1=0.264, d2=1.410\n",
      ">177, d1=0.314, d2=1.292\n",
      ">178, d1=0.280, d2=1.452\n",
      ">179, d1=0.269, d2=1.397\n",
      ">180, d1=0.256, d2=1.409\n",
      ">181, d1=0.254, d2=1.428\n",
      ">182, d1=0.237, d2=1.437\n",
      ">183, d1=0.256, d2=1.522\n",
      ">184, d1=0.260, d2=1.665\n",
      ">185, d1=0.220, d2=1.564\n",
      ">186, d1=0.238, d2=1.515\n",
      ">187, d1=0.228, d2=1.702\n",
      ">188, d1=0.212, d2=1.837\n",
      ">189, d1=0.211, d2=1.679\n",
      ">190, d1=0.218, d2=1.921\n",
      ">191, d1=0.219, d2=1.910\n",
      ">192, d1=0.249, d2=2.141\n",
      ">193, d1=0.210, d2=2.038\n",
      ">194, d1=0.212, d2=1.873\n",
      ">195, d1=0.207, d2=1.946\n",
      ">196, d1=0.236, d2=1.946\n",
      ">197, d1=0.230, d2=1.935\n",
      ">198, d1=0.209, d2=2.103\n",
      ">199, d1=0.214, d2=2.253\n",
      ">200, d1=0.211, d2=2.121\n"
     ]
    }
   ],
   "source": [
    "model = Gan(data=X_train_pos)\n",
    "generator = model._generator()\n",
    "descriminator = model._discriminator()\n",
    "gan_model = model._GAN(generator=generator, discriminator=descriminator)\n",
    "trained_model = model.train(\n",
    "    generator=generator, discriminator=descriminator, gan=gan_model)"
   ]
  },
  {
   "cell_type": "code",
   "execution_count": 82,
   "metadata": {},
   "outputs": [],
   "source": [
    "# Samples to generate\n",
    "sampling_strategy = .7\n",
    "num_examples = int((Counter(y_train)[0] - Counter(y_train)[1]) * sampling_strategy)"
   ]
  },
  {
   "cell_type": "code",
   "execution_count": 83,
   "metadata": {
    "papermill": {
     "duration": 0.031436,
     "end_time": "2022-11-29T18:30:54.314054",
     "exception": false,
     "start_time": "2022-11-29T18:30:54.282618",
     "status": "completed"
    },
    "tags": []
   },
   "outputs": [],
   "source": [
    "noise = np.random.normal(0, 1, (X_train_pos.shape[0] + num_examples, X_train_pos.shape[1]))\n",
    "new_data = _df(data=trained_model.predict(noise))"
   ]
  },
  {
   "cell_type": "code",
   "execution_count": 84,
   "metadata": {},
   "outputs": [
    {
     "data": {
      "text/plain": [
       "(511, 49)"
      ]
     },
     "execution_count": 84,
     "metadata": {},
     "output_type": "execute_result"
    }
   ],
   "source": [
    "new_data.shape"
   ]
  },
  {
   "cell_type": "markdown",
   "metadata": {},
   "source": [
    "<a id='Quality'></a>\n",
    "\n",
    "# <b><span style='color:#F1A424'>| 4.</span> Quality assessment </b>\n",
    "\n",
    "[Table of contents](#table)\n",
    "\n",
    "<div style=\"color:white;display:fill;border-radius:15px;\n",
    "            font-size:150%;background-image: url(https://upload.wikimedia.org/wikipedia/commons/thumb/f/f3/Orion_Nebula_-_Hubble_2006_mosaic_18000.jpg/1200px-Orion_Nebula_-_Hubble_2006_mosaic_18000.jpg);\n",
    "            letter-spacing:1.0px\">\n",
    "    <p style=\"padding: 12px;color:white;\"><b><b><span style='color:#F1A424'> | 4.1. </span></b> Check the quality of the generated synthetic data\n",
    " </b></p>\n",
    "</div>\n",
    "\n",
    "[Table of contents](#table)\n",
    "\n",
    "Evaluating how well the GAN is able to generate new data that is similar to the data it was trained on. The quality can be evaluated based on various metrics, such as the visual similarity, diversity, and robustness of the generated data. The goal is to determine if the GAN is able to generate high-quality synthetic data.\n",
    "\n",
    "https://samanemami.github.io/"
   ]
  },
  {
   "cell_type": "code",
   "execution_count": 85,
   "metadata": {},
   "outputs": [
    {
     "data": {
      "text/plain": [
       "Text(0.5, 1.0, 'synthetic Data')"
      ]
     },
     "execution_count": 85,
     "metadata": {},
     "output_type": "execute_result"
    },
    {
     "data": {
      "image/png": "[encoded data removed]",
      "text/plain": [
       "<Figure size 1440x432 with 4 Axes>"
      ]
     },
     "metadata": {
      "needs_background": "light"
     },
     "output_type": "display_data"
    }
   ],
   "source": [
    "fig, ax = plt.subplots(1, 2, figsize=(20, 6))\n",
    "sns.heatmap(pd.DataFrame(X_train_pos).corr(), annot=False, ax=ax[0], cmap=\"Blues\")\n",
    "sns.heatmap(new_data.corr(), annot=False, ax=ax[1], cmap=\"Blues\")\n",
    "ax[0].set_title(\"Original Data\")\n",
    "ax[1].set_title(\"synthetic Data\")"
   ]
  },
  {
   "cell_type": "code",
   "execution_count": 86,
   "metadata": {},
   "outputs": [
    {
     "data": {
      "text/plain": [
       "Text(0.5, 1.0, 'synthetic Data')"
      ]
     },
     "execution_count": 86,
     "metadata": {},
     "output_type": "execute_result"
    },
    {
     "data": {
      "image/png": "[encoded data removed]",
      "text/plain": [
       "<Figure size 1440x432 with 2 Axes>"
      ]
     },
     "metadata": {
      "needs_background": "light"
     },
     "output_type": "display_data"
    }
   ],
   "source": [
    "fig, ax = plt.subplots(1, 2, figsize=(20, 6))\n",
    "ax[0].scatter(pd.DataFrame(X_train_pos).iloc[:, 0], pd.DataFrame(X_train_pos).iloc[:, 1])\n",
    "ax[1].scatter(new_data.iloc[:, 0], new_data.iloc[:, 1])\n",
    "ax[0].set_title(\"Original Data\")\n",
    "ax[1].set_title(\"synthetic Data\")"
   ]
  },
  {
   "cell_type": "markdown",
   "metadata": {
    "papermill": {
     "duration": 0.014412,
     "end_time": "2022-11-29T18:31:49.241211",
     "exception": false,
     "start_time": "2022-11-29T18:31:49.226799",
     "status": "completed"
    },
    "tags": []
   },
   "source": [
    "<a id='Conclusion'></a>\n",
    "\n",
    "#  <b><span style='color:#F1A424'>| </span> Conclusion </b>\n",
    "\n",
    "[Table of contents](#table)\n",
    "\n",
    "Generative Adversarial Networks (GANs) are a powerful deep learning architecture that can be used to generate new data samples that are similar to a given set of real data samples. GANs consist of two neural networks: a generator and a discriminator, that are trained in an adversarial manner to produce realistic data. The code I provided is a simple example of how to implement a GAN in TensorFlow and generate fake tabular data from real data."
   ]
  },
  {
   "cell_type": "code",
   "execution_count": 87,
   "metadata": {},
   "outputs": [],
   "source": [
    "# RUS\n",
    "\n",
    "def RUS(X_res, y_res, frac=1, minority_class_id=1, random_state=42):\n",
    "    X_res = pd.DataFrame(X_res)\n",
    "    X_res['Class'] = y_res  \n",
    "    \n",
    "    X_neg = X_res[y_res != minority_class_id].sample(frac=frac, random_state=random_state)\n",
    "    X_pos = X_res[y_res == minority_class_id].sample(frac=1, random_state=random_state)\n",
    "    \n",
    "    X_rus = pd.concat([X_neg, X_pos], ignore_index=True)\n",
    "\n",
    "    X_eq = X_rus.drop('Class', axis=1)\n",
    "    y_eq = X_rus['Class']\n",
    "\n",
    "    return X_eq, y_eq"
   ]
  },
  {
   "cell_type": "code",
   "execution_count": 88,
   "metadata": {},
   "outputs": [],
   "source": [
    "def train_val(X, y, Xt, yt, random_state=42):\n",
    "    classifiers = {\n",
    "        \"CatBoostClassifier\": CatBoostClassifier(verbose=False, random_seed=random_state),\n",
    "        \"LGBMClassifier\": LGBMClassifier(random_state=random_state),\n",
    "        \"XGBClassifier\": XGBClassifier(random_state=random_state),\n",
    "        \"BaggingClassifier\": BaggingClassifier(random_state=random_state),\n",
    "        \"RandomForestClassifier\": RandomForestClassifier(random_state=random_state),\n",
    "    }\n",
    "    scores = []\n",
    "    predictions = []\n",
    "    for key, classifier in classifiers.items():\n",
    "        print('_' * 50)\n",
    "        name = key\n",
    "        classifier.fit(X, y)\n",
    "        print(\"Classifier: \", name)\n",
    "        y_pred = classifier.predict(Xt)\n",
    "        cm = confusion_matrix(yt, y_pred)\n",
    "        print(cm)\n",
    "        print('')\n",
    "        predictions.append(y_pred)\n",
    "        tn = cm[0,0]\n",
    "        fp = cm[0,1]\n",
    "        fn = cm[1,0]\n",
    "        tp = cm[1,1]\n",
    "        tnr = tn / (tn + fp)\n",
    "        tpr = tp / (tp + fn)\n",
    "        scores.append(tnr * tpr)\n",
    "        print('TNR:', round(tnr, 5))\n",
    "        print('TPR:', round(tpr, 5))\n",
    "        print('TNRxTPR:', round(tnr * tpr, 5))\n",
    "        print('G-mean:', round(np.sqrt(tnr * tpr), 5))\n",
    "\n",
    "    print('_' * 50)\n",
    "    print('Ensemble predictions (majority voting):')\n",
    "    predictions = np.sum(predictions, axis=0)\n",
    "    predictions[predictions < 3] = 0\n",
    "    predictions[predictions >= 3] = 1\n",
    "\n",
    "    cm = confusion_matrix(yt, predictions)\n",
    "    print(cm)\n",
    "    tn = cm[0,0]\n",
    "    fp = cm[0,1]\n",
    "    fn = cm[1,0]\n",
    "    tp = cm[1,1]\n",
    "    tnr = tn / (tn + fp)\n",
    "    tpr = tp / (tp + fn)\n",
    "    print('')\n",
    "    print('TNR:', round(tnr, 5))\n",
    "    print('TPR:', round(tpr, 5))\n",
    "    print('TNRxTPR:', round(tnr * tpr, 5))\n",
    "    print('G-mean:', round(np.sqrt(tnr * tpr), 5))\n",
    "    "
   ]
  },
  {
   "cell_type": "code",
   "execution_count": 89,
   "metadata": {},
   "outputs": [],
   "source": [
    "X_res = np.concatenate((X_train, new_data))\n",
    "y_res = np.concatenate((y_train, np.ones(new_data.shape[0])))"
   ]
  },
  {
   "cell_type": "code",
   "execution_count": 90,
   "metadata": {},
   "outputs": [
    {
     "name": "stdout",
     "output_type": "stream",
     "text": [
      "Resampled dataset shape Counter({1.0: 544, 0.0: 47})\n",
      "Ratio->  1 : 11.6\n"
     ]
    }
   ],
   "source": [
    "# RUS\n",
    "\n",
    "X_eq, y_eq = RUS(X_res, y_res, frac=.065)\n",
    "\n",
    "print('Resampled dataset shape %s' % Counter(y_eq))\n",
    "print('Ratio->  1 :', round(Counter(y_eq)[1]/Counter(y_eq)[0], 1))"
   ]
  },
  {
   "cell_type": "code",
   "execution_count": 91,
   "metadata": {},
   "outputs": [
    {
     "name": "stdout",
     "output_type": "stream",
     "text": [
      "__________________________________________________\n",
      "Classifier:  CatBoostClassifier\n",
      "[[151  29]\n",
      " [  2   6]]\n",
      "\n",
      "TNR: 0.83889\n",
      "TPR: 0.75\n",
      "TNRxTPR: 0.62917\n",
      "G-mean: 0.7932\n",
      "__________________________________________________\n",
      "Classifier:  LGBMClassifier\n",
      "[[145  35]\n",
      " [  1   7]]\n",
      "\n",
      "TNR: 0.80556\n",
      "TPR: 0.875\n",
      "TNRxTPR: 0.70486\n",
      "G-mean: 0.83956\n",
      "__________________________________________________\n",
      "Classifier:  XGBClassifier\n",
      "[[141  39]\n",
      " [  2   6]]\n",
      "\n",
      "TNR: 0.78333\n",
      "TPR: 0.75\n",
      "TNRxTPR: 0.5875\n",
      "G-mean: 0.76649\n",
      "__________________________________________________\n",
      "Classifier:  BaggingClassifier\n",
      "[[146  34]\n",
      " [  1   7]]\n",
      "\n",
      "TNR: 0.81111\n",
      "TPR: 0.875\n",
      "TNRxTPR: 0.70972\n",
      "G-mean: 0.84245\n",
      "__________________________________________________\n",
      "Classifier:  RandomForestClassifier\n",
      "[[152  28]\n",
      " [  2   6]]\n",
      "\n",
      "TNR: 0.84444\n",
      "TPR: 0.75\n",
      "TNRxTPR: 0.63333\n",
      "G-mean: 0.79582\n",
      "__________________________________________________\n",
      "Ensemble predictions (majority voting):\n",
      "[[146  34]\n",
      " [  2   6]]\n",
      "\n",
      "TNR: 0.81111\n",
      "TPR: 0.75\n",
      "TNRxTPR: 0.60833\n",
      "G-mean: 0.77996\n"
     ]
    }
   ],
   "source": [
    "train_val(X_eq, y_eq, X_test, y_test)"
   ]
  },
  {
   "cell_type": "code",
   "execution_count": null,
   "metadata": {},
   "outputs": [],
   "source": []
  }
 ],
 "metadata": {
  "kernelspec": {
   "display_name": "Python 3 (ipykernel)",
   "language": "python",
   "name": "python3"
  },
  "language_info": {
   "codemirror_mode": {
    "name": "ipython",
    "version": 3
   },
   "file_extension": ".py",
   "mimetype": "text/x-python",
   "name": "python",
   "nbconvert_exporter": "python",
   "pygments_lexer": "ipython3",
   "version": "3.9.7"
  }
 },
 "nbformat": 4,
 "nbformat_minor": 4
}
