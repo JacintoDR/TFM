{
 "cells": [
  {
   "cell_type": "markdown",
   "metadata": {
    "id": "qLO_siFYEPSg"
   },
   "source": [
    "# Dealing with imbalanced datasets, combining oversampling with VAE and undersampling to improve model recognition over all classes.  "
   ]
  },
  {
   "cell_type": "code",
   "execution_count": 1,
   "metadata": {
    "colab": {
     "base_uri": "https://localhost:8080/"
    },
    "executionInfo": {
     "elapsed": 23814,
     "status": "ok",
     "timestamp": 1689023423323,
     "user": {
      "displayName": "JACINTO DOMINGUEZ RULL",
      "userId": "04779779024889038949"
     },
     "user_tz": -120
    },
    "id": "4_CcHvHZUwyO",
    "outputId": "e56784b2-0daf-4d75-9063-cb960f0b7908"
   },
   "outputs": [
    {
     "name": "stdout",
     "output_type": "stream",
     "text": [
      "Collecting catboost\n",
      "  Downloading catboost-1.2-cp310-cp310-manylinux2014_x86_64.whl (98.6 MB)\n",
      "\u001b[2K     \u001b[90m━━━━━━━━━━━━━━━━━━━━━━━━━━━━━━━━━━━━━━━━\u001b[0m \u001b[32m98.6/98.6 MB\u001b[0m \u001b[31m2.6 MB/s\u001b[0m eta \u001b[36m0:00:00\u001b[0m\n",
      "\u001b[?25hRequirement already satisfied: graphviz in /usr/local/lib/python3.10/dist-packages (from catboost) (0.20.1)\n",
      "Requirement already satisfied: matplotlib in /usr/local/lib/python3.10/dist-packages (from catboost) (3.7.1)\n",
      "Requirement already satisfied: numpy>=1.16.0 in /usr/local/lib/python3.10/dist-packages (from catboost) (1.22.4)\n",
      "Requirement already satisfied: pandas>=0.24 in /usr/local/lib/python3.10/dist-packages (from catboost) (1.5.3)\n",
      "Requirement already satisfied: scipy in /usr/local/lib/python3.10/dist-packages (from catboost) (1.10.1)\n",
      "Requirement already satisfied: plotly in /usr/local/lib/python3.10/dist-packages (from catboost) (5.13.1)\n",
      "Requirement already satisfied: six in /usr/local/lib/python3.10/dist-packages (from catboost) (1.16.0)\n",
      "Requirement already satisfied: python-dateutil>=2.8.1 in /usr/local/lib/python3.10/dist-packages (from pandas>=0.24->catboost) (2.8.2)\n",
      "Requirement already satisfied: pytz>=2020.1 in /usr/local/lib/python3.10/dist-packages (from pandas>=0.24->catboost) (2022.7.1)\n",
      "Requirement already satisfied: contourpy>=1.0.1 in /usr/local/lib/python3.10/dist-packages (from matplotlib->catboost) (1.1.0)\n",
      "Requirement already satisfied: cycler>=0.10 in /usr/local/lib/python3.10/dist-packages (from matplotlib->catboost) (0.11.0)\n",
      "Requirement already satisfied: fonttools>=4.22.0 in /usr/local/lib/python3.10/dist-packages (from matplotlib->catboost) (4.40.0)\n",
      "Requirement already satisfied: kiwisolver>=1.0.1 in /usr/local/lib/python3.10/dist-packages (from matplotlib->catboost) (1.4.4)\n",
      "Requirement already satisfied: packaging>=20.0 in /usr/local/lib/python3.10/dist-packages (from matplotlib->catboost) (23.1)\n",
      "Requirement already satisfied: pillow>=6.2.0 in /usr/local/lib/python3.10/dist-packages (from matplotlib->catboost) (8.4.0)\n",
      "Requirement already satisfied: pyparsing>=2.3.1 in /usr/local/lib/python3.10/dist-packages (from matplotlib->catboost) (3.1.0)\n",
      "Requirement already satisfied: tenacity>=6.2.0 in /usr/local/lib/python3.10/dist-packages (from plotly->catboost) (8.2.2)\n",
      "Installing collected packages: catboost\n",
      "Successfully installed catboost-1.2\n"
     ]
    }
   ],
   "source": [
    "!pip install catboost"
   ]
  },
  {
   "cell_type": "markdown",
   "metadata": {
    "id": "IOzC3QPArH_F"
   },
   "source": [
    "Import packages, classifiers and etc."
   ]
  },
  {
   "cell_type": "code",
   "execution_count": 2,
   "metadata": {
    "_cell_guid": "b1076dfc-b9ad-4769-8c92-a6c4dae69d19",
    "_uuid": "8f2839f25d086af736a60e9eeb907d3b93b6e0e5",
    "executionInfo": {
     "elapsed": 3090,
     "status": "ok",
     "timestamp": 1689023429426,
     "user": {
      "displayName": "JACINTO DOMINGUEZ RULL",
      "userId": "04779779024889038949"
     },
     "user_tz": -120
    },
    "id": "GDNB_c5RrH_I"
   },
   "outputs": [],
   "source": [
    "import pandas as pd\n",
    "import numpy as np\n",
    "\n",
    "from sklearn.preprocessing import StandardScaler\n",
    "from sklearn.model_selection import train_test_split, cross_validate\n",
    "\n",
    "from catboost import CatBoostClassifier\n",
    "from lightgbm import LGBMClassifier\n",
    "from xgboost import XGBClassifier\n",
    "from sklearn.ensemble import BaggingClassifier, RandomForestClassifier\n",
    "\n",
    "from sklearn.metrics import confusion_matrix, make_scorer\n",
    "from imblearn.metrics import classification_report_imbalanced, geometric_mean_score\n",
    "from collections import Counter\n",
    "\n",
    "from imblearn.over_sampling import SMOTE, RandomOverSampler"
   ]
  },
  {
   "cell_type": "markdown",
   "metadata": {
    "id": "7qxBXk4fPiJx"
   },
   "source": [
    "Import VAEOversampler."
   ]
  },
  {
   "cell_type": "code",
   "execution_count": 3,
   "metadata": {
    "executionInfo": {
     "elapsed": 6820,
     "status": "ok",
     "timestamp": 1689023436238,
     "user": {
      "displayName": "JACINTO DOMINGUEZ RULL",
      "userId": "04779779024889038949"
     },
     "user_tz": -120
    },
    "id": "DqyRUyWlvryO"
   },
   "outputs": [],
   "source": [
    "from VAEOversampler import VAEOversampler"
   ]
  },
  {
   "cell_type": "markdown",
   "metadata": {
    "id": "8UEMO2hTPztj"
   },
   "source": [
    "## Loading data  \n",
    "You can load some dataset from Imbalanced Learn list (https://imbalanced-learn.org/stable/datasets/index.html) or use your own data.  \n"
   ]
  },
  {
   "cell_type": "code",
   "execution_count": 4,
   "metadata": {
    "executionInfo": {
     "elapsed": 168344,
     "status": "ok",
     "timestamp": 1689023604575,
     "user": {
      "displayName": "JACINTO DOMINGUEZ RULL",
      "userId": "04779779024889038949"
     },
     "user_tz": -120
    },
    "id": "Xnh_x70FwVCi"
   },
   "outputs": [],
   "source": [
    "from imblearn.datasets import fetch_datasets\n",
    "\n",
    "dset_name = 'arrhythmia'\n",
    "dset = fetch_datasets()[dset_name]\n",
    "\n",
    "X, y = StandardScaler().fit_transform(dset.data), dset.target"
   ]
  },
  {
   "cell_type": "code",
   "execution_count": 5,
   "metadata": {
    "colab": {
     "base_uri": "https://localhost:8080/"
    },
    "executionInfo": {
     "elapsed": 17,
     "status": "ok",
     "timestamp": 1689023604576,
     "user": {
      "displayName": "JACINTO DOMINGUEZ RULL",
      "userId": "04779779024889038949"
     },
     "user_tz": -120
    },
    "id": "v_SUvgVSByCD",
    "outputId": "acd78870-236b-49c1-854e-7cd4c22c66fa"
   },
   "outputs": [
    {
     "data": {
      "text/plain": [
       "array([[ 1.73443926, -1.1075202 ,  0.64132669, ...,  1.17773685,\n",
       "         0.29460309,  1.07867028],\n",
       "       [ 0.57931213,  0.90291807, -0.03199781, ...,  0.61612582,\n",
       "         0.0796127 ,  0.50487408],\n",
       "       [ 0.4577198 , -1.1075202 ,  0.15653305, ...,  1.52874375,\n",
       "        -0.52087767,  1.0570176 ],\n",
       "       ...,\n",
       "       [-0.63661117, -1.1075202 , -0.00506483, ..., -0.15608935,\n",
       "        -4.7094834 , -3.3926096 ],\n",
       "       [-0.87979583,  0.90291807, -0.30132761, ...,  0.82672996,\n",
       "         0.42063193,  0.92710147],\n",
       "       [ 1.91682776,  0.90291807, -0.16666271, ...,  0.26511892,\n",
       "         0.14633386,  0.18008377]])"
      ]
     },
     "execution_count": 5,
     "metadata": {},
     "output_type": "execute_result"
    }
   ],
   "source": [
    "X"
   ]
  },
  {
   "cell_type": "code",
   "execution_count": 6,
   "metadata": {
    "executionInfo": {
     "elapsed": 9,
     "status": "ok",
     "timestamp": 1689023604577,
     "user": {
      "displayName": "JACINTO DOMINGUEZ RULL",
      "userId": "04779779024889038949"
     },
     "user_tz": -120
    },
    "id": "Tb09lFMxPS2J"
   },
   "outputs": [],
   "source": [
    "y[y == -1] = 0"
   ]
  },
  {
   "cell_type": "markdown",
   "metadata": {
    "id": "hpLA_GmKSJwN"
   },
   "source": [
    "We split data into train and test partitions."
   ]
  },
  {
   "cell_type": "code",
   "execution_count": 7,
   "metadata": {
    "executionInfo": {
     "elapsed": 7,
     "status": "ok",
     "timestamp": 1689023604577,
     "user": {
      "displayName": "JACINTO DOMINGUEZ RULL",
      "userId": "04779779024889038949"
     },
     "user_tz": -120
    },
    "id": "ZS-Dd0R9GbBY"
   },
   "outputs": [],
   "source": [
    "X_train, X_test, y_train, y_test = train_test_split(X, y, test_size=0.2, random_state=42, stratify=y)"
   ]
  },
  {
   "cell_type": "markdown",
   "metadata": {
    "id": "Em7Um0N4rH_S"
   },
   "source": [
    "This is a simple function to undersample freely.  "
   ]
  },
  {
   "cell_type": "code",
   "execution_count": 8,
   "metadata": {
    "executionInfo": {
     "elapsed": 447,
     "status": "ok",
     "timestamp": 1689023623763,
     "user": {
      "displayName": "JACINTO DOMINGUEZ RULL",
      "userId": "04779779024889038949"
     },
     "user_tz": -120
    },
    "id": "1cdWcXE3Ofok"
   },
   "outputs": [],
   "source": [
    "# RUS\n",
    "\n",
    "def RUS(X_res, y_res, frac=1, minority_class_id=1, random_state=42):\n",
    "    X_res = pd.DataFrame(X_res)\n",
    "    X_res['Class'] = y_res\n",
    "\n",
    "    X_neg = X_res[y_res != minority_class_id].sample(frac=frac, random_state=random_state)\n",
    "    X_pos = X_res[y_res == minority_class_id].sample(frac=1, random_state=random_state)\n",
    "\n",
    "    X_rus = pd.concat([X_neg, X_pos], ignore_index=True)\n",
    "\n",
    "    X_eq = X_rus.drop('Class', axis=1)\n",
    "    y_eq = X_rus['Class']\n",
    "\n",
    "    return X_eq, y_eq"
   ]
  },
  {
   "cell_type": "code",
   "execution_count": 9,
   "metadata": {
    "executionInfo": {
     "elapsed": 3,
     "status": "ok",
     "timestamp": 1689023624655,
     "user": {
      "displayName": "JACINTO DOMINGUEZ RULL",
      "userId": "04779779024889038949"
     },
     "user_tz": -120
    },
    "id": "1Ep1nUMCES98"
   },
   "outputs": [],
   "source": [
    "def train_val(X, y, Xt, yt, random_state=42):\n",
    "    classifiers = {\n",
    "        \"CatBoostClassifier\": CatBoostClassifier(verbose=False, random_seed=random_state),\n",
    "        \"LGBMClassifier\": LGBMClassifier(random_state=random_state),\n",
    "        \"XGBClassifier\": XGBClassifier(random_state=random_state),\n",
    "        \"BaggingClassifier\": BaggingClassifier(random_state=random_state),\n",
    "        \"RandomForestClassifier\": RandomForestClassifier(random_state=random_state),\n",
    "    }\n",
    "    scores = []\n",
    "    predictions = []\n",
    "    for key, classifier in classifiers.items():\n",
    "        print('_' * 50)\n",
    "        name = key\n",
    "        classifier.fit(X, y)\n",
    "        print(\"Classifier: \", name)\n",
    "        y_pred = classifier.predict(Xt)\n",
    "        cm = confusion_matrix(yt, y_pred)\n",
    "        print(cm)\n",
    "        print('')\n",
    "        predictions.append(y_pred)\n",
    "        tn = cm[0,0]\n",
    "        fp = cm[0,1]\n",
    "        fn = cm[1,0]\n",
    "        tp = cm[1,1]\n",
    "        tnr = tn / (tn + fp)\n",
    "        tpr = tp / (tp + fn)\n",
    "        scores.append(tnr * tpr)\n",
    "        print('TNR:', round(tnr, 5))\n",
    "        print('TPR:', round(tpr, 5))\n",
    "        print('TNRxTPR:', round(tnr * tpr, 5))\n",
    "        print('G-mean:', round(np.sqrt(tnr * tpr), 5))\n",
    "\n",
    "    print('_' * 50)\n",
    "    print('Ensemble predictions (majority voting):')\n",
    "    predictions = np.sum(predictions, axis=0)\n",
    "    predictions[predictions < 3] = 0\n",
    "    predictions[predictions >= 3] = 1\n",
    "\n",
    "    cm = confusion_matrix(yt, predictions)\n",
    "    print(cm)\n",
    "    tn = cm[0,0]\n",
    "    fp = cm[0,1]\n",
    "    fn = cm[1,0]\n",
    "    tp = cm[1,1]\n",
    "    tnr = tn / (tn + fp)\n",
    "    tpr = tp / (tp + fn)\n",
    "    print('')\n",
    "    print('TNR:', round(tnr, 5))\n",
    "    print('TPR:', round(tpr, 5))\n",
    "    print('TNRxTPR:', round(tnr * tpr, 5))\n",
    "    print('G-mean:', round(np.sqrt(tnr * tpr), 5))\n"
   ]
  },
  {
   "cell_type": "markdown",
   "metadata": {
    "id": "A-n86Yaxbcji"
   },
   "source": [
    "## Without resampling (base line)\n",
    "Which is starting score?\n"
   ]
  },
  {
   "cell_type": "code",
   "execution_count": 10,
   "metadata": {
    "colab": {
     "base_uri": "https://localhost:8080/"
    },
    "executionInfo": {
     "elapsed": 6,
     "status": "ok",
     "timestamp": 1689023625194,
     "user": {
      "displayName": "JACINTO DOMINGUEZ RULL",
      "userId": "04779779024889038949"
     },
     "user_tz": -120
    },
    "id": "dW6YYJZ_bcjj",
    "outputId": "c3bf1b25-383c-4226-84c5-bb4091e49608"
   },
   "outputs": [
    {
     "name": "stdout",
     "output_type": "stream",
     "text": [
      "Original dataset shape Counter({0: 427, 1: 25})\n",
      "Ratio-> 17.1 : 1\n"
     ]
    }
   ],
   "source": [
    "print('Original dataset shape %s' % Counter(y))\n",
    "print('Ratio->', round(Counter(y)[0]/Counter(y)[1], 1), ': 1')"
   ]
  },
  {
   "cell_type": "code",
   "execution_count": 11,
   "metadata": {
    "colab": {
     "base_uri": "https://localhost:8080/"
    },
    "executionInfo": {
     "elapsed": 17818,
     "status": "ok",
     "timestamp": 1689023643687,
     "user": {
      "displayName": "JACINTO DOMINGUEZ RULL",
      "userId": "04779779024889038949"
     },
     "user_tz": -120
    },
    "id": "bSSkbO1qbcjj",
    "outputId": "a5f93147-5779-4d6e-c2ac-bed920adae66"
   },
   "outputs": [
    {
     "name": "stdout",
     "output_type": "stream",
     "text": [
      "__________________________________________________\n",
      "Classifier:  CatBoostClassifier\n",
      "[[86  0]\n",
      " [ 1  4]]\n",
      "\n",
      "TNR: 1.0\n",
      "TPR: 0.8\n",
      "TNRxTPR: 0.8\n",
      "G-mean: 0.89443\n",
      "__________________________________________________\n",
      "Classifier:  LGBMClassifier\n",
      "[[86  0]\n",
      " [ 3  2]]\n",
      "\n",
      "TNR: 1.0\n",
      "TPR: 0.4\n",
      "TNRxTPR: 0.4\n",
      "G-mean: 0.63246\n",
      "__________________________________________________\n",
      "Classifier:  XGBClassifier\n",
      "[[86  0]\n",
      " [ 2  3]]\n",
      "\n",
      "TNR: 1.0\n",
      "TPR: 0.6\n",
      "TNRxTPR: 0.6\n",
      "G-mean: 0.7746\n",
      "__________________________________________________\n",
      "Classifier:  BaggingClassifier\n",
      "[[86  0]\n",
      " [ 2  3]]\n",
      "\n",
      "TNR: 1.0\n",
      "TPR: 0.6\n",
      "TNRxTPR: 0.6\n",
      "G-mean: 0.7746\n",
      "__________________________________________________\n",
      "Classifier:  RandomForestClassifier\n",
      "[[86  0]\n",
      " [ 5  0]]\n",
      "\n",
      "TNR: 1.0\n",
      "TPR: 0.0\n",
      "TNRxTPR: 0.0\n",
      "G-mean: 0.0\n",
      "__________________________________________________\n",
      "Ensemble predictions (majority voting):\n",
      "[[86  0]\n",
      " [ 2  3]]\n",
      "\n",
      "TNR: 1.0\n",
      "TPR: 0.6\n",
      "TNRxTPR: 0.6\n",
      "G-mean: 0.7746\n"
     ]
    }
   ],
   "source": [
    "train_val(X_train, y_train, X_test, y_test)"
   ]
  },
  {
   "cell_type": "markdown",
   "metadata": {
    "id": "jcCxQq6-Uvyr"
   },
   "source": [
    "## Ratio 1:1  \n",
    "Let's see classifiers scores when dataset is balanced.  \n"
   ]
  },
  {
   "cell_type": "code",
   "execution_count": 12,
   "metadata": {
    "executionInfo": {
     "elapsed": 428,
     "status": "ok",
     "timestamp": 1689023668490,
     "user": {
      "displayName": "JACINTO DOMINGUEZ RULL",
      "userId": "04779779024889038949"
     },
     "user_tz": -120
    },
    "id": "BHJ2B9Cx_nsc"
   },
   "outputs": [],
   "source": [
    "# SMOTE\n",
    "\n",
    "sm = SMOTE(random_state=42, sampling_strategy=1) # N_rm / N_M\n",
    "X_res, y_res = sm.fit_resample(X_train, y_train)"
   ]
  },
  {
   "cell_type": "code",
   "execution_count": 13,
   "metadata": {
    "colab": {
     "base_uri": "https://localhost:8080/"
    },
    "executionInfo": {
     "elapsed": 6,
     "status": "ok",
     "timestamp": 1689023669916,
     "user": {
      "displayName": "JACINTO DOMINGUEZ RULL",
      "userId": "04779779024889038949"
     },
     "user_tz": -120
    },
    "id": "6U0Byc1lUvys",
    "outputId": "26f87016-2009-4af8-ce48-63a75f19371a"
   },
   "outputs": [
    {
     "name": "stdout",
     "output_type": "stream",
     "text": [
      "Resampled dataset shape Counter({0: 341, 1: 341})\n",
      "Ratio->  1 : 1.0\n"
     ]
    }
   ],
   "source": [
    "print('Resampled dataset shape %s' % Counter(y_res))\n",
    "print('Ratio->  1 :', round(Counter(y_res)[1]/Counter(y_res)[0], 1))"
   ]
  },
  {
   "cell_type": "code",
   "execution_count": 14,
   "metadata": {
    "colab": {
     "base_uri": "https://localhost:8080/"
    },
    "executionInfo": {
     "elapsed": 47516,
     "status": "ok",
     "timestamp": 1689023718732,
     "user": {
      "displayName": "JACINTO DOMINGUEZ RULL",
      "userId": "04779779024889038949"
     },
     "user_tz": -120
    },
    "id": "CMGEySDMpTdx",
    "outputId": "5ed7175b-e64f-4b3d-8fe4-af63d08cf0f4",
    "scrolled": false
   },
   "outputs": [
    {
     "name": "stdout",
     "output_type": "stream",
     "text": [
      "__________________________________________________\n",
      "Classifier:  CatBoostClassifier\n",
      "[[86  0]\n",
      " [ 0  5]]\n",
      "\n",
      "TNR: 1.0\n",
      "TPR: 1.0\n",
      "TNRxTPR: 1.0\n",
      "G-mean: 1.0\n",
      "__________________________________________________\n",
      "Classifier:  LGBMClassifier\n",
      "[[86  0]\n",
      " [ 1  4]]\n",
      "\n",
      "TNR: 1.0\n",
      "TPR: 0.8\n",
      "TNRxTPR: 0.8\n",
      "G-mean: 0.89443\n",
      "__________________________________________________\n",
      "Classifier:  XGBClassifier\n",
      "[[86  0]\n",
      " [ 1  4]]\n",
      "\n",
      "TNR: 1.0\n",
      "TPR: 0.8\n",
      "TNRxTPR: 0.8\n",
      "G-mean: 0.89443\n",
      "__________________________________________________\n",
      "Classifier:  BaggingClassifier\n",
      "[[86  0]\n",
      " [ 1  4]]\n",
      "\n",
      "TNR: 1.0\n",
      "TPR: 0.8\n",
      "TNRxTPR: 0.8\n",
      "G-mean: 0.89443\n",
      "__________________________________________________\n",
      "Classifier:  RandomForestClassifier\n",
      "[[86  0]\n",
      " [ 4  1]]\n",
      "\n",
      "TNR: 1.0\n",
      "TPR: 0.2\n",
      "TNRxTPR: 0.2\n",
      "G-mean: 0.44721\n",
      "__________________________________________________\n",
      "Ensemble predictions (majority voting):\n",
      "[[86  0]\n",
      " [ 1  4]]\n",
      "\n",
      "TNR: 1.0\n",
      "TPR: 0.8\n",
      "TNRxTPR: 0.8\n",
      "G-mean: 0.89443\n"
     ]
    }
   ],
   "source": [
    "train_val(X_res, y_res, X_test, y_test)"
   ]
  },
  {
   "cell_type": "code",
   "execution_count": 15,
   "metadata": {
    "executionInfo": {
     "elapsed": 360,
     "status": "ok",
     "timestamp": 1689023726109,
     "user": {
      "displayName": "JACINTO DOMINGUEZ RULL",
      "userId": "04779779024889038949"
     },
     "user_tz": -120
    },
    "id": "hiRVkg2eUx0U"
   },
   "outputs": [],
   "source": [
    "# ROS\n",
    "\n",
    "ros = RandomOverSampler(random_state=42, sampling_strategy=1) # N_rm / N_M\n",
    "X_res, y_res = ros.fit_resample(X_train, y_train)"
   ]
  },
  {
   "cell_type": "code",
   "execution_count": 16,
   "metadata": {
    "colab": {
     "base_uri": "https://localhost:8080/"
    },
    "executionInfo": {
     "elapsed": 5,
     "status": "ok",
     "timestamp": 1689023726915,
     "user": {
      "displayName": "JACINTO DOMINGUEZ RULL",
      "userId": "04779779024889038949"
     },
     "user_tz": -120
    },
    "id": "7igPUXNbUvyu",
    "outputId": "a373ae41-b709-45d8-94f3-4035365d66a7"
   },
   "outputs": [
    {
     "name": "stdout",
     "output_type": "stream",
     "text": [
      "Resampled dataset shape Counter({0: 341, 1: 341})\n",
      "Ratio->  1 : 1.0\n"
     ]
    }
   ],
   "source": [
    "print('Resampled dataset shape %s' % Counter(y_res))\n",
    "print('Ratio->  1 :', round(Counter(y_res)[1]/Counter(y_res)[0], 1))"
   ]
  },
  {
   "cell_type": "code",
   "execution_count": 17,
   "metadata": {
    "colab": {
     "base_uri": "https://localhost:8080/"
    },
    "executionInfo": {
     "elapsed": 19024,
     "status": "ok",
     "timestamp": 1689023747253,
     "user": {
      "displayName": "JACINTO DOMINGUEZ RULL",
      "userId": "04779779024889038949"
     },
     "user_tz": -120
    },
    "id": "IMANwdwxUx0b",
    "outputId": "2a602432-e27f-4d03-a618-7b9cffb6ca44",
    "scrolled": false
   },
   "outputs": [
    {
     "name": "stdout",
     "output_type": "stream",
     "text": [
      "__________________________________________________\n",
      "Classifier:  CatBoostClassifier\n",
      "[[86  0]\n",
      " [ 0  5]]\n",
      "\n",
      "TNR: 1.0\n",
      "TPR: 1.0\n",
      "TNRxTPR: 1.0\n",
      "G-mean: 1.0\n",
      "__________________________________________________\n",
      "Classifier:  LGBMClassifier\n",
      "[[86  0]\n",
      " [ 3  2]]\n",
      "\n",
      "TNR: 1.0\n",
      "TPR: 0.4\n",
      "TNRxTPR: 0.4\n",
      "G-mean: 0.63246\n",
      "__________________________________________________\n",
      "Classifier:  XGBClassifier\n",
      "[[86  0]\n",
      " [ 0  5]]\n",
      "\n",
      "TNR: 1.0\n",
      "TPR: 1.0\n",
      "TNRxTPR: 1.0\n",
      "G-mean: 1.0\n",
      "__________________________________________________\n",
      "Classifier:  BaggingClassifier\n",
      "[[84  2]\n",
      " [ 1  4]]\n",
      "\n",
      "TNR: 0.97674\n",
      "TPR: 0.8\n",
      "TNRxTPR: 0.7814\n",
      "G-mean: 0.88397\n",
      "__________________________________________________\n",
      "Classifier:  RandomForestClassifier\n",
      "[[86  0]\n",
      " [ 4  1]]\n",
      "\n",
      "TNR: 1.0\n",
      "TPR: 0.2\n",
      "TNRxTPR: 0.2\n",
      "G-mean: 0.44721\n",
      "__________________________________________________\n",
      "Ensemble predictions (majority voting):\n",
      "[[86  0]\n",
      " [ 0  5]]\n",
      "\n",
      "TNR: 1.0\n",
      "TPR: 1.0\n",
      "TNRxTPR: 1.0\n",
      "G-mean: 1.0\n"
     ]
    }
   ],
   "source": [
    "train_val(X_res, y_res, X_test, y_test)"
   ]
  },
  {
   "cell_type": "code",
   "execution_count": 18,
   "metadata": {
    "colab": {
     "base_uri": "https://localhost:8080/"
    },
    "executionInfo": {
     "elapsed": 43239,
     "status": "ok",
     "timestamp": 1689023893512,
     "user": {
      "displayName": "JACINTO DOMINGUEZ RULL",
      "userId": "04779779024889038949"
     },
     "user_tz": -120
    },
    "id": "B065rYa3wO-o",
    "outputId": "d91df276-0d85-41a7-d086-b481bdc393aa"
   },
   "outputs": [
    {
     "name": "stdout",
     "output_type": "stream",
     "text": [
      "11/11 [==============================] - 0s 2ms/step\n"
     ]
    }
   ],
   "source": [
    "# VAEOversampler\n",
    "\n",
    "vae_sampler = VAEOversampler(epochs=500,\n",
    "                              intermediate_dim=512,\n",
    "                              batch_size=64,\n",
    "                              random_state=42,\n",
    "                              verbose=False)\n",
    "X_res, y_res = vae_sampler.fit_resample(X_train, y_train)"
   ]
  },
  {
   "cell_type": "code",
   "execution_count": 19,
   "metadata": {
    "colab": {
     "base_uri": "https://localhost:8080/"
    },
    "executionInfo": {
     "elapsed": 13,
     "status": "ok",
     "timestamp": 1689023893514,
     "user": {
      "displayName": "JACINTO DOMINGUEZ RULL",
      "userId": "04779779024889038949"
     },
     "user_tz": -120
    },
    "id": "nOsNattyeSXh",
    "outputId": "949b7cc6-155e-4aee-c2b4-f43d51a8ddea"
   },
   "outputs": [
    {
     "name": "stdout",
     "output_type": "stream",
     "text": [
      "Resampled dataset shape Counter({0.0: 341, 1.0: 341})\n",
      "Ratio->  1 : 1.0\n"
     ]
    }
   ],
   "source": [
    "print('Resampled dataset shape %s' % Counter(y_res))\n",
    "print('Ratio->  1 :', round(Counter(y_res)[1]/Counter(y_res)[0], 1))"
   ]
  },
  {
   "cell_type": "code",
   "execution_count": 20,
   "metadata": {
    "colab": {
     "base_uri": "https://localhost:8080/"
    },
    "executionInfo": {
     "elapsed": 79521,
     "status": "ok",
     "timestamp": 1689023973030,
     "user": {
      "displayName": "JACINTO DOMINGUEZ RULL",
      "userId": "04779779024889038949"
     },
     "user_tz": -120
    },
    "id": "6BNffQSbwO-t",
    "outputId": "43f16cd7-ca70-47a1-98d3-3ce629bc269c"
   },
   "outputs": [
    {
     "name": "stdout",
     "output_type": "stream",
     "text": [
      "__________________________________________________\n",
      "Classifier:  CatBoostClassifier\n",
      "[[86  0]\n",
      " [ 2  3]]\n",
      "\n",
      "TNR: 1.0\n",
      "TPR: 0.6\n",
      "TNRxTPR: 0.6\n",
      "G-mean: 0.7746\n",
      "__________________________________________________\n",
      "Classifier:  LGBMClassifier\n",
      "[[86  0]\n",
      " [ 3  2]]\n",
      "\n",
      "TNR: 1.0\n",
      "TPR: 0.4\n",
      "TNRxTPR: 0.4\n",
      "G-mean: 0.63246\n",
      "__________________________________________________\n",
      "Classifier:  XGBClassifier\n",
      "[[86  0]\n",
      " [ 2  3]]\n",
      "\n",
      "TNR: 1.0\n",
      "TPR: 0.6\n",
      "TNRxTPR: 0.6\n",
      "G-mean: 0.7746\n",
      "__________________________________________________\n",
      "Classifier:  BaggingClassifier\n",
      "[[86  0]\n",
      " [ 2  3]]\n",
      "\n",
      "TNR: 1.0\n",
      "TPR: 0.6\n",
      "TNRxTPR: 0.6\n",
      "G-mean: 0.7746\n",
      "__________________________________________________\n",
      "Classifier:  RandomForestClassifier\n",
      "[[86  0]\n",
      " [ 5  0]]\n",
      "\n",
      "TNR: 1.0\n",
      "TPR: 0.0\n",
      "TNRxTPR: 0.0\n",
      "G-mean: 0.0\n",
      "__________________________________________________\n",
      "Ensemble predictions (majority voting):\n",
      "[[86  0]\n",
      " [ 3  2]]\n",
      "\n",
      "TNR: 1.0\n",
      "TPR: 0.4\n",
      "TNRxTPR: 0.4\n",
      "G-mean: 0.63246\n"
     ]
    }
   ],
   "source": [
    "train_val(X_res, y_res, X_test, y_test)"
   ]
  },
  {
   "cell_type": "markdown",
   "metadata": {
    "id": "w9swp8C1wO-w"
   },
   "source": [
    "## Under/Oversampling combination  \n",
    "Now we can tuning the number of instances for each class to optimize metric.  \n"
   ]
  },
  {
   "cell_type": "code",
   "execution_count": 26,
   "metadata": {
    "executionInfo": {
     "elapsed": 444,
     "status": "ok",
     "timestamp": 1689024138840,
     "user": {
      "displayName": "JACINTO DOMINGUEZ RULL",
      "userId": "04779779024889038949"
     },
     "user_tz": -120
    },
    "id": "D0jtqxJ8Uvyv"
   },
   "outputs": [],
   "source": [
    "# SMOTE\n",
    "\n",
    "sm = SMOTE(random_state=42, sampling_strategy=1) # N_rm / N_M\n",
    "X_res, y_res = sm.fit_resample(X_train, y_train)"
   ]
  },
  {
   "cell_type": "code",
   "execution_count": 27,
   "metadata": {
    "colab": {
     "base_uri": "https://localhost:8080/"
    },
    "executionInfo": {
     "elapsed": 6,
     "status": "ok",
     "timestamp": 1689024142723,
     "user": {
      "displayName": "JACINTO DOMINGUEZ RULL",
      "userId": "04779779024889038949"
     },
     "user_tz": -120
    },
    "id": "uQ3_RoAsUvyv",
    "outputId": "f5d4108e-80be-4876-f9a3-3b6e26b679f7"
   },
   "outputs": [
    {
     "name": "stdout",
     "output_type": "stream",
     "text": [
      "Resampled dataset shape Counter({1: 341, 0: 307})\n",
      "Ratio->  1 : 1.1\n"
     ]
    }
   ],
   "source": [
    "# RUS\n",
    "\n",
    "X_eq, y_eq = RUS(X_res, y_res, frac=.9)\n",
    "\n",
    "print('Resampled dataset shape %s' % Counter(y_eq))\n",
    "print('Ratio->  1 :', round(Counter(y_eq)[1]/Counter(y_eq)[0], 1))"
   ]
  },
  {
   "cell_type": "code",
   "execution_count": 28,
   "metadata": {
    "colab": {
     "base_uri": "https://localhost:8080/"
    },
    "executionInfo": {
     "elapsed": 46821,
     "status": "ok",
     "timestamp": 1689024190856,
     "user": {
      "displayName": "JACINTO DOMINGUEZ RULL",
      "userId": "04779779024889038949"
     },
     "user_tz": -120
    },
    "id": "TPcOZeONUvyw",
    "outputId": "4263e13e-506f-47fc-880b-7f594976358c",
    "scrolled": false
   },
   "outputs": [
    {
     "name": "stdout",
     "output_type": "stream",
     "text": [
      "__________________________________________________\n",
      "Classifier:  CatBoostClassifier\n",
      "[[86  0]\n",
      " [ 0  5]]\n",
      "\n",
      "TNR: 1.0\n",
      "TPR: 1.0\n",
      "TNRxTPR: 1.0\n",
      "G-mean: 1.0\n",
      "__________________________________________________\n",
      "Classifier:  LGBMClassifier\n",
      "[[86  0]\n",
      " [ 2  3]]\n",
      "\n",
      "TNR: 1.0\n",
      "TPR: 0.6\n",
      "TNRxTPR: 0.6\n",
      "G-mean: 0.7746\n",
      "__________________________________________________\n",
      "Classifier:  XGBClassifier\n",
      "[[86  0]\n",
      " [ 2  3]]\n",
      "\n",
      "TNR: 1.0\n",
      "TPR: 0.6\n",
      "TNRxTPR: 0.6\n",
      "G-mean: 0.7746\n",
      "__________________________________________________\n",
      "Classifier:  BaggingClassifier\n",
      "[[85  1]\n",
      " [ 0  5]]\n",
      "\n",
      "TNR: 0.98837\n",
      "TPR: 1.0\n",
      "TNRxTPR: 0.98837\n",
      "G-mean: 0.99417\n",
      "__________________________________________________\n",
      "Classifier:  RandomForestClassifier\n",
      "[[86  0]\n",
      " [ 4  1]]\n",
      "\n",
      "TNR: 1.0\n",
      "TPR: 0.2\n",
      "TNRxTPR: 0.2\n",
      "G-mean: 0.44721\n",
      "__________________________________________________\n",
      "Ensemble predictions (majority voting):\n",
      "[[86  0]\n",
      " [ 1  4]]\n",
      "\n",
      "TNR: 1.0\n",
      "TPR: 0.8\n",
      "TNRxTPR: 0.8\n",
      "G-mean: 0.89443\n"
     ]
    }
   ],
   "source": [
    "train_val(X_eq, y_eq, X_test, y_test)"
   ]
  },
  {
   "cell_type": "code",
   "execution_count": 29,
   "metadata": {
    "executionInfo": {
     "elapsed": 5,
     "status": "ok",
     "timestamp": 1689024230326,
     "user": {
      "displayName": "JACINTO DOMINGUEZ RULL",
      "userId": "04779779024889038949"
     },
     "user_tz": -120
    },
    "id": "-mGQlfSdUvyw"
   },
   "outputs": [],
   "source": [
    "# ROS\n",
    "\n",
    "ros = RandomOverSampler(random_state=42, sampling_strategy=1) # N_rm / N_M\n",
    "X_res, y_res = ros.fit_resample(X_train, y_train)"
   ]
  },
  {
   "cell_type": "code",
   "execution_count": 30,
   "metadata": {
    "colab": {
     "base_uri": "https://localhost:8080/"
    },
    "executionInfo": {
     "elapsed": 7,
     "status": "ok",
     "timestamp": 1689024233479,
     "user": {
      "displayName": "JACINTO DOMINGUEZ RULL",
      "userId": "04779779024889038949"
     },
     "user_tz": -120
    },
    "id": "8fdzr1qOUvyw",
    "outputId": "46b1d331-7b9a-410e-afaa-0fe3f35b811e"
   },
   "outputs": [
    {
     "name": "stdout",
     "output_type": "stream",
     "text": [
      "Resampled dataset shape Counter({1: 341, 0: 273})\n",
      "Ratio->  1 : 1.2\n"
     ]
    }
   ],
   "source": [
    "# RUS\n",
    "\n",
    "X_eq, y_eq = RUS(X_res, y_res, frac=.8)\n",
    "\n",
    "print('Resampled dataset shape %s' % Counter(y_eq))\n",
    "print('Ratio->  1 :', round(Counter(y_eq)[1]/Counter(y_eq)[0], 1))"
   ]
  },
  {
   "cell_type": "code",
   "execution_count": 31,
   "metadata": {
    "colab": {
     "base_uri": "https://localhost:8080/"
    },
    "executionInfo": {
     "elapsed": 17433,
     "status": "ok",
     "timestamp": 1689024252860,
     "user": {
      "displayName": "JACINTO DOMINGUEZ RULL",
      "userId": "04779779024889038949"
     },
     "user_tz": -120
    },
    "id": "u0UCU05gUvyw",
    "outputId": "9d6cce28-1e69-458e-8435-09326b44a08c",
    "scrolled": false
   },
   "outputs": [
    {
     "name": "stdout",
     "output_type": "stream",
     "text": [
      "__________________________________________________\n",
      "Classifier:  CatBoostClassifier\n",
      "[[86  0]\n",
      " [ 0  5]]\n",
      "\n",
      "TNR: 1.0\n",
      "TPR: 1.0\n",
      "TNRxTPR: 1.0\n",
      "G-mean: 1.0\n",
      "__________________________________________________\n",
      "Classifier:  LGBMClassifier\n",
      "[[86  0]\n",
      " [ 2  3]]\n",
      "\n",
      "TNR: 1.0\n",
      "TPR: 0.6\n",
      "TNRxTPR: 0.6\n",
      "G-mean: 0.7746\n",
      "__________________________________________________\n",
      "Classifier:  XGBClassifier\n",
      "[[86  0]\n",
      " [ 1  4]]\n",
      "\n",
      "TNR: 1.0\n",
      "TPR: 0.8\n",
      "TNRxTPR: 0.8\n",
      "G-mean: 0.89443\n",
      "__________________________________________________\n",
      "Classifier:  BaggingClassifier\n",
      "[[86  0]\n",
      " [ 1  4]]\n",
      "\n",
      "TNR: 1.0\n",
      "TPR: 0.8\n",
      "TNRxTPR: 0.8\n",
      "G-mean: 0.89443\n",
      "__________________________________________________\n",
      "Classifier:  RandomForestClassifier\n",
      "[[86  0]\n",
      " [ 4  1]]\n",
      "\n",
      "TNR: 1.0\n",
      "TPR: 0.2\n",
      "TNRxTPR: 0.2\n",
      "G-mean: 0.44721\n",
      "__________________________________________________\n",
      "Ensemble predictions (majority voting):\n",
      "[[86  0]\n",
      " [ 1  4]]\n",
      "\n",
      "TNR: 1.0\n",
      "TPR: 0.8\n",
      "TNRxTPR: 0.8\n",
      "G-mean: 0.89443\n"
     ]
    }
   ],
   "source": [
    "train_val(X_eq, y_eq, X_test, y_test)"
   ]
  },
  {
   "cell_type": "code",
   "execution_count": 32,
   "metadata": {
    "colab": {
     "base_uri": "https://localhost:8080/"
    },
    "executionInfo": {
     "elapsed": 380,
     "status": "ok",
     "timestamp": 1689024281455,
     "user": {
      "displayName": "JACINTO DOMINGUEZ RULL",
      "userId": "04779779024889038949"
     },
     "user_tz": -120
    },
    "id": "T6benPDnCzym",
    "outputId": "2836fa02-6f0e-4ace-9457-55a92ad8d22e"
   },
   "outputs": [
    {
     "name": "stdout",
     "output_type": "stream",
     "text": [
      "11/11 [==============================] - 0s 2ms/step\n"
     ]
    }
   ],
   "source": [
    "# VAEOversampler\n",
    "\n",
    "X_res, y_res = vae_sampler.resample(X_train, y_train, sampling_strategy=1)"
   ]
  },
  {
   "cell_type": "code",
   "execution_count": 35,
   "metadata": {
    "colab": {
     "base_uri": "https://localhost:8080/"
    },
    "executionInfo": {
     "elapsed": 372,
     "status": "ok",
     "timestamp": 1689024396956,
     "user": {
      "displayName": "JACINTO DOMINGUEZ RULL",
      "userId": "04779779024889038949"
     },
     "user_tz": -120
    },
    "id": "7a1QqxB6Czyx",
    "outputId": "9a74a6e1-254d-4479-ee6c-1cfe2c188bc9"
   },
   "outputs": [
    {
     "name": "stdout",
     "output_type": "stream",
     "text": [
      "Resampled dataset shape Counter({1.0: 341, 0.0: 205})\n",
      "Ratio->  1 : 1.7\n"
     ]
    }
   ],
   "source": [
    "# RUS\n",
    "\n",
    "X_eq, y_eq = RUS(X_res, y_res, frac=.6)\n",
    "\n",
    "print('Resampled dataset shape %s' % Counter(y_eq))\n",
    "print('Ratio->  1 :', round(Counter(y_eq)[1]/Counter(y_eq)[0], 1))"
   ]
  },
  {
   "cell_type": "code",
   "execution_count": 36,
   "metadata": {
    "colab": {
     "base_uri": "https://localhost:8080/"
    },
    "executionInfo": {
     "elapsed": 87069,
     "status": "ok",
     "timestamp": 1689024485617,
     "user": {
      "displayName": "JACINTO DOMINGUEZ RULL",
      "userId": "04779779024889038949"
     },
     "user_tz": -120
    },
    "id": "oAv7STUxCzy0",
    "outputId": "210d164b-34c6-478c-890b-e71ee4190776"
   },
   "outputs": [
    {
     "name": "stdout",
     "output_type": "stream",
     "text": [
      "__________________________________________________\n",
      "Classifier:  CatBoostClassifier\n",
      "[[86  0]\n",
      " [ 0  5]]\n",
      "\n",
      "TNR: 1.0\n",
      "TPR: 1.0\n",
      "TNRxTPR: 1.0\n",
      "G-mean: 1.0\n",
      "__________________________________________________\n",
      "Classifier:  LGBMClassifier\n",
      "[[86  0]\n",
      " [ 3  2]]\n",
      "\n",
      "TNR: 1.0\n",
      "TPR: 0.4\n",
      "TNRxTPR: 0.4\n",
      "G-mean: 0.63246\n",
      "__________________________________________________\n",
      "Classifier:  XGBClassifier\n",
      "[[86  0]\n",
      " [ 1  4]]\n",
      "\n",
      "TNR: 1.0\n",
      "TPR: 0.8\n",
      "TNRxTPR: 0.8\n",
      "G-mean: 0.89443\n",
      "__________________________________________________\n",
      "Classifier:  BaggingClassifier\n",
      "[[86  0]\n",
      " [ 2  3]]\n",
      "\n",
      "TNR: 1.0\n",
      "TPR: 0.6\n",
      "TNRxTPR: 0.6\n",
      "G-mean: 0.7746\n",
      "__________________________________________________\n",
      "Classifier:  RandomForestClassifier\n",
      "[[86  0]\n",
      " [ 5  0]]\n",
      "\n",
      "TNR: 1.0\n",
      "TPR: 0.0\n",
      "TNRxTPR: 0.0\n",
      "G-mean: 0.0\n",
      "__________________________________________________\n",
      "Ensemble predictions (majority voting):\n",
      "[[86  0]\n",
      " [ 2  3]]\n",
      "\n",
      "TNR: 1.0\n",
      "TPR: 0.6\n",
      "TNRxTPR: 0.6\n",
      "G-mean: 0.7746\n"
     ]
    }
   ],
   "source": [
    "train_val(X_eq, y_eq, X_test, y_test)"
   ]
  },
  {
   "cell_type": "markdown",
   "metadata": {
    "id": "RydFSMjOoD87"
   },
   "source": [
    "## References  \n",
    "\n",
    "  - Classification with Imbalanced Datasets:  \n",
    "    https://sci2s.ugr.es/imbalanced  \n",
    "  - Computer Vision:  Models, Learning, and Inference (Simon J.D. Prince):  \n",
    "    http://www.computervisionmodels.com/  \n",
    "  - Oversampling with VAEs:  \n",
    "    https://towardsdatascience.com/oversampling-with-vaes-e410887fe51  \n"
   ]
  }
 ],
 "metadata": {
  "colab": {
   "provenance": []
  },
  "gpuClass": "standard",
  "kernelspec": {
   "display_name": "Python 3 (ipykernel)",
   "language": "python",
   "name": "python3"
  },
  "language_info": {
   "codemirror_mode": {
    "name": "ipython",
    "version": 3
   },
   "file_extension": ".py",
   "mimetype": "text/x-python",
   "name": "python",
   "nbconvert_exporter": "python",
   "pygments_lexer": "ipython3",
   "version": "3.9.7"
  }
 },
 "nbformat": 4,
 "nbformat_minor": 1
}
