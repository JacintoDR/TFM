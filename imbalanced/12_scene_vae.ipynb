{
 "cells": [
  {
   "cell_type": "markdown",
   "metadata": {
    "id": "qLO_siFYEPSg"
   },
   "source": [
    "# Dealing with imbalanced datasets, combining oversampling with VAE and undersampling to improve model recognition over all classes.  "
   ]
  },
  {
   "cell_type": "code",
   "execution_count": 1,
   "metadata": {
    "colab": {
     "base_uri": "https://localhost:8080/"
    },
    "executionInfo": {
     "elapsed": 19375,
     "status": "ok",
     "timestamp": 1689004181670,
     "user": {
      "displayName": "JACINTO DOMINGUEZ RULL",
      "userId": "04779779024889038949"
     },
     "user_tz": -120
    },
    "id": "4_CcHvHZUwyO",
    "outputId": "5f06007b-ba25-45d4-f684-0d9fbc65bae7"
   },
   "outputs": [
    {
     "name": "stdout",
     "output_type": "stream",
     "text": [
      "Collecting catboost\n",
      "  Downloading catboost-1.2-cp310-cp310-manylinux2014_x86_64.whl (98.6 MB)\n",
      "\u001b[2K     \u001b[90m━━━━━━━━━━━━━━━━━━━━━━━━━━━━━━━━━━━━━━━━\u001b[0m \u001b[32m98.6/98.6 MB\u001b[0m \u001b[31m5.6 MB/s\u001b[0m eta \u001b[36m0:00:00\u001b[0m\n",
      "\u001b[?25hRequirement already satisfied: graphviz in /usr/local/lib/python3.10/dist-packages (from catboost) (0.20.1)\n",
      "Requirement already satisfied: matplotlib in /usr/local/lib/python3.10/dist-packages (from catboost) (3.7.1)\n",
      "Requirement already satisfied: numpy>=1.16.0 in /usr/local/lib/python3.10/dist-packages (from catboost) (1.22.4)\n",
      "Requirement already satisfied: pandas>=0.24 in /usr/local/lib/python3.10/dist-packages (from catboost) (1.5.3)\n",
      "Requirement already satisfied: scipy in /usr/local/lib/python3.10/dist-packages (from catboost) (1.10.1)\n",
      "Requirement already satisfied: plotly in /usr/local/lib/python3.10/dist-packages (from catboost) (5.13.1)\n",
      "Requirement already satisfied: six in /usr/local/lib/python3.10/dist-packages (from catboost) (1.16.0)\n",
      "Requirement already satisfied: python-dateutil>=2.8.1 in /usr/local/lib/python3.10/dist-packages (from pandas>=0.24->catboost) (2.8.2)\n",
      "Requirement already satisfied: pytz>=2020.1 in /usr/local/lib/python3.10/dist-packages (from pandas>=0.24->catboost) (2022.7.1)\n",
      "Requirement already satisfied: contourpy>=1.0.1 in /usr/local/lib/python3.10/dist-packages (from matplotlib->catboost) (1.1.0)\n",
      "Requirement already satisfied: cycler>=0.10 in /usr/local/lib/python3.10/dist-packages (from matplotlib->catboost) (0.11.0)\n",
      "Requirement already satisfied: fonttools>=4.22.0 in /usr/local/lib/python3.10/dist-packages (from matplotlib->catboost) (4.40.0)\n",
      "Requirement already satisfied: kiwisolver>=1.0.1 in /usr/local/lib/python3.10/dist-packages (from matplotlib->catboost) (1.4.4)\n",
      "Requirement already satisfied: packaging>=20.0 in /usr/local/lib/python3.10/dist-packages (from matplotlib->catboost) (23.1)\n",
      "Requirement already satisfied: pillow>=6.2.0 in /usr/local/lib/python3.10/dist-packages (from matplotlib->catboost) (8.4.0)\n",
      "Requirement already satisfied: pyparsing>=2.3.1 in /usr/local/lib/python3.10/dist-packages (from matplotlib->catboost) (3.1.0)\n",
      "Requirement already satisfied: tenacity>=6.2.0 in /usr/local/lib/python3.10/dist-packages (from plotly->catboost) (8.2.2)\n",
      "Installing collected packages: catboost\n",
      "Successfully installed catboost-1.2\n"
     ]
    }
   ],
   "source": [
    "!pip install catboost"
   ]
  },
  {
   "cell_type": "markdown",
   "metadata": {
    "id": "IOzC3QPArH_F"
   },
   "source": [
    "Import packages, classifiers and etc."
   ]
  },
  {
   "cell_type": "code",
   "execution_count": 2,
   "metadata": {
    "_cell_guid": "b1076dfc-b9ad-4769-8c92-a6c4dae69d19",
    "_uuid": "8f2839f25d086af736a60e9eeb907d3b93b6e0e5",
    "executionInfo": {
     "elapsed": 3856,
     "status": "ok",
     "timestamp": 1689004185513,
     "user": {
      "displayName": "JACINTO DOMINGUEZ RULL",
      "userId": "04779779024889038949"
     },
     "user_tz": -120
    },
    "id": "GDNB_c5RrH_I"
   },
   "outputs": [],
   "source": [
    "import pandas as pd\n",
    "import numpy as np\n",
    "\n",
    "from sklearn.preprocessing import StandardScaler\n",
    "from sklearn.model_selection import train_test_split, cross_validate\n",
    "\n",
    "from catboost import CatBoostClassifier\n",
    "from lightgbm import LGBMClassifier\n",
    "from xgboost import XGBClassifier\n",
    "from sklearn.ensemble import BaggingClassifier, RandomForestClassifier\n",
    "\n",
    "from sklearn.metrics import confusion_matrix, make_scorer\n",
    "from imblearn.metrics import classification_report_imbalanced, geometric_mean_score\n",
    "from collections import Counter\n",
    "\n",
    "from imblearn.over_sampling import SMOTE, RandomOverSampler"
   ]
  },
  {
   "cell_type": "markdown",
   "metadata": {
    "id": "7qxBXk4fPiJx"
   },
   "source": [
    "Import VAEOversampler."
   ]
  },
  {
   "cell_type": "code",
   "execution_count": 3,
   "metadata": {
    "executionInfo": {
     "elapsed": 4642,
     "status": "ok",
     "timestamp": 1689004190147,
     "user": {
      "displayName": "JACINTO DOMINGUEZ RULL",
      "userId": "04779779024889038949"
     },
     "user_tz": -120
    },
    "id": "DqyRUyWlvryO"
   },
   "outputs": [],
   "source": [
    "from VAEOversampler import VAEOversampler"
   ]
  },
  {
   "cell_type": "markdown",
   "metadata": {
    "id": "8UEMO2hTPztj"
   },
   "source": [
    "## Loading data  \n",
    "You can load some dataset from Imbalanced Learn list (https://imbalanced-learn.org/stable/datasets/index.html) or use your own data.  \n"
   ]
  },
  {
   "cell_type": "code",
   "execution_count": 4,
   "metadata": {
    "executionInfo": {
     "elapsed": 48088,
     "status": "ok",
     "timestamp": 1689004251299,
     "user": {
      "displayName": "JACINTO DOMINGUEZ RULL",
      "userId": "04779779024889038949"
     },
     "user_tz": -120
    },
    "id": "Xnh_x70FwVCi"
   },
   "outputs": [],
   "source": [
    "from imblearn.datasets import fetch_datasets\n",
    "\n",
    "dset_name = 'scene'\n",
    "dset = fetch_datasets()[dset_name]\n",
    "\n",
    "X, y = StandardScaler().fit_transform(dset.data), dset.target"
   ]
  },
  {
   "cell_type": "code",
   "execution_count": 5,
   "metadata": {
    "colab": {
     "base_uri": "https://localhost:8080/"
    },
    "executionInfo": {
     "elapsed": 14,
     "status": "ok",
     "timestamp": 1689004251301,
     "user": {
      "displayName": "JACINTO DOMINGUEZ RULL",
      "userId": "04779779024889038949"
     },
     "user_tz": -120
    },
    "id": "v_SUvgVSByCD",
    "outputId": "02b87b82-a481-4599-b77b-7939dc4b4a5a"
   },
   "outputs": [
    {
     "data": {
      "text/plain": [
       "array([[-5.70966246e-02, -1.39373285e-01, -1.60650256e-01, ...,\n",
       "         8.28460395e-01, -6.56686800e-01, -5.38642595e-01],\n",
       "       [ 5.21683833e-01,  3.67666751e-01,  2.42865593e-01, ...,\n",
       "         1.27836183e-01, -1.98412296e-01, -4.94390370e-01],\n",
       "       [ 6.33182679e-01,  3.92012921e-01,  2.46937596e-01, ...,\n",
       "        -4.27131926e-01,  7.51690015e-04, -1.75746908e-01],\n",
       "       ...,\n",
       "       [ 1.37390506e+00,  1.26150964e+00,  1.01003201e+00, ...,\n",
       "        -5.50180393e-01, -6.33173355e-01, -6.05411846e-01],\n",
       "       [ 1.05434959e+00,  1.03025371e+00,  9.85945079e-01, ...,\n",
       "         8.85168297e-01,  7.60629408e-01,  7.55661012e-01],\n",
       "       [ 1.47981679e+00,  8.66408671e-01,  5.45961709e-01, ...,\n",
       "        -7.21513143e-01, -5.83024871e-01, -7.10510578e-01]])"
      ]
     },
     "execution_count": 5,
     "metadata": {},
     "output_type": "execute_result"
    }
   ],
   "source": [
    "X"
   ]
  },
  {
   "cell_type": "code",
   "execution_count": 6,
   "metadata": {
    "executionInfo": {
     "elapsed": 242,
     "status": "ok",
     "timestamp": 1689004263025,
     "user": {
      "displayName": "JACINTO DOMINGUEZ RULL",
      "userId": "04779779024889038949"
     },
     "user_tz": -120
    },
    "id": "Tb09lFMxPS2J"
   },
   "outputs": [],
   "source": [
    "y[y == -1] = 0"
   ]
  },
  {
   "cell_type": "markdown",
   "metadata": {
    "id": "hpLA_GmKSJwN"
   },
   "source": [
    "We split data into train and test partitions."
   ]
  },
  {
   "cell_type": "code",
   "execution_count": 7,
   "metadata": {
    "executionInfo": {
     "elapsed": 2,
     "status": "ok",
     "timestamp": 1689004264367,
     "user": {
      "displayName": "JACINTO DOMINGUEZ RULL",
      "userId": "04779779024889038949"
     },
     "user_tz": -120
    },
    "id": "ZS-Dd0R9GbBY"
   },
   "outputs": [],
   "source": [
    "X_train, X_test, y_train, y_test = train_test_split(X, y, test_size=0.2, random_state=42, stratify=y)"
   ]
  },
  {
   "cell_type": "markdown",
   "metadata": {
    "id": "Em7Um0N4rH_S"
   },
   "source": [
    "This is a simple function to undersample freely.  "
   ]
  },
  {
   "cell_type": "code",
   "execution_count": 8,
   "metadata": {
    "executionInfo": {
     "elapsed": 2,
     "status": "ok",
     "timestamp": 1689004264666,
     "user": {
      "displayName": "JACINTO DOMINGUEZ RULL",
      "userId": "04779779024889038949"
     },
     "user_tz": -120
    },
    "id": "1cdWcXE3Ofok"
   },
   "outputs": [],
   "source": [
    "# RUS\n",
    "\n",
    "def RUS(X_res, y_res, frac=1, minority_class_id=1, random_state=42):\n",
    "    X_res = pd.DataFrame(X_res)\n",
    "    X_res['Class'] = y_res\n",
    "\n",
    "    X_neg = X_res[y_res != minority_class_id].sample(frac=frac, random_state=random_state)\n",
    "    X_pos = X_res[y_res == minority_class_id].sample(frac=1, random_state=random_state)\n",
    "\n",
    "    X_rus = pd.concat([X_neg, X_pos], ignore_index=True)\n",
    "\n",
    "    X_eq = X_rus.drop('Class', axis=1)\n",
    "    y_eq = X_rus['Class']\n",
    "\n",
    "    return X_eq, y_eq"
   ]
  },
  {
   "cell_type": "code",
   "execution_count": 9,
   "metadata": {
    "executionInfo": {
     "elapsed": 4,
     "status": "ok",
     "timestamp": 1689004264914,
     "user": {
      "displayName": "JACINTO DOMINGUEZ RULL",
      "userId": "04779779024889038949"
     },
     "user_tz": -120
    },
    "id": "1Ep1nUMCES98"
   },
   "outputs": [],
   "source": [
    "def train_val(X, y, Xt, yt, random_state=42):\n",
    "    classifiers = {\n",
    "        \"CatBoostClassifier\": CatBoostClassifier(verbose=False, random_seed=random_state),\n",
    "        \"LGBMClassifier\": LGBMClassifier(random_state=random_state),\n",
    "        \"XGBClassifier\": XGBClassifier(random_state=random_state),\n",
    "        \"BaggingClassifier\": BaggingClassifier(random_state=random_state),\n",
    "        \"RandomForestClassifier\": RandomForestClassifier(random_state=random_state),\n",
    "    }\n",
    "    scores = []\n",
    "    predictions = []\n",
    "    for key, classifier in classifiers.items():\n",
    "        print('_' * 50)\n",
    "        name = key\n",
    "        classifier.fit(X, y)\n",
    "        print(\"Classifier: \", name)\n",
    "        y_pred = classifier.predict(Xt)\n",
    "        cm = confusion_matrix(yt, y_pred)\n",
    "        print(cm)\n",
    "        print('')\n",
    "        predictions.append(y_pred)\n",
    "        tn = cm[0,0]\n",
    "        fp = cm[0,1]\n",
    "        fn = cm[1,0]\n",
    "        tp = cm[1,1]\n",
    "        tnr = tn / (tn + fp)\n",
    "        tpr = tp / (tp + fn)\n",
    "        scores.append(tnr * tpr)\n",
    "        print('TNR:', round(tnr, 5))\n",
    "        print('TPR:', round(tpr, 5))\n",
    "        print('TNRxTPR:', round(tnr * tpr, 5))\n",
    "        print('G-mean:', round(np.sqrt(tnr * tpr), 5))\n",
    "\n",
    "    print('_' * 50)\n",
    "    print('Ensemble predictions (majority voting):')\n",
    "    predictions = np.sum(predictions, axis=0)\n",
    "    predictions[predictions < 3] = 0\n",
    "    predictions[predictions >= 3] = 1\n",
    "\n",
    "    cm = confusion_matrix(yt, predictions)\n",
    "    print(cm)\n",
    "    tn = cm[0,0]\n",
    "    fp = cm[0,1]\n",
    "    fn = cm[1,0]\n",
    "    tp = cm[1,1]\n",
    "    tnr = tn / (tn + fp)\n",
    "    tpr = tp / (tp + fn)\n",
    "    print('')\n",
    "    print('TNR:', round(tnr, 5))\n",
    "    print('TPR:', round(tpr, 5))\n",
    "    print('TNRxTPR:', round(tnr * tpr, 5))\n",
    "    print('G-mean:', round(np.sqrt(tnr * tpr), 5))\n"
   ]
  },
  {
   "cell_type": "markdown",
   "metadata": {
    "id": "A-n86Yaxbcji"
   },
   "source": [
    "## Without resampling (base line)\n",
    "Which is starting score?\n"
   ]
  },
  {
   "cell_type": "code",
   "execution_count": 10,
   "metadata": {
    "colab": {
     "base_uri": "https://localhost:8080/"
    },
    "executionInfo": {
     "elapsed": 7,
     "status": "ok",
     "timestamp": 1689004266768,
     "user": {
      "displayName": "JACINTO DOMINGUEZ RULL",
      "userId": "04779779024889038949"
     },
     "user_tz": -120
    },
    "id": "dW6YYJZ_bcjj",
    "outputId": "1a600c7a-a35a-4618-a333-99297626f4a3"
   },
   "outputs": [
    {
     "name": "stdout",
     "output_type": "stream",
     "text": [
      "Original dataset shape Counter({0: 2230, 1: 177})\n",
      "Ratio-> 12.6 : 1\n"
     ]
    }
   ],
   "source": [
    "print('Original dataset shape %s' % Counter(y))\n",
    "print('Ratio->', round(Counter(y)[0]/Counter(y)[1], 1), ': 1')"
   ]
  },
  {
   "cell_type": "code",
   "execution_count": 11,
   "metadata": {
    "colab": {
     "base_uri": "https://localhost:8080/"
    },
    "executionInfo": {
     "elapsed": 110017,
     "status": "ok",
     "timestamp": 1689004378541,
     "user": {
      "displayName": "JACINTO DOMINGUEZ RULL",
      "userId": "04779779024889038949"
     },
     "user_tz": -120
    },
    "id": "bSSkbO1qbcjj",
    "outputId": "8c90c8a5-e9d7-404b-eb18-e951b2379c63"
   },
   "outputs": [
    {
     "name": "stdout",
     "output_type": "stream",
     "text": [
      "__________________________________________________\n",
      "Classifier:  CatBoostClassifier\n",
      "[[445   2]\n",
      " [ 31   4]]\n",
      "\n",
      "TNR: 0.99553\n",
      "TPR: 0.11429\n",
      "TNRxTPR: 0.11377\n",
      "G-mean: 0.3373\n",
      "__________________________________________________\n",
      "Classifier:  LGBMClassifier\n",
      "[[444   3]\n",
      " [ 31   4]]\n",
      "\n",
      "TNR: 0.99329\n",
      "TPR: 0.11429\n",
      "TNRxTPR: 0.11352\n",
      "G-mean: 0.33693\n",
      "__________________________________________________\n",
      "Classifier:  XGBClassifier\n",
      "[[442   5]\n",
      " [ 31   4]]\n",
      "\n",
      "TNR: 0.98881\n",
      "TPR: 0.11429\n",
      "TNRxTPR: 0.11301\n",
      "G-mean: 0.33617\n",
      "__________________________________________________\n",
      "Classifier:  BaggingClassifier\n",
      "[[438   9]\n",
      " [ 31   4]]\n",
      "\n",
      "TNR: 0.97987\n",
      "TPR: 0.11429\n",
      "TNRxTPR: 0.11198\n",
      "G-mean: 0.33464\n",
      "__________________________________________________\n",
      "Classifier:  RandomForestClassifier\n",
      "[[445   2]\n",
      " [ 32   3]]\n",
      "\n",
      "TNR: 0.99553\n",
      "TPR: 0.08571\n",
      "TNRxTPR: 0.08533\n",
      "G-mean: 0.29211\n",
      "__________________________________________________\n",
      "Ensemble predictions (majority voting):\n",
      "[[445   2]\n",
      " [ 31   4]]\n",
      "\n",
      "TNR: 0.99553\n",
      "TPR: 0.11429\n",
      "TNRxTPR: 0.11377\n",
      "G-mean: 0.3373\n"
     ]
    }
   ],
   "source": [
    "train_val(X_train, y_train, X_test, y_test)"
   ]
  },
  {
   "cell_type": "markdown",
   "metadata": {
    "id": "jcCxQq6-Uvyr"
   },
   "source": [
    "## Ratio 1:1  \n",
    "Let's see classifiers scores when dataset is balanced.  \n"
   ]
  },
  {
   "cell_type": "code",
   "execution_count": 12,
   "metadata": {
    "executionInfo": {
     "elapsed": 215,
     "status": "ok",
     "timestamp": 1689004388682,
     "user": {
      "displayName": "JACINTO DOMINGUEZ RULL",
      "userId": "04779779024889038949"
     },
     "user_tz": -120
    },
    "id": "BHJ2B9Cx_nsc"
   },
   "outputs": [],
   "source": [
    "# SMOTE\n",
    "\n",
    "sm = SMOTE(random_state=42, sampling_strategy=1) # N_rm / N_M\n",
    "X_res, y_res = sm.fit_resample(X_train, y_train)"
   ]
  },
  {
   "cell_type": "code",
   "execution_count": 13,
   "metadata": {
    "colab": {
     "base_uri": "https://localhost:8080/"
    },
    "executionInfo": {
     "elapsed": 233,
     "status": "ok",
     "timestamp": 1689004390000,
     "user": {
      "displayName": "JACINTO DOMINGUEZ RULL",
      "userId": "04779779024889038949"
     },
     "user_tz": -120
    },
    "id": "6U0Byc1lUvys",
    "outputId": "dac20631-7a94-4439-b91b-e88ee27f535d"
   },
   "outputs": [
    {
     "name": "stdout",
     "output_type": "stream",
     "text": [
      "Resampled dataset shape Counter({0: 1783, 1: 1783})\n",
      "Ratio->  1 : 1.0\n"
     ]
    }
   ],
   "source": [
    "print('Resampled dataset shape %s' % Counter(y_res))\n",
    "print('Ratio->  1 :', round(Counter(y_res)[1]/Counter(y_res)[0], 1))"
   ]
  },
  {
   "cell_type": "code",
   "execution_count": 14,
   "metadata": {
    "colab": {
     "base_uri": "https://localhost:8080/"
    },
    "executionInfo": {
     "elapsed": 136854,
     "status": "ok",
     "timestamp": 1689004528524,
     "user": {
      "displayName": "JACINTO DOMINGUEZ RULL",
      "userId": "04779779024889038949"
     },
     "user_tz": -120
    },
    "id": "CMGEySDMpTdx",
    "outputId": "aac1edf6-b905-4e93-fd8a-cae66b4e38d8",
    "scrolled": false
   },
   "outputs": [
    {
     "name": "stdout",
     "output_type": "stream",
     "text": [
      "__________________________________________________\n",
      "Classifier:  CatBoostClassifier\n",
      "[[422  25]\n",
      " [ 25  10]]\n",
      "\n",
      "TNR: 0.94407\n",
      "TPR: 0.28571\n",
      "TNRxTPR: 0.26973\n",
      "G-mean: 0.51936\n",
      "__________________________________________________\n",
      "Classifier:  LGBMClassifier\n",
      "[[426  21]\n",
      " [ 24  11]]\n",
      "\n",
      "TNR: 0.95302\n",
      "TPR: 0.31429\n",
      "TNRxTPR: 0.29952\n",
      "G-mean: 0.54728\n",
      "__________________________________________________\n",
      "Classifier:  XGBClassifier\n",
      "[[422  25]\n",
      " [ 26   9]]\n",
      "\n",
      "TNR: 0.94407\n",
      "TPR: 0.25714\n",
      "TNRxTPR: 0.24276\n",
      "G-mean: 0.49271\n",
      "__________________________________________________\n",
      "Classifier:  BaggingClassifier\n",
      "[[419  28]\n",
      " [ 27   8]]\n",
      "\n",
      "TNR: 0.93736\n",
      "TPR: 0.22857\n",
      "TNRxTPR: 0.21425\n",
      "G-mean: 0.46288\n",
      "__________________________________________________\n",
      "Classifier:  RandomForestClassifier\n",
      "[[434  13]\n",
      " [ 27   8]]\n",
      "\n",
      "TNR: 0.97092\n",
      "TPR: 0.22857\n",
      "TNRxTPR: 0.22192\n",
      "G-mean: 0.47109\n",
      "__________________________________________________\n",
      "Ensemble predictions (majority voting):\n",
      "[[429  18]\n",
      " [ 27   8]]\n",
      "\n",
      "TNR: 0.95973\n",
      "TPR: 0.22857\n",
      "TNRxTPR: 0.21937\n",
      "G-mean: 0.46837\n"
     ]
    }
   ],
   "source": [
    "train_val(X_res, y_res, X_test, y_test)"
   ]
  },
  {
   "cell_type": "code",
   "execution_count": 15,
   "metadata": {
    "executionInfo": {
     "elapsed": 250,
     "status": "ok",
     "timestamp": 1689004552742,
     "user": {
      "displayName": "JACINTO DOMINGUEZ RULL",
      "userId": "04779779024889038949"
     },
     "user_tz": -120
    },
    "id": "hiRVkg2eUx0U"
   },
   "outputs": [],
   "source": [
    "# ROS\n",
    "\n",
    "ros = RandomOverSampler(random_state=42, sampling_strategy=1) # N_rm / N_M\n",
    "X_res, y_res = ros.fit_resample(X_train, y_train)"
   ]
  },
  {
   "cell_type": "code",
   "execution_count": 16,
   "metadata": {
    "colab": {
     "base_uri": "https://localhost:8080/"
    },
    "executionInfo": {
     "elapsed": 6,
     "status": "ok",
     "timestamp": 1689004553835,
     "user": {
      "displayName": "JACINTO DOMINGUEZ RULL",
      "userId": "04779779024889038949"
     },
     "user_tz": -120
    },
    "id": "7igPUXNbUvyu",
    "outputId": "cd949630-0fb1-484c-cc12-423bb8cf0cf6"
   },
   "outputs": [
    {
     "name": "stdout",
     "output_type": "stream",
     "text": [
      "Resampled dataset shape Counter({0: 1783, 1: 1783})\n",
      "Ratio->  1 : 1.0\n"
     ]
    }
   ],
   "source": [
    "print('Resampled dataset shape %s' % Counter(y_res))\n",
    "print('Ratio->  1 :', round(Counter(y_res)[1]/Counter(y_res)[0], 1))"
   ]
  },
  {
   "cell_type": "code",
   "execution_count": 17,
   "metadata": {
    "colab": {
     "base_uri": "https://localhost:8080/"
    },
    "executionInfo": {
     "elapsed": 114128,
     "status": "ok",
     "timestamp": 1689004668786,
     "user": {
      "displayName": "JACINTO DOMINGUEZ RULL",
      "userId": "04779779024889038949"
     },
     "user_tz": -120
    },
    "id": "IMANwdwxUx0b",
    "outputId": "126b7ac9-a213-4bb4-93df-306ed7488b4f",
    "scrolled": false
   },
   "outputs": [
    {
     "name": "stdout",
     "output_type": "stream",
     "text": [
      "__________________________________________________\n",
      "Classifier:  CatBoostClassifier\n",
      "[[442   5]\n",
      " [ 30   5]]\n",
      "\n",
      "TNR: 0.98881\n",
      "TPR: 0.14286\n",
      "TNRxTPR: 0.14126\n",
      "G-mean: 0.37584\n",
      "__________________________________________________\n",
      "Classifier:  LGBMClassifier\n",
      "[[443   4]\n",
      " [ 30   5]]\n",
      "\n",
      "TNR: 0.99105\n",
      "TPR: 0.14286\n",
      "TNRxTPR: 0.14158\n",
      "G-mean: 0.37627\n",
      "__________________________________________________\n",
      "Classifier:  XGBClassifier\n",
      "[[440   7]\n",
      " [ 29   6]]\n",
      "\n",
      "TNR: 0.98434\n",
      "TPR: 0.17143\n",
      "TNRxTPR: 0.16874\n",
      "G-mean: 0.41078\n",
      "__________________________________________________\n",
      "Classifier:  BaggingClassifier\n",
      "[[424  23]\n",
      " [ 28   7]]\n",
      "\n",
      "TNR: 0.94855\n",
      "TPR: 0.2\n",
      "TNRxTPR: 0.18971\n",
      "G-mean: 0.43556\n",
      "__________________________________________________\n",
      "Classifier:  RandomForestClassifier\n",
      "[[442   5]\n",
      " [ 30   5]]\n",
      "\n",
      "TNR: 0.98881\n",
      "TPR: 0.14286\n",
      "TNRxTPR: 0.14126\n",
      "G-mean: 0.37584\n",
      "__________________________________________________\n",
      "Ensemble predictions (majority voting):\n",
      "[[442   5]\n",
      " [ 30   5]]\n",
      "\n",
      "TNR: 0.98881\n",
      "TPR: 0.14286\n",
      "TNRxTPR: 0.14126\n",
      "G-mean: 0.37584\n"
     ]
    }
   ],
   "source": [
    "train_val(X_res, y_res, X_test, y_test)"
   ]
  },
  {
   "cell_type": "code",
   "execution_count": 18,
   "metadata": {
    "colab": {
     "base_uri": "https://localhost:8080/"
    },
    "executionInfo": {
     "elapsed": 32690,
     "status": "ok",
     "timestamp": 1689004710979,
     "user": {
      "displayName": "JACINTO DOMINGUEZ RULL",
      "userId": "04779779024889038949"
     },
     "user_tz": -120
    },
    "id": "B065rYa3wO-o",
    "outputId": "1b84b85a-3834-4f53-9c03-e45cd27ab9f3"
   },
   "outputs": [
    {
     "name": "stdout",
     "output_type": "stream",
     "text": [
      "52/52 [==============================] - 0s 2ms/step\n"
     ]
    }
   ],
   "source": [
    "# VAEOversampler\n",
    "\n",
    "vae_sampler = VAEOversampler(epochs=500,\n",
    "                              intermediate_dim=512,\n",
    "                              batch_size=64,\n",
    "                              random_state=42,\n",
    "                              verbose=False)\n",
    "X_res, y_res = vae_sampler.fit_resample(X_train, y_train)"
   ]
  },
  {
   "cell_type": "code",
   "execution_count": 19,
   "metadata": {
    "colab": {
     "base_uri": "https://localhost:8080/"
    },
    "executionInfo": {
     "elapsed": 15,
     "status": "ok",
     "timestamp": 1689004711281,
     "user": {
      "displayName": "JACINTO DOMINGUEZ RULL",
      "userId": "04779779024889038949"
     },
     "user_tz": -120
    },
    "id": "nOsNattyeSXh",
    "outputId": "a4008823-0fa1-4871-c649-e6483ac08c86"
   },
   "outputs": [
    {
     "name": "stdout",
     "output_type": "stream",
     "text": [
      "Resampled dataset shape Counter({0.0: 1783, 1.0: 1783})\n",
      "Ratio->  1 : 1.0\n"
     ]
    }
   ],
   "source": [
    "print('Resampled dataset shape %s' % Counter(y_res))\n",
    "print('Ratio->  1 :', round(Counter(y_res)[1]/Counter(y_res)[0], 1))"
   ]
  },
  {
   "cell_type": "code",
   "execution_count": 20,
   "metadata": {
    "colab": {
     "base_uri": "https://localhost:8080/"
    },
    "executionInfo": {
     "elapsed": 117252,
     "status": "ok",
     "timestamp": 1689004828526,
     "user": {
      "displayName": "JACINTO DOMINGUEZ RULL",
      "userId": "04779779024889038949"
     },
     "user_tz": -120
    },
    "id": "6BNffQSbwO-t",
    "outputId": "71972591-4496-4050-9bc3-f24d5f8952cf"
   },
   "outputs": [
    {
     "name": "stdout",
     "output_type": "stream",
     "text": [
      "__________________________________________________\n",
      "Classifier:  CatBoostClassifier\n",
      "[[445   2]\n",
      " [ 32   3]]\n",
      "\n",
      "TNR: 0.99553\n",
      "TPR: 0.08571\n",
      "TNRxTPR: 0.08533\n",
      "G-mean: 0.29211\n",
      "__________________________________________________\n",
      "Classifier:  LGBMClassifier\n",
      "[[444   3]\n",
      " [ 32   3]]\n",
      "\n",
      "TNR: 0.99329\n",
      "TPR: 0.08571\n",
      "TNRxTPR: 0.08514\n",
      "G-mean: 0.29179\n",
      "__________________________________________________\n",
      "Classifier:  XGBClassifier\n",
      "[[444   3]\n",
      " [ 32   3]]\n",
      "\n",
      "TNR: 0.99329\n",
      "TPR: 0.08571\n",
      "TNRxTPR: 0.08514\n",
      "G-mean: 0.29179\n",
      "__________________________________________________\n",
      "Classifier:  BaggingClassifier\n",
      "[[444   3]\n",
      " [ 30   5]]\n",
      "\n",
      "TNR: 0.99329\n",
      "TPR: 0.14286\n",
      "TNRxTPR: 0.1419\n",
      "G-mean: 0.37669\n",
      "__________________________________________________\n",
      "Classifier:  RandomForestClassifier\n",
      "[[445   2]\n",
      " [ 32   3]]\n",
      "\n",
      "TNR: 0.99553\n",
      "TPR: 0.08571\n",
      "TNRxTPR: 0.08533\n",
      "G-mean: 0.29211\n",
      "__________________________________________________\n",
      "Ensemble predictions (majority voting):\n",
      "[[445   2]\n",
      " [ 32   3]]\n",
      "\n",
      "TNR: 0.99553\n",
      "TPR: 0.08571\n",
      "TNRxTPR: 0.08533\n",
      "G-mean: 0.29211\n"
     ]
    }
   ],
   "source": [
    "train_val(X_res, y_res, X_test, y_test)"
   ]
  },
  {
   "cell_type": "markdown",
   "metadata": {
    "id": "w9swp8C1wO-w"
   },
   "source": [
    "## Under/Oversampling combination  \n",
    "Now we can tuning the number of instances for each class to optimize metric.  \n"
   ]
  },
  {
   "cell_type": "code",
   "execution_count": 21,
   "metadata": {
    "executionInfo": {
     "elapsed": 253,
     "status": "ok",
     "timestamp": 1689004964853,
     "user": {
      "displayName": "JACINTO DOMINGUEZ RULL",
      "userId": "04779779024889038949"
     },
     "user_tz": -120
    },
    "id": "D0jtqxJ8Uvyv"
   },
   "outputs": [],
   "source": [
    "# SMOTE\n",
    "\n",
    "sm = SMOTE(random_state=42, sampling_strategy=1) # N_rm / N_M\n",
    "X_res, y_res = sm.fit_resample(X_train, y_train)"
   ]
  },
  {
   "cell_type": "code",
   "execution_count": 24,
   "metadata": {
    "colab": {
     "base_uri": "https://localhost:8080/"
    },
    "executionInfo": {
     "elapsed": 378,
     "status": "ok",
     "timestamp": 1689005117194,
     "user": {
      "displayName": "JACINTO DOMINGUEZ RULL",
      "userId": "04779779024889038949"
     },
     "user_tz": -120
    },
    "id": "uQ3_RoAsUvyv",
    "outputId": "ce56a48a-2c6b-4e04-b8ae-5f0be94fbd3e"
   },
   "outputs": [
    {
     "name": "stdout",
     "output_type": "stream",
     "text": [
      "Resampled dataset shape Counter({1: 1783, 0: 357})\n",
      "Ratio->  1 : 5.0\n"
     ]
    }
   ],
   "source": [
    "# RUS\n",
    "\n",
    "X_eq, y_eq = RUS(X_res, y_res, frac=.2)\n",
    "\n",
    "print('Resampled dataset shape %s' % Counter(y_eq))\n",
    "print('Ratio->  1 :', round(Counter(y_eq)[1]/Counter(y_eq)[0], 1))"
   ]
  },
  {
   "cell_type": "code",
   "execution_count": 25,
   "metadata": {
    "colab": {
     "base_uri": "https://localhost:8080/"
    },
    "executionInfo": {
     "elapsed": 129801,
     "status": "ok",
     "timestamp": 1689005249892,
     "user": {
      "displayName": "JACINTO DOMINGUEZ RULL",
      "userId": "04779779024889038949"
     },
     "user_tz": -120
    },
    "id": "TPcOZeONUvyw",
    "outputId": "7ef1a787-7fd3-4f73-f28b-0af9667390e6",
    "scrolled": false
   },
   "outputs": [
    {
     "name": "stdout",
     "output_type": "stream",
     "text": [
      "__________________________________________________\n",
      "Classifier:  CatBoostClassifier\n",
      "[[304 143]\n",
      " [  6  29]]\n",
      "\n",
      "TNR: 0.68009\n",
      "TPR: 0.82857\n",
      "TNRxTPR: 0.5635\n",
      "G-mean: 0.75067\n",
      "__________________________________________________\n",
      "Classifier:  LGBMClassifier\n",
      "[[346 101]\n",
      " [ 11  24]]\n",
      "\n",
      "TNR: 0.77405\n",
      "TPR: 0.68571\n",
      "TNRxTPR: 0.53078\n",
      "G-mean: 0.72854\n",
      "__________________________________________________\n",
      "Classifier:  XGBClassifier\n",
      "[[315 132]\n",
      " [  8  27]]\n",
      "\n",
      "TNR: 0.7047\n",
      "TPR: 0.77143\n",
      "TNRxTPR: 0.54362\n",
      "G-mean: 0.73731\n",
      "__________________________________________________\n",
      "Classifier:  BaggingClassifier\n",
      "[[347 100]\n",
      " [ 13  22]]\n",
      "\n",
      "TNR: 0.77629\n",
      "TPR: 0.62857\n",
      "TNRxTPR: 0.48795\n",
      "G-mean: 0.69854\n",
      "__________________________________________________\n",
      "Classifier:  RandomForestClassifier\n",
      "[[333 114]\n",
      " [ 12  23]]\n",
      "\n",
      "TNR: 0.74497\n",
      "TPR: 0.65714\n",
      "TNRxTPR: 0.48955\n",
      "G-mean: 0.69968\n",
      "__________________________________________________\n",
      "Ensemble predictions (majority voting):\n",
      "[[333 114]\n",
      " [ 10  25]]\n",
      "\n",
      "TNR: 0.74497\n",
      "TPR: 0.71429\n",
      "TNRxTPR: 0.53212\n",
      "G-mean: 0.72946\n"
     ]
    }
   ],
   "source": [
    "train_val(X_eq, y_eq, X_test, y_test)"
   ]
  },
  {
   "cell_type": "code",
   "execution_count": 26,
   "metadata": {
    "executionInfo": {
     "elapsed": 252,
     "status": "ok",
     "timestamp": 1689005261295,
     "user": {
      "displayName": "JACINTO DOMINGUEZ RULL",
      "userId": "04779779024889038949"
     },
     "user_tz": -120
    },
    "id": "-mGQlfSdUvyw"
   },
   "outputs": [],
   "source": [
    "# ROS\n",
    "\n",
    "ros = RandomOverSampler(random_state=42, sampling_strategy=1) # N_rm / N_M\n",
    "X_res, y_res = ros.fit_resample(X_train, y_train)"
   ]
  },
  {
   "cell_type": "code",
   "execution_count": 27,
   "metadata": {
    "colab": {
     "base_uri": "https://localhost:8080/"
    },
    "executionInfo": {
     "elapsed": 6,
     "status": "ok",
     "timestamp": 1689005262407,
     "user": {
      "displayName": "JACINTO DOMINGUEZ RULL",
      "userId": "04779779024889038949"
     },
     "user_tz": -120
    },
    "id": "8fdzr1qOUvyw",
    "outputId": "551375d6-c56d-4545-c990-589a430494b5"
   },
   "outputs": [
    {
     "name": "stdout",
     "output_type": "stream",
     "text": [
      "Resampled dataset shape Counter({1: 1783, 0: 357})\n",
      "Ratio->  1 : 5.0\n"
     ]
    }
   ],
   "source": [
    "# RUS\n",
    "\n",
    "X_eq, y_eq = RUS(X_res, y_res, frac=.2)\n",
    "\n",
    "print('Resampled dataset shape %s' % Counter(y_eq))\n",
    "print('Ratio->  1 :', round(Counter(y_eq)[1]/Counter(y_eq)[0], 1))"
   ]
  },
  {
   "cell_type": "code",
   "execution_count": 28,
   "metadata": {
    "colab": {
     "base_uri": "https://localhost:8080/"
    },
    "executionInfo": {
     "elapsed": 105071,
     "status": "ok",
     "timestamp": 1689005368905,
     "user": {
      "displayName": "JACINTO DOMINGUEZ RULL",
      "userId": "04779779024889038949"
     },
     "user_tz": -120
    },
    "id": "u0UCU05gUvyw",
    "outputId": "92f57bc0-4511-4cca-8fe5-cb16154ae45e",
    "scrolled": false
   },
   "outputs": [
    {
     "name": "stdout",
     "output_type": "stream",
     "text": [
      "__________________________________________________\n",
      "Classifier:  CatBoostClassifier\n",
      "[[316 131]\n",
      " [ 10  25]]\n",
      "\n",
      "TNR: 0.70694\n",
      "TPR: 0.71429\n",
      "TNRxTPR: 0.50495\n",
      "G-mean: 0.7106\n",
      "__________________________________________________\n",
      "Classifier:  LGBMClassifier\n",
      "[[376  71]\n",
      " [ 17  18]]\n",
      "\n",
      "TNR: 0.84116\n",
      "TPR: 0.51429\n",
      "TNRxTPR: 0.4326\n",
      "G-mean: 0.65772\n",
      "__________________________________________________\n",
      "Classifier:  XGBClassifier\n",
      "[[373  74]\n",
      " [ 12  23]]\n",
      "\n",
      "TNR: 0.83445\n",
      "TPR: 0.65714\n",
      "TNRxTPR: 0.54835\n",
      "G-mean: 0.74051\n",
      "__________________________________________________\n",
      "Classifier:  BaggingClassifier\n",
      "[[361  86]\n",
      " [ 14  21]]\n",
      "\n",
      "TNR: 0.80761\n",
      "TPR: 0.6\n",
      "TNRxTPR: 0.48456\n",
      "G-mean: 0.69611\n",
      "__________________________________________________\n",
      "Classifier:  RandomForestClassifier\n",
      "[[366  81]\n",
      " [ 17  18]]\n",
      "\n",
      "TNR: 0.81879\n",
      "TPR: 0.51429\n",
      "TNRxTPR: 0.42109\n",
      "G-mean: 0.64892\n",
      "__________________________________________________\n",
      "Ensemble predictions (majority voting):\n",
      "[[357  90]\n",
      " [ 13  22]]\n",
      "\n",
      "TNR: 0.79866\n",
      "TPR: 0.62857\n",
      "TNRxTPR: 0.50201\n",
      "G-mean: 0.70853\n"
     ]
    }
   ],
   "source": [
    "train_val(X_eq, y_eq, X_test, y_test)"
   ]
  },
  {
   "cell_type": "code",
   "execution_count": 44,
   "metadata": {
    "colab": {
     "base_uri": "https://localhost:8080/"
    },
    "executionInfo": {
     "elapsed": 859,
     "status": "ok",
     "timestamp": 1689006188474,
     "user": {
      "displayName": "JACINTO DOMINGUEZ RULL",
      "userId": "04779779024889038949"
     },
     "user_tz": -120
    },
    "id": "T6benPDnCzym",
    "outputId": "10281e09-7932-49df-d4c5-c1ca43da5215"
   },
   "outputs": [
    {
     "name": "stdout",
     "output_type": "stream",
     "text": [
      "103/103 [==============================] - 0s 2ms/step\n"
     ]
    }
   ],
   "source": [
    "# VAEOversampler\n",
    "\n",
    "X_res, y_res = vae_sampler.resample(X_train, y_train, sampling_strategy=2)"
   ]
  },
  {
   "cell_type": "code",
   "execution_count": 45,
   "metadata": {
    "colab": {
     "base_uri": "https://localhost:8080/"
    },
    "executionInfo": {
     "elapsed": 7,
     "status": "ok",
     "timestamp": 1689006189285,
     "user": {
      "displayName": "JACINTO DOMINGUEZ RULL",
      "userId": "04779779024889038949"
     },
     "user_tz": -120
    },
    "id": "7a1QqxB6Czyx",
    "outputId": "8ed440b9-b1d2-4a8e-a7a1-4ac5df43f25a"
   },
   "outputs": [
    {
     "name": "stdout",
     "output_type": "stream",
     "text": [
      "Resampled dataset shape Counter({1.0: 3424, 0.0: 214})\n",
      "Ratio->  1 : 16.0\n"
     ]
    }
   ],
   "source": [
    "# RUS\n",
    "\n",
    "X_eq, y_eq = RUS(X_res, y_res, frac=.12)\n",
    "\n",
    "print('Resampled dataset shape %s' % Counter(y_eq))\n",
    "print('Ratio->  1 :', round(Counter(y_eq)[1]/Counter(y_eq)[0], 1))"
   ]
  },
  {
   "cell_type": "code",
   "execution_count": 46,
   "metadata": {
    "colab": {
     "base_uri": "https://localhost:8080/"
    },
    "executionInfo": {
     "elapsed": 105151,
     "status": "ok",
     "timestamp": 1689006295922,
     "user": {
      "displayName": "JACINTO DOMINGUEZ RULL",
      "userId": "04779779024889038949"
     },
     "user_tz": -120
    },
    "id": "oAv7STUxCzy0",
    "outputId": "46edf6dc-0a8b-4a19-e916-0ab13b01b23a"
   },
   "outputs": [
    {
     "name": "stdout",
     "output_type": "stream",
     "text": [
      "__________________________________________________\n",
      "Classifier:  CatBoostClassifier\n",
      "[[343 104]\n",
      " [  9  26]]\n",
      "\n",
      "TNR: 0.76734\n",
      "TPR: 0.74286\n",
      "TNRxTPR: 0.57002\n",
      "G-mean: 0.755\n",
      "__________________________________________________\n",
      "Classifier:  LGBMClassifier\n",
      "[[351  96]\n",
      " [ 16  19]]\n",
      "\n",
      "TNR: 0.78523\n",
      "TPR: 0.54286\n",
      "TNRxTPR: 0.42627\n",
      "G-mean: 0.65289\n",
      "__________________________________________________\n",
      "Classifier:  XGBClassifier\n",
      "[[340 107]\n",
      " [ 15  20]]\n",
      "\n",
      "TNR: 0.76063\n",
      "TPR: 0.57143\n",
      "TNRxTPR: 0.43464\n",
      "G-mean: 0.65928\n",
      "__________________________________________________\n",
      "Classifier:  BaggingClassifier\n",
      "[[357  90]\n",
      " [ 19  16]]\n",
      "\n",
      "TNR: 0.79866\n",
      "TPR: 0.45714\n",
      "TNRxTPR: 0.3651\n",
      "G-mean: 0.60424\n",
      "__________________________________________________\n",
      "Classifier:  RandomForestClassifier\n",
      "[[371  76]\n",
      " [ 17  18]]\n",
      "\n",
      "TNR: 0.82998\n",
      "TPR: 0.51429\n",
      "TNRxTPR: 0.42685\n",
      "G-mean: 0.65333\n",
      "__________________________________________________\n",
      "Ensemble predictions (majority voting):\n",
      "[[359  88]\n",
      " [ 16  19]]\n",
      "\n",
      "TNR: 0.80313\n",
      "TPR: 0.54286\n",
      "TNRxTPR: 0.43599\n",
      "G-mean: 0.66029\n"
     ]
    }
   ],
   "source": [
    "train_val(X_eq, y_eq, X_test, y_test)"
   ]
  },
  {
   "cell_type": "markdown",
   "metadata": {
    "id": "RydFSMjOoD87"
   },
   "source": [
    "## References  \n",
    "\n",
    "  - Classification with Imbalanced Datasets:  \n",
    "    https://sci2s.ugr.es/imbalanced  \n",
    "  - Computer Vision:  Models, Learning, and Inference (Simon J.D. Prince):  \n",
    "    http://www.computervisionmodels.com/  \n",
    "  - Oversampling with VAEs:  \n",
    "    https://towardsdatascience.com/oversampling-with-vaes-e410887fe51  \n"
   ]
  }
 ],
 "metadata": {
  "colab": {
   "provenance": []
  },
  "gpuClass": "standard",
  "kernelspec": {
   "display_name": "Python 3 (ipykernel)",
   "language": "python",
   "name": "python3"
  },
  "language_info": {
   "codemirror_mode": {
    "name": "ipython",
    "version": 3
   },
   "file_extension": ".py",
   "mimetype": "text/x-python",
   "name": "python",
   "nbconvert_exporter": "python",
   "pygments_lexer": "ipython3",
   "version": "3.9.7"
  }
 },
 "nbformat": 4,
 "nbformat_minor": 1
}
