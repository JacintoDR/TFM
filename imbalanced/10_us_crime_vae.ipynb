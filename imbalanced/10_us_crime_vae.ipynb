{
 "cells": [
  {
   "cell_type": "markdown",
   "metadata": {
    "id": "qLO_siFYEPSg"
   },
   "source": [
    "# Dealing with imbalanced datasets, combining oversampling with VAE and undersampling to improve model recognition over all classes.  "
   ]
  },
  {
   "cell_type": "code",
   "execution_count": 1,
   "metadata": {
    "colab": {
     "base_uri": "https://localhost:8080/"
    },
    "executionInfo": {
     "elapsed": 20097,
     "status": "ok",
     "timestamp": 1688995197708,
     "user": {
      "displayName": "JACINTO DOMINGUEZ RULL",
      "userId": "04779779024889038949"
     },
     "user_tz": -120
    },
    "id": "4_CcHvHZUwyO",
    "outputId": "4433e4ba-6238-4bfe-c8ba-95861d697504"
   },
   "outputs": [
    {
     "name": "stdout",
     "output_type": "stream",
     "text": [
      "Collecting catboost\n",
      "  Downloading catboost-1.2-cp310-cp310-manylinux2014_x86_64.whl (98.6 MB)\n",
      "\u001b[2K     \u001b[90m━━━━━━━━━━━━━━━━━━━━━━━━━━━━━━━━━━━━━━━━\u001b[0m \u001b[32m98.6/98.6 MB\u001b[0m \u001b[31m2.3 MB/s\u001b[0m eta \u001b[36m0:00:00\u001b[0m\n",
      "\u001b[?25hRequirement already satisfied: graphviz in /usr/local/lib/python3.10/dist-packages (from catboost) (0.20.1)\n",
      "Requirement already satisfied: matplotlib in /usr/local/lib/python3.10/dist-packages (from catboost) (3.7.1)\n",
      "Requirement already satisfied: numpy>=1.16.0 in /usr/local/lib/python3.10/dist-packages (from catboost) (1.22.4)\n",
      "Requirement already satisfied: pandas>=0.24 in /usr/local/lib/python3.10/dist-packages (from catboost) (1.5.3)\n",
      "Requirement already satisfied: scipy in /usr/local/lib/python3.10/dist-packages (from catboost) (1.10.1)\n",
      "Requirement already satisfied: plotly in /usr/local/lib/python3.10/dist-packages (from catboost) (5.13.1)\n",
      "Requirement already satisfied: six in /usr/local/lib/python3.10/dist-packages (from catboost) (1.16.0)\n",
      "Requirement already satisfied: python-dateutil>=2.8.1 in /usr/local/lib/python3.10/dist-packages (from pandas>=0.24->catboost) (2.8.2)\n",
      "Requirement already satisfied: pytz>=2020.1 in /usr/local/lib/python3.10/dist-packages (from pandas>=0.24->catboost) (2022.7.1)\n",
      "Requirement already satisfied: contourpy>=1.0.1 in /usr/local/lib/python3.10/dist-packages (from matplotlib->catboost) (1.1.0)\n",
      "Requirement already satisfied: cycler>=0.10 in /usr/local/lib/python3.10/dist-packages (from matplotlib->catboost) (0.11.0)\n",
      "Requirement already satisfied: fonttools>=4.22.0 in /usr/local/lib/python3.10/dist-packages (from matplotlib->catboost) (4.40.0)\n",
      "Requirement already satisfied: kiwisolver>=1.0.1 in /usr/local/lib/python3.10/dist-packages (from matplotlib->catboost) (1.4.4)\n",
      "Requirement already satisfied: packaging>=20.0 in /usr/local/lib/python3.10/dist-packages (from matplotlib->catboost) (23.1)\n",
      "Requirement already satisfied: pillow>=6.2.0 in /usr/local/lib/python3.10/dist-packages (from matplotlib->catboost) (8.4.0)\n",
      "Requirement already satisfied: pyparsing>=2.3.1 in /usr/local/lib/python3.10/dist-packages (from matplotlib->catboost) (3.1.0)\n",
      "Requirement already satisfied: tenacity>=6.2.0 in /usr/local/lib/python3.10/dist-packages (from plotly->catboost) (8.2.2)\n",
      "Installing collected packages: catboost\n",
      "Successfully installed catboost-1.2\n"
     ]
    }
   ],
   "source": [
    "!pip install catboost"
   ]
  },
  {
   "cell_type": "markdown",
   "metadata": {
    "id": "IOzC3QPArH_F"
   },
   "source": [
    "Import packages, classifiers and etc."
   ]
  },
  {
   "cell_type": "code",
   "execution_count": 1,
   "metadata": {
    "_cell_guid": "b1076dfc-b9ad-4769-8c92-a6c4dae69d19",
    "_uuid": "8f2839f25d086af736a60e9eeb907d3b93b6e0e5",
    "executionInfo": {
     "elapsed": 3174,
     "status": "ok",
     "timestamp": 1688995206705,
     "user": {
      "displayName": "JACINTO DOMINGUEZ RULL",
      "userId": "04779779024889038949"
     },
     "user_tz": -120
    },
    "id": "GDNB_c5RrH_I"
   },
   "outputs": [],
   "source": [
    "import pandas as pd\n",
    "import numpy as np\n",
    "\n",
    "from sklearn.preprocessing import StandardScaler\n",
    "from sklearn.model_selection import train_test_split, cross_validate\n",
    "\n",
    "from catboost import CatBoostClassifier\n",
    "from lightgbm import LGBMClassifier\n",
    "from xgboost import XGBClassifier\n",
    "from sklearn.ensemble import BaggingClassifier, RandomForestClassifier\n",
    "\n",
    "from sklearn.metrics import confusion_matrix, make_scorer\n",
    "from imblearn.metrics import classification_report_imbalanced, geometric_mean_score\n",
    "from collections import Counter\n",
    "\n",
    "from imblearn.over_sampling import SMOTE, RandomOverSampler"
   ]
  },
  {
   "cell_type": "markdown",
   "metadata": {
    "id": "7qxBXk4fPiJx"
   },
   "source": [
    "Import VAEOversampler."
   ]
  },
  {
   "cell_type": "code",
   "execution_count": 2,
   "metadata": {
    "executionInfo": {
     "elapsed": 8866,
     "status": "ok",
     "timestamp": 1688995216025,
     "user": {
      "displayName": "JACINTO DOMINGUEZ RULL",
      "userId": "04779779024889038949"
     },
     "user_tz": -120
    },
    "id": "DqyRUyWlvryO"
   },
   "outputs": [
    {
     "name": "stderr",
     "output_type": "stream",
     "text": [
      "2023-07-10 17:05:07.099332: W tensorflow/stream_executor/platform/default/dso_loader.cc:64] Could not load dynamic library 'libcudart.so.11.0'; dlerror: libcudart.so.11.0: cannot open shared object file: No such file or directory\n",
      "2023-07-10 17:05:07.099354: I tensorflow/stream_executor/cuda/cudart_stub.cc:29] Ignore above cudart dlerror if you do not have a GPU set up on your machine.\n"
     ]
    }
   ],
   "source": [
    "from VAEOversampler import VAEOversampler"
   ]
  },
  {
   "cell_type": "markdown",
   "metadata": {
    "id": "8UEMO2hTPztj"
   },
   "source": [
    "## Loading data  \n",
    "You can load some dataset from Imbalanced Learn list (https://imbalanced-learn.org/stable/datasets/index.html) or use your own data.  \n"
   ]
  },
  {
   "cell_type": "code",
   "execution_count": 3,
   "metadata": {
    "executionInfo": {
     "elapsed": 62363,
     "status": "ok",
     "timestamp": 1688995285297,
     "user": {
      "displayName": "JACINTO DOMINGUEZ RULL",
      "userId": "04779779024889038949"
     },
     "user_tz": -120
    },
    "id": "Xnh_x70FwVCi"
   },
   "outputs": [],
   "source": [
    "from imblearn.datasets import fetch_datasets\n",
    "\n",
    "dset_name = 'us_crime'\n",
    "dset = fetch_datasets()[dset_name]\n",
    "\n",
    "X, y = StandardScaler().fit_transform(dset.data), dset.target"
   ]
  },
  {
   "cell_type": "code",
   "execution_count": 4,
   "metadata": {
    "colab": {
     "base_uri": "https://localhost:8080/"
    },
    "executionInfo": {
     "elapsed": 506,
     "status": "ok",
     "timestamp": 1688995296163,
     "user": {
      "displayName": "JACINTO DOMINGUEZ RULL",
      "userId": "04779779024889038949"
     },
     "user_tz": -120
    },
    "id": "v_SUvgVSByCD",
    "outputId": "11fc0fdf-fc35-44e1-cde2-29ae6ccca978"
   },
   "outputs": [
    {
     "data": {
      "text/plain": [
       "array([[ 1.04361188, -0.81499701, -0.6300017 , ...,  0.13369936,\n",
       "         0.1673161 ,  0.94039921],\n",
       "       [-0.45393678, -1.85363638, -0.23533523, ..., -0.55581688,\n",
       "         1.25903177, -0.39144686],\n",
       "       [-0.45393678, -0.26512911,  1.22493074, ..., -0.11255644,\n",
       "        -0.61871918, -0.39144686],\n",
       "       ...,\n",
       "       [ 0.80715683, -0.57061128,  0.27773119, ...,  0.42920632,\n",
       "         0.07997885,  3.39599039],\n",
       "       [ 0.17661003,  0.2847388 , -0.47213511, ...,  0.72471328,\n",
       "         0.73500825,  0.52419731],\n",
       "       [ 1.12243023,  1.9343425 , -0.15640193, ...,  0.330704  ,\n",
       "        -0.4877133 ,  3.77057209]])"
      ]
     },
     "execution_count": 4,
     "metadata": {},
     "output_type": "execute_result"
    }
   ],
   "source": [
    "X"
   ]
  },
  {
   "cell_type": "code",
   "execution_count": 5,
   "metadata": {
    "executionInfo": {
     "elapsed": 449,
     "status": "ok",
     "timestamp": 1688995298970,
     "user": {
      "displayName": "JACINTO DOMINGUEZ RULL",
      "userId": "04779779024889038949"
     },
     "user_tz": -120
    },
    "id": "Tb09lFMxPS2J"
   },
   "outputs": [],
   "source": [
    "y[y == -1] = 0"
   ]
  },
  {
   "cell_type": "markdown",
   "metadata": {
    "id": "hpLA_GmKSJwN"
   },
   "source": [
    "We split data into train and test partitions."
   ]
  },
  {
   "cell_type": "code",
   "execution_count": 6,
   "metadata": {
    "executionInfo": {
     "elapsed": 403,
     "status": "ok",
     "timestamp": 1688995301980,
     "user": {
      "displayName": "JACINTO DOMINGUEZ RULL",
      "userId": "04779779024889038949"
     },
     "user_tz": -120
    },
    "id": "ZS-Dd0R9GbBY"
   },
   "outputs": [],
   "source": [
    "X_train, X_test, y_train, y_test = train_test_split(X, y, test_size=0.2, random_state=42, stratify=y)"
   ]
  },
  {
   "cell_type": "markdown",
   "metadata": {
    "id": "Em7Um0N4rH_S"
   },
   "source": [
    "This is a simple function to undersample freely.  "
   ]
  },
  {
   "cell_type": "code",
   "execution_count": 7,
   "metadata": {
    "executionInfo": {
     "elapsed": 13,
     "status": "ok",
     "timestamp": 1688995303389,
     "user": {
      "displayName": "JACINTO DOMINGUEZ RULL",
      "userId": "04779779024889038949"
     },
     "user_tz": -120
    },
    "id": "1cdWcXE3Ofok"
   },
   "outputs": [],
   "source": [
    "# RUS\n",
    "\n",
    "def RUS(X_res, y_res, frac=1, minority_class_id=1, random_state=42):\n",
    "    X_res = pd.DataFrame(X_res)\n",
    "    X_res['Class'] = y_res\n",
    "\n",
    "    X_neg = X_res[y_res != minority_class_id].sample(frac=frac, random_state=random_state)\n",
    "    X_pos = X_res[y_res == minority_class_id].sample(frac=1, random_state=random_state)\n",
    "\n",
    "    X_rus = pd.concat([X_neg, X_pos], ignore_index=True)\n",
    "\n",
    "    X_eq = X_rus.drop('Class', axis=1)\n",
    "    y_eq = X_rus['Class']\n",
    "\n",
    "    return X_eq, y_eq"
   ]
  },
  {
   "cell_type": "code",
   "execution_count": 8,
   "metadata": {
    "executionInfo": {
     "elapsed": 10,
     "status": "ok",
     "timestamp": 1688995305101,
     "user": {
      "displayName": "JACINTO DOMINGUEZ RULL",
      "userId": "04779779024889038949"
     },
     "user_tz": -120
    },
    "id": "1Ep1nUMCES98"
   },
   "outputs": [],
   "source": [
    "def train_val(X, y, Xt, yt, random_state=42):\n",
    "    classifiers = {\n",
    "        \"CatBoostClassifier\": CatBoostClassifier(verbose=False, random_seed=random_state),\n",
    "        \"LGBMClassifier\": LGBMClassifier(random_state=random_state),\n",
    "        \"XGBClassifier\": XGBClassifier(random_state=random_state),\n",
    "        \"BaggingClassifier\": BaggingClassifier(random_state=random_state),\n",
    "        \"RandomForestClassifier\": RandomForestClassifier(random_state=random_state),\n",
    "    }\n",
    "    scores = []\n",
    "    predictions = []\n",
    "    for key, classifier in classifiers.items():\n",
    "        print('_' * 50)\n",
    "        name = key\n",
    "        classifier.fit(X, y)\n",
    "        print(\"Classifier: \", name)\n",
    "        y_pred = classifier.predict(Xt)\n",
    "        cm = confusion_matrix(yt, y_pred)\n",
    "        print(cm)\n",
    "        print('')\n",
    "        predictions.append(y_pred)\n",
    "        tn = cm[0,0]\n",
    "        fp = cm[0,1]\n",
    "        fn = cm[1,0]\n",
    "        tp = cm[1,1]\n",
    "        tnr = tn / (tn + fp)\n",
    "        tpr = tp / (tp + fn)\n",
    "        scores.append(tnr * tpr)\n",
    "        print('TNR:', round(tnr, 5))\n",
    "        print('TPR:', round(tpr, 5))\n",
    "        print('TNRxTPR:', round(tnr * tpr, 5))\n",
    "        print('G-mean:', round(np.sqrt(tnr * tpr), 5))\n",
    "\n",
    "    print('_' * 50)\n",
    "    print('Ensemble predictions (majority voting):')\n",
    "    predictions = np.sum(predictions, axis=0)\n",
    "    predictions[predictions < 3] = 0\n",
    "    predictions[predictions >= 3] = 1\n",
    "\n",
    "    cm = confusion_matrix(yt, predictions)\n",
    "    print(cm)\n",
    "    tn = cm[0,0]\n",
    "    fp = cm[0,1]\n",
    "    fn = cm[1,0]\n",
    "    tp = cm[1,1]\n",
    "    tnr = tn / (tn + fp)\n",
    "    tpr = tp / (tp + fn)\n",
    "    print('')\n",
    "    print('TNR:', round(tnr, 5))\n",
    "    print('TPR:', round(tpr, 5))\n",
    "    print('TNRxTPR:', round(tnr * tpr, 5))\n",
    "    print('G-mean:', round(np.sqrt(tnr * tpr), 5))\n"
   ]
  },
  {
   "cell_type": "markdown",
   "metadata": {},
   "source": [
    "## Without resampling (base line) \n",
    "Which is starting score?\n"
   ]
  },
  {
   "cell_type": "code",
   "execution_count": 9,
   "metadata": {},
   "outputs": [
    {
     "name": "stdout",
     "output_type": "stream",
     "text": [
      "Original dataset shape Counter({0: 1844, 1: 150})\n",
      "Ratio-> 12.3 : 1\n"
     ]
    }
   ],
   "source": [
    "print('Original dataset shape %s' % Counter(y))\n",
    "print('Ratio->', round(Counter(y)[0]/Counter(y)[1], 1), ': 1')"
   ]
  },
  {
   "cell_type": "code",
   "execution_count": 10,
   "metadata": {},
   "outputs": [
    {
     "name": "stdout",
     "output_type": "stream",
     "text": [
      "__________________________________________________\n",
      "Classifier:  CatBoostClassifier\n",
      "[[362   7]\n",
      " [ 15  15]]\n",
      "\n",
      "TNR: 0.98103\n",
      "TPR: 0.5\n",
      "TNRxTPR: 0.49051\n",
      "G-mean: 0.70037\n",
      "__________________________________________________\n",
      "Classifier:  LGBMClassifier\n",
      "[[361   8]\n",
      " [ 18  12]]\n",
      "\n",
      "TNR: 0.97832\n",
      "TPR: 0.4\n",
      "TNRxTPR: 0.39133\n",
      "G-mean: 0.62556\n",
      "__________________________________________________\n",
      "Classifier:  XGBClassifier\n",
      "[[361   8]\n",
      " [ 13  17]]\n",
      "\n",
      "TNR: 0.97832\n",
      "TPR: 0.56667\n",
      "TNRxTPR: 0.55438\n",
      "G-mean: 0.74457\n",
      "__________________________________________________\n",
      "Classifier:  BaggingClassifier\n",
      "[[361   8]\n",
      " [ 18  12]]\n",
      "\n",
      "TNR: 0.97832\n",
      "TPR: 0.4\n",
      "TNRxTPR: 0.39133\n",
      "G-mean: 0.62556\n",
      "__________________________________________________\n",
      "Classifier:  RandomForestClassifier\n",
      "[[363   6]\n",
      " [ 17  13]]\n",
      "\n",
      "TNR: 0.98374\n",
      "TPR: 0.43333\n",
      "TNRxTPR: 0.42629\n",
      "G-mean: 0.65291\n",
      "__________________________________________________\n",
      "Ensemble predictions (majority voting):\n",
      "[[362   7]\n",
      " [ 17  13]]\n",
      "\n",
      "TNR: 0.98103\n",
      "TPR: 0.43333\n",
      "TNRxTPR: 0.42511\n",
      "G-mean: 0.65201\n"
     ]
    }
   ],
   "source": [
    "train_val(X_train, y_train, X_test, y_test)"
   ]
  },
  {
   "cell_type": "markdown",
   "metadata": {
    "id": "jcCxQq6-Uvyr"
   },
   "source": [
    "## Ratio 1:1  \n",
    "Let's see classifiers scores when dataset is balanced.  \n"
   ]
  },
  {
   "cell_type": "code",
   "execution_count": 11,
   "metadata": {
    "executionInfo": {
     "elapsed": 357,
     "status": "ok",
     "timestamp": 1688995307675,
     "user": {
      "displayName": "JACINTO DOMINGUEZ RULL",
      "userId": "04779779024889038949"
     },
     "user_tz": -120
    },
    "id": "BHJ2B9Cx_nsc"
   },
   "outputs": [],
   "source": [
    "# SMOTE\n",
    "\n",
    "sm = SMOTE(random_state=42, sampling_strategy=1) # N_rm / N_M\n",
    "X_res, y_res = sm.fit_resample(X_train, y_train)"
   ]
  },
  {
   "cell_type": "code",
   "execution_count": 12,
   "metadata": {
    "colab": {
     "base_uri": "https://localhost:8080/"
    },
    "executionInfo": {
     "elapsed": 387,
     "status": "ok",
     "timestamp": 1688995310860,
     "user": {
      "displayName": "JACINTO DOMINGUEZ RULL",
      "userId": "04779779024889038949"
     },
     "user_tz": -120
    },
    "id": "6U0Byc1lUvys",
    "outputId": "181ce847-ebb3-41e7-9ad6-e6da7cc70634"
   },
   "outputs": [
    {
     "name": "stdout",
     "output_type": "stream",
     "text": [
      "Resampled dataset shape Counter({0: 1475, 1: 1475})\n",
      "Ratio->  1 : 1.0\n"
     ]
    }
   ],
   "source": [
    "print('Resampled dataset shape %s' % Counter(y_res))\n",
    "print('Ratio->  1 :', round(Counter(y_res)[1]/Counter(y_res)[0], 1))"
   ]
  },
  {
   "cell_type": "code",
   "execution_count": 13,
   "metadata": {
    "colab": {
     "base_uri": "https://localhost:8080/"
    },
    "executionInfo": {
     "elapsed": 40216,
     "status": "ok",
     "timestamp": 1688995352688,
     "user": {
      "displayName": "JACINTO DOMINGUEZ RULL",
      "userId": "04779779024889038949"
     },
     "user_tz": -120
    },
    "id": "CMGEySDMpTdx",
    "outputId": "499c6531-cf29-4c8f-e045-290037f6543c",
    "scrolled": false
   },
   "outputs": [
    {
     "name": "stdout",
     "output_type": "stream",
     "text": [
      "__________________________________________________\n",
      "Classifier:  CatBoostClassifier\n",
      "[[348  21]\n",
      " [ 12  18]]\n",
      "\n",
      "TNR: 0.94309\n",
      "TPR: 0.6\n",
      "TNRxTPR: 0.56585\n",
      "G-mean: 0.75223\n",
      "__________________________________________________\n",
      "Classifier:  LGBMClassifier\n",
      "[[348  21]\n",
      " [ 13  17]]\n",
      "\n",
      "TNR: 0.94309\n",
      "TPR: 0.56667\n",
      "TNRxTPR: 0.53442\n",
      "G-mean: 0.73104\n",
      "__________________________________________________\n",
      "Classifier:  XGBClassifier\n",
      "[[354  15]\n",
      " [ 11  19]]\n",
      "\n",
      "TNR: 0.95935\n",
      "TPR: 0.63333\n",
      "TNRxTPR: 0.60759\n",
      "G-mean: 0.77948\n",
      "__________________________________________________\n",
      "Classifier:  BaggingClassifier\n",
      "[[349  20]\n",
      " [ 16  14]]\n",
      "\n",
      "TNR: 0.9458\n",
      "TPR: 0.46667\n",
      "TNRxTPR: 0.44137\n",
      "G-mean: 0.66436\n",
      "__________________________________________________\n",
      "Classifier:  RandomForestClassifier\n",
      "[[351  18]\n",
      " [ 12  18]]\n",
      "\n",
      "TNR: 0.95122\n",
      "TPR: 0.6\n",
      "TNRxTPR: 0.57073\n",
      "G-mean: 0.75547\n",
      "__________________________________________________\n",
      "Ensemble predictions (majority voting):\n",
      "[[350  19]\n",
      " [ 13  17]]\n",
      "\n",
      "TNR: 0.94851\n",
      "TPR: 0.56667\n",
      "TNRxTPR: 0.53749\n",
      "G-mean: 0.73314\n"
     ]
    }
   ],
   "source": [
    "train_val(X_res, y_res, X_test, y_test)"
   ]
  },
  {
   "cell_type": "code",
   "execution_count": 14,
   "metadata": {
    "executionInfo": {
     "elapsed": 628,
     "status": "ok",
     "timestamp": 1688995372242,
     "user": {
      "displayName": "JACINTO DOMINGUEZ RULL",
      "userId": "04779779024889038949"
     },
     "user_tz": -120
    },
    "id": "hiRVkg2eUx0U"
   },
   "outputs": [],
   "source": [
    "# ROS\n",
    "\n",
    "ros = RandomOverSampler(random_state=42, sampling_strategy=1) # N_rm / N_M\n",
    "X_res, y_res = ros.fit_resample(X_train, y_train)"
   ]
  },
  {
   "cell_type": "code",
   "execution_count": 15,
   "metadata": {
    "colab": {
     "base_uri": "https://localhost:8080/"
    },
    "executionInfo": {
     "elapsed": 15,
     "status": "ok",
     "timestamp": 1688995373401,
     "user": {
      "displayName": "JACINTO DOMINGUEZ RULL",
      "userId": "04779779024889038949"
     },
     "user_tz": -120
    },
    "id": "7igPUXNbUvyu",
    "outputId": "1553fdf0-4da8-4eca-8d96-157efd69a1fe"
   },
   "outputs": [
    {
     "name": "stdout",
     "output_type": "stream",
     "text": [
      "Resampled dataset shape Counter({0: 1475, 1: 1475})\n",
      "Ratio->  1 : 1.0\n"
     ]
    }
   ],
   "source": [
    "print('Resampled dataset shape %s' % Counter(y_res))\n",
    "print('Ratio->  1 :', round(Counter(y_res)[1]/Counter(y_res)[0], 1))"
   ]
  },
  {
   "cell_type": "code",
   "execution_count": 16,
   "metadata": {
    "colab": {
     "base_uri": "https://localhost:8080/"
    },
    "executionInfo": {
     "elapsed": 16416,
     "status": "ok",
     "timestamp": 1688995391595,
     "user": {
      "displayName": "JACINTO DOMINGUEZ RULL",
      "userId": "04779779024889038949"
     },
     "user_tz": -120
    },
    "id": "IMANwdwxUx0b",
    "outputId": "f53bd412-4cd1-4a21-ac45-4bbb7d5e13e5",
    "scrolled": false
   },
   "outputs": [
    {
     "name": "stdout",
     "output_type": "stream",
     "text": [
      "__________________________________________________\n",
      "Classifier:  CatBoostClassifier\n",
      "[[354  15]\n",
      " [ 12  18]]\n",
      "\n",
      "TNR: 0.95935\n",
      "TPR: 0.6\n",
      "TNRxTPR: 0.57561\n",
      "G-mean: 0.75869\n",
      "__________________________________________________\n",
      "Classifier:  LGBMClassifier\n",
      "[[356  13]\n",
      " [ 15  15]]\n",
      "\n",
      "TNR: 0.96477\n",
      "TPR: 0.5\n",
      "TNRxTPR: 0.48238\n",
      "G-mean: 0.69454\n",
      "__________________________________________________\n",
      "Classifier:  XGBClassifier\n",
      "[[353  16]\n",
      " [ 13  17]]\n",
      "\n",
      "TNR: 0.95664\n",
      "TPR: 0.56667\n",
      "TNRxTPR: 0.5421\n",
      "G-mean: 0.73627\n",
      "__________________________________________________\n",
      "Classifier:  BaggingClassifier\n",
      "[[351  18]\n",
      " [ 20  10]]\n",
      "\n",
      "TNR: 0.95122\n",
      "TPR: 0.33333\n",
      "TNRxTPR: 0.31707\n",
      "G-mean: 0.56309\n",
      "__________________________________________________\n",
      "Classifier:  RandomForestClassifier\n",
      "[[357  12]\n",
      " [ 15  15]]\n",
      "\n",
      "TNR: 0.96748\n",
      "TPR: 0.5\n",
      "TNRxTPR: 0.48374\n",
      "G-mean: 0.69551\n",
      "__________________________________________________\n",
      "Ensemble predictions (majority voting):\n",
      "[[355  14]\n",
      " [ 14  16]]\n",
      "\n",
      "TNR: 0.96206\n",
      "TPR: 0.53333\n",
      "TNRxTPR: 0.5131\n",
      "G-mean: 0.71631\n"
     ]
    }
   ],
   "source": [
    "train_val(X_res, y_res, X_test, y_test)"
   ]
  },
  {
   "cell_type": "code",
   "execution_count": 17,
   "metadata": {
    "colab": {
     "base_uri": "https://localhost:8080/"
    },
    "executionInfo": {
     "elapsed": 22962,
     "status": "ok",
     "timestamp": 1688995428676,
     "user": {
      "displayName": "JACINTO DOMINGUEZ RULL",
      "userId": "04779779024889038949"
     },
     "user_tz": -120
    },
    "id": "B065rYa3wO-o",
    "outputId": "c1a1f53d-b677-4e8b-a3fc-0baed87c76c7"
   },
   "outputs": [
    {
     "name": "stdout",
     "output_type": "stream",
     "text": [
      "43/43 [==============================] - 0s 1ms/step\n"
     ]
    }
   ],
   "source": [
    "# VAEOversampler\n",
    "\n",
    "vae_sampler = VAEOversampler(epochs=500,\n",
    "                              intermediate_dim=512,\n",
    "                              batch_size=64,\n",
    "                              random_state=42,\n",
    "                              verbose=False)\n",
    "X_res, y_res = vae_sampler.fit_resample(X_train, y_train)"
   ]
  },
  {
   "cell_type": "code",
   "execution_count": 18,
   "metadata": {
    "colab": {
     "base_uri": "https://localhost:8080/"
    },
    "executionInfo": {
     "elapsed": 351,
     "status": "ok",
     "timestamp": 1688995436509,
     "user": {
      "displayName": "JACINTO DOMINGUEZ RULL",
      "userId": "04779779024889038949"
     },
     "user_tz": -120
    },
    "id": "nOsNattyeSXh",
    "outputId": "675e48ff-df76-48f7-daff-d244dda92b04"
   },
   "outputs": [
    {
     "name": "stdout",
     "output_type": "stream",
     "text": [
      "Resampled dataset shape Counter({0.0: 1475, 1.0: 1475})\n",
      "Ratio->  1 : 1.0\n"
     ]
    }
   ],
   "source": [
    "print('Resampled dataset shape %s' % Counter(y_res))\n",
    "print('Ratio->  1 :', round(Counter(y_res)[1]/Counter(y_res)[0], 1))"
   ]
  },
  {
   "cell_type": "code",
   "execution_count": 19,
   "metadata": {
    "colab": {
     "base_uri": "https://localhost:8080/"
    },
    "executionInfo": {
     "elapsed": 35736,
     "status": "ok",
     "timestamp": 1688995473714,
     "user": {
      "displayName": "JACINTO DOMINGUEZ RULL",
      "userId": "04779779024889038949"
     },
     "user_tz": -120
    },
    "id": "6BNffQSbwO-t",
    "outputId": "97f57313-8e43-4eba-8675-e0b72e987ccd"
   },
   "outputs": [
    {
     "name": "stdout",
     "output_type": "stream",
     "text": [
      "__________________________________________________\n",
      "Classifier:  CatBoostClassifier\n",
      "[[359  10]\n",
      " [ 15  15]]\n",
      "\n",
      "TNR: 0.9729\n",
      "TPR: 0.5\n",
      "TNRxTPR: 0.48645\n",
      "G-mean: 0.69746\n",
      "__________________________________________________\n",
      "Classifier:  LGBMClassifier\n",
      "[[363   6]\n",
      " [ 17  13]]\n",
      "\n",
      "TNR: 0.98374\n",
      "TPR: 0.43333\n",
      "TNRxTPR: 0.42629\n",
      "G-mean: 0.65291\n",
      "__________________________________________________\n",
      "Classifier:  XGBClassifier\n",
      "[[361   8]\n",
      " [ 13  17]]\n",
      "\n",
      "TNR: 0.97832\n",
      "TPR: 0.56667\n",
      "TNRxTPR: 0.55438\n",
      "G-mean: 0.74457\n",
      "__________________________________________________\n",
      "Classifier:  BaggingClassifier\n",
      "[[362   7]\n",
      " [ 17  13]]\n",
      "\n",
      "TNR: 0.98103\n",
      "TPR: 0.43333\n",
      "TNRxTPR: 0.42511\n",
      "G-mean: 0.65201\n",
      "__________________________________________________\n",
      "Classifier:  RandomForestClassifier\n",
      "[[363   6]\n",
      " [ 18  12]]\n",
      "\n",
      "TNR: 0.98374\n",
      "TPR: 0.4\n",
      "TNRxTPR: 0.3935\n",
      "G-mean: 0.62729\n",
      "__________________________________________________\n",
      "Ensemble predictions (majority voting):\n",
      "[[362   7]\n",
      " [ 14  16]]\n",
      "\n",
      "TNR: 0.98103\n",
      "TPR: 0.53333\n",
      "TNRxTPR: 0.52322\n",
      "G-mean: 0.72334\n"
     ]
    }
   ],
   "source": [
    "train_val(X_res, y_res, X_test, y_test)"
   ]
  },
  {
   "cell_type": "markdown",
   "metadata": {
    "id": "w9swp8C1wO-w"
   },
   "source": [
    "## Under/Oversampling combination  \n",
    "Now we can tuning the number of instances for each class to optimize metric.  \n"
   ]
  },
  {
   "cell_type": "code",
   "execution_count": 38,
   "metadata": {
    "executionInfo": {
     "elapsed": 353,
     "status": "ok",
     "timestamp": 1688996408236,
     "user": {
      "displayName": "JACINTO DOMINGUEZ RULL",
      "userId": "04779779024889038949"
     },
     "user_tz": -120
    },
    "id": "D0jtqxJ8Uvyv"
   },
   "outputs": [],
   "source": [
    "# SMOTE\n",
    "\n",
    "sm = SMOTE(random_state=42, sampling_strategy=.8) # N_rm / N_M\n",
    "X_res, y_res = sm.fit_resample(X_train, y_train)"
   ]
  },
  {
   "cell_type": "code",
   "execution_count": 39,
   "metadata": {
    "colab": {
     "base_uri": "https://localhost:8080/"
    },
    "executionInfo": {
     "elapsed": 453,
     "status": "ok",
     "timestamp": 1688996413391,
     "user": {
      "displayName": "JACINTO DOMINGUEZ RULL",
      "userId": "04779779024889038949"
     },
     "user_tz": -120
    },
    "id": "uQ3_RoAsUvyv",
    "outputId": "9fcbbbc9-a53f-4242-a1af-f6fb09e825c2"
   },
   "outputs": [
    {
     "name": "stdout",
     "output_type": "stream",
     "text": [
      "Resampled dataset shape Counter({1: 1180, 0: 295})\n",
      "Ratio->  1 : 4.0\n"
     ]
    }
   ],
   "source": [
    "# RUS\n",
    "\n",
    "X_eq, y_eq = RUS(X_res, y_res, frac=.2)\n",
    "\n",
    "print('Resampled dataset shape %s' % Counter(y_eq))\n",
    "print('Ratio->  1 :', round(Counter(y_eq)[1]/Counter(y_eq)[0], 1))"
   ]
  },
  {
   "cell_type": "code",
   "execution_count": 40,
   "metadata": {
    "colab": {
     "base_uri": "https://localhost:8080/"
    },
    "executionInfo": {
     "elapsed": 35144,
     "status": "ok",
     "timestamp": 1688996450845,
     "user": {
      "displayName": "JACINTO DOMINGUEZ RULL",
      "userId": "04779779024889038949"
     },
     "user_tz": -120
    },
    "id": "TPcOZeONUvyw",
    "outputId": "3303ee5a-4fdb-420a-b40f-6605533f1a34",
    "scrolled": false
   },
   "outputs": [
    {
     "name": "stdout",
     "output_type": "stream",
     "text": [
      "__________________________________________________\n",
      "Classifier:  CatBoostClassifier\n",
      "[[306  63]\n",
      " [  3  27]]\n",
      "\n",
      "TNR: 0.82927\n",
      "TPR: 0.9\n",
      "TNRxTPR: 0.74634\n",
      "G-mean: 0.86391\n",
      "__________________________________________________\n",
      "Classifier:  LGBMClassifier\n",
      "[[316  53]\n",
      " [  4  26]]\n",
      "\n",
      "TNR: 0.85637\n",
      "TPR: 0.86667\n",
      "TNRxTPR: 0.74219\n",
      "G-mean: 0.8615\n",
      "__________________________________________________\n",
      "Classifier:  XGBClassifier\n",
      "[[317  52]\n",
      " [  4  26]]\n",
      "\n",
      "TNR: 0.85908\n",
      "TPR: 0.86667\n",
      "TNRxTPR: 0.74453\n",
      "G-mean: 0.86286\n",
      "__________________________________________________\n",
      "Classifier:  BaggingClassifier\n",
      "[[323  46]\n",
      " [  4  26]]\n",
      "\n",
      "TNR: 0.87534\n",
      "TPR: 0.86667\n",
      "TNRxTPR: 0.75863\n",
      "G-mean: 0.87099\n",
      "__________________________________________________\n",
      "Classifier:  RandomForestClassifier\n",
      "[[312  57]\n",
      " [  3  27]]\n",
      "\n",
      "TNR: 0.84553\n",
      "TPR: 0.9\n",
      "TNRxTPR: 0.76098\n",
      "G-mean: 0.87234\n",
      "__________________________________________________\n",
      "Ensemble predictions (majority voting):\n",
      "[[313  56]\n",
      " [  4  26]]\n",
      "\n",
      "TNR: 0.84824\n",
      "TPR: 0.86667\n",
      "TNRxTPR: 0.73514\n",
      "G-mean: 0.8574\n"
     ]
    }
   ],
   "source": [
    "train_val(X_eq, y_eq, X_test, y_test)"
   ]
  },
  {
   "cell_type": "code",
   "execution_count": 23,
   "metadata": {
    "executionInfo": {
     "elapsed": 412,
     "status": "ok",
     "timestamp": 1688995653229,
     "user": {
      "displayName": "JACINTO DOMINGUEZ RULL",
      "userId": "04779779024889038949"
     },
     "user_tz": -120
    },
    "id": "-mGQlfSdUvyw"
   },
   "outputs": [],
   "source": [
    "# ROS\n",
    "\n",
    "ros = RandomOverSampler(random_state=42, sampling_strategy=.8) # N_rm / N_M\n",
    "X_res, y_res = ros.fit_resample(X_train, y_train)"
   ]
  },
  {
   "cell_type": "code",
   "execution_count": 24,
   "metadata": {
    "colab": {
     "base_uri": "https://localhost:8080/"
    },
    "executionInfo": {
     "elapsed": 29,
     "status": "ok",
     "timestamp": 1688995654640,
     "user": {
      "displayName": "JACINTO DOMINGUEZ RULL",
      "userId": "04779779024889038949"
     },
     "user_tz": -120
    },
    "id": "8fdzr1qOUvyw",
    "outputId": "b3249966-2c06-4802-b332-a30b0fb4cee5"
   },
   "outputs": [
    {
     "name": "stdout",
     "output_type": "stream",
     "text": [
      "Resampled dataset shape Counter({1: 1180, 0: 295})\n",
      "Ratio->  1 : 4.0\n"
     ]
    }
   ],
   "source": [
    "# RUS\n",
    "\n",
    "X_eq, y_eq = RUS(X_res, y_res, frac=.2)\n",
    "\n",
    "print('Resampled dataset shape %s' % Counter(y_eq))\n",
    "print('Ratio->  1 :', round(Counter(y_eq)[1]/Counter(y_eq)[0], 1))"
   ]
  },
  {
   "cell_type": "code",
   "execution_count": 25,
   "metadata": {
    "colab": {
     "base_uri": "https://localhost:8080/"
    },
    "executionInfo": {
     "elapsed": 11836,
     "status": "ok",
     "timestamp": 1688995668496,
     "user": {
      "displayName": "JACINTO DOMINGUEZ RULL",
      "userId": "04779779024889038949"
     },
     "user_tz": -120
    },
    "id": "u0UCU05gUvyw",
    "outputId": "c999c822-4c95-47a9-e53d-0089cbd4bf4f",
    "scrolled": false
   },
   "outputs": [
    {
     "name": "stdout",
     "output_type": "stream",
     "text": [
      "__________________________________________________\n",
      "Classifier:  CatBoostClassifier\n",
      "[[311  58]\n",
      " [  2  28]]\n",
      "\n",
      "TNR: 0.84282\n",
      "TPR: 0.93333\n",
      "TNRxTPR: 0.78663\n",
      "G-mean: 0.88692\n",
      "__________________________________________________\n",
      "Classifier:  LGBMClassifier\n",
      "[[317  52]\n",
      " [  5  25]]\n",
      "\n",
      "TNR: 0.85908\n",
      "TPR: 0.83333\n",
      "TNRxTPR: 0.7159\n",
      "G-mean: 0.84611\n",
      "__________________________________________________\n",
      "Classifier:  XGBClassifier\n",
      "[[318  51]\n",
      " [  8  22]]\n",
      "\n",
      "TNR: 0.86179\n",
      "TPR: 0.73333\n",
      "TNRxTPR: 0.63198\n",
      "G-mean: 0.79497\n",
      "__________________________________________________\n",
      "Classifier:  BaggingClassifier\n",
      "[[313  56]\n",
      " [  6  24]]\n",
      "\n",
      "TNR: 0.84824\n",
      "TPR: 0.8\n",
      "TNRxTPR: 0.67859\n",
      "G-mean: 0.82377\n",
      "__________________________________________________\n",
      "Classifier:  RandomForestClassifier\n",
      "[[326  43]\n",
      " [  4  26]]\n",
      "\n",
      "TNR: 0.88347\n",
      "TPR: 0.86667\n",
      "TNRxTPR: 0.76567\n",
      "G-mean: 0.87503\n",
      "__________________________________________________\n",
      "Ensemble predictions (majority voting):\n",
      "[[318  51]\n",
      " [  3  27]]\n",
      "\n",
      "TNR: 0.86179\n",
      "TPR: 0.9\n",
      "TNRxTPR: 0.77561\n",
      "G-mean: 0.88069\n"
     ]
    }
   ],
   "source": [
    "train_val(X_eq, y_eq, X_test, y_test)"
   ]
  },
  {
   "cell_type": "code",
   "execution_count": 32,
   "metadata": {
    "colab": {
     "base_uri": "https://localhost:8080/"
    },
    "executionInfo": {
     "elapsed": 635,
     "status": "ok",
     "timestamp": 1688996013493,
     "user": {
      "displayName": "JACINTO DOMINGUEZ RULL",
      "userId": "04779779024889038949"
     },
     "user_tz": -120
    },
    "id": "T6benPDnCzym",
    "outputId": "46345bea-6043-4461-dd80-7ab21fcc8cb0"
   },
   "outputs": [
    {
     "name": "stdout",
     "output_type": "stream",
     "text": [
      "39/39 [==============================] - 0s 1ms/step\n"
     ]
    }
   ],
   "source": [
    "# VAEOversampler\n",
    "\n",
    "X_res, y_res = vae_sampler.resample(X_train, y_train, sampling_strategy=.9)"
   ]
  },
  {
   "cell_type": "code",
   "execution_count": 33,
   "metadata": {
    "colab": {
     "base_uri": "https://localhost:8080/"
    },
    "executionInfo": {
     "elapsed": 22,
     "status": "ok",
     "timestamp": 1688996014915,
     "user": {
      "displayName": "JACINTO DOMINGUEZ RULL",
      "userId": "04779779024889038949"
     },
     "user_tz": -120
    },
    "id": "7a1QqxB6Czyx",
    "outputId": "a0c1b82e-ab5a-4668-bf61-2b0f2fe59de8"
   },
   "outputs": [
    {
     "name": "stdout",
     "output_type": "stream",
     "text": [
      "Resampled dataset shape Counter({1.0: 1339, 0.0: 266})\n",
      "Ratio->  1 : 5.0\n"
     ]
    }
   ],
   "source": [
    "# RUS\n",
    "\n",
    "X_eq, y_eq = RUS(X_res, y_res, frac=.18)\n",
    "\n",
    "print('Resampled dataset shape %s' % Counter(y_eq))\n",
    "print('Ratio->  1 :', round(Counter(y_eq)[1]/Counter(y_eq)[0], 1))"
   ]
  },
  {
   "cell_type": "code",
   "execution_count": 34,
   "metadata": {
    "colab": {
     "base_uri": "https://localhost:8080/"
    },
    "executionInfo": {
     "elapsed": 31547,
     "status": "ok",
     "timestamp": 1688996048806,
     "user": {
      "displayName": "JACINTO DOMINGUEZ RULL",
      "userId": "04779779024889038949"
     },
     "user_tz": -120
    },
    "id": "oAv7STUxCzy0",
    "outputId": "6dca37fe-0bd6-4dee-a12c-0d1f3c18c865"
   },
   "outputs": [
    {
     "name": "stdout",
     "output_type": "stream",
     "text": [
      "__________________________________________________\n",
      "Classifier:  CatBoostClassifier\n",
      "[[329  40]\n",
      " [  3  27]]\n",
      "\n",
      "TNR: 0.8916\n",
      "TPR: 0.9\n",
      "TNRxTPR: 0.80244\n",
      "G-mean: 0.89579\n",
      "__________________________________________________\n",
      "Classifier:  LGBMClassifier\n",
      "[[327  42]\n",
      " [  3  27]]\n",
      "\n",
      "TNR: 0.88618\n",
      "TPR: 0.9\n",
      "TNRxTPR: 0.79756\n",
      "G-mean: 0.89306\n",
      "__________________________________________________\n",
      "Classifier:  XGBClassifier\n",
      "[[327  42]\n",
      " [  6  24]]\n",
      "\n",
      "TNR: 0.88618\n",
      "TPR: 0.8\n",
      "TNRxTPR: 0.70894\n",
      "G-mean: 0.84199\n",
      "__________________________________________________\n",
      "Classifier:  BaggingClassifier\n",
      "[[329  40]\n",
      " [  3  27]]\n",
      "\n",
      "TNR: 0.8916\n",
      "TPR: 0.9\n",
      "TNRxTPR: 0.80244\n",
      "G-mean: 0.89579\n",
      "__________________________________________________\n",
      "Classifier:  RandomForestClassifier\n",
      "[[326  43]\n",
      " [  6  24]]\n",
      "\n",
      "TNR: 0.88347\n",
      "TPR: 0.8\n",
      "TNRxTPR: 0.70678\n",
      "G-mean: 0.8407\n",
      "__________________________________________________\n",
      "Ensemble predictions (majority voting):\n",
      "[[329  40]\n",
      " [  3  27]]\n",
      "\n",
      "TNR: 0.8916\n",
      "TPR: 0.9\n",
      "TNRxTPR: 0.80244\n",
      "G-mean: 0.89579\n"
     ]
    }
   ],
   "source": [
    "train_val(X_eq, y_eq, X_test, y_test)"
   ]
  },
  {
   "cell_type": "markdown",
   "metadata": {
    "id": "RydFSMjOoD87"
   },
   "source": [
    "## References  \n",
    "\n",
    "  - Classification with Imbalanced Datasets:  \n",
    "    https://sci2s.ugr.es/imbalanced  \n",
    "  - Computer Vision:  Models, Learning, and Inference (Simon J.D. Prince):  \n",
    "    http://www.computervisionmodels.com/  \n",
    "  - Oversampling with VAEs:  \n",
    "    https://towardsdatascience.com/oversampling-with-vaes-e410887fe51  \n"
   ]
  }
 ],
 "metadata": {
  "colab": {
   "provenance": []
  },
  "gpuClass": "standard",
  "kernelspec": {
   "display_name": "Python 3 (ipykernel)",
   "language": "python",
   "name": "python3"
  },
  "language_info": {
   "codemirror_mode": {
    "name": "ipython",
    "version": 3
   },
   "file_extension": ".py",
   "mimetype": "text/x-python",
   "name": "python",
   "nbconvert_exporter": "python",
   "pygments_lexer": "ipython3",
   "version": "3.9.7"
  }
 },
 "nbformat": 4,
 "nbformat_minor": 1
}
