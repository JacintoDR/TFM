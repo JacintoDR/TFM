{
 "cells": [
  {
   "cell_type": "markdown",
   "metadata": {
    "id": "qLO_siFYEPSg"
   },
   "source": [
    "# Dealing with imbalanced datasets, combining oversampling with VAE and undersampling to improve model recognition over all classes.  "
   ]
  },
  {
   "cell_type": "code",
   "execution_count": 1,
   "metadata": {
    "colab": {
     "base_uri": "https://localhost:8080/"
    },
    "id": "4_CcHvHZUwyO",
    "outputId": "2bd32222-0267-4f05-fbe5-83bec1a1a2d2"
   },
   "outputs": [
    {
     "name": "stdout",
     "output_type": "stream",
     "text": [
      "Collecting catboost\n",
      "  Downloading catboost-1.2-cp310-cp310-manylinux2014_x86_64.whl (98.6 MB)\n",
      "\u001b[2K     \u001b[90m━━━━━━━━━━━━━━━━━━━━━━━━━━━━━━━━━━━━━━━━\u001b[0m \u001b[32m98.6/98.6 MB\u001b[0m \u001b[31m8.8 MB/s\u001b[0m eta \u001b[36m0:00:00\u001b[0m\n",
      "\u001b[?25hRequirement already satisfied: graphviz in /usr/local/lib/python3.10/dist-packages (from catboost) (0.20.1)\n",
      "Requirement already satisfied: matplotlib in /usr/local/lib/python3.10/dist-packages (from catboost) (3.7.1)\n",
      "Requirement already satisfied: numpy>=1.16.0 in /usr/local/lib/python3.10/dist-packages (from catboost) (1.22.4)\n",
      "Requirement already satisfied: pandas>=0.24 in /usr/local/lib/python3.10/dist-packages (from catboost) (1.5.3)\n",
      "Requirement already satisfied: scipy in /usr/local/lib/python3.10/dist-packages (from catboost) (1.10.1)\n",
      "Requirement already satisfied: plotly in /usr/local/lib/python3.10/dist-packages (from catboost) (5.13.1)\n",
      "Requirement already satisfied: six in /usr/local/lib/python3.10/dist-packages (from catboost) (1.16.0)\n",
      "Requirement already satisfied: python-dateutil>=2.8.1 in /usr/local/lib/python3.10/dist-packages (from pandas>=0.24->catboost) (2.8.2)\n",
      "Requirement already satisfied: pytz>=2020.1 in /usr/local/lib/python3.10/dist-packages (from pandas>=0.24->catboost) (2022.7.1)\n",
      "Requirement already satisfied: contourpy>=1.0.1 in /usr/local/lib/python3.10/dist-packages (from matplotlib->catboost) (1.1.0)\n",
      "Requirement already satisfied: cycler>=0.10 in /usr/local/lib/python3.10/dist-packages (from matplotlib->catboost) (0.11.0)\n",
      "Requirement already satisfied: fonttools>=4.22.0 in /usr/local/lib/python3.10/dist-packages (from matplotlib->catboost) (4.40.0)\n",
      "Requirement already satisfied: kiwisolver>=1.0.1 in /usr/local/lib/python3.10/dist-packages (from matplotlib->catboost) (1.4.4)\n",
      "Requirement already satisfied: packaging>=20.0 in /usr/local/lib/python3.10/dist-packages (from matplotlib->catboost) (23.1)\n",
      "Requirement already satisfied: pillow>=6.2.0 in /usr/local/lib/python3.10/dist-packages (from matplotlib->catboost) (8.4.0)\n",
      "Requirement already satisfied: pyparsing>=2.3.1 in /usr/local/lib/python3.10/dist-packages (from matplotlib->catboost) (3.1.0)\n",
      "Requirement already satisfied: tenacity>=6.2.0 in /usr/local/lib/python3.10/dist-packages (from plotly->catboost) (8.2.2)\n",
      "Installing collected packages: catboost\n",
      "Successfully installed catboost-1.2\n"
     ]
    }
   ],
   "source": [
    "!pip install catboost"
   ]
  },
  {
   "cell_type": "markdown",
   "metadata": {
    "id": "IOzC3QPArH_F"
   },
   "source": [
    "Import packages, classifiers and etc."
   ]
  },
  {
   "cell_type": "code",
   "execution_count": 2,
   "metadata": {
    "_cell_guid": "b1076dfc-b9ad-4769-8c92-a6c4dae69d19",
    "_uuid": "8f2839f25d086af736a60e9eeb907d3b93b6e0e5",
    "id": "GDNB_c5RrH_I"
   },
   "outputs": [],
   "source": [
    "import pandas as pd\n",
    "import numpy as np\n",
    "\n",
    "from sklearn.preprocessing import StandardScaler\n",
    "from sklearn.model_selection import train_test_split, cross_validate\n",
    "\n",
    "from catboost import CatBoostClassifier\n",
    "from lightgbm import LGBMClassifier\n",
    "from xgboost import XGBClassifier\n",
    "from sklearn.ensemble import BaggingClassifier, RandomForestClassifier\n",
    "\n",
    "from sklearn.metrics import confusion_matrix, make_scorer\n",
    "from imblearn.metrics import classification_report_imbalanced, geometric_mean_score\n",
    "from collections import Counter\n",
    "\n",
    "from imblearn.over_sampling import SMOTE, RandomOverSampler"
   ]
  },
  {
   "cell_type": "markdown",
   "metadata": {
    "id": "7qxBXk4fPiJx"
   },
   "source": [
    "Import VAEOversampler."
   ]
  },
  {
   "cell_type": "code",
   "execution_count": 3,
   "metadata": {
    "id": "DqyRUyWlvryO"
   },
   "outputs": [],
   "source": [
    "from VAEOversampler import VAEOversampler"
   ]
  },
  {
   "cell_type": "markdown",
   "metadata": {
    "id": "8UEMO2hTPztj"
   },
   "source": [
    "## Loading data  \n",
    "You can load some dataset from Imbalanced Learn list (https://imbalanced-learn.org/stable/datasets/index.html) or use your own data.  \n"
   ]
  },
  {
   "cell_type": "code",
   "execution_count": 4,
   "metadata": {
    "id": "Xnh_x70FwVCi"
   },
   "outputs": [],
   "source": [
    "from imblearn.datasets import fetch_datasets\n",
    "\n",
    "dset_name = 'webpage'\n",
    "dset = fetch_datasets()[dset_name]\n",
    "\n",
    "X, y = StandardScaler().fit_transform(dset.data), dset.target"
   ]
  },
  {
   "cell_type": "code",
   "execution_count": 5,
   "metadata": {
    "colab": {
     "base_uri": "https://localhost:8080/"
    },
    "id": "v_SUvgVSByCD",
    "outputId": "a182d243-cdfe-4f6b-bf70-3220f4d9358a"
   },
   "outputs": [
    {
     "data": {
      "text/plain": [
       "array([[-0.18789338, -0.17081211, -0.21451116, ..., -0.40485971,\n",
       "        -0.44986496, -0.02838501],\n",
       "       [-0.18789338, -0.17081211, -0.21451116, ..., -0.40485971,\n",
       "         2.22288928, -0.02838501],\n",
       "       [-0.18789338, -0.17081211, -0.21451116, ...,  2.4699914 ,\n",
       "        -0.44986496, -0.02838501],\n",
       "       ...,\n",
       "       [-0.18789338, -0.17081211, -0.21451116, ...,  2.4699914 ,\n",
       "         2.22288928, -0.02838501],\n",
       "       [-0.18789338, -0.17081211, -0.21451116, ..., -0.40485971,\n",
       "        -0.44986496, -0.02838501],\n",
       "       [-0.18789338, -0.17081211, -0.21451116, ..., -0.40485971,\n",
       "         2.22288928, -0.02838501]])"
      ]
     },
     "execution_count": 5,
     "metadata": {},
     "output_type": "execute_result"
    }
   ],
   "source": [
    "X"
   ]
  },
  {
   "cell_type": "code",
   "execution_count": 6,
   "metadata": {
    "id": "Tb09lFMxPS2J"
   },
   "outputs": [],
   "source": [
    "y[y == -1] = 0"
   ]
  },
  {
   "cell_type": "markdown",
   "metadata": {
    "id": "hpLA_GmKSJwN"
   },
   "source": [
    "We split data into train and test partitions."
   ]
  },
  {
   "cell_type": "code",
   "execution_count": 7,
   "metadata": {
    "id": "ZS-Dd0R9GbBY"
   },
   "outputs": [],
   "source": [
    "X_train, X_test, y_train, y_test = train_test_split(X, y, test_size=0.2, random_state=42, stratify=y)"
   ]
  },
  {
   "cell_type": "markdown",
   "metadata": {
    "id": "Em7Um0N4rH_S"
   },
   "source": [
    "This is a simple function to undersample freely.  "
   ]
  },
  {
   "cell_type": "code",
   "execution_count": 8,
   "metadata": {
    "id": "1cdWcXE3Ofok"
   },
   "outputs": [],
   "source": [
    "# RUS\n",
    "\n",
    "def RUS(X_res, y_res, frac=1, minority_class_id=1, random_state=42):\n",
    "    X_res = pd.DataFrame(X_res)\n",
    "    X_res['Class'] = y_res\n",
    "\n",
    "    X_neg = X_res[y_res != minority_class_id].sample(frac=frac, random_state=random_state)\n",
    "    X_pos = X_res[y_res == minority_class_id].sample(frac=1, random_state=random_state)\n",
    "\n",
    "    X_rus = pd.concat([X_neg, X_pos], ignore_index=True)\n",
    "\n",
    "    X_eq = X_rus.drop('Class', axis=1)\n",
    "    y_eq = X_rus['Class']\n",
    "\n",
    "    return X_eq, y_eq"
   ]
  },
  {
   "cell_type": "code",
   "execution_count": 9,
   "metadata": {
    "id": "1Ep1nUMCES98"
   },
   "outputs": [],
   "source": [
    "def train_val(X, y, Xt, yt, random_state=42):\n",
    "    classifiers = {\n",
    "        \"CatBoostClassifier\": CatBoostClassifier(verbose=False, random_seed=random_state),\n",
    "        \"LGBMClassifier\": LGBMClassifier(random_state=random_state),\n",
    "        \"XGBClassifier\": XGBClassifier(random_state=random_state),\n",
    "        \"BaggingClassifier\": BaggingClassifier(random_state=random_state),\n",
    "        \"RandomForestClassifier\": RandomForestClassifier(random_state=random_state),\n",
    "    }\n",
    "    scores = []\n",
    "    predictions = []\n",
    "    for key, classifier in classifiers.items():\n",
    "        print('_' * 50)\n",
    "        name = key\n",
    "        classifier.fit(X, y)\n",
    "        print(\"Classifier: \", name)\n",
    "        y_pred = classifier.predict(Xt)\n",
    "        cm = confusion_matrix(yt, y_pred)\n",
    "        print(cm)\n",
    "        print('')\n",
    "        predictions.append(y_pred)\n",
    "        tn = cm[0,0]\n",
    "        fp = cm[0,1]\n",
    "        fn = cm[1,0]\n",
    "        tp = cm[1,1]\n",
    "        tnr = tn / (tn + fp)\n",
    "        tpr = tp / (tp + fn)\n",
    "        scores.append(tnr * tpr)\n",
    "        print('TNR:', round(tnr, 5))\n",
    "        print('TPR:', round(tpr, 5))\n",
    "        print('TNRxTPR:', round(tnr * tpr, 5))\n",
    "        print('G-mean:', round(np.sqrt(tnr * tpr), 5))\n",
    "\n",
    "    print('_' * 50)\n",
    "    print('Ensemble predictions (majority voting):')\n",
    "    predictions = np.sum(predictions, axis=0)\n",
    "    predictions[predictions < 3] = 0\n",
    "    predictions[predictions >= 3] = 1\n",
    "\n",
    "    cm = confusion_matrix(yt, predictions)\n",
    "    print(cm)\n",
    "    tn = cm[0,0]\n",
    "    fp = cm[0,1]\n",
    "    fn = cm[1,0]\n",
    "    tp = cm[1,1]\n",
    "    tnr = tn / (tn + fp)\n",
    "    tpr = tp / (tp + fn)\n",
    "    print('')\n",
    "    print('TNR:', round(tnr, 5))\n",
    "    print('TPR:', round(tpr, 5))\n",
    "    print('TNRxTPR:', round(tnr * tpr, 5))\n",
    "    print('G-mean:', round(np.sqrt(tnr * tpr), 5))\n"
   ]
  },
  {
   "cell_type": "markdown",
   "metadata": {
    "id": "A-n86Yaxbcji"
   },
   "source": [
    "## Without resampling (base line)\n",
    "Which is starting score?\n"
   ]
  },
  {
   "cell_type": "code",
   "execution_count": 10,
   "metadata": {
    "colab": {
     "base_uri": "https://localhost:8080/"
    },
    "id": "dW6YYJZ_bcjj",
    "outputId": "6507e7ce-3700-45ae-85b1-089f60eead5e"
   },
   "outputs": [
    {
     "name": "stdout",
     "output_type": "stream",
     "text": [
      "Original dataset shape Counter({0: 33799, 1: 981})\n",
      "Ratio-> 34.5 : 1\n"
     ]
    }
   ],
   "source": [
    "print('Original dataset shape %s' % Counter(y))\n",
    "print('Ratio->', round(Counter(y)[0]/Counter(y)[1], 1), ': 1')"
   ]
  },
  {
   "cell_type": "code",
   "execution_count": 11,
   "metadata": {
    "colab": {
     "base_uri": "https://localhost:8080/"
    },
    "id": "bSSkbO1qbcjj",
    "outputId": "e70f19ab-745a-4a50-b40d-c5368f291d78"
   },
   "outputs": [
    {
     "name": "stdout",
     "output_type": "stream",
     "text": [
      "__________________________________________________\n",
      "Classifier:  CatBoostClassifier\n",
      "[[6743   17]\n",
      " [  48  148]]\n",
      "\n",
      "TNR: 0.99749\n",
      "TPR: 0.7551\n",
      "TNRxTPR: 0.7532\n",
      "G-mean: 0.86787\n",
      "__________________________________________________\n",
      "Classifier:  LGBMClassifier\n",
      "[[6747   13]\n",
      " [  65  131]]\n",
      "\n",
      "TNR: 0.99808\n",
      "TPR: 0.66837\n",
      "TNRxTPR: 0.66708\n",
      "G-mean: 0.81675\n",
      "__________________________________________________\n",
      "Classifier:  XGBClassifier\n",
      "[[6742   18]\n",
      " [  52  144]]\n",
      "\n",
      "TNR: 0.99734\n",
      "TPR: 0.73469\n",
      "TNRxTPR: 0.73274\n",
      "G-mean: 0.856\n",
      "__________________________________________________\n",
      "Classifier:  BaggingClassifier\n",
      "[[6716   44]\n",
      " [  46  150]]\n",
      "\n",
      "TNR: 0.99349\n",
      "TPR: 0.76531\n",
      "TNRxTPR: 0.76032\n",
      "G-mean: 0.87197\n",
      "__________________________________________________\n",
      "Classifier:  RandomForestClassifier\n",
      "[[6738   22]\n",
      " [  49  147]]\n",
      "\n",
      "TNR: 0.99675\n",
      "TPR: 0.75\n",
      "TNRxTPR: 0.74756\n",
      "G-mean: 0.86462\n",
      "__________________________________________________\n",
      "Ensemble predictions (majority voting):\n",
      "[[6743   17]\n",
      " [  50  146]]\n",
      "\n",
      "TNR: 0.99749\n",
      "TPR: 0.7449\n",
      "TNRxTPR: 0.74302\n",
      "G-mean: 0.86199\n"
     ]
    }
   ],
   "source": [
    "train_val(X_train, y_train, X_test, y_test)"
   ]
  },
  {
   "cell_type": "markdown",
   "metadata": {
    "id": "jcCxQq6-Uvyr"
   },
   "source": [
    "## Ratio 1:1  \n",
    "Let's see classifiers scores when dataset is balanced.  \n"
   ]
  },
  {
   "cell_type": "code",
   "execution_count": 12,
   "metadata": {
    "id": "BHJ2B9Cx_nsc"
   },
   "outputs": [],
   "source": [
    "# SMOTE\n",
    "\n",
    "sm = SMOTE(random_state=42, sampling_strategy=1) # N_rm / N_M\n",
    "X_res, y_res = sm.fit_resample(X_train, y_train)"
   ]
  },
  {
   "cell_type": "code",
   "execution_count": 13,
   "metadata": {
    "colab": {
     "base_uri": "https://localhost:8080/"
    },
    "id": "6U0Byc1lUvys",
    "outputId": "910497d8-20a7-42a1-8fad-86078298c455"
   },
   "outputs": [
    {
     "name": "stdout",
     "output_type": "stream",
     "text": [
      "Resampled dataset shape Counter({0: 27039, 1: 27039})\n",
      "Ratio->  1 : 1.0\n"
     ]
    }
   ],
   "source": [
    "print('Resampled dataset shape %s' % Counter(y_res))\n",
    "print('Ratio->  1 :', round(Counter(y_res)[1]/Counter(y_res)[0], 1))"
   ]
  },
  {
   "cell_type": "code",
   "execution_count": 14,
   "metadata": {
    "colab": {
     "base_uri": "https://localhost:8080/"
    },
    "id": "CMGEySDMpTdx",
    "outputId": "f83b61d3-2eac-4565-c518-dd8d908baeb4",
    "scrolled": false
   },
   "outputs": [
    {
     "name": "stdout",
     "output_type": "stream",
     "text": [
      "__________________________________________________\n",
      "Classifier:  CatBoostClassifier\n",
      "[[6732   28]\n",
      " [  50  146]]\n",
      "\n",
      "TNR: 0.99586\n",
      "TPR: 0.7449\n",
      "TNRxTPR: 0.74181\n",
      "G-mean: 0.86129\n",
      "__________________________________________________\n",
      "Classifier:  LGBMClassifier\n",
      "[[6731   29]\n",
      " [  56  140]]\n",
      "\n",
      "TNR: 0.99571\n",
      "TPR: 0.71429\n",
      "TNRxTPR: 0.71122\n",
      "G-mean: 0.84334\n",
      "__________________________________________________\n",
      "Classifier:  XGBClassifier\n",
      "[[6727   33]\n",
      " [  59  137]]\n",
      "\n",
      "TNR: 0.99512\n",
      "TPR: 0.69898\n",
      "TNRxTPR: 0.69557\n",
      "G-mean: 0.83401\n",
      "__________________________________________________\n",
      "Classifier:  BaggingClassifier\n",
      "[[6689   71]\n",
      " [  87  109]]\n",
      "\n",
      "TNR: 0.9895\n",
      "TPR: 0.55612\n",
      "TNRxTPR: 0.55028\n",
      "G-mean: 0.74181\n",
      "__________________________________________________\n",
      "Classifier:  RandomForestClassifier\n",
      "[[6739   21]\n",
      " [ 117   79]]\n",
      "\n",
      "TNR: 0.99689\n",
      "TPR: 0.40306\n",
      "TNRxTPR: 0.40181\n",
      "G-mean: 0.63388\n",
      "__________________________________________________\n",
      "Ensemble predictions (majority voting):\n",
      "[[6735   25]\n",
      " [  64  132]]\n",
      "\n",
      "TNR: 0.9963\n",
      "TPR: 0.67347\n",
      "TNRxTPR: 0.67098\n",
      "G-mean: 0.81913\n"
     ]
    }
   ],
   "source": [
    "train_val(X_res, y_res, X_test, y_test)"
   ]
  },
  {
   "cell_type": "code",
   "execution_count": 15,
   "metadata": {
    "id": "hiRVkg2eUx0U"
   },
   "outputs": [],
   "source": [
    "# ROS\n",
    "\n",
    "ros = RandomOverSampler(random_state=42, sampling_strategy=1) # N_rm / N_M\n",
    "X_res, y_res = ros.fit_resample(X_train, y_train)"
   ]
  },
  {
   "cell_type": "code",
   "execution_count": 16,
   "metadata": {
    "colab": {
     "base_uri": "https://localhost:8080/"
    },
    "id": "7igPUXNbUvyu",
    "outputId": "07e9c1a9-1073-497d-dd2c-9ce173f132f1"
   },
   "outputs": [
    {
     "name": "stdout",
     "output_type": "stream",
     "text": [
      "Resampled dataset shape Counter({0: 27039, 1: 27039})\n",
      "Ratio->  1 : 1.0\n"
     ]
    }
   ],
   "source": [
    "print('Resampled dataset shape %s' % Counter(y_res))\n",
    "print('Ratio->  1 :', round(Counter(y_res)[1]/Counter(y_res)[0], 1))"
   ]
  },
  {
   "cell_type": "code",
   "execution_count": 17,
   "metadata": {
    "colab": {
     "base_uri": "https://localhost:8080/"
    },
    "id": "IMANwdwxUx0b",
    "outputId": "a094e30b-d8d3-4165-f776-5f1a57c6d1fc",
    "scrolled": false
   },
   "outputs": [
    {
     "name": "stdout",
     "output_type": "stream",
     "text": [
      "__________________________________________________\n",
      "Classifier:  CatBoostClassifier\n",
      "[[6660  100]\n",
      " [  32  164]]\n",
      "\n",
      "TNR: 0.98521\n",
      "TPR: 0.83673\n",
      "TNRxTPR: 0.82436\n",
      "G-mean: 0.90794\n",
      "__________________________________________________\n",
      "Classifier:  LGBMClassifier\n",
      "[[6565  195]\n",
      " [  18  178]]\n",
      "\n",
      "TNR: 0.97115\n",
      "TPR: 0.90816\n",
      "TNRxTPR: 0.88197\n",
      "G-mean: 0.93913\n",
      "__________________________________________________\n",
      "Classifier:  XGBClassifier\n",
      "[[6618  142]\n",
      " [  24  172]]\n",
      "\n",
      "TNR: 0.97899\n",
      "TPR: 0.87755\n",
      "TNRxTPR: 0.85912\n",
      "G-mean: 0.92689\n",
      "__________________________________________________\n",
      "Classifier:  BaggingClassifier\n",
      "[[6668   92]\n",
      " [  70  126]]\n",
      "\n",
      "TNR: 0.98639\n",
      "TPR: 0.64286\n",
      "TNRxTPR: 0.63411\n",
      "G-mean: 0.79631\n",
      "__________________________________________________\n",
      "Classifier:  RandomForestClassifier\n",
      "[[6708   52]\n",
      " [  66  130]]\n",
      "\n",
      "TNR: 0.99231\n",
      "TPR: 0.66327\n",
      "TNRxTPR: 0.65816\n",
      "G-mean: 0.81127\n",
      "__________________________________________________\n",
      "Ensemble predictions (majority voting):\n",
      "[[6667   93]\n",
      " [  33  163]]\n",
      "\n",
      "TNR: 0.98624\n",
      "TPR: 0.83163\n",
      "TNRxTPR: 0.82019\n",
      "G-mean: 0.90564\n"
     ]
    }
   ],
   "source": [
    "train_val(X_res, y_res, X_test, y_test)"
   ]
  },
  {
   "cell_type": "code",
   "execution_count": 31,
   "metadata": {
    "colab": {
     "base_uri": "https://localhost:8080/"
    },
    "id": "B065rYa3wO-o",
    "outputId": "b152122b-834b-48f5-ff40-5782d4b676e7"
   },
   "outputs": [
    {
     "name": "stdout",
     "output_type": "stream",
     "text": [
      "821/821 [==============================] - 1s 2ms/step\n"
     ]
    }
   ],
   "source": [
    "# VAEOversampler\n",
    "\n",
    "vae_sampler = VAEOversampler(epochs=500,\n",
    "                              intermediate_dim=512,\n",
    "                              batch_size=64,\n",
    "                              random_state=42,\n",
    "                              verbose=False)\n",
    "X_res, y_res = vae_sampler.fit_resample(X_train, y_train)"
   ]
  },
  {
   "cell_type": "code",
   "execution_count": 32,
   "metadata": {
    "colab": {
     "base_uri": "https://localhost:8080/"
    },
    "id": "nOsNattyeSXh",
    "outputId": "7753c3c8-afbc-4004-9e87-9e063ce89243"
   },
   "outputs": [
    {
     "name": "stdout",
     "output_type": "stream",
     "text": [
      "Resampled dataset shape Counter({0.0: 27039, 1.0: 27039})\n",
      "Ratio->  1 : 1.0\n"
     ]
    }
   ],
   "source": [
    "print('Resampled dataset shape %s' % Counter(y_res))\n",
    "print('Ratio->  1 :', round(Counter(y_res)[1]/Counter(y_res)[0], 1))"
   ]
  },
  {
   "cell_type": "code",
   "execution_count": 34,
   "metadata": {
    "colab": {
     "base_uri": "https://localhost:8080/"
    },
    "id": "6BNffQSbwO-t",
    "outputId": "5199eb30-1229-48d2-8124-54544971c7c5"
   },
   "outputs": [
    {
     "name": "stdout",
     "output_type": "stream",
     "text": [
      "__________________________________________________\n",
      "Classifier:  CatBoostClassifier\n",
      "[[6747   13]\n",
      " [  50  146]]\n",
      "\n",
      "TNR: 0.99808\n",
      "TPR: 0.7449\n",
      "TNRxTPR: 0.74347\n",
      "G-mean: 0.86224\n",
      "__________________________________________________\n",
      "Classifier:  LGBMClassifier\n",
      "[[6748   12]\n",
      " [  46  150]]\n",
      "\n",
      "TNR: 0.99822\n",
      "TPR: 0.76531\n",
      "TNRxTPR: 0.76395\n",
      "G-mean: 0.87404\n",
      "__________________________________________________\n",
      "Classifier:  XGBClassifier\n",
      "[[6743   17]\n",
      " [  45  151]]\n",
      "\n",
      "TNR: 0.99749\n",
      "TPR: 0.77041\n",
      "TNRxTPR: 0.76847\n",
      "G-mean: 0.87662\n",
      "__________________________________________________\n",
      "Classifier:  BaggingClassifier\n",
      "[[6700   60]\n",
      " [  43  153]]\n",
      "\n",
      "TNR: 0.99112\n",
      "TPR: 0.78061\n",
      "TNRxTPR: 0.77368\n",
      "G-mean: 0.87959\n",
      "__________________________________________________\n",
      "Classifier:  RandomForestClassifier\n",
      "[[6738   22]\n",
      " [  50  146]]\n",
      "\n",
      "TNR: 0.99675\n",
      "TPR: 0.7449\n",
      "TNRxTPR: 0.74247\n",
      "G-mean: 0.86167\n",
      "__________________________________________________\n",
      "Ensemble predictions (majority voting):\n",
      "[[6748   12]\n",
      " [  45  151]]\n",
      "\n",
      "TNR: 0.99822\n",
      "TPR: 0.77041\n",
      "TNRxTPR: 0.76904\n",
      "G-mean: 0.87695\n"
     ]
    }
   ],
   "source": [
    "train_val(X_res, y_res, X_test, y_test)"
   ]
  },
  {
   "cell_type": "markdown",
   "metadata": {
    "id": "w9swp8C1wO-w"
   },
   "source": [
    "## Under/Oversampling combination  \n",
    "Now we can tuning the number of instances for each class to optimize metric.  \n"
   ]
  },
  {
   "cell_type": "code",
   "execution_count": 35,
   "metadata": {
    "id": "D0jtqxJ8Uvyv"
   },
   "outputs": [],
   "source": [
    "# SMOTE\n",
    "\n",
    "sm = SMOTE(random_state=42, sampling_strategy=1) # N_rm / N_M\n",
    "X_res, y_res = sm.fit_resample(X_train, y_train)"
   ]
  },
  {
   "cell_type": "code",
   "execution_count": 36,
   "metadata": {
    "colab": {
     "base_uri": "https://localhost:8080/"
    },
    "id": "uQ3_RoAsUvyv",
    "outputId": "01c12341-b97d-4b41-b298-06c3401e470e"
   },
   "outputs": [
    {
     "name": "stdout",
     "output_type": "stream",
     "text": [
      "Resampled dataset shape Counter({1: 27039, 0: 1622})\n",
      "Ratio->  1 : 16.7\n"
     ]
    }
   ],
   "source": [
    "# RUS\n",
    "\n",
    "X_eq, y_eq = RUS(X_res, y_res, frac=.06)\n",
    "\n",
    "print('Resampled dataset shape %s' % Counter(y_eq))\n",
    "print('Ratio->  1 :', round(Counter(y_eq)[1]/Counter(y_eq)[0], 1))"
   ]
  },
  {
   "cell_type": "code",
   "execution_count": 37,
   "metadata": {
    "colab": {
     "base_uri": "https://localhost:8080/"
    },
    "id": "TPcOZeONUvyw",
    "outputId": "21898a56-366c-4f1c-e3a2-e9b5724da76a",
    "scrolled": false
   },
   "outputs": [
    {
     "name": "stdout",
     "output_type": "stream",
     "text": [
      "__________________________________________________\n",
      "Classifier:  CatBoostClassifier\n",
      "[[6046  714]\n",
      " [  25  171]]\n",
      "\n",
      "TNR: 0.89438\n",
      "TPR: 0.87245\n",
      "TNRxTPR: 0.7803\n",
      "G-mean: 0.88335\n",
      "__________________________________________________\n",
      "Classifier:  LGBMClassifier\n",
      "[[6317  443]\n",
      " [  15  181]]\n",
      "\n",
      "TNR: 0.93447\n",
      "TPR: 0.92347\n",
      "TNRxTPR: 0.86295\n",
      "G-mean: 0.92895\n",
      "__________________________________________________\n",
      "Classifier:  XGBClassifier\n",
      "[[6207  553]\n",
      " [  17  179]]\n",
      "\n",
      "TNR: 0.9182\n",
      "TPR: 0.91327\n",
      "TNRxTPR: 0.83856\n",
      "G-mean: 0.91573\n",
      "__________________________________________________\n",
      "Classifier:  BaggingClassifier\n",
      "[[6125  635]\n",
      " [  59  137]]\n",
      "\n",
      "TNR: 0.90607\n",
      "TPR: 0.69898\n",
      "TNRxTPR: 0.63332\n",
      "G-mean: 0.79581\n",
      "__________________________________________________\n",
      "Classifier:  RandomForestClassifier\n",
      "[[6378  382]\n",
      " [  63  133]]\n",
      "\n",
      "TNR: 0.94349\n",
      "TPR: 0.67857\n",
      "TNRxTPR: 0.64023\n",
      "G-mean: 0.80014\n",
      "__________________________________________________\n",
      "Ensemble predictions (majority voting):\n",
      "[[6256  504]\n",
      " [  25  171]]\n",
      "\n",
      "TNR: 0.92544\n",
      "TPR: 0.87245\n",
      "TNRxTPR: 0.8074\n",
      "G-mean: 0.89856\n"
     ]
    }
   ],
   "source": [
    "train_val(X_eq, y_eq, X_test, y_test)"
   ]
  },
  {
   "cell_type": "code",
   "execution_count": 38,
   "metadata": {
    "id": "-mGQlfSdUvyw"
   },
   "outputs": [],
   "source": [
    "# ROS\n",
    "\n",
    "ros = RandomOverSampler(random_state=42, sampling_strategy=1) # N_rm / N_M\n",
    "X_res, y_res = ros.fit_resample(X_train, y_train)"
   ]
  },
  {
   "cell_type": "code",
   "execution_count": 39,
   "metadata": {
    "colab": {
     "base_uri": "https://localhost:8080/"
    },
    "id": "8fdzr1qOUvyw",
    "outputId": "8477259d-fe7f-4057-8b65-fb1185d9ce5c"
   },
   "outputs": [
    {
     "name": "stdout",
     "output_type": "stream",
     "text": [
      "Resampled dataset shape Counter({1: 27039, 0: 5408})\n",
      "Ratio->  1 : 5.0\n"
     ]
    }
   ],
   "source": [
    "# RUS\n",
    "\n",
    "X_eq, y_eq = RUS(X_res, y_res, frac=.2)\n",
    "\n",
    "print('Resampled dataset shape %s' % Counter(y_eq))\n",
    "print('Ratio->  1 :', round(Counter(y_eq)[1]/Counter(y_eq)[0], 1))"
   ]
  },
  {
   "cell_type": "code",
   "execution_count": 40,
   "metadata": {
    "colab": {
     "base_uri": "https://localhost:8080/"
    },
    "id": "u0UCU05gUvyw",
    "outputId": "c3156671-9c64-4189-dabd-25b52b904254",
    "scrolled": false
   },
   "outputs": [
    {
     "name": "stdout",
     "output_type": "stream",
     "text": [
      "__________________________________________________\n",
      "Classifier:  CatBoostClassifier\n",
      "[[6307  453]\n",
      " [   8  188]]\n",
      "\n",
      "TNR: 0.93299\n",
      "TPR: 0.95918\n",
      "TNRxTPR: 0.89491\n",
      "G-mean: 0.946\n",
      "__________________________________________________\n",
      "Classifier:  LGBMClassifier\n",
      "[[6234  526]\n",
      " [  11  185]]\n",
      "\n",
      "TNR: 0.92219\n",
      "TPR: 0.94388\n",
      "TNRxTPR: 0.87043\n",
      "G-mean: 0.93297\n",
      "__________________________________________________\n",
      "Classifier:  XGBClassifier\n",
      "[[6129  631]\n",
      " [  10  186]]\n",
      "\n",
      "TNR: 0.90666\n",
      "TPR: 0.94898\n",
      "TNRxTPR: 0.8604\n",
      "G-mean: 0.92758\n",
      "__________________________________________________\n",
      "Classifier:  BaggingClassifier\n",
      "[[6463  297]\n",
      " [  72  124]]\n",
      "\n",
      "TNR: 0.95607\n",
      "TPR: 0.63265\n",
      "TNRxTPR: 0.60486\n",
      "G-mean: 0.77773\n",
      "__________________________________________________\n",
      "Classifier:  RandomForestClassifier\n",
      "[[6608  152]\n",
      " [  65  131]]\n",
      "\n",
      "TNR: 0.97751\n",
      "TPR: 0.66837\n",
      "TNRxTPR: 0.65334\n",
      "G-mean: 0.80829\n",
      "__________________________________________________\n",
      "Ensemble predictions (majority voting):\n",
      "[[6373  387]\n",
      " [  10  186]]\n",
      "\n",
      "TNR: 0.94275\n",
      "TPR: 0.94898\n",
      "TNRxTPR: 0.89465\n",
      "G-mean: 0.94586\n"
     ]
    }
   ],
   "source": [
    "train_val(X_eq, y_eq, X_test, y_test)"
   ]
  },
  {
   "cell_type": "code",
   "execution_count": 45,
   "metadata": {
    "colab": {
     "base_uri": "https://localhost:8080/"
    },
    "id": "T6benPDnCzym",
    "outputId": "b33d2be4-4a28-4a2f-d7ef-cc653b7670eb"
   },
   "outputs": [
    {
     "name": "stdout",
     "output_type": "stream",
     "text": [
      "821/821 [==============================] - 2s 2ms/step\n"
     ]
    }
   ],
   "source": [
    "# VAEOversampler\n",
    "\n",
    "X_res, y_res = vae_sampler.resample(X_train, y_train, sampling_strategy=1)"
   ]
  },
  {
   "cell_type": "code",
   "execution_count": 48,
   "metadata": {
    "colab": {
     "base_uri": "https://localhost:8080/"
    },
    "id": "7a1QqxB6Czyx",
    "outputId": "8051b40c-de3d-44fe-e277-364f31837eae"
   },
   "outputs": [
    {
     "name": "stdout",
     "output_type": "stream",
     "text": [
      "Resampled dataset shape Counter({1.0: 27039, 0.0: 1622})\n",
      "Ratio->  1 : 16.7\n"
     ]
    }
   ],
   "source": [
    "# RUS\n",
    "\n",
    "X_eq, y_eq = RUS(X_res, y_res, frac=.06)\n",
    "\n",
    "print('Resampled dataset shape %s' % Counter(y_eq))\n",
    "print('Ratio->  1 :', round(Counter(y_eq)[1]/Counter(y_eq)[0], 1))"
   ]
  },
  {
   "cell_type": "code",
   "execution_count": 49,
   "metadata": {
    "colab": {
     "base_uri": "https://localhost:8080/"
    },
    "id": "oAv7STUxCzy0",
    "outputId": "151f935c-f320-417c-ca95-1f20e4772d67"
   },
   "outputs": [
    {
     "name": "stdout",
     "output_type": "stream",
     "text": [
      "__________________________________________________\n",
      "Classifier:  CatBoostClassifier\n",
      "[[6547  213]\n",
      " [  18  178]]\n",
      "\n",
      "TNR: 0.96849\n",
      "TPR: 0.90816\n",
      "TNRxTPR: 0.87955\n",
      "G-mean: 0.93784\n",
      "__________________________________________________\n",
      "Classifier:  LGBMClassifier\n",
      "[[6456  304]\n",
      " [  11  185]]\n",
      "\n",
      "TNR: 0.95503\n",
      "TPR: 0.94388\n",
      "TNRxTPR: 0.90143\n",
      "G-mean: 0.94944\n",
      "__________________________________________________\n",
      "Classifier:  XGBClassifier\n",
      "[[6481  279]\n",
      " [  16  180]]\n",
      "\n",
      "TNR: 0.95873\n",
      "TPR: 0.91837\n",
      "TNRxTPR: 0.88046\n",
      "G-mean: 0.93833\n",
      "__________________________________________________\n",
      "Classifier:  BaggingClassifier\n",
      "[[6219  541]\n",
      " [  24  172]]\n",
      "\n",
      "TNR: 0.91997\n",
      "TPR: 0.87755\n",
      "TNRxTPR: 0.80732\n",
      "G-mean: 0.89851\n",
      "__________________________________________________\n",
      "Classifier:  RandomForestClassifier\n",
      "[[6382  378]\n",
      " [  17  179]]\n",
      "\n",
      "TNR: 0.94408\n",
      "TPR: 0.91327\n",
      "TNRxTPR: 0.8622\n",
      "G-mean: 0.92855\n",
      "__________________________________________________\n",
      "Ensemble predictions (majority voting):\n",
      "[[6496  264]\n",
      " [  15  181]]\n",
      "\n",
      "TNR: 0.96095\n",
      "TPR: 0.92347\n",
      "TNRxTPR: 0.8874\n",
      "G-mean: 0.94202\n"
     ]
    }
   ],
   "source": [
    "train_val(X_eq, y_eq, X_test, y_test)"
   ]
  },
  {
   "cell_type": "markdown",
   "metadata": {
    "id": "RydFSMjOoD87"
   },
   "source": [
    "## References  \n",
    "\n",
    "  - Classification with Imbalanced Datasets:  \n",
    "    https://sci2s.ugr.es/imbalanced  \n",
    "  - Computer Vision:  Models, Learning, and Inference (Simon J.D. Prince):  \n",
    "    http://www.computervisionmodels.com/  \n",
    "  - Oversampling with VAEs:  \n",
    "    https://towardsdatascience.com/oversampling-with-vaes-e410887fe51  \n"
   ]
  }
 ],
 "metadata": {
  "colab": {
   "provenance": []
  },
  "gpuClass": "standard",
  "kernelspec": {
   "display_name": "Python 3 (ipykernel)",
   "language": "python",
   "name": "python3"
  },
  "language_info": {
   "codemirror_mode": {
    "name": "ipython",
    "version": 3
   },
   "file_extension": ".py",
   "mimetype": "text/x-python",
   "name": "python",
   "nbconvert_exporter": "python",
   "pygments_lexer": "ipython3",
   "version": "3.9.7"
  }
 },
 "nbformat": 4,
 "nbformat_minor": 1
}
