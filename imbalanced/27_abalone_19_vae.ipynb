{
 "cells": [
  {
   "cell_type": "markdown",
   "metadata": {
    "id": "qLO_siFYEPSg"
   },
   "source": [
    "# Dealing with imbalanced datasets, combining oversampling with VAE and undersampling to improve model recognition over all classes.  "
   ]
  },
  {
   "cell_type": "markdown",
   "metadata": {
    "id": "IOzC3QPArH_F"
   },
   "source": [
    "Import packages, classifiers and etc."
   ]
  },
  {
   "cell_type": "code",
   "execution_count": 1,
   "metadata": {
    "_cell_guid": "b1076dfc-b9ad-4769-8c92-a6c4dae69d19",
    "_uuid": "8f2839f25d086af736a60e9eeb907d3b93b6e0e5",
    "executionInfo": {
     "elapsed": 3174,
     "status": "ok",
     "timestamp": 1688995206705,
     "user": {
      "displayName": "JACINTO DOMINGUEZ RULL",
      "userId": "04779779024889038949"
     },
     "user_tz": -120
    },
    "id": "GDNB_c5RrH_I"
   },
   "outputs": [],
   "source": [
    "import pandas as pd\n",
    "import numpy as np\n",
    "\n",
    "from sklearn.preprocessing import StandardScaler\n",
    "from sklearn.model_selection import train_test_split, cross_validate\n",
    "\n",
    "from catboost import CatBoostClassifier\n",
    "from lightgbm import LGBMClassifier\n",
    "from xgboost import XGBClassifier\n",
    "from sklearn.ensemble import BaggingClassifier, RandomForestClassifier\n",
    "\n",
    "from sklearn.metrics import confusion_matrix, make_scorer\n",
    "from imblearn.metrics import classification_report_imbalanced, geometric_mean_score\n",
    "from collections import Counter\n",
    "\n",
    "from imblearn.over_sampling import SMOTE, RandomOverSampler"
   ]
  },
  {
   "cell_type": "markdown",
   "metadata": {
    "id": "7qxBXk4fPiJx"
   },
   "source": [
    "Import VAEOversampler."
   ]
  },
  {
   "cell_type": "code",
   "execution_count": 2,
   "metadata": {
    "executionInfo": {
     "elapsed": 8866,
     "status": "ok",
     "timestamp": 1688995216025,
     "user": {
      "displayName": "JACINTO DOMINGUEZ RULL",
      "userId": "04779779024889038949"
     },
     "user_tz": -120
    },
    "id": "DqyRUyWlvryO"
   },
   "outputs": [
    {
     "name": "stderr",
     "output_type": "stream",
     "text": [
      "2023-07-11 13:43:30.126933: W tensorflow/stream_executor/platform/default/dso_loader.cc:64] Could not load dynamic library 'libcudart.so.11.0'; dlerror: libcudart.so.11.0: cannot open shared object file: No such file or directory\n",
      "2023-07-11 13:43:30.126967: I tensorflow/stream_executor/cuda/cudart_stub.cc:29] Ignore above cudart dlerror if you do not have a GPU set up on your machine.\n"
     ]
    }
   ],
   "source": [
    "from VAEOversampler import VAEOversampler"
   ]
  },
  {
   "cell_type": "markdown",
   "metadata": {
    "id": "8UEMO2hTPztj"
   },
   "source": [
    "## Loading data  \n",
    "You can load some dataset from Imbalanced Learn list (https://imbalanced-learn.org/stable/datasets/index.html) or use your own data.  \n"
   ]
  },
  {
   "cell_type": "code",
   "execution_count": 3,
   "metadata": {
    "executionInfo": {
     "elapsed": 62363,
     "status": "ok",
     "timestamp": 1688995285297,
     "user": {
      "displayName": "JACINTO DOMINGUEZ RULL",
      "userId": "04779779024889038949"
     },
     "user_tz": -120
    },
    "id": "Xnh_x70FwVCi"
   },
   "outputs": [],
   "source": [
    "from imblearn.datasets import fetch_datasets\n",
    "\n",
    "dset_name = 'abalone_19'\n",
    "dset = fetch_datasets()[dset_name]\n",
    "\n",
    "X, y = StandardScaler().fit_transform(dset.data), dset.target"
   ]
  },
  {
   "cell_type": "code",
   "execution_count": 4,
   "metadata": {
    "colab": {
     "base_uri": "https://localhost:8080/"
    },
    "executionInfo": {
     "elapsed": 506,
     "status": "ok",
     "timestamp": 1688995296163,
     "user": {
      "displayName": "JACINTO DOMINGUEZ RULL",
      "userId": "04779779024889038949"
     },
     "user_tz": -120
    },
    "id": "v_SUvgVSByCD",
    "outputId": "11fc0fdf-fc35-44e1-cde2-29ae6ccca978"
   },
   "outputs": [
    {
     "data": {
      "text/plain": [
       "array([[-0.67483383, -0.68801788,  1.31667716, ..., -0.60768536,\n",
       "        -0.72621157, -0.63821689],\n",
       "       [-0.67483383, -0.68801788,  1.31667716, ..., -1.17090984,\n",
       "        -1.20522124, -1.21298732],\n",
       "       [ 1.48184628, -0.68801788, -0.75948762, ..., -0.4634999 ,\n",
       "        -0.35668983, -0.20713907],\n",
       "       ...,\n",
       "       [-0.67483383, -0.68801788,  1.31667716, ...,  0.74855917,\n",
       "         0.97541324,  0.49695471],\n",
       "       [ 1.48184628, -0.68801788, -0.75948762, ...,  0.77334105,\n",
       "         0.73362741,  0.41073914],\n",
       "       [-0.67483383, -0.68801788,  1.31667716, ...,  2.64099341,\n",
       "         1.78744868,  1.84048058]])"
      ]
     },
     "execution_count": 4,
     "metadata": {},
     "output_type": "execute_result"
    }
   ],
   "source": [
    "X"
   ]
  },
  {
   "cell_type": "code",
   "execution_count": 5,
   "metadata": {
    "executionInfo": {
     "elapsed": 449,
     "status": "ok",
     "timestamp": 1688995298970,
     "user": {
      "displayName": "JACINTO DOMINGUEZ RULL",
      "userId": "04779779024889038949"
     },
     "user_tz": -120
    },
    "id": "Tb09lFMxPS2J"
   },
   "outputs": [],
   "source": [
    "y[y == -1] = 0"
   ]
  },
  {
   "cell_type": "markdown",
   "metadata": {
    "id": "hpLA_GmKSJwN"
   },
   "source": [
    "We split data into train and test partitions."
   ]
  },
  {
   "cell_type": "code",
   "execution_count": 6,
   "metadata": {
    "executionInfo": {
     "elapsed": 403,
     "status": "ok",
     "timestamp": 1688995301980,
     "user": {
      "displayName": "JACINTO DOMINGUEZ RULL",
      "userId": "04779779024889038949"
     },
     "user_tz": -120
    },
    "id": "ZS-Dd0R9GbBY"
   },
   "outputs": [],
   "source": [
    "X_train, X_test, y_train, y_test = train_test_split(X, y, test_size=0.2, random_state=42, stratify=y)"
   ]
  },
  {
   "cell_type": "markdown",
   "metadata": {
    "id": "Em7Um0N4rH_S"
   },
   "source": [
    "This is a simple function to undersample freely.  "
   ]
  },
  {
   "cell_type": "code",
   "execution_count": 7,
   "metadata": {
    "executionInfo": {
     "elapsed": 13,
     "status": "ok",
     "timestamp": 1688995303389,
     "user": {
      "displayName": "JACINTO DOMINGUEZ RULL",
      "userId": "04779779024889038949"
     },
     "user_tz": -120
    },
    "id": "1cdWcXE3Ofok"
   },
   "outputs": [],
   "source": [
    "# RUS\n",
    "\n",
    "def RUS(X_res, y_res, frac=1, minority_class_id=1, random_state=42):\n",
    "    X_res = pd.DataFrame(X_res)\n",
    "    X_res['Class'] = y_res\n",
    "\n",
    "    X_neg = X_res[y_res != minority_class_id].sample(frac=frac, random_state=random_state)\n",
    "    X_pos = X_res[y_res == minority_class_id].sample(frac=1, random_state=random_state)\n",
    "\n",
    "    X_rus = pd.concat([X_neg, X_pos], ignore_index=True)\n",
    "\n",
    "    X_eq = X_rus.drop('Class', axis=1)\n",
    "    y_eq = X_rus['Class']\n",
    "\n",
    "    return X_eq, y_eq"
   ]
  },
  {
   "cell_type": "code",
   "execution_count": 8,
   "metadata": {
    "executionInfo": {
     "elapsed": 10,
     "status": "ok",
     "timestamp": 1688995305101,
     "user": {
      "displayName": "JACINTO DOMINGUEZ RULL",
      "userId": "04779779024889038949"
     },
     "user_tz": -120
    },
    "id": "1Ep1nUMCES98"
   },
   "outputs": [],
   "source": [
    "def train_val(X, y, Xt, yt, random_state=42):\n",
    "    classifiers = {\n",
    "        \"CatBoostClassifier\": CatBoostClassifier(verbose=False, random_seed=random_state),\n",
    "        \"LGBMClassifier\": LGBMClassifier(random_state=random_state),\n",
    "        \"XGBClassifier\": XGBClassifier(random_state=random_state),\n",
    "        \"BaggingClassifier\": BaggingClassifier(random_state=random_state),\n",
    "        \"RandomForestClassifier\": RandomForestClassifier(random_state=random_state),\n",
    "    }\n",
    "    scores = []\n",
    "    predictions = []\n",
    "    for key, classifier in classifiers.items():\n",
    "        print('_' * 50)\n",
    "        name = key\n",
    "        classifier.fit(X, y)\n",
    "        print(\"Classifier: \", name)\n",
    "        y_pred = classifier.predict(Xt)\n",
    "        cm = confusion_matrix(yt, y_pred)\n",
    "        print(cm)\n",
    "        print('')\n",
    "        predictions.append(y_pred)\n",
    "        tn = cm[0,0]\n",
    "        fp = cm[0,1]\n",
    "        fn = cm[1,0]\n",
    "        tp = cm[1,1]\n",
    "        tnr = tn / (tn + fp)\n",
    "        tpr = tp / (tp + fn)\n",
    "        scores.append(tnr * tpr)\n",
    "        print('TNR:', round(tnr, 5))\n",
    "        print('TPR:', round(tpr, 5))\n",
    "        print('TNRxTPR:', round(tnr * tpr, 5))\n",
    "        print('G-mean:', round(np.sqrt(tnr * tpr), 5))\n",
    "\n",
    "    print('_' * 50)\n",
    "    print('Ensemble predictions (majority voting):')\n",
    "    predictions = np.sum(predictions, axis=0)\n",
    "    predictions[predictions < 3] = 0\n",
    "    predictions[predictions >= 3] = 1\n",
    "\n",
    "    cm = confusion_matrix(yt, predictions)\n",
    "    print(cm)\n",
    "    tn = cm[0,0]\n",
    "    fp = cm[0,1]\n",
    "    fn = cm[1,0]\n",
    "    tp = cm[1,1]\n",
    "    tnr = tn / (tn + fp)\n",
    "    tpr = tp / (tp + fn)\n",
    "    print('')\n",
    "    print('TNR:', round(tnr, 5))\n",
    "    print('TPR:', round(tpr, 5))\n",
    "    print('TNRxTPR:', round(tnr * tpr, 5))\n",
    "    print('G-mean:', round(np.sqrt(tnr * tpr), 5))\n"
   ]
  },
  {
   "cell_type": "markdown",
   "metadata": {},
   "source": [
    "## Without resampling (base line) \n",
    "Which is starting score?\n"
   ]
  },
  {
   "cell_type": "code",
   "execution_count": 9,
   "metadata": {},
   "outputs": [
    {
     "name": "stdout",
     "output_type": "stream",
     "text": [
      "Original dataset shape Counter({0: 4145, 1: 32})\n",
      "Ratio-> 129.5 : 1\n"
     ]
    }
   ],
   "source": [
    "print('Original dataset shape %s' % Counter(y))\n",
    "print('Ratio->', round(Counter(y)[0]/Counter(y)[1], 1), ': 1')"
   ]
  },
  {
   "cell_type": "code",
   "execution_count": 10,
   "metadata": {},
   "outputs": [
    {
     "name": "stdout",
     "output_type": "stream",
     "text": [
      "__________________________________________________\n",
      "Classifier:  CatBoostClassifier\n",
      "[[830   0]\n",
      " [  6   0]]\n",
      "\n",
      "TNR: 1.0\n",
      "TPR: 0.0\n",
      "TNRxTPR: 0.0\n",
      "G-mean: 0.0\n",
      "__________________________________________________\n",
      "Classifier:  LGBMClassifier\n",
      "[[830   0]\n",
      " [  6   0]]\n",
      "\n",
      "TNR: 1.0\n",
      "TPR: 0.0\n",
      "TNRxTPR: 0.0\n",
      "G-mean: 0.0\n",
      "__________________________________________________\n",
      "Classifier:  XGBClassifier\n",
      "[[830   0]\n",
      " [  6   0]]\n",
      "\n",
      "TNR: 1.0\n",
      "TPR: 0.0\n",
      "TNRxTPR: 0.0\n",
      "G-mean: 0.0\n",
      "__________________________________________________\n",
      "Classifier:  BaggingClassifier\n",
      "[[830   0]\n",
      " [  6   0]]\n",
      "\n",
      "TNR: 1.0\n",
      "TPR: 0.0\n",
      "TNRxTPR: 0.0\n",
      "G-mean: 0.0\n",
      "__________________________________________________\n",
      "Classifier:  RandomForestClassifier\n",
      "[[830   0]\n",
      " [  6   0]]\n",
      "\n",
      "TNR: 1.0\n",
      "TPR: 0.0\n",
      "TNRxTPR: 0.0\n",
      "G-mean: 0.0\n",
      "__________________________________________________\n",
      "Ensemble predictions (majority voting):\n",
      "[[830   0]\n",
      " [  6   0]]\n",
      "\n",
      "TNR: 1.0\n",
      "TPR: 0.0\n",
      "TNRxTPR: 0.0\n",
      "G-mean: 0.0\n"
     ]
    }
   ],
   "source": [
    "train_val(X_train, y_train, X_test, y_test)"
   ]
  },
  {
   "cell_type": "markdown",
   "metadata": {
    "id": "jcCxQq6-Uvyr"
   },
   "source": [
    "## Ratio 1:1  \n",
    "Let's see classifiers scores when dataset is balanced.  \n"
   ]
  },
  {
   "cell_type": "code",
   "execution_count": 11,
   "metadata": {
    "executionInfo": {
     "elapsed": 357,
     "status": "ok",
     "timestamp": 1688995307675,
     "user": {
      "displayName": "JACINTO DOMINGUEZ RULL",
      "userId": "04779779024889038949"
     },
     "user_tz": -120
    },
    "id": "BHJ2B9Cx_nsc"
   },
   "outputs": [],
   "source": [
    "# SMOTE\n",
    "\n",
    "sm = SMOTE(random_state=42, sampling_strategy=1) # N_rm / N_M\n",
    "X_res, y_res = sm.fit_resample(X_train, y_train)"
   ]
  },
  {
   "cell_type": "code",
   "execution_count": 12,
   "metadata": {
    "colab": {
     "base_uri": "https://localhost:8080/"
    },
    "executionInfo": {
     "elapsed": 387,
     "status": "ok",
     "timestamp": 1688995310860,
     "user": {
      "displayName": "JACINTO DOMINGUEZ RULL",
      "userId": "04779779024889038949"
     },
     "user_tz": -120
    },
    "id": "6U0Byc1lUvys",
    "outputId": "181ce847-ebb3-41e7-9ad6-e6da7cc70634"
   },
   "outputs": [
    {
     "name": "stdout",
     "output_type": "stream",
     "text": [
      "Resampled dataset shape Counter({0: 3315, 1: 3315})\n",
      "Ratio->  1 : 1.0\n"
     ]
    }
   ],
   "source": [
    "print('Resampled dataset shape %s' % Counter(y_res))\n",
    "print('Ratio->  1 :', round(Counter(y_res)[1]/Counter(y_res)[0], 1))"
   ]
  },
  {
   "cell_type": "code",
   "execution_count": 13,
   "metadata": {
    "colab": {
     "base_uri": "https://localhost:8080/"
    },
    "executionInfo": {
     "elapsed": 40216,
     "status": "ok",
     "timestamp": 1688995352688,
     "user": {
      "displayName": "JACINTO DOMINGUEZ RULL",
      "userId": "04779779024889038949"
     },
     "user_tz": -120
    },
    "id": "CMGEySDMpTdx",
    "outputId": "499c6531-cf29-4c8f-e045-290037f6543c",
    "scrolled": false
   },
   "outputs": [
    {
     "name": "stdout",
     "output_type": "stream",
     "text": [
      "__________________________________________________\n",
      "Classifier:  CatBoostClassifier\n",
      "[[816  14]\n",
      " [  6   0]]\n",
      "\n",
      "TNR: 0.98313\n",
      "TPR: 0.0\n",
      "TNRxTPR: 0.0\n",
      "G-mean: 0.0\n",
      "__________________________________________________\n",
      "Classifier:  LGBMClassifier\n",
      "[[823   7]\n",
      " [  6   0]]\n",
      "\n",
      "TNR: 0.99157\n",
      "TPR: 0.0\n",
      "TNRxTPR: 0.0\n",
      "G-mean: 0.0\n",
      "__________________________________________________\n",
      "Classifier:  XGBClassifier\n",
      "[[822   8]\n",
      " [  6   0]]\n",
      "\n",
      "TNR: 0.99036\n",
      "TPR: 0.0\n",
      "TNRxTPR: 0.0\n",
      "G-mean: 0.0\n",
      "__________________________________________________\n",
      "Classifier:  BaggingClassifier\n",
      "[[807  23]\n",
      " [  5   1]]\n",
      "\n",
      "TNR: 0.97229\n",
      "TPR: 0.16667\n",
      "TNRxTPR: 0.16205\n",
      "G-mean: 0.40255\n",
      "__________________________________________________\n",
      "Classifier:  RandomForestClassifier\n",
      "[[813  17]\n",
      " [  6   0]]\n",
      "\n",
      "TNR: 0.97952\n",
      "TPR: 0.0\n",
      "TNRxTPR: 0.0\n",
      "G-mean: 0.0\n",
      "__________________________________________________\n",
      "Ensemble predictions (majority voting):\n",
      "[[819  11]\n",
      " [  6   0]]\n",
      "\n",
      "TNR: 0.98675\n",
      "TPR: 0.0\n",
      "TNRxTPR: 0.0\n",
      "G-mean: 0.0\n"
     ]
    }
   ],
   "source": [
    "train_val(X_res, y_res, X_test, y_test)"
   ]
  },
  {
   "cell_type": "code",
   "execution_count": 14,
   "metadata": {
    "executionInfo": {
     "elapsed": 628,
     "status": "ok",
     "timestamp": 1688995372242,
     "user": {
      "displayName": "JACINTO DOMINGUEZ RULL",
      "userId": "04779779024889038949"
     },
     "user_tz": -120
    },
    "id": "hiRVkg2eUx0U"
   },
   "outputs": [],
   "source": [
    "# ROS\n",
    "\n",
    "ros = RandomOverSampler(random_state=42, sampling_strategy=1) # N_rm / N_M\n",
    "X_res, y_res = ros.fit_resample(X_train, y_train)"
   ]
  },
  {
   "cell_type": "code",
   "execution_count": 15,
   "metadata": {
    "colab": {
     "base_uri": "https://localhost:8080/"
    },
    "executionInfo": {
     "elapsed": 15,
     "status": "ok",
     "timestamp": 1688995373401,
     "user": {
      "displayName": "JACINTO DOMINGUEZ RULL",
      "userId": "04779779024889038949"
     },
     "user_tz": -120
    },
    "id": "7igPUXNbUvyu",
    "outputId": "1553fdf0-4da8-4eca-8d96-157efd69a1fe"
   },
   "outputs": [
    {
     "name": "stdout",
     "output_type": "stream",
     "text": [
      "Resampled dataset shape Counter({0: 3315, 1: 3315})\n",
      "Ratio->  1 : 1.0\n"
     ]
    }
   ],
   "source": [
    "print('Resampled dataset shape %s' % Counter(y_res))\n",
    "print('Ratio->  1 :', round(Counter(y_res)[1]/Counter(y_res)[0], 1))"
   ]
  },
  {
   "cell_type": "code",
   "execution_count": 16,
   "metadata": {
    "colab": {
     "base_uri": "https://localhost:8080/"
    },
    "executionInfo": {
     "elapsed": 16416,
     "status": "ok",
     "timestamp": 1688995391595,
     "user": {
      "displayName": "JACINTO DOMINGUEZ RULL",
      "userId": "04779779024889038949"
     },
     "user_tz": -120
    },
    "id": "IMANwdwxUx0b",
    "outputId": "f53bd412-4cd1-4a21-ac45-4bbb7d5e13e5",
    "scrolled": false
   },
   "outputs": [
    {
     "name": "stdout",
     "output_type": "stream",
     "text": [
      "__________________________________________________\n",
      "Classifier:  CatBoostClassifier\n",
      "[[826   4]\n",
      " [  6   0]]\n",
      "\n",
      "TNR: 0.99518\n",
      "TPR: 0.0\n",
      "TNRxTPR: 0.0\n",
      "G-mean: 0.0\n",
      "__________________________________________________\n",
      "Classifier:  LGBMClassifier\n",
      "[[829   1]\n",
      " [  6   0]]\n",
      "\n",
      "TNR: 0.9988\n",
      "TPR: 0.0\n",
      "TNRxTPR: 0.0\n",
      "G-mean: 0.0\n",
      "__________________________________________________\n",
      "Classifier:  XGBClassifier\n",
      "[[827   3]\n",
      " [  6   0]]\n",
      "\n",
      "TNR: 0.99639\n",
      "TPR: 0.0\n",
      "TNRxTPR: 0.0\n",
      "G-mean: 0.0\n",
      "__________________________________________________\n",
      "Classifier:  BaggingClassifier\n",
      "[[827   3]\n",
      " [  6   0]]\n",
      "\n",
      "TNR: 0.99639\n",
      "TPR: 0.0\n",
      "TNRxTPR: 0.0\n",
      "G-mean: 0.0\n",
      "__________________________________________________\n",
      "Classifier:  RandomForestClassifier\n",
      "[[830   0]\n",
      " [  6   0]]\n",
      "\n",
      "TNR: 1.0\n",
      "TPR: 0.0\n",
      "TNRxTPR: 0.0\n",
      "G-mean: 0.0\n",
      "__________________________________________________\n",
      "Ensemble predictions (majority voting):\n",
      "[[829   1]\n",
      " [  6   0]]\n",
      "\n",
      "TNR: 0.9988\n",
      "TPR: 0.0\n",
      "TNRxTPR: 0.0\n",
      "G-mean: 0.0\n"
     ]
    }
   ],
   "source": [
    "train_val(X_res, y_res, X_test, y_test)"
   ]
  },
  {
   "cell_type": "code",
   "execution_count": 17,
   "metadata": {
    "colab": {
     "base_uri": "https://localhost:8080/"
    },
    "executionInfo": {
     "elapsed": 22962,
     "status": "ok",
     "timestamp": 1688995428676,
     "user": {
      "displayName": "JACINTO DOMINGUEZ RULL",
      "userId": "04779779024889038949"
     },
     "user_tz": -120
    },
    "id": "B065rYa3wO-o",
    "outputId": "c1a1f53d-b677-4e8b-a3fc-0baed87c76c7"
   },
   "outputs": [
    {
     "name": "stderr",
     "output_type": "stream",
     "text": [
      "2023-07-11 13:44:29.289744: W tensorflow/stream_executor/platform/default/dso_loader.cc:64] Could not load dynamic library 'libcuda.so.1'; dlerror: libcuda.so.1: cannot open shared object file: No such file or directory\n",
      "2023-07-11 13:44:29.289793: W tensorflow/stream_executor/cuda/cuda_driver.cc:269] failed call to cuInit: UNKNOWN ERROR (303)\n",
      "2023-07-11 13:44:29.289820: I tensorflow/stream_executor/cuda/cuda_diagnostics.cc:156] kernel driver does not appear to be running on this host (a-Modern-15-A5M): /proc/driver/nvidia/version does not exist\n",
      "2023-07-11 13:44:29.290185: I tensorflow/core/platform/cpu_feature_guard.cc:151] This TensorFlow binary is optimized with oneAPI Deep Neural Network Library (oneDNN) to use the following CPU instructions in performance-critical operations:  AVX2 FMA\n",
      "To enable them in other operations, rebuild TensorFlow with the appropriate compiler flags.\n"
     ]
    }
   ],
   "source": [
    "# VAEOversampler\n",
    "\n",
    "vae_sampler = VAEOversampler(epochs=500,\n",
    "                              intermediate_dim=512,\n",
    "                              batch_size=64,\n",
    "                              random_state=42,\n",
    "                              verbose=False)\n",
    "X_res, y_res = vae_sampler.fit_resample(X_train, y_train)"
   ]
  },
  {
   "cell_type": "code",
   "execution_count": 18,
   "metadata": {
    "colab": {
     "base_uri": "https://localhost:8080/"
    },
    "executionInfo": {
     "elapsed": 351,
     "status": "ok",
     "timestamp": 1688995436509,
     "user": {
      "displayName": "JACINTO DOMINGUEZ RULL",
      "userId": "04779779024889038949"
     },
     "user_tz": -120
    },
    "id": "nOsNattyeSXh",
    "outputId": "675e48ff-df76-48f7-daff-d244dda92b04"
   },
   "outputs": [
    {
     "name": "stdout",
     "output_type": "stream",
     "text": [
      "Resampled dataset shape Counter({0.0: 3315, 1.0: 3315})\n",
      "Ratio->  1 : 1.0\n"
     ]
    }
   ],
   "source": [
    "print('Resampled dataset shape %s' % Counter(y_res))\n",
    "print('Ratio->  1 :', round(Counter(y_res)[1]/Counter(y_res)[0], 1))"
   ]
  },
  {
   "cell_type": "code",
   "execution_count": 19,
   "metadata": {
    "colab": {
     "base_uri": "https://localhost:8080/"
    },
    "executionInfo": {
     "elapsed": 35736,
     "status": "ok",
     "timestamp": 1688995473714,
     "user": {
      "displayName": "JACINTO DOMINGUEZ RULL",
      "userId": "04779779024889038949"
     },
     "user_tz": -120
    },
    "id": "6BNffQSbwO-t",
    "outputId": "97f57313-8e43-4eba-8675-e0b72e987ccd"
   },
   "outputs": [
    {
     "name": "stdout",
     "output_type": "stream",
     "text": [
      "__________________________________________________\n",
      "Classifier:  CatBoostClassifier\n",
      "[[830   0]\n",
      " [  6   0]]\n",
      "\n",
      "TNR: 1.0\n",
      "TPR: 0.0\n",
      "TNRxTPR: 0.0\n",
      "G-mean: 0.0\n",
      "__________________________________________________\n",
      "Classifier:  LGBMClassifier\n",
      "[[830   0]\n",
      " [  6   0]]\n",
      "\n",
      "TNR: 1.0\n",
      "TPR: 0.0\n",
      "TNRxTPR: 0.0\n",
      "G-mean: 0.0\n",
      "__________________________________________________\n",
      "Classifier:  XGBClassifier\n",
      "[[830   0]\n",
      " [  6   0]]\n",
      "\n",
      "TNR: 1.0\n",
      "TPR: 0.0\n",
      "TNRxTPR: 0.0\n",
      "G-mean: 0.0\n",
      "__________________________________________________\n",
      "Classifier:  BaggingClassifier\n",
      "[[830   0]\n",
      " [  6   0]]\n",
      "\n",
      "TNR: 1.0\n",
      "TPR: 0.0\n",
      "TNRxTPR: 0.0\n",
      "G-mean: 0.0\n",
      "__________________________________________________\n",
      "Classifier:  RandomForestClassifier\n",
      "[[830   0]\n",
      " [  6   0]]\n",
      "\n",
      "TNR: 1.0\n",
      "TPR: 0.0\n",
      "TNRxTPR: 0.0\n",
      "G-mean: 0.0\n",
      "__________________________________________________\n",
      "Ensemble predictions (majority voting):\n",
      "[[830   0]\n",
      " [  6   0]]\n",
      "\n",
      "TNR: 1.0\n",
      "TPR: 0.0\n",
      "TNRxTPR: 0.0\n",
      "G-mean: 0.0\n"
     ]
    }
   ],
   "source": [
    "train_val(X_res, y_res, X_test, y_test)"
   ]
  },
  {
   "cell_type": "markdown",
   "metadata": {
    "id": "w9swp8C1wO-w"
   },
   "source": [
    "## Under/Oversampling combination  \n",
    "Now we can tuning the number of instances for each class to optimize metric.  \n"
   ]
  },
  {
   "cell_type": "code",
   "execution_count": 20,
   "metadata": {
    "executionInfo": {
     "elapsed": 353,
     "status": "ok",
     "timestamp": 1688996408236,
     "user": {
      "displayName": "JACINTO DOMINGUEZ RULL",
      "userId": "04779779024889038949"
     },
     "user_tz": -120
    },
    "id": "D0jtqxJ8Uvyv"
   },
   "outputs": [],
   "source": [
    "# SMOTE\n",
    "\n",
    "sm = SMOTE(random_state=42, sampling_strategy=1) # N_rm / N_M\n",
    "X_res, y_res = sm.fit_resample(X_train, y_train)"
   ]
  },
  {
   "cell_type": "code",
   "execution_count": 25,
   "metadata": {
    "colab": {
     "base_uri": "https://localhost:8080/"
    },
    "executionInfo": {
     "elapsed": 453,
     "status": "ok",
     "timestamp": 1688996413391,
     "user": {
      "displayName": "JACINTO DOMINGUEZ RULL",
      "userId": "04779779024889038949"
     },
     "user_tz": -120
    },
    "id": "uQ3_RoAsUvyv",
    "outputId": "9fcbbbc9-a53f-4242-a1af-f6fb09e825c2"
   },
   "outputs": [
    {
     "name": "stdout",
     "output_type": "stream",
     "text": [
      "Resampled dataset shape Counter({1: 3315, 0: 166})\n",
      "Ratio->  1 : 20.0\n"
     ]
    }
   ],
   "source": [
    "# RUS\n",
    "\n",
    "X_eq, y_eq = RUS(X_res, y_res, frac=.05)\n",
    "\n",
    "print('Resampled dataset shape %s' % Counter(y_eq))\n",
    "print('Ratio->  1 :', round(Counter(y_eq)[1]/Counter(y_eq)[0], 1))"
   ]
  },
  {
   "cell_type": "code",
   "execution_count": 26,
   "metadata": {
    "colab": {
     "base_uri": "https://localhost:8080/"
    },
    "executionInfo": {
     "elapsed": 35144,
     "status": "ok",
     "timestamp": 1688996450845,
     "user": {
      "displayName": "JACINTO DOMINGUEZ RULL",
      "userId": "04779779024889038949"
     },
     "user_tz": -120
    },
    "id": "TPcOZeONUvyw",
    "outputId": "3303ee5a-4fdb-420a-b40f-6605533f1a34",
    "scrolled": false
   },
   "outputs": [
    {
     "name": "stdout",
     "output_type": "stream",
     "text": [
      "__________________________________________________\n",
      "Classifier:  CatBoostClassifier\n",
      "[[608 222]\n",
      " [  0   6]]\n",
      "\n",
      "TNR: 0.73253\n",
      "TPR: 1.0\n",
      "TNRxTPR: 0.73253\n",
      "G-mean: 0.85588\n",
      "__________________________________________________\n",
      "Classifier:  LGBMClassifier\n",
      "[[661 169]\n",
      " [  2   4]]\n",
      "\n",
      "TNR: 0.79639\n",
      "TPR: 0.66667\n",
      "TNRxTPR: 0.53092\n",
      "G-mean: 0.72865\n",
      "__________________________________________________\n",
      "Classifier:  XGBClassifier\n",
      "[[658 172]\n",
      " [  2   4]]\n",
      "\n",
      "TNR: 0.79277\n",
      "TPR: 0.66667\n",
      "TNRxTPR: 0.52851\n",
      "G-mean: 0.72699\n",
      "__________________________________________________\n",
      "Classifier:  BaggingClassifier\n",
      "[[655 175]\n",
      " [  3   3]]\n",
      "\n",
      "TNR: 0.78916\n",
      "TPR: 0.5\n",
      "TNRxTPR: 0.39458\n",
      "G-mean: 0.62815\n",
      "__________________________________________________\n",
      "Classifier:  RandomForestClassifier\n",
      "[[642 188]\n",
      " [  2   4]]\n",
      "\n",
      "TNR: 0.77349\n",
      "TPR: 0.66667\n",
      "TNRxTPR: 0.51566\n",
      "G-mean: 0.7181\n",
      "__________________________________________________\n",
      "Ensemble predictions (majority voting):\n",
      "[[650 180]\n",
      " [  2   4]]\n",
      "\n",
      "TNR: 0.78313\n",
      "TPR: 0.66667\n",
      "TNRxTPR: 0.52209\n",
      "G-mean: 0.72256\n"
     ]
    }
   ],
   "source": [
    "train_val(X_eq, y_eq, X_test, y_test)"
   ]
  },
  {
   "cell_type": "code",
   "execution_count": 27,
   "metadata": {
    "executionInfo": {
     "elapsed": 412,
     "status": "ok",
     "timestamp": 1688995653229,
     "user": {
      "displayName": "JACINTO DOMINGUEZ RULL",
      "userId": "04779779024889038949"
     },
     "user_tz": -120
    },
    "id": "-mGQlfSdUvyw"
   },
   "outputs": [],
   "source": [
    "# ROS\n",
    "\n",
    "ros = RandomOverSampler(random_state=42, sampling_strategy=1) # N_rm / N_M\n",
    "X_res, y_res = ros.fit_resample(X_train, y_train)"
   ]
  },
  {
   "cell_type": "code",
   "execution_count": 36,
   "metadata": {
    "colab": {
     "base_uri": "https://localhost:8080/"
    },
    "executionInfo": {
     "elapsed": 29,
     "status": "ok",
     "timestamp": 1688995654640,
     "user": {
      "displayName": "JACINTO DOMINGUEZ RULL",
      "userId": "04779779024889038949"
     },
     "user_tz": -120
    },
    "id": "8fdzr1qOUvyw",
    "outputId": "b3249966-2c06-4802-b332-a30b0fb4cee5"
   },
   "outputs": [
    {
     "name": "stdout",
     "output_type": "stream",
     "text": [
      "Resampled dataset shape Counter({1: 3315, 0: 166})\n",
      "Ratio->  1 : 20.0\n"
     ]
    }
   ],
   "source": [
    "# RUS\n",
    "\n",
    "X_eq, y_eq = RUS(X_res, y_res, frac=.05)\n",
    "\n",
    "print('Resampled dataset shape %s' % Counter(y_eq))\n",
    "print('Ratio->  1 :', round(Counter(y_eq)[1]/Counter(y_eq)[0], 1))"
   ]
  },
  {
   "cell_type": "code",
   "execution_count": 37,
   "metadata": {
    "colab": {
     "base_uri": "https://localhost:8080/"
    },
    "executionInfo": {
     "elapsed": 11836,
     "status": "ok",
     "timestamp": 1688995668496,
     "user": {
      "displayName": "JACINTO DOMINGUEZ RULL",
      "userId": "04779779024889038949"
     },
     "user_tz": -120
    },
    "id": "u0UCU05gUvyw",
    "outputId": "c999c822-4c95-47a9-e53d-0089cbd4bf4f",
    "scrolled": false
   },
   "outputs": [
    {
     "name": "stdout",
     "output_type": "stream",
     "text": [
      "__________________________________________________\n",
      "Classifier:  CatBoostClassifier\n",
      "[[683 147]\n",
      " [  1   5]]\n",
      "\n",
      "TNR: 0.82289\n",
      "TPR: 0.83333\n",
      "TNRxTPR: 0.68574\n",
      "G-mean: 0.8281\n",
      "__________________________________________________\n",
      "Classifier:  LGBMClassifier\n",
      "[[731  99]\n",
      " [  3   3]]\n",
      "\n",
      "TNR: 0.88072\n",
      "TPR: 0.5\n",
      "TNRxTPR: 0.44036\n",
      "G-mean: 0.6636\n",
      "__________________________________________________\n",
      "Classifier:  XGBClassifier\n",
      "[[728 102]\n",
      " [  4   2]]\n",
      "\n",
      "TNR: 0.87711\n",
      "TPR: 0.33333\n",
      "TNRxTPR: 0.29237\n",
      "G-mean: 0.54071\n",
      "__________________________________________________\n",
      "Classifier:  BaggingClassifier\n",
      "[[740  90]\n",
      " [  5   1]]\n",
      "\n",
      "TNR: 0.89157\n",
      "TPR: 0.16667\n",
      "TNRxTPR: 0.14859\n",
      "G-mean: 0.38548\n",
      "__________________________________________________\n",
      "Classifier:  RandomForestClassifier\n",
      "[[767  63]\n",
      " [  4   2]]\n",
      "\n",
      "TNR: 0.9241\n",
      "TPR: 0.33333\n",
      "TNRxTPR: 0.30803\n",
      "G-mean: 0.55501\n",
      "__________________________________________________\n",
      "Ensemble predictions (majority voting):\n",
      "[[745  85]\n",
      " [  4   2]]\n",
      "\n",
      "TNR: 0.89759\n",
      "TPR: 0.33333\n",
      "TNRxTPR: 0.2992\n",
      "G-mean: 0.54699\n"
     ]
    }
   ],
   "source": [
    "train_val(X_eq, y_eq, X_test, y_test)"
   ]
  },
  {
   "cell_type": "code",
   "execution_count": 109,
   "metadata": {
    "colab": {
     "base_uri": "https://localhost:8080/"
    },
    "executionInfo": {
     "elapsed": 635,
     "status": "ok",
     "timestamp": 1688996013493,
     "user": {
      "displayName": "JACINTO DOMINGUEZ RULL",
      "userId": "04779779024889038949"
     },
     "user_tz": -120
    },
    "id": "T6benPDnCzym",
    "outputId": "46345bea-6043-4461-dd80-7ab21fcc8cb0"
   },
   "outputs": [],
   "source": [
    "# VAEOversampler\n",
    "\n",
    "X_res, y_res = vae_sampler.resample(X_train, y_train, sampling_strategy=2)"
   ]
  },
  {
   "cell_type": "code",
   "execution_count": 112,
   "metadata": {
    "colab": {
     "base_uri": "https://localhost:8080/"
    },
    "executionInfo": {
     "elapsed": 22,
     "status": "ok",
     "timestamp": 1688996014915,
     "user": {
      "displayName": "JACINTO DOMINGUEZ RULL",
      "userId": "04779779024889038949"
     },
     "user_tz": -120
    },
    "id": "7a1QqxB6Czyx",
    "outputId": "a0c1b82e-ab5a-4668-bf61-2b0f2fe59de8"
   },
   "outputs": [
    {
     "name": "stdout",
     "output_type": "stream",
     "text": [
      "Resampled dataset shape Counter({1.0: 6604, 0.0: 51})\n",
      "Ratio->  1 : 129.5\n"
     ]
    }
   ],
   "source": [
    "# RUS\n",
    "\n",
    "X_eq, y_eq = RUS(X_res, y_res, frac=.0155)\n",
    "\n",
    "print('Resampled dataset shape %s' % Counter(y_eq))\n",
    "print('Ratio->  1 :', round(Counter(y_eq)[1]/Counter(y_eq)[0], 1))"
   ]
  },
  {
   "cell_type": "code",
   "execution_count": 113,
   "metadata": {
    "colab": {
     "base_uri": "https://localhost:8080/"
    },
    "executionInfo": {
     "elapsed": 31547,
     "status": "ok",
     "timestamp": 1688996048806,
     "user": {
      "displayName": "JACINTO DOMINGUEZ RULL",
      "userId": "04779779024889038949"
     },
     "user_tz": -120
    },
    "id": "oAv7STUxCzy0",
    "outputId": "6dca37fe-0bd6-4dee-a12c-0d1f3c18c865"
   },
   "outputs": [
    {
     "name": "stdout",
     "output_type": "stream",
     "text": [
      "__________________________________________________\n",
      "Classifier:  CatBoostClassifier\n",
      "[[683 147]\n",
      " [  3   3]]\n",
      "\n",
      "TNR: 0.82289\n",
      "TPR: 0.5\n",
      "TNRxTPR: 0.41145\n",
      "G-mean: 0.64144\n",
      "__________________________________________________\n",
      "Classifier:  LGBMClassifier\n",
      "[[648 182]\n",
      " [  2   4]]\n",
      "\n",
      "TNR: 0.78072\n",
      "TPR: 0.66667\n",
      "TNRxTPR: 0.52048\n",
      "G-mean: 0.72144\n",
      "__________________________________________________\n",
      "Classifier:  XGBClassifier\n",
      "[[676 154]\n",
      " [  4   2]]\n",
      "\n",
      "TNR: 0.81446\n",
      "TPR: 0.33333\n",
      "TNRxTPR: 0.27149\n",
      "G-mean: 0.52104\n",
      "__________________________________________________\n",
      "Classifier:  BaggingClassifier\n",
      "[[700 130]\n",
      " [  1   5]]\n",
      "\n",
      "TNR: 0.84337\n",
      "TPR: 0.83333\n",
      "TNRxTPR: 0.70281\n",
      "G-mean: 0.83834\n",
      "__________________________________________________\n",
      "Classifier:  RandomForestClassifier\n",
      "[[694 136]\n",
      " [  2   4]]\n",
      "\n",
      "TNR: 0.83614\n",
      "TPR: 0.66667\n",
      "TNRxTPR: 0.55743\n",
      "G-mean: 0.74661\n",
      "__________________________________________________\n",
      "Ensemble predictions (majority voting):\n",
      "[[692 138]\n",
      " [  2   4]]\n",
      "\n",
      "TNR: 0.83373\n",
      "TPR: 0.66667\n",
      "TNRxTPR: 0.55582\n",
      "G-mean: 0.74554\n"
     ]
    }
   ],
   "source": [
    "train_val(X_eq, y_eq, X_test, y_test)"
   ]
  },
  {
   "cell_type": "markdown",
   "metadata": {
    "id": "RydFSMjOoD87"
   },
   "source": [
    "## References  \n",
    "\n",
    "  - Classification with Imbalanced Datasets:  \n",
    "    https://sci2s.ugr.es/imbalanced  \n",
    "  - Computer Vision:  Models, Learning, and Inference (Simon J.D. Prince):  \n",
    "    http://www.computervisionmodels.com/  \n",
    "  - Oversampling with VAEs:  \n",
    "    https://towardsdatascience.com/oversampling-with-vaes-e410887fe51  \n"
   ]
  }
 ],
 "metadata": {
  "colab": {
   "provenance": []
  },
  "gpuClass": "standard",
  "kernelspec": {
   "display_name": "Python 3 (ipykernel)",
   "language": "python",
   "name": "python3"
  },
  "language_info": {
   "codemirror_mode": {
    "name": "ipython",
    "version": 3
   },
   "file_extension": ".py",
   "mimetype": "text/x-python",
   "name": "python",
   "nbconvert_exporter": "python",
   "pygments_lexer": "ipython3",
   "version": "3.9.7"
  }
 },
 "nbformat": 4,
 "nbformat_minor": 1
}
