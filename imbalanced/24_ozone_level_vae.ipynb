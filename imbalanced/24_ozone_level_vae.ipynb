{
 "cells": [
  {
   "cell_type": "markdown",
   "metadata": {
    "id": "qLO_siFYEPSg"
   },
   "source": [
    "# Dealing with imbalanced datasets, combining oversampling with VAE and undersampling to improve model recognition over all classes.  "
   ]
  },
  {
   "cell_type": "markdown",
   "metadata": {
    "id": "IOzC3QPArH_F"
   },
   "source": [
    "Import packages, classifiers and etc."
   ]
  },
  {
   "cell_type": "code",
   "execution_count": 1,
   "metadata": {
    "_cell_guid": "b1076dfc-b9ad-4769-8c92-a6c4dae69d19",
    "_uuid": "8f2839f25d086af736a60e9eeb907d3b93b6e0e5",
    "executionInfo": {
     "elapsed": 3174,
     "status": "ok",
     "timestamp": 1688995206705,
     "user": {
      "displayName": "JACINTO DOMINGUEZ RULL",
      "userId": "04779779024889038949"
     },
     "user_tz": -120
    },
    "id": "GDNB_c5RrH_I"
   },
   "outputs": [],
   "source": [
    "import pandas as pd\n",
    "import numpy as np\n",
    "\n",
    "from sklearn.preprocessing import StandardScaler\n",
    "from sklearn.model_selection import train_test_split, cross_validate\n",
    "\n",
    "from catboost import CatBoostClassifier\n",
    "from lightgbm import LGBMClassifier\n",
    "from xgboost import XGBClassifier\n",
    "from sklearn.ensemble import BaggingClassifier, RandomForestClassifier\n",
    "\n",
    "from sklearn.metrics import confusion_matrix, make_scorer\n",
    "from imblearn.metrics import classification_report_imbalanced, geometric_mean_score\n",
    "from collections import Counter\n",
    "\n",
    "from imblearn.over_sampling import SMOTE, RandomOverSampler"
   ]
  },
  {
   "cell_type": "markdown",
   "metadata": {
    "id": "7qxBXk4fPiJx"
   },
   "source": [
    "Import VAEOversampler."
   ]
  },
  {
   "cell_type": "code",
   "execution_count": 2,
   "metadata": {
    "executionInfo": {
     "elapsed": 8866,
     "status": "ok",
     "timestamp": 1688995216025,
     "user": {
      "displayName": "JACINTO DOMINGUEZ RULL",
      "userId": "04779779024889038949"
     },
     "user_tz": -120
    },
    "id": "DqyRUyWlvryO"
   },
   "outputs": [
    {
     "name": "stderr",
     "output_type": "stream",
     "text": [
      "2023-07-11 12:19:50.228457: W tensorflow/stream_executor/platform/default/dso_loader.cc:64] Could not load dynamic library 'libcudart.so.11.0'; dlerror: libcudart.so.11.0: cannot open shared object file: No such file or directory\n",
      "2023-07-11 12:19:50.228494: I tensorflow/stream_executor/cuda/cudart_stub.cc:29] Ignore above cudart dlerror if you do not have a GPU set up on your machine.\n"
     ]
    }
   ],
   "source": [
    "from VAEOversampler import VAEOversampler"
   ]
  },
  {
   "cell_type": "markdown",
   "metadata": {
    "id": "8UEMO2hTPztj"
   },
   "source": [
    "## Loading data  \n",
    "You can load some dataset from Imbalanced Learn list (https://imbalanced-learn.org/stable/datasets/index.html) or use your own data.  \n"
   ]
  },
  {
   "cell_type": "code",
   "execution_count": 3,
   "metadata": {
    "executionInfo": {
     "elapsed": 62363,
     "status": "ok",
     "timestamp": 1688995285297,
     "user": {
      "displayName": "JACINTO DOMINGUEZ RULL",
      "userId": "04779779024889038949"
     },
     "user_tz": -120
    },
    "id": "Xnh_x70FwVCi"
   },
   "outputs": [],
   "source": [
    "from imblearn.datasets import fetch_datasets\n",
    "\n",
    "dset_name = 'ozone_level'\n",
    "dset = fetch_datasets()[dset_name]\n",
    "\n",
    "X, y = StandardScaler().fit_transform(dset.data), dset.target"
   ]
  },
  {
   "cell_type": "code",
   "execution_count": 4,
   "metadata": {
    "colab": {
     "base_uri": "https://localhost:8080/"
    },
    "executionInfo": {
     "elapsed": 506,
     "status": "ok",
     "timestamp": 1688995296163,
     "user": {
      "displayName": "JACINTO DOMINGUEZ RULL",
      "userId": "04779779024889038949"
     },
     "user_tz": -120
    },
    "id": "v_SUvgVSByCD",
    "outputId": "11fc0fdf-fc35-44e1-cde2-29ae6ccca978"
   },
   "outputs": [
    {
     "data": {
      "text/plain": [
       "array([[-0.71397271,  0.02029905,  0.44761066, ...,  2.96740577,\n",
       "        -1.38030021, -0.28234978],\n",
       "       [ 0.66903584,  0.97486511,  1.06809445, ...,  1.97728853,\n",
       "        -1.38030021, -0.28234978],\n",
       "       [ 0.73818626,  0.70213195,  0.58549595, ...,  1.25720327,\n",
       "        -1.00522613, -0.28234978],\n",
       "       ...,\n",
       "       [-0.71397271, -0.66153385, -0.37970107, ...,  1.97728853,\n",
       "        -0.88020144, -0.28234978],\n",
       "       [-0.36822057, -0.59335056, -0.17287314, ...,  1.43722459,\n",
       "        -0.75517675, -0.24437611],\n",
       "       [-0.22991972, -0.3206174 ,  0.0339548 , ...,  0.9871713 ,\n",
       "        -0.63015206, -0.28234978]])"
      ]
     },
     "execution_count": 4,
     "metadata": {},
     "output_type": "execute_result"
    }
   ],
   "source": [
    "X"
   ]
  },
  {
   "cell_type": "code",
   "execution_count": 5,
   "metadata": {
    "executionInfo": {
     "elapsed": 449,
     "status": "ok",
     "timestamp": 1688995298970,
     "user": {
      "displayName": "JACINTO DOMINGUEZ RULL",
      "userId": "04779779024889038949"
     },
     "user_tz": -120
    },
    "id": "Tb09lFMxPS2J"
   },
   "outputs": [],
   "source": [
    "y[y == -1] = 0"
   ]
  },
  {
   "cell_type": "markdown",
   "metadata": {
    "id": "hpLA_GmKSJwN"
   },
   "source": [
    "We split data into train and test partitions."
   ]
  },
  {
   "cell_type": "code",
   "execution_count": 6,
   "metadata": {
    "executionInfo": {
     "elapsed": 403,
     "status": "ok",
     "timestamp": 1688995301980,
     "user": {
      "displayName": "JACINTO DOMINGUEZ RULL",
      "userId": "04779779024889038949"
     },
     "user_tz": -120
    },
    "id": "ZS-Dd0R9GbBY"
   },
   "outputs": [],
   "source": [
    "X_train, X_test, y_train, y_test = train_test_split(X, y, test_size=0.2, random_state=42, stratify=y)"
   ]
  },
  {
   "cell_type": "markdown",
   "metadata": {
    "id": "Em7Um0N4rH_S"
   },
   "source": [
    "This is a simple function to undersample freely.  "
   ]
  },
  {
   "cell_type": "code",
   "execution_count": 7,
   "metadata": {
    "executionInfo": {
     "elapsed": 13,
     "status": "ok",
     "timestamp": 1688995303389,
     "user": {
      "displayName": "JACINTO DOMINGUEZ RULL",
      "userId": "04779779024889038949"
     },
     "user_tz": -120
    },
    "id": "1cdWcXE3Ofok"
   },
   "outputs": [],
   "source": [
    "# RUS\n",
    "\n",
    "def RUS(X_res, y_res, frac=1, minority_class_id=1, random_state=42):\n",
    "    X_res = pd.DataFrame(X_res)\n",
    "    X_res['Class'] = y_res\n",
    "\n",
    "    X_neg = X_res[y_res != minority_class_id].sample(frac=frac, random_state=random_state)\n",
    "    X_pos = X_res[y_res == minority_class_id].sample(frac=1, random_state=random_state)\n",
    "\n",
    "    X_rus = pd.concat([X_neg, X_pos], ignore_index=True)\n",
    "\n",
    "    X_eq = X_rus.drop('Class', axis=1)\n",
    "    y_eq = X_rus['Class']\n",
    "\n",
    "    return X_eq, y_eq"
   ]
  },
  {
   "cell_type": "code",
   "execution_count": 8,
   "metadata": {
    "executionInfo": {
     "elapsed": 10,
     "status": "ok",
     "timestamp": 1688995305101,
     "user": {
      "displayName": "JACINTO DOMINGUEZ RULL",
      "userId": "04779779024889038949"
     },
     "user_tz": -120
    },
    "id": "1Ep1nUMCES98"
   },
   "outputs": [],
   "source": [
    "def train_val(X, y, Xt, yt, random_state=42):\n",
    "    classifiers = {\n",
    "        \"CatBoostClassifier\": CatBoostClassifier(verbose=False, random_seed=random_state),\n",
    "        \"LGBMClassifier\": LGBMClassifier(random_state=random_state),\n",
    "        \"XGBClassifier\": XGBClassifier(random_state=random_state),\n",
    "        \"BaggingClassifier\": BaggingClassifier(random_state=random_state),\n",
    "        \"RandomForestClassifier\": RandomForestClassifier(random_state=random_state),\n",
    "    }\n",
    "    scores = []\n",
    "    predictions = []\n",
    "    for key, classifier in classifiers.items():\n",
    "        print('_' * 50)\n",
    "        name = key\n",
    "        classifier.fit(X, y)\n",
    "        print(\"Classifier: \", name)\n",
    "        y_pred = classifier.predict(Xt)\n",
    "        cm = confusion_matrix(yt, y_pred)\n",
    "        print(cm)\n",
    "        print('')\n",
    "        predictions.append(y_pred)\n",
    "        tn = cm[0,0]\n",
    "        fp = cm[0,1]\n",
    "        fn = cm[1,0]\n",
    "        tp = cm[1,1]\n",
    "        tnr = tn / (tn + fp)\n",
    "        tpr = tp / (tp + fn)\n",
    "        scores.append(tnr * tpr)\n",
    "        print('TNR:', round(tnr, 5))\n",
    "        print('TPR:', round(tpr, 5))\n",
    "        print('TNRxTPR:', round(tnr * tpr, 5))\n",
    "        print('G-mean:', round(np.sqrt(tnr * tpr), 5))\n",
    "\n",
    "    print('_' * 50)\n",
    "    print('Ensemble predictions (majority voting):')\n",
    "    predictions = np.sum(predictions, axis=0)\n",
    "    predictions[predictions < 3] = 0\n",
    "    predictions[predictions >= 3] = 1\n",
    "\n",
    "    cm = confusion_matrix(yt, predictions)\n",
    "    print(cm)\n",
    "    tn = cm[0,0]\n",
    "    fp = cm[0,1]\n",
    "    fn = cm[1,0]\n",
    "    tp = cm[1,1]\n",
    "    tnr = tn / (tn + fp)\n",
    "    tpr = tp / (tp + fn)\n",
    "    print('')\n",
    "    print('TNR:', round(tnr, 5))\n",
    "    print('TPR:', round(tpr, 5))\n",
    "    print('TNRxTPR:', round(tnr * tpr, 5))\n",
    "    print('G-mean:', round(np.sqrt(tnr * tpr), 5))\n"
   ]
  },
  {
   "cell_type": "markdown",
   "metadata": {},
   "source": [
    "## Without resampling (base line) \n",
    "Which is starting score?\n"
   ]
  },
  {
   "cell_type": "code",
   "execution_count": 9,
   "metadata": {},
   "outputs": [
    {
     "name": "stdout",
     "output_type": "stream",
     "text": [
      "Original dataset shape Counter({0: 2463, 1: 73})\n",
      "Ratio-> 33.7 : 1\n"
     ]
    }
   ],
   "source": [
    "print('Original dataset shape %s' % Counter(y))\n",
    "print('Ratio->', round(Counter(y)[0]/Counter(y)[1], 1), ': 1')"
   ]
  },
  {
   "cell_type": "code",
   "execution_count": 10,
   "metadata": {},
   "outputs": [
    {
     "name": "stdout",
     "output_type": "stream",
     "text": [
      "__________________________________________________\n",
      "Classifier:  CatBoostClassifier\n",
      "[[491   2]\n",
      " [ 15   0]]\n",
      "\n",
      "TNR: 0.99594\n",
      "TPR: 0.0\n",
      "TNRxTPR: 0.0\n",
      "G-mean: 0.0\n",
      "__________________________________________________\n",
      "Classifier:  LGBMClassifier\n",
      "[[490   3]\n",
      " [ 14   1]]\n",
      "\n",
      "TNR: 0.99391\n",
      "TPR: 0.06667\n",
      "TNRxTPR: 0.06626\n",
      "G-mean: 0.25741\n",
      "__________________________________________________\n",
      "Classifier:  XGBClassifier\n",
      "[[491   2]\n",
      " [ 15   0]]\n",
      "\n",
      "TNR: 0.99594\n",
      "TPR: 0.0\n",
      "TNRxTPR: 0.0\n",
      "G-mean: 0.0\n",
      "__________________________________________________\n",
      "Classifier:  BaggingClassifier\n",
      "[[493   0]\n",
      " [ 15   0]]\n",
      "\n",
      "TNR: 1.0\n",
      "TPR: 0.0\n",
      "TNRxTPR: 0.0\n",
      "G-mean: 0.0\n",
      "__________________________________________________\n",
      "Classifier:  RandomForestClassifier\n",
      "[[492   1]\n",
      " [ 15   0]]\n",
      "\n",
      "TNR: 0.99797\n",
      "TPR: 0.0\n",
      "TNRxTPR: 0.0\n",
      "G-mean: 0.0\n",
      "__________________________________________________\n",
      "Ensemble predictions (majority voting):\n",
      "[[491   2]\n",
      " [ 15   0]]\n",
      "\n",
      "TNR: 0.99594\n",
      "TPR: 0.0\n",
      "TNRxTPR: 0.0\n",
      "G-mean: 0.0\n"
     ]
    }
   ],
   "source": [
    "train_val(X_train, y_train, X_test, y_test)"
   ]
  },
  {
   "cell_type": "markdown",
   "metadata": {
    "id": "jcCxQq6-Uvyr"
   },
   "source": [
    "## Ratio 1:1  \n",
    "Let's see classifiers scores when dataset is balanced.  \n"
   ]
  },
  {
   "cell_type": "code",
   "execution_count": 11,
   "metadata": {
    "executionInfo": {
     "elapsed": 357,
     "status": "ok",
     "timestamp": 1688995307675,
     "user": {
      "displayName": "JACINTO DOMINGUEZ RULL",
      "userId": "04779779024889038949"
     },
     "user_tz": -120
    },
    "id": "BHJ2B9Cx_nsc"
   },
   "outputs": [
    {
     "name": "stderr",
     "output_type": "stream",
     "text": [
      "Exception ignored on calling ctypes callback function: <function _ThreadpoolInfo._find_modules_with_dl_iterate_phdr.<locals>.match_module_callback at 0x7f62c71aadc0>\n",
      "Traceback (most recent call last):\n",
      "  File \"/home/a/anaconda3/lib/python3.9/site-packages/threadpoolctl.py\", line 400, in match_module_callback\n",
      "    self._make_module_from_path(filepath)\n",
      "  File \"/home/a/anaconda3/lib/python3.9/site-packages/threadpoolctl.py\", line 515, in _make_module_from_path\n",
      "    module = module_class(filepath, prefix, user_api, internal_api)\n",
      "  File \"/home/a/anaconda3/lib/python3.9/site-packages/threadpoolctl.py\", line 606, in __init__\n",
      "    self.version = self.get_version()\n",
      "  File \"/home/a/anaconda3/lib/python3.9/site-packages/threadpoolctl.py\", line 646, in get_version\n",
      "    config = get_config().split()\n",
      "AttributeError: 'NoneType' object has no attribute 'split'\n"
     ]
    }
   ],
   "source": [
    "# SMOTE\n",
    "\n",
    "sm = SMOTE(random_state=42, sampling_strategy=1) # N_rm / N_M\n",
    "X_res, y_res = sm.fit_resample(X_train, y_train)"
   ]
  },
  {
   "cell_type": "code",
   "execution_count": 12,
   "metadata": {
    "colab": {
     "base_uri": "https://localhost:8080/"
    },
    "executionInfo": {
     "elapsed": 387,
     "status": "ok",
     "timestamp": 1688995310860,
     "user": {
      "displayName": "JACINTO DOMINGUEZ RULL",
      "userId": "04779779024889038949"
     },
     "user_tz": -120
    },
    "id": "6U0Byc1lUvys",
    "outputId": "181ce847-ebb3-41e7-9ad6-e6da7cc70634"
   },
   "outputs": [
    {
     "name": "stdout",
     "output_type": "stream",
     "text": [
      "Resampled dataset shape Counter({0: 1970, 1: 1970})\n",
      "Ratio->  1 : 1.0\n"
     ]
    }
   ],
   "source": [
    "print('Resampled dataset shape %s' % Counter(y_res))\n",
    "print('Ratio->  1 :', round(Counter(y_res)[1]/Counter(y_res)[0], 1))"
   ]
  },
  {
   "cell_type": "code",
   "execution_count": 13,
   "metadata": {
    "colab": {
     "base_uri": "https://localhost:8080/"
    },
    "executionInfo": {
     "elapsed": 40216,
     "status": "ok",
     "timestamp": 1688995352688,
     "user": {
      "displayName": "JACINTO DOMINGUEZ RULL",
      "userId": "04779779024889038949"
     },
     "user_tz": -120
    },
    "id": "CMGEySDMpTdx",
    "outputId": "499c6531-cf29-4c8f-e045-290037f6543c",
    "scrolled": false
   },
   "outputs": [
    {
     "name": "stdout",
     "output_type": "stream",
     "text": [
      "__________________________________________________\n",
      "Classifier:  CatBoostClassifier\n",
      "[[481  12]\n",
      " [ 13   2]]\n",
      "\n",
      "TNR: 0.97566\n",
      "TPR: 0.13333\n",
      "TNRxTPR: 0.13009\n",
      "G-mean: 0.36068\n",
      "__________________________________________________\n",
      "Classifier:  LGBMClassifier\n",
      "[[485   8]\n",
      " [ 13   2]]\n",
      "\n",
      "TNR: 0.98377\n",
      "TPR: 0.13333\n",
      "TNRxTPR: 0.13117\n",
      "G-mean: 0.36217\n",
      "__________________________________________________\n",
      "Classifier:  XGBClassifier\n",
      "[[482  11]\n",
      " [ 12   3]]\n",
      "\n",
      "TNR: 0.97769\n",
      "TPR: 0.2\n",
      "TNRxTPR: 0.19554\n",
      "G-mean: 0.4422\n",
      "__________________________________________________\n",
      "Classifier:  BaggingClassifier\n",
      "[[483  10]\n",
      " [ 15   0]]\n",
      "\n",
      "TNR: 0.97972\n",
      "TPR: 0.0\n",
      "TNRxTPR: 0.0\n",
      "G-mean: 0.0\n",
      "__________________________________________________\n",
      "Classifier:  RandomForestClassifier\n",
      "[[488   5]\n",
      " [ 13   2]]\n",
      "\n",
      "TNR: 0.98986\n",
      "TPR: 0.13333\n",
      "TNRxTPR: 0.13198\n",
      "G-mean: 0.36329\n",
      "__________________________________________________\n",
      "Ensemble predictions (majority voting):\n",
      "[[486   7]\n",
      " [ 13   2]]\n",
      "\n",
      "TNR: 0.9858\n",
      "TPR: 0.13333\n",
      "TNRxTPR: 0.13144\n",
      "G-mean: 0.36255\n"
     ]
    }
   ],
   "source": [
    "train_val(X_res, y_res, X_test, y_test)"
   ]
  },
  {
   "cell_type": "code",
   "execution_count": 14,
   "metadata": {
    "executionInfo": {
     "elapsed": 628,
     "status": "ok",
     "timestamp": 1688995372242,
     "user": {
      "displayName": "JACINTO DOMINGUEZ RULL",
      "userId": "04779779024889038949"
     },
     "user_tz": -120
    },
    "id": "hiRVkg2eUx0U"
   },
   "outputs": [],
   "source": [
    "# ROS\n",
    "\n",
    "ros = RandomOverSampler(random_state=42, sampling_strategy=1) # N_rm / N_M\n",
    "X_res, y_res = ros.fit_resample(X_train, y_train)"
   ]
  },
  {
   "cell_type": "code",
   "execution_count": 15,
   "metadata": {
    "colab": {
     "base_uri": "https://localhost:8080/"
    },
    "executionInfo": {
     "elapsed": 15,
     "status": "ok",
     "timestamp": 1688995373401,
     "user": {
      "displayName": "JACINTO DOMINGUEZ RULL",
      "userId": "04779779024889038949"
     },
     "user_tz": -120
    },
    "id": "7igPUXNbUvyu",
    "outputId": "1553fdf0-4da8-4eca-8d96-157efd69a1fe"
   },
   "outputs": [
    {
     "name": "stdout",
     "output_type": "stream",
     "text": [
      "Resampled dataset shape Counter({0: 1970, 1: 1970})\n",
      "Ratio->  1 : 1.0\n"
     ]
    }
   ],
   "source": [
    "print('Resampled dataset shape %s' % Counter(y_res))\n",
    "print('Ratio->  1 :', round(Counter(y_res)[1]/Counter(y_res)[0], 1))"
   ]
  },
  {
   "cell_type": "code",
   "execution_count": 16,
   "metadata": {
    "colab": {
     "base_uri": "https://localhost:8080/"
    },
    "executionInfo": {
     "elapsed": 16416,
     "status": "ok",
     "timestamp": 1688995391595,
     "user": {
      "displayName": "JACINTO DOMINGUEZ RULL",
      "userId": "04779779024889038949"
     },
     "user_tz": -120
    },
    "id": "IMANwdwxUx0b",
    "outputId": "f53bd412-4cd1-4a21-ac45-4bbb7d5e13e5",
    "scrolled": false
   },
   "outputs": [
    {
     "name": "stdout",
     "output_type": "stream",
     "text": [
      "__________________________________________________\n",
      "Classifier:  CatBoostClassifier\n",
      "[[487   6]\n",
      " [ 14   1]]\n",
      "\n",
      "TNR: 0.98783\n",
      "TPR: 0.06667\n",
      "TNRxTPR: 0.06586\n",
      "G-mean: 0.25662\n",
      "__________________________________________________\n",
      "Classifier:  LGBMClassifier\n",
      "[[483  10]\n",
      " [ 13   2]]\n",
      "\n",
      "TNR: 0.97972\n",
      "TPR: 0.13333\n",
      "TNRxTPR: 0.13063\n",
      "G-mean: 0.36143\n",
      "__________________________________________________\n",
      "Classifier:  XGBClassifier\n",
      "[[485   8]\n",
      " [ 14   1]]\n",
      "\n",
      "TNR: 0.98377\n",
      "TPR: 0.06667\n",
      "TNRxTPR: 0.06558\n",
      "G-mean: 0.2561\n",
      "__________________________________________________\n",
      "Classifier:  BaggingClassifier\n",
      "[[489   4]\n",
      " [ 14   1]]\n",
      "\n",
      "TNR: 0.99189\n",
      "TPR: 0.06667\n",
      "TNRxTPR: 0.06613\n",
      "G-mean: 0.25715\n",
      "__________________________________________________\n",
      "Classifier:  RandomForestClassifier\n",
      "[[492   1]\n",
      " [ 15   0]]\n",
      "\n",
      "TNR: 0.99797\n",
      "TPR: 0.0\n",
      "TNRxTPR: 0.0\n",
      "G-mean: 0.0\n",
      "__________________________________________________\n",
      "Ensemble predictions (majority voting):\n",
      "[[489   4]\n",
      " [ 14   1]]\n",
      "\n",
      "TNR: 0.99189\n",
      "TPR: 0.06667\n",
      "TNRxTPR: 0.06613\n",
      "G-mean: 0.25715\n"
     ]
    }
   ],
   "source": [
    "train_val(X_res, y_res, X_test, y_test)"
   ]
  },
  {
   "cell_type": "code",
   "execution_count": 17,
   "metadata": {
    "colab": {
     "base_uri": "https://localhost:8080/"
    },
    "executionInfo": {
     "elapsed": 22962,
     "status": "ok",
     "timestamp": 1688995428676,
     "user": {
      "displayName": "JACINTO DOMINGUEZ RULL",
      "userId": "04779779024889038949"
     },
     "user_tz": -120
    },
    "id": "B065rYa3wO-o",
    "outputId": "c1a1f53d-b677-4e8b-a3fc-0baed87c76c7"
   },
   "outputs": [
    {
     "name": "stderr",
     "output_type": "stream",
     "text": [
      "2023-07-11 12:21:42.253691: W tensorflow/stream_executor/platform/default/dso_loader.cc:64] Could not load dynamic library 'libcuda.so.1'; dlerror: libcuda.so.1: cannot open shared object file: No such file or directory\n",
      "2023-07-11 12:21:42.253737: W tensorflow/stream_executor/cuda/cuda_driver.cc:269] failed call to cuInit: UNKNOWN ERROR (303)\n",
      "2023-07-11 12:21:42.253772: I tensorflow/stream_executor/cuda/cuda_diagnostics.cc:156] kernel driver does not appear to be running on this host (a-Modern-15-A5M): /proc/driver/nvidia/version does not exist\n",
      "2023-07-11 12:21:42.254733: I tensorflow/core/platform/cpu_feature_guard.cc:151] This TensorFlow binary is optimized with oneAPI Deep Neural Network Library (oneDNN) to use the following CPU instructions in performance-critical operations:  AVX2 FMA\n",
      "To enable them in other operations, rebuild TensorFlow with the appropriate compiler flags.\n"
     ]
    }
   ],
   "source": [
    "# VAEOversampler\n",
    "\n",
    "vae_sampler = VAEOversampler(epochs=500,\n",
    "                              intermediate_dim=512,\n",
    "                              batch_size=64,\n",
    "                              random_state=42,\n",
    "                              verbose=False)\n",
    "X_res, y_res = vae_sampler.fit_resample(X_train, y_train)"
   ]
  },
  {
   "cell_type": "code",
   "execution_count": 18,
   "metadata": {
    "colab": {
     "base_uri": "https://localhost:8080/"
    },
    "executionInfo": {
     "elapsed": 351,
     "status": "ok",
     "timestamp": 1688995436509,
     "user": {
      "displayName": "JACINTO DOMINGUEZ RULL",
      "userId": "04779779024889038949"
     },
     "user_tz": -120
    },
    "id": "nOsNattyeSXh",
    "outputId": "675e48ff-df76-48f7-daff-d244dda92b04"
   },
   "outputs": [
    {
     "name": "stdout",
     "output_type": "stream",
     "text": [
      "Resampled dataset shape Counter({0.0: 1970, 1.0: 1970})\n",
      "Ratio->  1 : 1.0\n"
     ]
    }
   ],
   "source": [
    "print('Resampled dataset shape %s' % Counter(y_res))\n",
    "print('Ratio->  1 :', round(Counter(y_res)[1]/Counter(y_res)[0], 1))"
   ]
  },
  {
   "cell_type": "code",
   "execution_count": 19,
   "metadata": {
    "colab": {
     "base_uri": "https://localhost:8080/"
    },
    "executionInfo": {
     "elapsed": 35736,
     "status": "ok",
     "timestamp": 1688995473714,
     "user": {
      "displayName": "JACINTO DOMINGUEZ RULL",
      "userId": "04779779024889038949"
     },
     "user_tz": -120
    },
    "id": "6BNffQSbwO-t",
    "outputId": "97f57313-8e43-4eba-8675-e0b72e987ccd"
   },
   "outputs": [
    {
     "name": "stdout",
     "output_type": "stream",
     "text": [
      "__________________________________________________\n",
      "Classifier:  CatBoostClassifier\n",
      "[[491   2]\n",
      " [ 15   0]]\n",
      "\n",
      "TNR: 0.99594\n",
      "TPR: 0.0\n",
      "TNRxTPR: 0.0\n",
      "G-mean: 0.0\n",
      "__________________________________________________\n",
      "Classifier:  LGBMClassifier\n",
      "[[490   3]\n",
      " [ 15   0]]\n",
      "\n",
      "TNR: 0.99391\n",
      "TPR: 0.0\n",
      "TNRxTPR: 0.0\n",
      "G-mean: 0.0\n",
      "__________________________________________________\n",
      "Classifier:  XGBClassifier\n",
      "[[490   3]\n",
      " [ 15   0]]\n",
      "\n",
      "TNR: 0.99391\n",
      "TPR: 0.0\n",
      "TNRxTPR: 0.0\n",
      "G-mean: 0.0\n",
      "__________________________________________________\n",
      "Classifier:  BaggingClassifier\n",
      "[[492   1]\n",
      " [ 15   0]]\n",
      "\n",
      "TNR: 0.99797\n",
      "TPR: 0.0\n",
      "TNRxTPR: 0.0\n",
      "G-mean: 0.0\n",
      "__________________________________________________\n",
      "Classifier:  RandomForestClassifier\n",
      "[[493   0]\n",
      " [ 15   0]]\n",
      "\n",
      "TNR: 1.0\n",
      "TPR: 0.0\n",
      "TNRxTPR: 0.0\n",
      "G-mean: 0.0\n",
      "__________________________________________________\n",
      "Ensemble predictions (majority voting):\n",
      "[[492   1]\n",
      " [ 15   0]]\n",
      "\n",
      "TNR: 0.99797\n",
      "TPR: 0.0\n",
      "TNRxTPR: 0.0\n",
      "G-mean: 0.0\n"
     ]
    }
   ],
   "source": [
    "train_val(X_res, y_res, X_test, y_test)"
   ]
  },
  {
   "cell_type": "markdown",
   "metadata": {
    "id": "w9swp8C1wO-w"
   },
   "source": [
    "## Under/Oversampling combination  \n",
    "Now we can tuning the number of instances for each class to optimize metric.  \n"
   ]
  },
  {
   "cell_type": "code",
   "execution_count": 27,
   "metadata": {
    "executionInfo": {
     "elapsed": 353,
     "status": "ok",
     "timestamp": 1688996408236,
     "user": {
      "displayName": "JACINTO DOMINGUEZ RULL",
      "userId": "04779779024889038949"
     },
     "user_tz": -120
    },
    "id": "D0jtqxJ8Uvyv"
   },
   "outputs": [
    {
     "name": "stderr",
     "output_type": "stream",
     "text": [
      "Exception ignored on calling ctypes callback function: <function _ThreadpoolInfo._find_modules_with_dl_iterate_phdr.<locals>.match_module_callback at 0x7f62086ca0d0>\n",
      "Traceback (most recent call last):\n",
      "  File \"/home/a/anaconda3/lib/python3.9/site-packages/threadpoolctl.py\", line 400, in match_module_callback\n",
      "    self._make_module_from_path(filepath)\n",
      "  File \"/home/a/anaconda3/lib/python3.9/site-packages/threadpoolctl.py\", line 515, in _make_module_from_path\n",
      "    module = module_class(filepath, prefix, user_api, internal_api)\n",
      "  File \"/home/a/anaconda3/lib/python3.9/site-packages/threadpoolctl.py\", line 606, in __init__\n",
      "    self.version = self.get_version()\n",
      "  File \"/home/a/anaconda3/lib/python3.9/site-packages/threadpoolctl.py\", line 646, in get_version\n",
      "    config = get_config().split()\n",
      "AttributeError: 'NoneType' object has no attribute 'split'\n"
     ]
    }
   ],
   "source": [
    "# SMOTE\n",
    "\n",
    "sm = SMOTE(random_state=42, sampling_strategy=1) # N_rm / N_M\n",
    "X_res, y_res = sm.fit_resample(X_train, y_train)"
   ]
  },
  {
   "cell_type": "code",
   "execution_count": 30,
   "metadata": {
    "colab": {
     "base_uri": "https://localhost:8080/"
    },
    "executionInfo": {
     "elapsed": 453,
     "status": "ok",
     "timestamp": 1688996413391,
     "user": {
      "displayName": "JACINTO DOMINGUEZ RULL",
      "userId": "04779779024889038949"
     },
     "user_tz": -120
    },
    "id": "uQ3_RoAsUvyv",
    "outputId": "9fcbbbc9-a53f-4242-a1af-f6fb09e825c2"
   },
   "outputs": [
    {
     "name": "stdout",
     "output_type": "stream",
     "text": [
      "Resampled dataset shape Counter({1: 1970, 0: 98})\n",
      "Ratio->  1 : 20.1\n"
     ]
    }
   ],
   "source": [
    "# RUS\n",
    "\n",
    "X_eq, y_eq = RUS(X_res, y_res, frac=.05)\n",
    "\n",
    "print('Resampled dataset shape %s' % Counter(y_eq))\n",
    "print('Ratio->  1 :', round(Counter(y_eq)[1]/Counter(y_eq)[0], 1))"
   ]
  },
  {
   "cell_type": "code",
   "execution_count": 31,
   "metadata": {
    "colab": {
     "base_uri": "https://localhost:8080/"
    },
    "executionInfo": {
     "elapsed": 35144,
     "status": "ok",
     "timestamp": 1688996450845,
     "user": {
      "displayName": "JACINTO DOMINGUEZ RULL",
      "userId": "04779779024889038949"
     },
     "user_tz": -120
    },
    "id": "TPcOZeONUvyw",
    "outputId": "3303ee5a-4fdb-420a-b40f-6605533f1a34",
    "scrolled": false
   },
   "outputs": [
    {
     "name": "stdout",
     "output_type": "stream",
     "text": [
      "__________________________________________________\n",
      "Classifier:  CatBoostClassifier\n",
      "[[352 141]\n",
      " [  5  10]]\n",
      "\n",
      "TNR: 0.714\n",
      "TPR: 0.66667\n",
      "TNRxTPR: 0.476\n",
      "G-mean: 0.68993\n",
      "__________________________________________________\n",
      "Classifier:  LGBMClassifier\n",
      "[[384 109]\n",
      " [  4  11]]\n",
      "\n",
      "TNR: 0.7789\n",
      "TPR: 0.73333\n",
      "TNRxTPR: 0.5712\n",
      "G-mean: 0.75578\n",
      "__________________________________________________\n",
      "Classifier:  XGBClassifier\n",
      "[[374 119]\n",
      " [  4  11]]\n",
      "\n",
      "TNR: 0.75862\n",
      "TPR: 0.73333\n",
      "TNRxTPR: 0.55632\n",
      "G-mean: 0.74587\n",
      "__________________________________________________\n",
      "Classifier:  BaggingClassifier\n",
      "[[361 132]\n",
      " [  8   7]]\n",
      "\n",
      "TNR: 0.73225\n",
      "TPR: 0.46667\n",
      "TNRxTPR: 0.34172\n",
      "G-mean: 0.58457\n",
      "__________________________________________________\n",
      "Classifier:  RandomForestClassifier\n",
      "[[366 127]\n",
      " [  5  10]]\n",
      "\n",
      "TNR: 0.74239\n",
      "TPR: 0.66667\n",
      "TNRxTPR: 0.49493\n",
      "G-mean: 0.70351\n",
      "__________________________________________________\n",
      "Ensemble predictions (majority voting):\n",
      "[[369 124]\n",
      " [  4  11]]\n",
      "\n",
      "TNR: 0.74848\n",
      "TPR: 0.73333\n",
      "TNRxTPR: 0.54888\n",
      "G-mean: 0.74087\n"
     ]
    }
   ],
   "source": [
    "train_val(X_eq, y_eq, X_test, y_test)"
   ]
  },
  {
   "cell_type": "code",
   "execution_count": 32,
   "metadata": {
    "executionInfo": {
     "elapsed": 412,
     "status": "ok",
     "timestamp": 1688995653229,
     "user": {
      "displayName": "JACINTO DOMINGUEZ RULL",
      "userId": "04779779024889038949"
     },
     "user_tz": -120
    },
    "id": "-mGQlfSdUvyw"
   },
   "outputs": [],
   "source": [
    "# ROS\n",
    "\n",
    "ros = RandomOverSampler(random_state=42, sampling_strategy=1) # N_rm / N_M\n",
    "X_res, y_res = ros.fit_resample(X_train, y_train)"
   ]
  },
  {
   "cell_type": "code",
   "execution_count": 43,
   "metadata": {
    "colab": {
     "base_uri": "https://localhost:8080/"
    },
    "executionInfo": {
     "elapsed": 29,
     "status": "ok",
     "timestamp": 1688995654640,
     "user": {
      "displayName": "JACINTO DOMINGUEZ RULL",
      "userId": "04779779024889038949"
     },
     "user_tz": -120
    },
    "id": "8fdzr1qOUvyw",
    "outputId": "b3249966-2c06-4802-b332-a30b0fb4cee5"
   },
   "outputs": [
    {
     "name": "stdout",
     "output_type": "stream",
     "text": [
      "Resampled dataset shape Counter({1: 1970, 0: 98})\n",
      "Ratio->  1 : 20.1\n"
     ]
    }
   ],
   "source": [
    "# RUS\n",
    "\n",
    "X_eq, y_eq = RUS(X_res, y_res, frac=.05)\n",
    "\n",
    "print('Resampled dataset shape %s' % Counter(y_eq))\n",
    "print('Ratio->  1 :', round(Counter(y_eq)[1]/Counter(y_eq)[0], 1))"
   ]
  },
  {
   "cell_type": "code",
   "execution_count": 44,
   "metadata": {
    "colab": {
     "base_uri": "https://localhost:8080/"
    },
    "executionInfo": {
     "elapsed": 11836,
     "status": "ok",
     "timestamp": 1688995668496,
     "user": {
      "displayName": "JACINTO DOMINGUEZ RULL",
      "userId": "04779779024889038949"
     },
     "user_tz": -120
    },
    "id": "u0UCU05gUvyw",
    "outputId": "c999c822-4c95-47a9-e53d-0089cbd4bf4f",
    "scrolled": false
   },
   "outputs": [
    {
     "name": "stdout",
     "output_type": "stream",
     "text": [
      "__________________________________________________\n",
      "Classifier:  CatBoostClassifier\n",
      "[[355 138]\n",
      " [  4  11]]\n",
      "\n",
      "TNR: 0.72008\n",
      "TPR: 0.73333\n",
      "TNRxTPR: 0.52806\n",
      "G-mean: 0.72668\n",
      "__________________________________________________\n",
      "Classifier:  LGBMClassifier\n",
      "[[391 102]\n",
      " [  5  10]]\n",
      "\n",
      "TNR: 0.7931\n",
      "TPR: 0.66667\n",
      "TNRxTPR: 0.52874\n",
      "G-mean: 0.72714\n",
      "__________________________________________________\n",
      "Classifier:  XGBClassifier\n",
      "[[379 114]\n",
      " [  5  10]]\n",
      "\n",
      "TNR: 0.76876\n",
      "TPR: 0.66667\n",
      "TNRxTPR: 0.51251\n",
      "G-mean: 0.7159\n",
      "__________________________________________________\n",
      "Classifier:  BaggingClassifier\n",
      "[[362 131]\n",
      " [  7   8]]\n",
      "\n",
      "TNR: 0.73428\n",
      "TPR: 0.53333\n",
      "TNRxTPR: 0.39162\n",
      "G-mean: 0.62579\n",
      "__________________________________________________\n",
      "Classifier:  RandomForestClassifier\n",
      "[[388 105]\n",
      " [  5  10]]\n",
      "\n",
      "TNR: 0.78702\n",
      "TPR: 0.66667\n",
      "TNRxTPR: 0.52468\n",
      "G-mean: 0.72435\n",
      "__________________________________________________\n",
      "Ensemble predictions (majority voting):\n",
      "[[379 114]\n",
      " [  4  11]]\n",
      "\n",
      "TNR: 0.76876\n",
      "TPR: 0.73333\n",
      "TNRxTPR: 0.56376\n",
      "G-mean: 0.75084\n"
     ]
    }
   ],
   "source": [
    "train_val(X_eq, y_eq, X_test, y_test)"
   ]
  },
  {
   "cell_type": "code",
   "execution_count": 58,
   "metadata": {
    "colab": {
     "base_uri": "https://localhost:8080/"
    },
    "executionInfo": {
     "elapsed": 635,
     "status": "ok",
     "timestamp": 1688996013493,
     "user": {
      "displayName": "JACINTO DOMINGUEZ RULL",
      "userId": "04779779024889038949"
     },
     "user_tz": -120
    },
    "id": "T6benPDnCzym",
    "outputId": "46345bea-6043-4461-dd80-7ab21fcc8cb0"
   },
   "outputs": [],
   "source": [
    "# VAEOversampler\n",
    "\n",
    "X_res, y_res = vae_sampler.resample(X_train, y_train, sampling_strategy=1.5)"
   ]
  },
  {
   "cell_type": "code",
   "execution_count": 61,
   "metadata": {
    "colab": {
     "base_uri": "https://localhost:8080/"
    },
    "executionInfo": {
     "elapsed": 22,
     "status": "ok",
     "timestamp": 1688996014915,
     "user": {
      "displayName": "JACINTO DOMINGUEZ RULL",
      "userId": "04779779024889038949"
     },
     "user_tz": -120
    },
    "id": "7a1QqxB6Czyx",
    "outputId": "a0c1b82e-ab5a-4668-bf61-2b0f2fe59de8"
   },
   "outputs": [
    {
     "name": "stdout",
     "output_type": "stream",
     "text": [
      "Resampled dataset shape Counter({1.0: 2926, 0.0: 79})\n",
      "Ratio->  1 : 37.0\n"
     ]
    }
   ],
   "source": [
    "# RUS\n",
    "\n",
    "X_eq, y_eq = RUS(X_res, y_res, frac=.04)\n",
    "\n",
    "print('Resampled dataset shape %s' % Counter(y_eq))\n",
    "print('Ratio->  1 :', round(Counter(y_eq)[1]/Counter(y_eq)[0], 1))"
   ]
  },
  {
   "cell_type": "code",
   "execution_count": 62,
   "metadata": {
    "colab": {
     "base_uri": "https://localhost:8080/"
    },
    "executionInfo": {
     "elapsed": 31547,
     "status": "ok",
     "timestamp": 1688996048806,
     "user": {
      "displayName": "JACINTO DOMINGUEZ RULL",
      "userId": "04779779024889038949"
     },
     "user_tz": -120
    },
    "id": "oAv7STUxCzy0",
    "outputId": "6dca37fe-0bd6-4dee-a12c-0d1f3c18c865"
   },
   "outputs": [
    {
     "name": "stdout",
     "output_type": "stream",
     "text": [
      "__________________________________________________\n",
      "Classifier:  CatBoostClassifier\n",
      "[[381 112]\n",
      " [  5  10]]\n",
      "\n",
      "TNR: 0.77282\n",
      "TPR: 0.66667\n",
      "TNRxTPR: 0.51521\n",
      "G-mean: 0.71778\n",
      "__________________________________________________\n",
      "Classifier:  LGBMClassifier\n",
      "[[410  83]\n",
      " [  4  11]]\n",
      "\n",
      "TNR: 0.83164\n",
      "TPR: 0.73333\n",
      "TNRxTPR: 0.60987\n",
      "G-mean: 0.78094\n",
      "__________________________________________________\n",
      "Classifier:  XGBClassifier\n",
      "[[411  82]\n",
      " [  4  11]]\n",
      "\n",
      "TNR: 0.83367\n",
      "TPR: 0.73333\n",
      "TNRxTPR: 0.61136\n",
      "G-mean: 0.78189\n",
      "__________________________________________________\n",
      "Classifier:  BaggingClassifier\n",
      "[[395  98]\n",
      " [  5  10]]\n",
      "\n",
      "TNR: 0.80122\n",
      "TPR: 0.66667\n",
      "TNRxTPR: 0.53414\n",
      "G-mean: 0.73085\n",
      "__________________________________________________\n",
      "Classifier:  RandomForestClassifier\n",
      "[[397  96]\n",
      " [  6   9]]\n",
      "\n",
      "TNR: 0.80527\n",
      "TPR: 0.6\n",
      "TNRxTPR: 0.48316\n",
      "G-mean: 0.6951\n",
      "__________________________________________________\n",
      "Ensemble predictions (majority voting):\n",
      "[[404  89]\n",
      " [  5  10]]\n",
      "\n",
      "TNR: 0.81947\n",
      "TPR: 0.66667\n",
      "TNRxTPR: 0.54632\n",
      "G-mean: 0.73913\n"
     ]
    }
   ],
   "source": [
    "train_val(X_eq, y_eq, X_test, y_test)"
   ]
  },
  {
   "cell_type": "markdown",
   "metadata": {
    "id": "RydFSMjOoD87"
   },
   "source": [
    "## References  \n",
    "\n",
    "  - Classification with Imbalanced Datasets:  \n",
    "    https://sci2s.ugr.es/imbalanced  \n",
    "  - Computer Vision:  Models, Learning, and Inference (Simon J.D. Prince):  \n",
    "    http://www.computervisionmodels.com/  \n",
    "  - Oversampling with VAEs:  \n",
    "    https://towardsdatascience.com/oversampling-with-vaes-e410887fe51  \n"
   ]
  }
 ],
 "metadata": {
  "colab": {
   "provenance": []
  },
  "gpuClass": "standard",
  "kernelspec": {
   "display_name": "Python 3 (ipykernel)",
   "language": "python",
   "name": "python3"
  },
  "language_info": {
   "codemirror_mode": {
    "name": "ipython",
    "version": 3
   },
   "file_extension": ".py",
   "mimetype": "text/x-python",
   "name": "python",
   "nbconvert_exporter": "python",
   "pygments_lexer": "ipython3",
   "version": "3.9.7"
  }
 },
 "nbformat": 4,
 "nbformat_minor": 1
}
