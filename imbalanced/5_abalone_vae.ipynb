{
 "cells": [
  {
   "cell_type": "markdown",
   "metadata": {
    "id": "qLO_siFYEPSg"
   },
   "source": [
    "# Dealing with imbalanced datasets, combining oversampling with VAE and undersampling to improve model recognition over all classes.  "
   ]
  },
  {
   "cell_type": "markdown",
   "metadata": {
    "id": "IOzC3QPArH_F"
   },
   "source": [
    "Import packages, classifiers and etc."
   ]
  },
  {
   "cell_type": "code",
   "execution_count": 1,
   "metadata": {
    "_cell_guid": "b1076dfc-b9ad-4769-8c92-a6c4dae69d19",
    "_uuid": "8f2839f25d086af736a60e9eeb907d3b93b6e0e5",
    "executionInfo": {
     "elapsed": 4745,
     "status": "ok",
     "timestamp": 1680781530119,
     "user": {
      "displayName": "JACINTO DOMINGUEZ RULL",
      "userId": "04779779024889038949"
     },
     "user_tz": -120
    },
    "id": "GDNB_c5RrH_I"
   },
   "outputs": [],
   "source": [
    "import pandas as pd\n",
    "import numpy as np\n",
    "\n",
    "from sklearn.preprocessing import StandardScaler\n",
    "from sklearn.model_selection import train_test_split, cross_validate\n",
    "\n",
    "from catboost import CatBoostClassifier\n",
    "from lightgbm import LGBMClassifier\n",
    "from xgboost import XGBClassifier\n",
    "from sklearn.ensemble import BaggingClassifier, RandomForestClassifier\n",
    "\n",
    "from sklearn.metrics import confusion_matrix, make_scorer\n",
    "from imblearn.metrics import classification_report_imbalanced, geometric_mean_score\n",
    "from collections import Counter\n",
    "\n",
    "from imblearn.over_sampling import SMOTE, RandomOverSampler"
   ]
  },
  {
   "cell_type": "markdown",
   "metadata": {
    "id": "7qxBXk4fPiJx"
   },
   "source": [
    "Import VAEOversampler."
   ]
  },
  {
   "cell_type": "code",
   "execution_count": 2,
   "metadata": {
    "executionInfo": {
     "elapsed": 7132,
     "status": "ok",
     "timestamp": 1680781537245,
     "user": {
      "displayName": "JACINTO DOMINGUEZ RULL",
      "userId": "04779779024889038949"
     },
     "user_tz": -120
    },
    "id": "DqyRUyWlvryO"
   },
   "outputs": [
    {
     "name": "stderr",
     "output_type": "stream",
     "text": [
      "2023-07-10 16:36:31.366345: W tensorflow/stream_executor/platform/default/dso_loader.cc:64] Could not load dynamic library 'libcudart.so.11.0'; dlerror: libcudart.so.11.0: cannot open shared object file: No such file or directory\n",
      "2023-07-10 16:36:31.366368: I tensorflow/stream_executor/cuda/cudart_stub.cc:29] Ignore above cudart dlerror if you do not have a GPU set up on your machine.\n"
     ]
    }
   ],
   "source": [
    "from VAEOversampler import VAEOversampler"
   ]
  },
  {
   "cell_type": "markdown",
   "metadata": {
    "id": "8UEMO2hTPztj"
   },
   "source": [
    "## Loading data  \n",
    "You can load some dataset from Imbalanced Learn list (https://imbalanced-learn.org/stable/datasets/index.html) or use your own data.  \n"
   ]
  },
  {
   "cell_type": "code",
   "execution_count": 3,
   "metadata": {
    "colab": {
     "base_uri": "https://localhost:8080/"
    },
    "executionInfo": {
     "elapsed": 73951,
     "status": "ok",
     "timestamp": 1680781611184,
     "user": {
      "displayName": "JACINTO DOMINGUEZ RULL",
      "userId": "04779779024889038949"
     },
     "user_tz": -120
    },
    "id": "Xnh_x70FwVCi",
    "outputId": "80020616-33fc-406e-e66f-d29de74c6d9e"
   },
   "outputs": [],
   "source": [
    "from imblearn.datasets import fetch_datasets\n",
    "\n",
    "dset_name = 'abalone'\n",
    "dset = fetch_datasets()[dset_name]\n",
    "\n",
    "X, y = StandardScaler().fit_transform(dset.data), dset.target"
   ]
  },
  {
   "cell_type": "code",
   "execution_count": 4,
   "metadata": {
    "colab": {
     "base_uri": "https://localhost:8080/"
    },
    "executionInfo": {
     "elapsed": 20,
     "status": "ok",
     "timestamp": 1680781611187,
     "user": {
      "displayName": "JACINTO DOMINGUEZ RULL",
      "userId": "04779779024889038949"
     },
     "user_tz": -120
    },
    "id": "v_SUvgVSByCD",
    "outputId": "8459fbec-91c6-4170-86bd-edbd4ce8c0ca"
   },
   "outputs": [
    {
     "data": {
      "text/plain": [
       "array([[-0.67483383, -0.68801788,  1.31667716, ..., -0.60768536,\n",
       "        -0.72621157, -0.63821689],\n",
       "       [-0.67483383, -0.68801788,  1.31667716, ..., -1.17090984,\n",
       "        -1.20522124, -1.21298732],\n",
       "       [ 1.48184628, -0.68801788, -0.75948762, ..., -0.4634999 ,\n",
       "        -0.35668983, -0.20713907],\n",
       "       ...,\n",
       "       [-0.67483383, -0.68801788,  1.31667716, ...,  0.74855917,\n",
       "         0.97541324,  0.49695471],\n",
       "       [ 1.48184628, -0.68801788, -0.75948762, ...,  0.77334105,\n",
       "         0.73362741,  0.41073914],\n",
       "       [-0.67483383, -0.68801788,  1.31667716, ...,  2.64099341,\n",
       "         1.78744868,  1.84048058]])"
      ]
     },
     "execution_count": 4,
     "metadata": {},
     "output_type": "execute_result"
    }
   ],
   "source": [
    "X"
   ]
  },
  {
   "cell_type": "code",
   "execution_count": 5,
   "metadata": {
    "executionInfo": {
     "elapsed": 252,
     "status": "ok",
     "timestamp": 1680781619405,
     "user": {
      "displayName": "JACINTO DOMINGUEZ RULL",
      "userId": "04779779024889038949"
     },
     "user_tz": -120
    },
    "id": "Tb09lFMxPS2J"
   },
   "outputs": [],
   "source": [
    "y[y == -1] = 0"
   ]
  },
  {
   "cell_type": "markdown",
   "metadata": {
    "id": "hpLA_GmKSJwN"
   },
   "source": [
    "We split data into train and test partitions."
   ]
  },
  {
   "cell_type": "code",
   "execution_count": 6,
   "metadata": {
    "executionInfo": {
     "elapsed": 221,
     "status": "ok",
     "timestamp": 1680781622914,
     "user": {
      "displayName": "JACINTO DOMINGUEZ RULL",
      "userId": "04779779024889038949"
     },
     "user_tz": -120
    },
    "id": "ZS-Dd0R9GbBY"
   },
   "outputs": [],
   "source": [
    "X_train, X_test, y_train, y_test = train_test_split(X, y, test_size=0.2, random_state=42, stratify=y)"
   ]
  },
  {
   "cell_type": "markdown",
   "metadata": {
    "id": "Em7Um0N4rH_S"
   },
   "source": [
    "This is a simple function to undersample freely.  "
   ]
  },
  {
   "cell_type": "code",
   "execution_count": 7,
   "metadata": {
    "executionInfo": {
     "elapsed": 9,
     "status": "ok",
     "timestamp": 1680781626758,
     "user": {
      "displayName": "JACINTO DOMINGUEZ RULL",
      "userId": "04779779024889038949"
     },
     "user_tz": -120
    },
    "id": "1cdWcXE3Ofok"
   },
   "outputs": [],
   "source": [
    "# RUS\n",
    "\n",
    "def RUS(X_res, y_res, frac=1, minority_class_id=1, random_state=42):\n",
    "    X_res = pd.DataFrame(X_res)\n",
    "    X_res['Class'] = y_res  \n",
    "    \n",
    "    X_neg = X_res[y_res != minority_class_id].sample(frac=frac, random_state=random_state)\n",
    "    X_pos = X_res[y_res == minority_class_id].sample(frac=1, random_state=random_state)\n",
    "    \n",
    "    X_rus = pd.concat([X_neg, X_pos], ignore_index=True)\n",
    "\n",
    "    X_eq = X_rus.drop('Class', axis=1)\n",
    "    y_eq = X_rus['Class']\n",
    "\n",
    "    return X_eq, y_eq"
   ]
  },
  {
   "cell_type": "code",
   "execution_count": 8,
   "metadata": {
    "executionInfo": {
     "elapsed": 579,
     "status": "ok",
     "timestamp": 1680781628461,
     "user": {
      "displayName": "JACINTO DOMINGUEZ RULL",
      "userId": "04779779024889038949"
     },
     "user_tz": -120
    },
    "id": "1Ep1nUMCES98"
   },
   "outputs": [],
   "source": [
    "def train_val(X, y, Xt, yt, random_state=42):\n",
    "    classifiers = {\n",
    "        \"CatBoostClassifier\": CatBoostClassifier(verbose=False, random_seed=random_state),\n",
    "        \"LGBMClassifier\": LGBMClassifier(random_state=random_state),\n",
    "        \"XGBClassifier\": XGBClassifier(random_state=random_state),\n",
    "        \"BaggingClassifier\": BaggingClassifier(random_state=random_state),\n",
    "        \"RandomForestClassifier\": RandomForestClassifier(random_state=random_state),\n",
    "    }\n",
    "    scores = []\n",
    "    predictions = []\n",
    "    for key, classifier in classifiers.items():\n",
    "        print('_' * 50)\n",
    "        name = key\n",
    "        classifier.fit(X, y)\n",
    "        print(\"Classifier: \", name)\n",
    "        y_pred = classifier.predict(Xt)\n",
    "        cm = confusion_matrix(yt, y_pred)\n",
    "        print(cm)\n",
    "        print('')\n",
    "        predictions.append(y_pred)\n",
    "        tn = cm[0,0]\n",
    "        fp = cm[0,1]\n",
    "        fn = cm[1,0]\n",
    "        tp = cm[1,1]\n",
    "        tnr = tn / (tn + fp)\n",
    "        tpr = tp / (tp + fn)\n",
    "        scores.append(tnr * tpr)\n",
    "        print('TNR:', round(tnr, 5))\n",
    "        print('TPR:', round(tpr, 5))\n",
    "        print('TNRxTPR:', round(tnr * tpr, 5))\n",
    "        print('G-mean:', round(np.sqrt(tnr * tpr), 5))\n",
    "\n",
    "    print('_' * 50)\n",
    "    print('Ensemble predictions (majority voting):')\n",
    "    predictions = np.sum(predictions, axis=0)\n",
    "    predictions[predictions < 3] = 0\n",
    "    predictions[predictions >= 3] = 1\n",
    "\n",
    "    cm = confusion_matrix(yt, predictions)\n",
    "    print(cm)\n",
    "    tn = cm[0,0]\n",
    "    fp = cm[0,1]\n",
    "    fn = cm[1,0]\n",
    "    tp = cm[1,1]\n",
    "    tnr = tn / (tn + fp)\n",
    "    tpr = tp / (tp + fn)\n",
    "    print('')\n",
    "    print('TNR:', round(tnr, 5))\n",
    "    print('TPR:', round(tpr, 5))\n",
    "    print('TNRxTPR:', round(tnr * tpr, 5))\n",
    "    print('G-mean:', round(np.sqrt(tnr * tpr), 5))\n",
    "    "
   ]
  },
  {
   "cell_type": "markdown",
   "metadata": {},
   "source": [
    "## Without resampling (base line) \n",
    "Which is starting score?\n"
   ]
  },
  {
   "cell_type": "code",
   "execution_count": 9,
   "metadata": {},
   "outputs": [
    {
     "name": "stdout",
     "output_type": "stream",
     "text": [
      "Original dataset shape Counter({0: 3786, 1: 391})\n",
      "Ratio-> 9.7 : 1\n"
     ]
    }
   ],
   "source": [
    "print('Original dataset shape %s' % Counter(y))\n",
    "print('Ratio->', round(Counter(y)[0]/Counter(y)[1], 1), ': 1')"
   ]
  },
  {
   "cell_type": "code",
   "execution_count": 10,
   "metadata": {},
   "outputs": [
    {
     "name": "stdout",
     "output_type": "stream",
     "text": [
      "__________________________________________________\n",
      "Classifier:  CatBoostClassifier\n",
      "[[744  14]\n",
      " [ 72   6]]\n",
      "\n",
      "TNR: 0.98153\n",
      "TPR: 0.07692\n",
      "TNRxTPR: 0.0755\n",
      "G-mean: 0.27478\n",
      "__________________________________________________\n",
      "Classifier:  LGBMClassifier\n",
      "[[731  27]\n",
      " [ 64  14]]\n",
      "\n",
      "TNR: 0.96438\n",
      "TPR: 0.17949\n",
      "TNRxTPR: 0.17309\n",
      "G-mean: 0.41605\n",
      "__________________________________________________\n",
      "Classifier:  XGBClassifier\n",
      "[[731  27]\n",
      " [ 67  11]]\n",
      "\n",
      "TNR: 0.96438\n",
      "TPR: 0.14103\n",
      "TNRxTPR: 0.136\n",
      "G-mean: 0.36878\n",
      "__________________________________________________\n",
      "Classifier:  BaggingClassifier\n",
      "[[734  24]\n",
      " [ 63  15]]\n",
      "\n",
      "TNR: 0.96834\n",
      "TPR: 0.19231\n",
      "TNRxTPR: 0.18622\n",
      "G-mean: 0.43153\n",
      "__________________________________________________\n",
      "Classifier:  RandomForestClassifier\n",
      "[[742  16]\n",
      " [ 71   7]]\n",
      "\n",
      "TNR: 0.97889\n",
      "TPR: 0.08974\n",
      "TNRxTPR: 0.08785\n",
      "G-mean: 0.29639\n",
      "__________________________________________________\n",
      "Ensemble predictions (majority voting):\n",
      "[[741  17]\n",
      " [ 66  12]]\n",
      "\n",
      "TNR: 0.97757\n",
      "TPR: 0.15385\n",
      "TNRxTPR: 0.1504\n",
      "G-mean: 0.38781\n"
     ]
    }
   ],
   "source": [
    "train_val(X_train, y_train, X_test, y_test)"
   ]
  },
  {
   "cell_type": "markdown",
   "metadata": {},
   "source": [
    "## Ratio 1:1  \n",
    "Let's see classifiers scores when dataset is balanced.  \n"
   ]
  },
  {
   "cell_type": "code",
   "execution_count": 10,
   "metadata": {
    "colab": {
     "base_uri": "https://localhost:8080/"
    },
    "executionInfo": {
     "elapsed": 9,
     "status": "ok",
     "timestamp": 1678643391827,
     "user": {
      "displayName": "JACINTO DOMINGUEZ RULL",
      "userId": "04779779024889038949"
     },
     "user_tz": -60
    },
    "id": "BHJ2B9Cx_nsc",
    "outputId": "fc58f853-eb93-4896-fcb4-54fb90ceeaa9"
   },
   "outputs": [],
   "source": [
    "# SMOTE\n",
    "\n",
    "sm = SMOTE(random_state=42, sampling_strategy=1) # N_rm / N_M\n",
    "X_res, y_res = sm.fit_resample(X_train, y_train)"
   ]
  },
  {
   "cell_type": "code",
   "execution_count": 11,
   "metadata": {},
   "outputs": [
    {
     "name": "stdout",
     "output_type": "stream",
     "text": [
      "Resampled dataset shape Counter({0: 3028, 1: 3028})\n",
      "Ratio->  1 : 1.0\n"
     ]
    }
   ],
   "source": [
    "print('Resampled dataset shape %s' % Counter(y_res))\n",
    "print('Ratio->  1 :', round(Counter(y_res)[1]/Counter(y_res)[0], 1))"
   ]
  },
  {
   "cell_type": "code",
   "execution_count": 12,
   "metadata": {
    "colab": {
     "base_uri": "https://localhost:8080/"
    },
    "executionInfo": {
     "elapsed": 4090,
     "status": "ok",
     "timestamp": 1678643398595,
     "user": {
      "displayName": "JACINTO DOMINGUEZ RULL",
      "userId": "04779779024889038949"
     },
     "user_tz": -60
    },
    "id": "CMGEySDMpTdx",
    "outputId": "7963af02-4a66-40d8-d6e9-7a516be33818",
    "scrolled": false
   },
   "outputs": [
    {
     "name": "stdout",
     "output_type": "stream",
     "text": [
      "__________________________________________________\n",
      "Classifier:  CatBoostClassifier\n",
      "[[669  89]\n",
      " [ 39  39]]\n",
      "\n",
      "TNR: 0.88259\n",
      "TPR: 0.5\n",
      "TNRxTPR: 0.44129\n",
      "G-mean: 0.6643\n",
      "__________________________________________________\n",
      "Classifier:  LGBMClassifier\n",
      "[[685  73]\n",
      " [ 45  33]]\n",
      "\n",
      "TNR: 0.90369\n",
      "TPR: 0.42308\n",
      "TNRxTPR: 0.38233\n",
      "G-mean: 0.61833\n",
      "__________________________________________________\n",
      "Classifier:  XGBClassifier\n",
      "[[688  70]\n",
      " [ 52  26]]\n",
      "\n",
      "TNR: 0.90765\n",
      "TPR: 0.33333\n",
      "TNRxTPR: 0.30255\n",
      "G-mean: 0.55005\n",
      "__________________________________________________\n",
      "Classifier:  BaggingClassifier\n",
      "[[676  82]\n",
      " [ 50  28]]\n",
      "\n",
      "TNR: 0.89182\n",
      "TPR: 0.35897\n",
      "TNRxTPR: 0.32014\n",
      "G-mean: 0.56581\n",
      "__________________________________________________\n",
      "Classifier:  RandomForestClassifier\n",
      "[[684  74]\n",
      " [ 50  28]]\n",
      "\n",
      "TNR: 0.90237\n",
      "TPR: 0.35897\n",
      "TNRxTPR: 0.32393\n",
      "G-mean: 0.56915\n",
      "__________________________________________________\n",
      "Ensemble predictions (majority voting):\n",
      "[[680  78]\n",
      " [ 49  29]]\n",
      "\n",
      "TNR: 0.8971\n",
      "TPR: 0.37179\n",
      "TNRxTPR: 0.33354\n",
      "G-mean: 0.57753\n"
     ]
    }
   ],
   "source": [
    "train_val(X_res, y_res, X_test, y_test)"
   ]
  },
  {
   "cell_type": "code",
   "execution_count": 13,
   "metadata": {
    "colab": {
     "base_uri": "https://localhost:8080/"
    },
    "executionInfo": {
     "elapsed": 216,
     "status": "ok",
     "timestamp": 1678643478772,
     "user": {
      "displayName": "JACINTO DOMINGUEZ RULL",
      "userId": "04779779024889038949"
     },
     "user_tz": -60
    },
    "id": "hiRVkg2eUx0U",
    "outputId": "02ae118b-eae6-4fee-86be-85eaa83c3ebd"
   },
   "outputs": [],
   "source": [
    "# ROS\n",
    "\n",
    "ros = RandomOverSampler(random_state=42, sampling_strategy=1) # N_rm / N_M\n",
    "X_res, y_res = ros.fit_resample(X_train, y_train)"
   ]
  },
  {
   "cell_type": "code",
   "execution_count": 14,
   "metadata": {},
   "outputs": [
    {
     "name": "stdout",
     "output_type": "stream",
     "text": [
      "Resampled dataset shape Counter({0: 3028, 1: 3028})\n",
      "Ratio->  1 : 1.0\n"
     ]
    }
   ],
   "source": [
    "print('Resampled dataset shape %s' % Counter(y_res))\n",
    "print('Ratio->  1 :', round(Counter(y_res)[1]/Counter(y_res)[0], 1))"
   ]
  },
  {
   "cell_type": "code",
   "execution_count": 15,
   "metadata": {
    "colab": {
     "base_uri": "https://localhost:8080/"
    },
    "executionInfo": {
     "elapsed": 1682,
     "status": "ok",
     "timestamp": 1678643482664,
     "user": {
      "displayName": "JACINTO DOMINGUEZ RULL",
      "userId": "04779779024889038949"
     },
     "user_tz": -60
    },
    "id": "IMANwdwxUx0b",
    "outputId": "0f94cab4-4e4e-4a0b-acea-6584e212a754",
    "scrolled": false
   },
   "outputs": [
    {
     "name": "stdout",
     "output_type": "stream",
     "text": [
      "__________________________________________________\n",
      "Classifier:  CatBoostClassifier\n",
      "[[672  86]\n",
      " [ 38  40]]\n",
      "\n",
      "TNR: 0.88654\n",
      "TPR: 0.51282\n",
      "TNRxTPR: 0.45464\n",
      "G-mean: 0.67427\n",
      "__________________________________________________\n",
      "Classifier:  LGBMClassifier\n",
      "[[682  76]\n",
      " [ 44  34]]\n",
      "\n",
      "TNR: 0.89974\n",
      "TPR: 0.4359\n",
      "TNRxTPR: 0.39219\n",
      "G-mean: 0.62625\n",
      "__________________________________________________\n",
      "Classifier:  XGBClassifier\n",
      "[[702  56]\n",
      " [ 52  26]]\n",
      "\n",
      "TNR: 0.92612\n",
      "TPR: 0.33333\n",
      "TNRxTPR: 0.30871\n",
      "G-mean: 0.55561\n",
      "__________________________________________________\n",
      "Classifier:  BaggingClassifier\n",
      "[[706  52]\n",
      " [ 60  18]]\n",
      "\n",
      "TNR: 0.9314\n",
      "TPR: 0.23077\n",
      "TNRxTPR: 0.21494\n",
      "G-mean: 0.46361\n",
      "__________________________________________________\n",
      "Classifier:  RandomForestClassifier\n",
      "[[721  37]\n",
      " [ 62  16]]\n",
      "\n",
      "TNR: 0.95119\n",
      "TPR: 0.20513\n",
      "TNRxTPR: 0.19512\n",
      "G-mean: 0.44172\n",
      "__________________________________________________\n",
      "Ensemble predictions (majority voting):\n",
      "[[698  60]\n",
      " [ 53  25]]\n",
      "\n",
      "TNR: 0.92084\n",
      "TPR: 0.32051\n",
      "TNRxTPR: 0.29514\n",
      "G-mean: 0.54327\n"
     ]
    }
   ],
   "source": [
    "train_val(X_res, y_res, X_test, y_test)"
   ]
  },
  {
   "cell_type": "code",
   "execution_count": 11,
   "metadata": {
    "colab": {
     "base_uri": "https://localhost:8080/"
    },
    "executionInfo": {
     "elapsed": 8054,
     "status": "ok",
     "timestamp": 1680781639220,
     "user": {
      "displayName": "JACINTO DOMINGUEZ RULL",
      "userId": "04779779024889038949"
     },
     "user_tz": -120
    },
    "id": "B065rYa3wO-o",
    "outputId": "a6b36d82-dfe8-422f-bc67-ed0ee80bd43b"
   },
   "outputs": [
    {
     "name": "stderr",
     "output_type": "stream",
     "text": [
      "2023-07-10 16:37:00.887465: W tensorflow/stream_executor/platform/default/dso_loader.cc:64] Could not load dynamic library 'libcuda.so.1'; dlerror: libcuda.so.1: cannot open shared object file: No such file or directory\n",
      "2023-07-10 16:37:00.887490: W tensorflow/stream_executor/cuda/cuda_driver.cc:269] failed call to cuInit: UNKNOWN ERROR (303)\n",
      "2023-07-10 16:37:00.887507: I tensorflow/stream_executor/cuda/cuda_diagnostics.cc:156] kernel driver does not appear to be running on this host (a-Modern-15-A5M): /proc/driver/nvidia/version does not exist\n",
      "2023-07-10 16:37:00.887681: I tensorflow/core/platform/cpu_feature_guard.cc:151] This TensorFlow binary is optimized with oneAPI Deep Neural Network Library (oneDNN) to use the following CPU instructions in performance-critical operations:  AVX2 FMA\n",
      "To enable them in other operations, rebuild TensorFlow with the appropriate compiler flags.\n"
     ]
    }
   ],
   "source": [
    "# VAEOversampler\n",
    "\n",
    "vae_sampler = VAEOversampler(epochs=500,\n",
    "                              intermediate_dim=512,\n",
    "                              batch_size=64,\n",
    "                              random_state=42,\n",
    "                              verbose=False)\n",
    "X_res, y_res = vae_sampler.fit_resample(X_train, y_train)"
   ]
  },
  {
   "cell_type": "code",
   "execution_count": 12,
   "metadata": {
    "colab": {
     "base_uri": "https://localhost:8080/"
    },
    "executionInfo": {
     "elapsed": 13,
     "status": "ok",
     "timestamp": 1680781639221,
     "user": {
      "displayName": "JACINTO DOMINGUEZ RULL",
      "userId": "04779779024889038949"
     },
     "user_tz": -120
    },
    "id": "nOsNattyeSXh",
    "outputId": "3785fbee-89eb-4c1d-a7c3-e16dee7a54fa"
   },
   "outputs": [
    {
     "name": "stdout",
     "output_type": "stream",
     "text": [
      "Resampled dataset shape Counter({0.0: 3028, 1.0: 3028})\n",
      "Ratio->  1 : 1.0\n"
     ]
    }
   ],
   "source": [
    "print('Resampled dataset shape %s' % Counter(y_res))\n",
    "print('Ratio->  1 :', round(Counter(y_res)[1]/Counter(y_res)[0], 1))"
   ]
  },
  {
   "cell_type": "code",
   "execution_count": 13,
   "metadata": {
    "colab": {
     "base_uri": "https://localhost:8080/"
    },
    "executionInfo": {
     "elapsed": 26871,
     "status": "ok",
     "timestamp": 1680781673947,
     "user": {
      "displayName": "JACINTO DOMINGUEZ RULL",
      "userId": "04779779024889038949"
     },
     "user_tz": -120
    },
    "id": "6BNffQSbwO-t",
    "outputId": "531ff526-a2cf-496e-9ca6-a39d5f792077"
   },
   "outputs": [
    {
     "name": "stdout",
     "output_type": "stream",
     "text": [
      "__________________________________________________\n",
      "Classifier:  CatBoostClassifier\n",
      "[[742  16]\n",
      " [ 72   6]]\n",
      "\n",
      "TNR: 0.97889\n",
      "TPR: 0.07692\n",
      "TNRxTPR: 0.0753\n",
      "G-mean: 0.27441\n",
      "__________________________________________________\n",
      "Classifier:  LGBMClassifier\n",
      "[[732  26]\n",
      " [ 67  11]]\n",
      "\n",
      "TNR: 0.9657\n",
      "TPR: 0.14103\n",
      "TNRxTPR: 0.13619\n",
      "G-mean: 0.36904\n",
      "__________________________________________________\n",
      "Classifier:  XGBClassifier\n",
      "[[727  31]\n",
      " [ 64  14]]\n",
      "\n",
      "TNR: 0.9591\n",
      "TPR: 0.17949\n",
      "TNRxTPR: 0.17215\n",
      "G-mean: 0.41491\n",
      "__________________________________________________\n",
      "Classifier:  BaggingClassifier\n",
      "[[735  23]\n",
      " [ 71   7]]\n",
      "\n",
      "TNR: 0.96966\n",
      "TPR: 0.08974\n",
      "TNRxTPR: 0.08702\n",
      "G-mean: 0.29499\n",
      "__________________________________________________\n",
      "Classifier:  RandomForestClassifier\n",
      "[[741  17]\n",
      " [ 71   7]]\n",
      "\n",
      "TNR: 0.97757\n",
      "TPR: 0.08974\n",
      "TNRxTPR: 0.08773\n",
      "G-mean: 0.29619\n",
      "__________________________________________________\n",
      "Ensemble predictions (majority voting):\n",
      "[[738  20]\n",
      " [ 70   8]]\n",
      "\n",
      "TNR: 0.97361\n",
      "TPR: 0.10256\n",
      "TNRxTPR: 0.09986\n",
      "G-mean: 0.316\n"
     ]
    }
   ],
   "source": [
    "train_val(X_res, y_res, X_test, y_test)"
   ]
  },
  {
   "cell_type": "markdown",
   "metadata": {
    "id": "w9swp8C1wO-w"
   },
   "source": [
    "## Under/Oversampling combination  \n",
    "Now we can tuning the number of instances for each class to optimize metric.  \n"
   ]
  },
  {
   "cell_type": "code",
   "execution_count": 57,
   "metadata": {
    "colab": {
     "base_uri": "https://localhost:8080/"
    },
    "executionInfo": {
     "elapsed": 9,
     "status": "ok",
     "timestamp": 1678643391827,
     "user": {
      "displayName": "JACINTO DOMINGUEZ RULL",
      "userId": "04779779024889038949"
     },
     "user_tz": -60
    },
    "id": "BHJ2B9Cx_nsc",
    "outputId": "fc58f853-eb93-4896-fcb4-54fb90ceeaa9"
   },
   "outputs": [],
   "source": [
    "# SMOTE\n",
    "\n",
    "sm = SMOTE(random_state=42, sampling_strategy=1) # N_rm / N_M\n",
    "X_res, y_res = sm.fit_resample(X_train, y_train)"
   ]
  },
  {
   "cell_type": "code",
   "execution_count": 64,
   "metadata": {},
   "outputs": [
    {
     "name": "stdout",
     "output_type": "stream",
     "text": [
      "Resampled dataset shape Counter({1: 3028, 0: 606})\n",
      "Ratio->  1 : 5.0\n"
     ]
    }
   ],
   "source": [
    "# RUS\n",
    "\n",
    "X_eq, y_eq = RUS(X_res, y_res, frac=.2)\n",
    "\n",
    "print('Resampled dataset shape %s' % Counter(y_eq))\n",
    "print('Ratio->  1 :', round(Counter(y_eq)[1]/Counter(y_eq)[0], 1))"
   ]
  },
  {
   "cell_type": "code",
   "execution_count": 65,
   "metadata": {
    "colab": {
     "base_uri": "https://localhost:8080/"
    },
    "executionInfo": {
     "elapsed": 4090,
     "status": "ok",
     "timestamp": 1678643398595,
     "user": {
      "displayName": "JACINTO DOMINGUEZ RULL",
      "userId": "04779779024889038949"
     },
     "user_tz": -60
    },
    "id": "CMGEySDMpTdx",
    "outputId": "7963af02-4a66-40d8-d6e9-7a516be33818",
    "scrolled": false
   },
   "outputs": [
    {
     "name": "stdout",
     "output_type": "stream",
     "text": [
      "__________________________________________________\n",
      "Classifier:  CatBoostClassifier\n",
      "[[511 247]\n",
      " [  9  69]]\n",
      "\n",
      "TNR: 0.67414\n",
      "TPR: 0.88462\n",
      "TNRxTPR: 0.59636\n",
      "G-mean: 0.77224\n",
      "__________________________________________________\n",
      "Classifier:  LGBMClassifier\n",
      "[[545 213]\n",
      " [ 17  61]]\n",
      "\n",
      "TNR: 0.719\n",
      "TPR: 0.78205\n",
      "TNRxTPR: 0.56229\n",
      "G-mean: 0.74986\n",
      "__________________________________________________\n",
      "Classifier:  XGBClassifier\n",
      "[[536 222]\n",
      " [ 17  61]]\n",
      "\n",
      "TNR: 0.70712\n",
      "TPR: 0.78205\n",
      "TNRxTPR: 0.55301\n",
      "G-mean: 0.74364\n",
      "__________________________________________________\n",
      "Classifier:  BaggingClassifier\n",
      "[[556 202]\n",
      " [ 20  58]]\n",
      "\n",
      "TNR: 0.73351\n",
      "TPR: 0.74359\n",
      "TNRxTPR: 0.54543\n",
      "G-mean: 0.73853\n",
      "__________________________________________________\n",
      "Classifier:  RandomForestClassifier\n",
      "[[544 214]\n",
      " [ 12  66]]\n",
      "\n",
      "TNR: 0.71768\n",
      "TPR: 0.84615\n",
      "TNRxTPR: 0.60727\n",
      "G-mean: 0.77927\n",
      "__________________________________________________\n",
      "Ensemble predictions (majority voting):\n",
      "[[541 217]\n",
      " [ 14  64]]\n",
      "\n",
      "TNR: 0.71372\n",
      "TPR: 0.82051\n",
      "TNRxTPR: 0.58562\n",
      "G-mean: 0.76526\n"
     ]
    }
   ],
   "source": [
    "train_val(X_eq, y_eq, X_test, y_test)"
   ]
  },
  {
   "cell_type": "code",
   "execution_count": 31,
   "metadata": {},
   "outputs": [],
   "source": [
    "# ROS\n",
    "\n",
    "ros = RandomOverSampler(random_state=42, sampling_strategy=1) # N_rm / N_M\n",
    "X_res, y_res = ros.fit_resample(X_train, y_train)"
   ]
  },
  {
   "cell_type": "code",
   "execution_count": 32,
   "metadata": {},
   "outputs": [
    {
     "name": "stdout",
     "output_type": "stream",
     "text": [
      "Resampled dataset shape Counter({1: 3028, 0: 908})\n",
      "Ratio->  1 : 3.3\n"
     ]
    }
   ],
   "source": [
    "# RUS\n",
    "\n",
    "X_eq, y_eq = RUS(X_res, y_res, frac=.3)\n",
    "\n",
    "print('Resampled dataset shape %s' % Counter(y_eq))\n",
    "print('Ratio->  1 :', round(Counter(y_eq)[1]/Counter(y_eq)[0], 1))"
   ]
  },
  {
   "cell_type": "code",
   "execution_count": 33,
   "metadata": {
    "colab": {
     "base_uri": "https://localhost:8080/"
    },
    "executionInfo": {
     "elapsed": 4090,
     "status": "ok",
     "timestamp": 1678643398595,
     "user": {
      "displayName": "JACINTO DOMINGUEZ RULL",
      "userId": "04779779024889038949"
     },
     "user_tz": -60
    },
    "id": "CMGEySDMpTdx",
    "outputId": "7963af02-4a66-40d8-d6e9-7a516be33818",
    "scrolled": false
   },
   "outputs": [
    {
     "name": "stdout",
     "output_type": "stream",
     "text": [
      "__________________________________________________\n",
      "Classifier:  CatBoostClassifier\n",
      "[[562 196]\n",
      " [ 14  64]]\n",
      "\n",
      "TNR: 0.74142\n",
      "TPR: 0.82051\n",
      "TNRxTPR: 0.60835\n",
      "G-mean: 0.77997\n",
      "__________________________________________________\n",
      "Classifier:  LGBMClassifier\n",
      "[[598 160]\n",
      " [ 25  53]]\n",
      "\n",
      "TNR: 0.78892\n",
      "TPR: 0.67949\n",
      "TNRxTPR: 0.53606\n",
      "G-mean: 0.73216\n",
      "__________________________________________________\n",
      "Classifier:  XGBClassifier\n",
      "[[614 144]\n",
      " [ 28  50]]\n",
      "\n",
      "TNR: 0.81003\n",
      "TPR: 0.64103\n",
      "TNRxTPR: 0.51925\n",
      "G-mean: 0.72059\n",
      "__________________________________________________\n",
      "Classifier:  BaggingClassifier\n",
      "[[627 131]\n",
      " [ 36  42]]\n",
      "\n",
      "TNR: 0.82718\n",
      "TPR: 0.53846\n",
      "TNRxTPR: 0.4454\n",
      "G-mean: 0.66739\n",
      "__________________________________________________\n",
      "Classifier:  RandomForestClassifier\n",
      "[[627 131]\n",
      " [ 27  51]]\n",
      "\n",
      "TNR: 0.82718\n",
      "TPR: 0.65385\n",
      "TNRxTPR: 0.54085\n",
      "G-mean: 0.73542\n",
      "__________________________________________________\n",
      "Ensemble predictions (majority voting):\n",
      "[[607 151]\n",
      " [ 25  53]]\n",
      "\n",
      "TNR: 0.80079\n",
      "TPR: 0.67949\n",
      "TNRxTPR: 0.54413\n",
      "G-mean: 0.73765\n"
     ]
    }
   ],
   "source": [
    "train_val(X_eq, y_eq, X_test, y_test)"
   ]
  },
  {
   "cell_type": "code",
   "execution_count": 54,
   "metadata": {
    "colab": {
     "base_uri": "https://localhost:8080/"
    },
    "executionInfo": {
     "elapsed": 1868,
     "status": "ok",
     "timestamp": 1680781738049,
     "user": {
      "displayName": "JACINTO DOMINGUEZ RULL",
      "userId": "04779779024889038949"
     },
     "user_tz": -120
    },
    "id": "T6benPDnCzym",
    "outputId": "152adb4b-751a-41ad-c30c-161b093f5cd1"
   },
   "outputs": [],
   "source": [
    "# VAEOversampler\n",
    "\n",
    "X_res, y_res = vae_sampler.resample(X_train, y_train, sampling_strategy=1)"
   ]
  },
  {
   "cell_type": "code",
   "execution_count": 55,
   "metadata": {
    "colab": {
     "base_uri": "https://localhost:8080/"
    },
    "executionInfo": {
     "elapsed": 452,
     "status": "ok",
     "timestamp": 1680781789407,
     "user": {
      "displayName": "JACINTO DOMINGUEZ RULL",
      "userId": "04779779024889038949"
     },
     "user_tz": -120
    },
    "id": "7a1QqxB6Czyx",
    "outputId": "2b05f53a-776d-4560-dbe6-f14163438c12"
   },
   "outputs": [
    {
     "name": "stdout",
     "output_type": "stream",
     "text": [
      "Resampled dataset shape Counter({1.0: 3028, 0.0: 394})\n",
      "Ratio->  1 : 7.7\n"
     ]
    }
   ],
   "source": [
    "# RUS\n",
    "\n",
    "X_eq, y_eq = RUS(X_res, y_res, frac=.13)\n",
    "\n",
    "print('Resampled dataset shape %s' % Counter(y_eq))\n",
    "print('Ratio->  1 :', round(Counter(y_eq)[1]/Counter(y_eq)[0], 1))"
   ]
  },
  {
   "cell_type": "code",
   "execution_count": 56,
   "metadata": {
    "colab": {
     "base_uri": "https://localhost:8080/"
    },
    "executionInfo": {
     "elapsed": 18111,
     "status": "ok",
     "timestamp": 1680781808511,
     "user": {
      "displayName": "JACINTO DOMINGUEZ RULL",
      "userId": "04779779024889038949"
     },
     "user_tz": -120
    },
    "id": "oAv7STUxCzy0",
    "outputId": "a1ca764e-548c-407f-b5a8-4b3fffdc1270"
   },
   "outputs": [
    {
     "name": "stdout",
     "output_type": "stream",
     "text": [
      "__________________________________________________\n",
      "Classifier:  CatBoostClassifier\n",
      "[[587 171]\n",
      " [ 16  62]]\n",
      "\n",
      "TNR: 0.77441\n",
      "TPR: 0.79487\n",
      "TNRxTPR: 0.61555\n",
      "G-mean: 0.78457\n",
      "__________________________________________________\n",
      "Classifier:  LGBMClassifier\n",
      "[[585 173]\n",
      " [ 20  58]]\n",
      "\n",
      "TNR: 0.77177\n",
      "TPR: 0.74359\n",
      "TNRxTPR: 0.57388\n",
      "G-mean: 0.75755\n",
      "__________________________________________________\n",
      "Classifier:  XGBClassifier\n",
      "[[592 166]\n",
      " [ 14  64]]\n",
      "\n",
      "TNR: 0.781\n",
      "TPR: 0.82051\n",
      "TNRxTPR: 0.64082\n",
      "G-mean: 0.80051\n",
      "__________________________________________________\n",
      "Classifier:  BaggingClassifier\n",
      "[[608 150]\n",
      " [ 26  52]]\n",
      "\n",
      "TNR: 0.80211\n",
      "TPR: 0.66667\n",
      "TNRxTPR: 0.53474\n",
      "G-mean: 0.73126\n",
      "__________________________________________________\n",
      "Classifier:  RandomForestClassifier\n",
      "[[600 158]\n",
      " [ 17  61]]\n",
      "\n",
      "TNR: 0.79156\n",
      "TPR: 0.78205\n",
      "TNRxTPR: 0.61904\n",
      "G-mean: 0.78679\n",
      "__________________________________________________\n",
      "Ensemble predictions (majority voting):\n",
      "[[600 158]\n",
      " [ 15  63]]\n",
      "\n",
      "TNR: 0.79156\n",
      "TPR: 0.80769\n",
      "TNRxTPR: 0.63933\n",
      "G-mean: 0.79958\n"
     ]
    }
   ],
   "source": [
    "train_val(X_eq, y_eq, X_test, y_test)"
   ]
  },
  {
   "cell_type": "markdown",
   "metadata": {
    "id": "RydFSMjOoD87"
   },
   "source": [
    "## References  \n",
    "\n",
    "  - Classification with Imbalanced Datasets:  \n",
    "    https://sci2s.ugr.es/imbalanced  \n",
    "  - Computer Vision:  Models, Learning, and Inference (Simon J.D. Prince):  \n",
    "    http://www.computervisionmodels.com/  \n",
    "  - Oversampling with VAEs:  \n",
    "    https://towardsdatascience.com/oversampling-with-vaes-e410887fe51  \n"
   ]
  }
 ],
 "metadata": {
  "colab": {
   "provenance": []
  },
  "gpuClass": "standard",
  "kernelspec": {
   "display_name": "Python 3 (ipykernel)",
   "language": "python",
   "name": "python3"
  },
  "language_info": {
   "codemirror_mode": {
    "name": "ipython",
    "version": 3
   },
   "file_extension": ".py",
   "mimetype": "text/x-python",
   "name": "python",
   "nbconvert_exporter": "python",
   "pygments_lexer": "ipython3",
   "version": "3.9.7"
  }
 },
 "nbformat": 4,
 "nbformat_minor": 1
}
