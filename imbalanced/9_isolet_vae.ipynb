{
 "cells": [
  {
   "cell_type": "markdown",
   "metadata": {
    "id": "qLO_siFYEPSg"
   },
   "source": [
    "# Dealing with imbalanced datasets, combining oversampling with VAE and undersampling to improve model recognition over all classes.  "
   ]
  },
  {
   "cell_type": "code",
   "execution_count": null,
   "metadata": {
    "colab": {
     "base_uri": "https://localhost:8080/"
    },
    "executionInfo": {
     "elapsed": 4136,
     "status": "ok",
     "timestamp": 1688992838513,
     "user": {
      "displayName": "JACINTO DOMINGUEZ RULL",
      "userId": "04779779024889038949"
     },
     "user_tz": -120
    },
    "id": "7i9SPd8cUUJT",
    "outputId": "d8683807-df0c-4ca2-b42c-553a6d520309"
   },
   "outputs": [
    {
     "name": "stdout",
     "output_type": "stream",
     "text": [
      "Collecting catboost\n",
      "  Downloading catboost-1.2-cp310-cp310-manylinux2014_x86_64.whl (98.6 MB)\n",
      "\u001b[2K     \u001b[90m━━━━━━━━━━━━━━━━━━━━━━━━━━━━━━━━━━━━━━━━\u001b[0m \u001b[32m98.6/98.6 MB\u001b[0m \u001b[31m10.5 MB/s\u001b[0m eta \u001b[36m0:00:00\u001b[0m\n",
      "\u001b[?25hRequirement already satisfied: graphviz in /usr/local/lib/python3.10/dist-packages (from catboost) (0.20.1)\n",
      "Requirement already satisfied: matplotlib in /usr/local/lib/python3.10/dist-packages (from catboost) (3.7.1)\n",
      "Requirement already satisfied: numpy>=1.16.0 in /usr/local/lib/python3.10/dist-packages (from catboost) (1.22.4)\n",
      "Requirement already satisfied: pandas>=0.24 in /usr/local/lib/python3.10/dist-packages (from catboost) (1.5.3)\n",
      "Requirement already satisfied: scipy in /usr/local/lib/python3.10/dist-packages (from catboost) (1.10.1)\n",
      "Requirement already satisfied: plotly in /usr/local/lib/python3.10/dist-packages (from catboost) (5.13.1)\n",
      "Requirement already satisfied: six in /usr/local/lib/python3.10/dist-packages (from catboost) (1.16.0)\n",
      "Requirement already satisfied: python-dateutil>=2.8.1 in /usr/local/lib/python3.10/dist-packages (from pandas>=0.24->catboost) (2.8.2)\n",
      "Requirement already satisfied: pytz>=2020.1 in /usr/local/lib/python3.10/dist-packages (from pandas>=0.24->catboost) (2022.7.1)\n",
      "Requirement already satisfied: contourpy>=1.0.1 in /usr/local/lib/python3.10/dist-packages (from matplotlib->catboost) (1.1.0)\n",
      "Requirement already satisfied: cycler>=0.10 in /usr/local/lib/python3.10/dist-packages (from matplotlib->catboost) (0.11.0)\n",
      "Requirement already satisfied: fonttools>=4.22.0 in /usr/local/lib/python3.10/dist-packages (from matplotlib->catboost) (4.40.0)\n",
      "Requirement already satisfied: kiwisolver>=1.0.1 in /usr/local/lib/python3.10/dist-packages (from matplotlib->catboost) (1.4.4)\n",
      "Requirement already satisfied: packaging>=20.0 in /usr/local/lib/python3.10/dist-packages (from matplotlib->catboost) (23.1)\n",
      "Requirement already satisfied: pillow>=6.2.0 in /usr/local/lib/python3.10/dist-packages (from matplotlib->catboost) (8.4.0)\n",
      "Requirement already satisfied: pyparsing>=2.3.1 in /usr/local/lib/python3.10/dist-packages (from matplotlib->catboost) (3.1.0)\n",
      "Requirement already satisfied: tenacity>=6.2.0 in /usr/local/lib/python3.10/dist-packages (from plotly->catboost) (8.2.2)\n",
      "Installing collected packages: catboost\n",
      "Successfully installed catboost-1.2\n"
     ]
    }
   ],
   "source": [
    "!pip install catboost"
   ]
  },
  {
   "cell_type": "markdown",
   "metadata": {
    "id": "IOzC3QPArH_F"
   },
   "source": [
    "Import packages, classifiers and etc."
   ]
  },
  {
   "cell_type": "code",
   "execution_count": 1,
   "metadata": {
    "_cell_guid": "b1076dfc-b9ad-4769-8c92-a6c4dae69d19",
    "_uuid": "8f2839f25d086af736a60e9eeb907d3b93b6e0e5",
    "id": "GDNB_c5RrH_I"
   },
   "outputs": [],
   "source": [
    "import pandas as pd\n",
    "import numpy as np\n",
    "\n",
    "from sklearn.preprocessing import StandardScaler\n",
    "from sklearn.model_selection import train_test_split, cross_validate\n",
    "\n",
    "from catboost import CatBoostClassifier\n",
    "from lightgbm import LGBMClassifier\n",
    "from xgboost import XGBClassifier\n",
    "from sklearn.ensemble import BaggingClassifier, RandomForestClassifier\n",
    "\n",
    "from sklearn.metrics import confusion_matrix, make_scorer\n",
    "from imblearn.metrics import classification_report_imbalanced, geometric_mean_score\n",
    "from collections import Counter\n",
    "\n",
    "from imblearn.over_sampling import SMOTE, RandomOverSampler"
   ]
  },
  {
   "cell_type": "markdown",
   "metadata": {
    "id": "7qxBXk4fPiJx"
   },
   "source": [
    "Import VAEOversampler."
   ]
  },
  {
   "cell_type": "code",
   "execution_count": 2,
   "metadata": {
    "id": "DqyRUyWlvryO"
   },
   "outputs": [
    {
     "name": "stderr",
     "output_type": "stream",
     "text": [
      "2023-07-10 17:01:35.712257: W tensorflow/stream_executor/platform/default/dso_loader.cc:64] Could not load dynamic library 'libcudart.so.11.0'; dlerror: libcudart.so.11.0: cannot open shared object file: No such file or directory\n",
      "2023-07-10 17:01:35.712315: I tensorflow/stream_executor/cuda/cudart_stub.cc:29] Ignore above cudart dlerror if you do not have a GPU set up on your machine.\n"
     ]
    }
   ],
   "source": [
    "from VAEOversampler import VAEOversampler"
   ]
  },
  {
   "cell_type": "markdown",
   "metadata": {
    "id": "8UEMO2hTPztj"
   },
   "source": [
    "## Loading data  \n",
    "You can load some dataset from Imbalanced Learn list (https://imbalanced-learn.org/stable/datasets/index.html) or use your own data.  \n"
   ]
  },
  {
   "cell_type": "code",
   "execution_count": 3,
   "metadata": {
    "id": "Xnh_x70FwVCi"
   },
   "outputs": [],
   "source": [
    "from imblearn.datasets import fetch_datasets\n",
    "\n",
    "dset_name = 'isolet'\n",
    "dset = fetch_datasets()[dset_name]\n",
    "\n",
    "X, y = StandardScaler().fit_transform(dset.data), dset.target"
   ]
  },
  {
   "cell_type": "code",
   "execution_count": 4,
   "metadata": {
    "colab": {
     "base_uri": "https://localhost:8080/"
    },
    "executionInfo": {
     "elapsed": 40,
     "status": "ok",
     "timestamp": 1688992975010,
     "user": {
      "displayName": "JACINTO DOMINGUEZ RULL",
      "userId": "04779779024889038949"
     },
     "user_tz": -120
    },
    "id": "v_SUvgVSByCD",
    "outputId": "95483857-6ba8-4a91-a9d2-243f9377cfe8"
   },
   "outputs": [
    {
     "data": {
      "text/plain": [
       "array([[-0.22814972, -0.73141297, -0.53755132, ...,  1.34514074,\n",
       "         1.52756432, -0.58066277],\n",
       "       [-0.20871631, -0.81514481, -0.30610169, ...,  0.72576266,\n",
       "         1.12135984,  0.53729779],\n",
       "       [ 0.64381879,  0.22275509,  0.47152008, ...,  0.1993505 ,\n",
       "         0.23263731, -0.54962399],\n",
       "       ...,\n",
       "       [-1.20066498, -1.60622325, -0.57857546, ..., -0.33712804,\n",
       "        -0.0257472 , -0.84759631],\n",
       "       [-0.80692726, -0.99198146,  0.4996859 , ...,  0.34856969,\n",
       "        -0.37486674, -0.61678063],\n",
       "       [-1.17024747, -1.48250008,  0.05882947, ..., -0.8173533 ,\n",
       "        -0.75763635, -0.10040813]])"
      ]
     },
     "execution_count": 4,
     "metadata": {},
     "output_type": "execute_result"
    }
   ],
   "source": [
    "X"
   ]
  },
  {
   "cell_type": "code",
   "execution_count": 5,
   "metadata": {
    "id": "Tb09lFMxPS2J"
   },
   "outputs": [],
   "source": [
    "y[y == -1] = 0"
   ]
  },
  {
   "cell_type": "markdown",
   "metadata": {
    "id": "hpLA_GmKSJwN"
   },
   "source": [
    "We split data into train and test partitions."
   ]
  },
  {
   "cell_type": "code",
   "execution_count": 6,
   "metadata": {
    "id": "ZS-Dd0R9GbBY"
   },
   "outputs": [],
   "source": [
    "X_train, X_test, y_train, y_test = train_test_split(X, y, test_size=0.2, random_state=42, stratify=y)"
   ]
  },
  {
   "cell_type": "markdown",
   "metadata": {
    "id": "Em7Um0N4rH_S"
   },
   "source": [
    "This is a simple function to undersample freely.  "
   ]
  },
  {
   "cell_type": "code",
   "execution_count": 7,
   "metadata": {
    "id": "1cdWcXE3Ofok"
   },
   "outputs": [],
   "source": [
    "# RUS\n",
    "\n",
    "def RUS(X_res, y_res, frac=1, minority_class_id=1, random_state=42):\n",
    "    X_res = pd.DataFrame(X_res)\n",
    "    X_res['Class'] = y_res\n",
    "\n",
    "    X_neg = X_res[y_res != minority_class_id].sample(frac=frac, random_state=random_state)\n",
    "    X_pos = X_res[y_res == minority_class_id].sample(frac=1, random_state=random_state)\n",
    "\n",
    "    X_rus = pd.concat([X_neg, X_pos], ignore_index=True)\n",
    "\n",
    "    X_eq = X_rus.drop('Class', axis=1)\n",
    "    y_eq = X_rus['Class']\n",
    "\n",
    "    return X_eq, y_eq"
   ]
  },
  {
   "cell_type": "code",
   "execution_count": 8,
   "metadata": {
    "id": "1Ep1nUMCES98"
   },
   "outputs": [],
   "source": [
    "def train_val(X, y, Xt, yt, random_state=42):\n",
    "    classifiers = {\n",
    "        \"CatBoostClassifier\": CatBoostClassifier(verbose=False, random_seed=random_state),\n",
    "        \"LGBMClassifier\": LGBMClassifier(random_state=random_state),\n",
    "        \"XGBClassifier\": XGBClassifier(random_state=random_state),\n",
    "        \"BaggingClassifier\": BaggingClassifier(random_state=random_state),\n",
    "        \"RandomForestClassifier\": RandomForestClassifier(random_state=random_state),\n",
    "    }\n",
    "    scores = []\n",
    "    predictions = []\n",
    "    for key, classifier in classifiers.items():\n",
    "        print('_' * 50)\n",
    "        name = key\n",
    "        classifier.fit(X, y)\n",
    "        print(\"Classifier: \", name)\n",
    "        y_pred = classifier.predict(Xt)\n",
    "        cm = confusion_matrix(yt, y_pred)\n",
    "        print(cm)\n",
    "        print('')\n",
    "        predictions.append(y_pred)\n",
    "        tn = cm[0,0]\n",
    "        fp = cm[0,1]\n",
    "        fn = cm[1,0]\n",
    "        tp = cm[1,1]\n",
    "        tnr = tn / (tn + fp)\n",
    "        tpr = tp / (tp + fn)\n",
    "        scores.append(tnr * tpr)\n",
    "        print('TNR:', round(tnr, 5))\n",
    "        print('TPR:', round(tpr, 5))\n",
    "        print('TNRxTPR:', round(tnr * tpr, 5))\n",
    "        print('G-mean:', round(np.sqrt(tnr * tpr), 5))\n",
    "\n",
    "    print('_' * 50)\n",
    "    print('Ensemble predictions (majority voting):')\n",
    "    predictions = np.sum(predictions, axis=0)\n",
    "    predictions[predictions < 3] = 0\n",
    "    predictions[predictions >= 3] = 1\n",
    "\n",
    "    cm = confusion_matrix(yt, predictions)\n",
    "    print(cm)\n",
    "    tn = cm[0,0]\n",
    "    fp = cm[0,1]\n",
    "    fn = cm[1,0]\n",
    "    tp = cm[1,1]\n",
    "    tnr = tn / (tn + fp)\n",
    "    tpr = tp / (tp + fn)\n",
    "    print('')\n",
    "    print('TNR:', round(tnr, 5))\n",
    "    print('TPR:', round(tpr, 5))\n",
    "    print('TNRxTPR:', round(tnr * tpr, 5))\n",
    "    print('G-mean:', round(np.sqrt(tnr * tpr), 5))\n"
   ]
  },
  {
   "cell_type": "markdown",
   "metadata": {},
   "source": [
    "## Without resampling (base line) \n",
    "Which is starting score?\n"
   ]
  },
  {
   "cell_type": "code",
   "execution_count": 9,
   "metadata": {},
   "outputs": [
    {
     "name": "stdout",
     "output_type": "stream",
     "text": [
      "Original dataset shape Counter({0: 7197, 1: 600})\n",
      "Ratio-> 12.0 : 1\n"
     ]
    }
   ],
   "source": [
    "print('Original dataset shape %s' % Counter(y))\n",
    "print('Ratio->', round(Counter(y)[0]/Counter(y)[1], 1), ': 1')"
   ]
  },
  {
   "cell_type": "code",
   "execution_count": 10,
   "metadata": {},
   "outputs": [
    {
     "name": "stdout",
     "output_type": "stream",
     "text": [
      "__________________________________________________\n",
      "Classifier:  CatBoostClassifier\n",
      "[[1432    8]\n",
      " [  21   99]]\n",
      "\n",
      "TNR: 0.99444\n",
      "TPR: 0.825\n",
      "TNRxTPR: 0.82042\n",
      "G-mean: 0.90577\n",
      "__________________________________________________\n",
      "Classifier:  LGBMClassifier\n",
      "[[1430   10]\n",
      " [  25   95]]\n",
      "\n",
      "TNR: 0.99306\n",
      "TPR: 0.79167\n",
      "TNRxTPR: 0.78617\n",
      "G-mean: 0.88666\n",
      "__________________________________________________\n",
      "Classifier:  XGBClassifier\n",
      "[[1430   10]\n",
      " [  25   95]]\n",
      "\n",
      "TNR: 0.99306\n",
      "TPR: 0.79167\n",
      "TNRxTPR: 0.78617\n",
      "G-mean: 0.88666\n",
      "__________________________________________________\n",
      "Classifier:  BaggingClassifier\n",
      "[[1429   11]\n",
      " [  57   63]]\n",
      "\n",
      "TNR: 0.99236\n",
      "TPR: 0.525\n",
      "TNRxTPR: 0.52099\n",
      "G-mean: 0.7218\n",
      "__________________________________________________\n",
      "Classifier:  RandomForestClassifier\n",
      "[[1437    3]\n",
      " [  51   69]]\n",
      "\n",
      "TNR: 0.99792\n",
      "TPR: 0.575\n",
      "TNRxTPR: 0.5738\n",
      "G-mean: 0.7575\n",
      "__________________________________________________\n",
      "Ensemble predictions (majority voting):\n",
      "[[1432    8]\n",
      " [  29   91]]\n",
      "\n",
      "TNR: 0.99444\n",
      "TPR: 0.75833\n",
      "TNRxTPR: 0.75412\n",
      "G-mean: 0.8684\n"
     ]
    }
   ],
   "source": [
    "train_val(X_train, y_train, X_test, y_test)"
   ]
  },
  {
   "cell_type": "markdown",
   "metadata": {
    "id": "p-yfG-i7UR_a"
   },
   "source": [
    "## Ratio 1:1  \n",
    "Let's see classifiers scores when dataset is balanced.  \n"
   ]
  },
  {
   "cell_type": "code",
   "execution_count": null,
   "metadata": {
    "id": "BHJ2B9Cx_nsc"
   },
   "outputs": [],
   "source": [
    "# SMOTE\n",
    "\n",
    "sm = SMOTE(random_state=42, sampling_strategy=1) # N_rm / N_M\n",
    "X_res, y_res = sm.fit_resample(X_train, y_train)"
   ]
  },
  {
   "cell_type": "code",
   "execution_count": null,
   "metadata": {
    "colab": {
     "base_uri": "https://localhost:8080/"
    },
    "executionInfo": {
     "elapsed": 259,
     "status": "ok",
     "timestamp": 1688984579100,
     "user": {
      "displayName": "JACINTO DOMINGUEZ RULL",
      "userId": "04779779024889038949"
     },
     "user_tz": -120
    },
    "id": "uuLcLjq5UR_b",
    "outputId": "25fa13ca-596c-442b-c4c8-5864651a435d"
   },
   "outputs": [
    {
     "name": "stdout",
     "output_type": "stream",
     "text": [
      "Resampled dataset shape Counter({0: 5757, 1: 5757})\n",
      "Ratio->  1 : 1.0\n"
     ]
    }
   ],
   "source": [
    "print('Resampled dataset shape %s' % Counter(y_res))\n",
    "print('Ratio->  1 :', round(Counter(y_res)[1]/Counter(y_res)[0], 1))"
   ]
  },
  {
   "cell_type": "code",
   "execution_count": null,
   "metadata": {
    "colab": {
     "base_uri": "https://localhost:8080/"
    },
    "executionInfo": {
     "elapsed": 4090,
     "status": "ok",
     "timestamp": 1678643398595,
     "user": {
      "displayName": "JACINTO DOMINGUEZ RULL",
      "userId": "04779779024889038949"
     },
     "user_tz": -60
    },
    "id": "CMGEySDMpTdx",
    "outputId": "7963af02-4a66-40d8-d6e9-7a516be33818",
    "scrolled": false
   },
   "outputs": [
    {
     "name": "stdout",
     "output_type": "stream",
     "text": [
      "__________________________________________________\n",
      "Classifier:  CatBoostClassifier\n",
      "[[1424   16]\n",
      " [   8  112]]\n",
      "\n",
      "TNR: 0.98889\n",
      "TPR: 0.93333\n",
      "TNRxTPR: 0.92296\n",
      "G-mean: 0.96071\n",
      "__________________________________________________\n",
      "Classifier:  LGBMClassifier\n",
      "[[1423   17]\n",
      " [  18  102]]\n",
      "\n",
      "TNR: 0.98819\n",
      "TPR: 0.85\n",
      "TNRxTPR: 0.83997\n",
      "G-mean: 0.9165\n",
      "__________________________________________________\n",
      "Classifier:  XGBClassifier\n",
      "[[1423   17]\n",
      " [  13  107]]\n",
      "\n",
      "TNR: 0.98819\n",
      "TPR: 0.89167\n",
      "TNRxTPR: 0.88114\n",
      "G-mean: 0.93869\n",
      "__________________________________________________\n",
      "Classifier:  BaggingClassifier\n",
      "[[1417   23]\n",
      " [  28   92]]\n",
      "\n",
      "TNR: 0.98403\n",
      "TPR: 0.76667\n",
      "TNRxTPR: 0.75442\n",
      "G-mean: 0.86857\n",
      "__________________________________________________\n",
      "Classifier:  RandomForestClassifier\n",
      "[[1421   19]\n",
      " [  15  105]]\n",
      "\n",
      "TNR: 0.98681\n",
      "TPR: 0.875\n",
      "TNRxTPR: 0.86345\n",
      "G-mean: 0.92922\n",
      "__________________________________________________\n",
      "Ensemble predictions (majority voting):\n",
      "[[1422   18]\n",
      " [  12  108]]\n",
      "\n",
      "TNR: 0.9875\n",
      "TPR: 0.9\n",
      "TNRxTPR: 0.88875\n",
      "G-mean: 0.94274\n"
     ]
    }
   ],
   "source": [
    "train_val(X_res, y_res, X_test, y_test)"
   ]
  },
  {
   "cell_type": "code",
   "execution_count": null,
   "metadata": {
    "id": "hiRVkg2eUx0U"
   },
   "outputs": [],
   "source": [
    "# ROS\n",
    "\n",
    "ros = RandomOverSampler(random_state=42, sampling_strategy=1) # N_rm / N_M\n",
    "X_res, y_res = ros.fit_resample(X_train, y_train)"
   ]
  },
  {
   "cell_type": "code",
   "execution_count": null,
   "metadata": {
    "colab": {
     "base_uri": "https://localhost:8080/"
    },
    "executionInfo": {
     "elapsed": 310,
     "status": "ok",
     "timestamp": 1688984585762,
     "user": {
      "displayName": "JACINTO DOMINGUEZ RULL",
      "userId": "04779779024889038949"
     },
     "user_tz": -120
    },
    "id": "bRO0MrP6UR_c",
    "outputId": "d76786d0-f11e-4ff3-d0a7-ebd2c5e4b80b"
   },
   "outputs": [
    {
     "name": "stdout",
     "output_type": "stream",
     "text": [
      "Resampled dataset shape Counter({0: 5757, 1: 5757})\n",
      "Ratio->  1 : 1.0\n"
     ]
    }
   ],
   "source": [
    "print('Resampled dataset shape %s' % Counter(y_res))\n",
    "print('Ratio->  1 :', round(Counter(y_res)[1]/Counter(y_res)[0], 1))"
   ]
  },
  {
   "cell_type": "code",
   "execution_count": null,
   "metadata": {
    "colab": {
     "base_uri": "https://localhost:8080/"
    },
    "executionInfo": {
     "elapsed": 275433,
     "status": "ok",
     "timestamp": 1688984862254,
     "user": {
      "displayName": "JACINTO DOMINGUEZ RULL",
      "userId": "04779779024889038949"
     },
     "user_tz": -120
    },
    "id": "IMANwdwxUx0b",
    "outputId": "4ba47715-d9a9-48c4-89ae-02c39bbebe8b",
    "scrolled": false
   },
   "outputs": [
    {
     "name": "stdout",
     "output_type": "stream",
     "text": [
      "__________________________________________________\n",
      "Classifier:  CatBoostClassifier\n",
      "[[1421   19]\n",
      " [   7  113]]\n",
      "\n",
      "TNR: 0.98681\n",
      "TPR: 0.94167\n",
      "TNRxTPR: 0.92924\n",
      "G-mean: 0.96397\n",
      "__________________________________________________\n",
      "Classifier:  LGBMClassifier\n",
      "[[1422   18]\n",
      " [  18  102]]\n",
      "\n",
      "TNR: 0.9875\n",
      "TPR: 0.85\n",
      "TNRxTPR: 0.83938\n",
      "G-mean: 0.91617\n",
      "__________________________________________________\n",
      "Classifier:  XGBClassifier\n",
      "[[1420   20]\n",
      " [  16  104]]\n",
      "\n",
      "TNR: 0.98611\n",
      "TPR: 0.86667\n",
      "TNRxTPR: 0.85463\n",
      "G-mean: 0.92446\n",
      "__________________________________________________\n",
      "Classifier:  BaggingClassifier\n",
      "[[1410   30]\n",
      " [  36   84]]\n",
      "\n",
      "TNR: 0.97917\n",
      "TPR: 0.7\n",
      "TNRxTPR: 0.68542\n",
      "G-mean: 0.8279\n",
      "__________________________________________________\n",
      "Classifier:  RandomForestClassifier\n",
      "[[1424   16]\n",
      " [  32   88]]\n",
      "\n",
      "TNR: 0.98889\n",
      "TPR: 0.73333\n",
      "TNRxTPR: 0.72519\n",
      "G-mean: 0.85158\n",
      "__________________________________________________\n",
      "Ensemble predictions (majority voting):\n",
      "[[1424   16]\n",
      " [  19  101]]\n",
      "\n",
      "TNR: 0.98889\n",
      "TPR: 0.84167\n",
      "TNRxTPR: 0.83231\n",
      "G-mean: 0.91231\n"
     ]
    }
   ],
   "source": [
    "train_val(X_res, y_res, X_test, y_test)"
   ]
  },
  {
   "cell_type": "code",
   "execution_count": null,
   "metadata": {
    "colab": {
     "base_uri": "https://localhost:8080/"
    },
    "executionInfo": {
     "elapsed": 84447,
     "status": "ok",
     "timestamp": 1688993096105,
     "user": {
      "displayName": "JACINTO DOMINGUEZ RULL",
      "userId": "04779779024889038949"
     },
     "user_tz": -120
    },
    "id": "B065rYa3wO-o",
    "outputId": "8f5d2ab1-3a33-4843-ccc0-681cdd1ee79c"
   },
   "outputs": [
    {
     "name": "stdout",
     "output_type": "stream",
     "text": [
      "165/165 [==============================] - 0s 2ms/step\n"
     ]
    }
   ],
   "source": [
    "# VAEOversampler\n",
    "\n",
    "vae_sampler = VAEOversampler(epochs=500,\n",
    "                              intermediate_dim=512,\n",
    "                              batch_size=64,\n",
    "                              random_state=42,\n",
    "                              verbose=False)\n",
    "X_res, y_res = vae_sampler.fit_resample(X_train, y_train)"
   ]
  },
  {
   "cell_type": "code",
   "execution_count": null,
   "metadata": {
    "colab": {
     "base_uri": "https://localhost:8080/"
    },
    "executionInfo": {
     "elapsed": 11,
     "status": "ok",
     "timestamp": 1688989902621,
     "user": {
      "displayName": "JACINTO DOMINGUEZ RULL",
      "userId": "04779779024889038949"
     },
     "user_tz": -120
    },
    "id": "nOsNattyeSXh",
    "outputId": "9f9ee619-79b2-4a42-e5ec-8dec3fa342fa"
   },
   "outputs": [
    {
     "name": "stdout",
     "output_type": "stream",
     "text": [
      "Resampled dataset shape Counter({0.0: 5757, 1.0: 5757})\n",
      "Ratio->  1 : 1.0\n"
     ]
    }
   ],
   "source": [
    "print('Resampled dataset shape %s' % Counter(y_res))\n",
    "print('Ratio->  1 :', round(Counter(y_res)[1]/Counter(y_res)[0], 1))"
   ]
  },
  {
   "cell_type": "code",
   "execution_count": null,
   "metadata": {
    "colab": {
     "base_uri": "https://localhost:8080/"
    },
    "executionInfo": {
     "elapsed": 233144,
     "status": "ok",
     "timestamp": 1688990143475,
     "user": {
      "displayName": "JACINTO DOMINGUEZ RULL",
      "userId": "04779779024889038949"
     },
     "user_tz": -120
    },
    "id": "6BNffQSbwO-t",
    "outputId": "8ebd067f-71a6-45b9-e54e-17cb3f0acb53"
   },
   "outputs": [
    {
     "name": "stdout",
     "output_type": "stream",
     "text": [
      "__________________________________________________\n",
      "Classifier:  CatBoostClassifier\n",
      "[[1432    8]\n",
      " [  21   99]]\n",
      "\n",
      "TNR: 0.99444\n",
      "TPR: 0.825\n",
      "TNRxTPR: 0.82042\n",
      "G-mean: 0.90577\n",
      "__________________________________________________\n",
      "Classifier:  LGBMClassifier\n",
      "[[1432    8]\n",
      " [  20  100]]\n",
      "\n",
      "TNR: 0.99444\n",
      "TPR: 0.83333\n",
      "TNRxTPR: 0.8287\n",
      "G-mean: 0.91033\n",
      "__________________________________________________\n",
      "Classifier:  XGBClassifier\n",
      "[[1429   11]\n",
      " [  25   95]]\n",
      "\n",
      "TNR: 0.99236\n",
      "TPR: 0.79167\n",
      "TNRxTPR: 0.78562\n",
      "G-mean: 0.88635\n",
      "__________________________________________________\n",
      "Classifier:  BaggingClassifier\n",
      "[[1431    9]\n",
      " [  63   57]]\n",
      "\n",
      "TNR: 0.99375\n",
      "TPR: 0.475\n",
      "TNRxTPR: 0.47203\n",
      "G-mean: 0.68705\n",
      "__________________________________________________\n",
      "Classifier:  RandomForestClassifier\n",
      "[[1438    2]\n",
      " [  50   70]]\n",
      "\n",
      "TNR: 0.99861\n",
      "TPR: 0.58333\n",
      "TNRxTPR: 0.58252\n",
      "G-mean: 0.76323\n",
      "__________________________________________________\n",
      "Ensemble predictions (majority voting):\n",
      "[[1433    7]\n",
      " [  30   90]]\n",
      "\n",
      "TNR: 0.99514\n",
      "TPR: 0.75\n",
      "TNRxTPR: 0.74635\n",
      "G-mean: 0.86392\n"
     ]
    }
   ],
   "source": [
    "train_val(X_res, y_res, X_test, y_test)"
   ]
  },
  {
   "cell_type": "markdown",
   "metadata": {
    "id": "w9swp8C1wO-w"
   },
   "source": [
    "## Under/Oversampling combination  \n",
    "Now we can tuning the number of instances for each class to optimize metric.  \n"
   ]
  },
  {
   "cell_type": "code",
   "execution_count": null,
   "metadata": {
    "id": "mFfS1B1OUR_e"
   },
   "outputs": [],
   "source": [
    "# SMOTE\n",
    "\n",
    "sm = SMOTE(random_state=42, sampling_strategy=1) # N_rm / N_M\n",
    "X_res, y_res = sm.fit_resample(X_train, y_train)"
   ]
  },
  {
   "cell_type": "code",
   "execution_count": null,
   "metadata": {
    "colab": {
     "base_uri": "https://localhost:8080/"
    },
    "executionInfo": {
     "elapsed": 370,
     "status": "ok",
     "timestamp": 1688994695376,
     "user": {
      "displayName": "JACINTO DOMINGUEZ RULL",
      "userId": "04779779024889038949"
     },
     "user_tz": -120
    },
    "id": "5f1QEL3UUR_e",
    "outputId": "ef17aa2d-6042-4f02-ddc3-90a76aa23748"
   },
   "outputs": [
    {
     "name": "stdout",
     "output_type": "stream",
     "text": [
      "Resampled dataset shape Counter({1: 5757, 0: 2878})\n",
      "Ratio->  1 : 2.0\n"
     ]
    }
   ],
   "source": [
    "# RUS\n",
    "\n",
    "X_eq, y_eq = RUS(X_res, y_res, frac=.5)\n",
    "\n",
    "print('Resampled dataset shape %s' % Counter(y_eq))\n",
    "print('Ratio->  1 :', round(Counter(y_eq)[1]/Counter(y_eq)[0], 1))"
   ]
  },
  {
   "cell_type": "code",
   "execution_count": null,
   "metadata": {
    "colab": {
     "base_uri": "https://localhost:8080/"
    },
    "executionInfo": {
     "elapsed": 335126,
     "status": "ok",
     "timestamp": 1688995032104,
     "user": {
      "displayName": "JACINTO DOMINGUEZ RULL",
      "userId": "04779779024889038949"
     },
     "user_tz": -120
    },
    "id": "mpruVM0eUR_e",
    "outputId": "8bb3f36d-ea49-40fc-91ee-0d3d1b4ef939",
    "scrolled": false
   },
   "outputs": [
    {
     "name": "stdout",
     "output_type": "stream",
     "text": [
      "__________________________________________________\n",
      "Classifier:  CatBoostClassifier\n",
      "[[1399   41]\n",
      " [   5  115]]\n",
      "\n",
      "TNR: 0.97153\n",
      "TPR: 0.95833\n",
      "TNRxTPR: 0.93105\n",
      "G-mean: 0.96491\n",
      "__________________________________________________\n",
      "Classifier:  LGBMClassifier\n",
      "[[1408   32]\n",
      " [  10  110]]\n",
      "\n",
      "TNR: 0.97778\n",
      "TPR: 0.91667\n",
      "TNRxTPR: 0.8963\n",
      "G-mean: 0.94673\n",
      "__________________________________________________\n",
      "Classifier:  XGBClassifier\n",
      "[[1406   34]\n",
      " [   7  113]]\n",
      "\n",
      "TNR: 0.97639\n",
      "TPR: 0.94167\n",
      "TNRxTPR: 0.91943\n",
      "G-mean: 0.95887\n",
      "__________________________________________________\n",
      "Classifier:  BaggingClassifier\n",
      "[[1390   50]\n",
      " [  17  103]]\n",
      "\n",
      "TNR: 0.96528\n",
      "TPR: 0.85833\n",
      "TNRxTPR: 0.82853\n",
      "G-mean: 0.91024\n",
      "__________________________________________________\n",
      "Classifier:  RandomForestClassifier\n",
      "[[1397   43]\n",
      " [   9  111]]\n",
      "\n",
      "TNR: 0.97014\n",
      "TPR: 0.925\n",
      "TNRxTPR: 0.89738\n",
      "G-mean: 0.9473\n",
      "__________________________________________________\n",
      "Ensemble predictions (majority voting):\n",
      "[[1406   34]\n",
      " [   7  113]]\n",
      "\n",
      "TNR: 0.97639\n",
      "TPR: 0.94167\n",
      "TNRxTPR: 0.91943\n",
      "G-mean: 0.95887\n"
     ]
    }
   ],
   "source": [
    "train_val(X_eq, y_eq, X_test, y_test)"
   ]
  },
  {
   "cell_type": "code",
   "execution_count": null,
   "metadata": {
    "id": "1jzMta-MUR_e"
   },
   "outputs": [],
   "source": [
    "# ROS\n",
    "\n",
    "ros = RandomOverSampler(random_state=42, sampling_strategy=1) # N_rm / N_M\n",
    "X_res, y_res = ros.fit_resample(X_train, y_train)"
   ]
  },
  {
   "cell_type": "code",
   "execution_count": null,
   "metadata": {
    "colab": {
     "base_uri": "https://localhost:8080/"
    },
    "executionInfo": {
     "elapsed": 231,
     "status": "ok",
     "timestamp": 1688985896407,
     "user": {
      "displayName": "JACINTO DOMINGUEZ RULL",
      "userId": "04779779024889038949"
     },
     "user_tz": -120
    },
    "id": "ks-a_LJGUR_f",
    "outputId": "82383e48-2f49-40c8-f7de-a0a33be18106"
   },
   "outputs": [
    {
     "name": "stdout",
     "output_type": "stream",
     "text": [
      "Resampled dataset shape Counter({1: 5757, 0: 2878})\n",
      "Ratio->  1 : 2.0\n"
     ]
    }
   ],
   "source": [
    "# RUS\n",
    "\n",
    "X_eq, y_eq = RUS(X_res, y_res, frac=.5)\n",
    "\n",
    "print('Resampled dataset shape %s' % Counter(y_eq))\n",
    "print('Ratio->  1 :', round(Counter(y_eq)[1]/Counter(y_eq)[0], 1))"
   ]
  },
  {
   "cell_type": "code",
   "execution_count": null,
   "metadata": {
    "colab": {
     "base_uri": "https://localhost:8080/"
    },
    "executionInfo": {
     "elapsed": 235536,
     "status": "ok",
     "timestamp": 1688986133444,
     "user": {
      "displayName": "JACINTO DOMINGUEZ RULL",
      "userId": "04779779024889038949"
     },
     "user_tz": -120
    },
    "id": "bk2VZhrHUR_f",
    "outputId": "9f4960b2-72ad-4c21-a07c-c83d4048f068",
    "scrolled": false
   },
   "outputs": [
    {
     "name": "stdout",
     "output_type": "stream",
     "text": [
      "__________________________________________________\n",
      "Classifier:  CatBoostClassifier\n",
      "[[1396   44]\n",
      " [   5  115]]\n",
      "\n",
      "TNR: 0.96944\n",
      "TPR: 0.95833\n",
      "TNRxTPR: 0.92905\n",
      "G-mean: 0.96387\n",
      "__________________________________________________\n",
      "Classifier:  LGBMClassifier\n",
      "[[1409   31]\n",
      " [  10  110]]\n",
      "\n",
      "TNR: 0.97847\n",
      "TPR: 0.91667\n",
      "TNRxTPR: 0.89693\n",
      "G-mean: 0.94707\n",
      "__________________________________________________\n",
      "Classifier:  XGBClassifier\n",
      "[[1409   31]\n",
      " [   9  111]]\n",
      "\n",
      "TNR: 0.97847\n",
      "TPR: 0.925\n",
      "TNRxTPR: 0.90509\n",
      "G-mean: 0.95136\n",
      "__________________________________________________\n",
      "Classifier:  BaggingClassifier\n",
      "[[1376   64]\n",
      " [  25   95]]\n",
      "\n",
      "TNR: 0.95556\n",
      "TPR: 0.79167\n",
      "TNRxTPR: 0.75648\n",
      "G-mean: 0.86976\n",
      "__________________________________________________\n",
      "Classifier:  RandomForestClassifier\n",
      "[[1400   40]\n",
      " [  17  103]]\n",
      "\n",
      "TNR: 0.97222\n",
      "TPR: 0.85833\n",
      "TNRxTPR: 0.83449\n",
      "G-mean: 0.9135\n",
      "__________________________________________________\n",
      "Ensemble predictions (majority voting):\n",
      "[[1406   34]\n",
      " [  10  110]]\n",
      "\n",
      "TNR: 0.97639\n",
      "TPR: 0.91667\n",
      "TNRxTPR: 0.89502\n",
      "G-mean: 0.94606\n"
     ]
    }
   ],
   "source": [
    "train_val(X_eq, y_eq, X_test, y_test)"
   ]
  },
  {
   "cell_type": "code",
   "execution_count": null,
   "metadata": {
    "colab": {
     "base_uri": "https://localhost:8080/"
    },
    "executionInfo": {
     "elapsed": 746,
     "status": "ok",
     "timestamp": 1688994088491,
     "user": {
      "displayName": "JACINTO DOMINGUEZ RULL",
      "userId": "04779779024889038949"
     },
     "user_tz": -120
    },
    "id": "T6benPDnCzym",
    "outputId": "08654c0a-c1e3-4cea-dc32-22f1710fa282"
   },
   "outputs": [
    {
     "name": "stdout",
     "output_type": "stream",
     "text": [
      "165/165 [==============================] - 0s 2ms/step\n"
     ]
    }
   ],
   "source": [
    "# VAEOversampler\n",
    "\n",
    "X_res, y_res = vae_sampler.resample(X_train, y_train, sampling_strategy=1)"
   ]
  },
  {
   "cell_type": "code",
   "execution_count": null,
   "metadata": {
    "colab": {
     "base_uri": "https://localhost:8080/"
    },
    "executionInfo": {
     "elapsed": 271,
     "status": "ok",
     "timestamp": 1688994089889,
     "user": {
      "displayName": "JACINTO DOMINGUEZ RULL",
      "userId": "04779779024889038949"
     },
     "user_tz": -120
    },
    "id": "7a1QqxB6Czyx",
    "outputId": "1b74f523-ce6b-43e0-9b7c-518a4348f955"
   },
   "outputs": [
    {
     "name": "stdout",
     "output_type": "stream",
     "text": [
      "Resampled dataset shape Counter({1.0: 5757, 0.0: 979})\n",
      "Ratio->  1 : 5.9\n"
     ]
    }
   ],
   "source": [
    "# RUS\n",
    "\n",
    "X_eq, y_eq = RUS(X_res, y_res, frac=.17)\n",
    "\n",
    "print('Resampled dataset shape %s' % Counter(y_eq))\n",
    "print('Ratio->  1 :', round(Counter(y_eq)[1]/Counter(y_eq)[0], 1))"
   ]
  },
  {
   "cell_type": "code",
   "execution_count": null,
   "metadata": {
    "colab": {
     "base_uri": "https://localhost:8080/"
    },
    "executionInfo": {
     "elapsed": 176711,
     "status": "ok",
     "timestamp": 1688994271301,
     "user": {
      "displayName": "JACINTO DOMINGUEZ RULL",
      "userId": "04779779024889038949"
     },
     "user_tz": -120
    },
    "id": "oAv7STUxCzy0",
    "outputId": "d96834dc-acb6-412d-e268-7efc38da1f6d"
   },
   "outputs": [
    {
     "name": "stdout",
     "output_type": "stream",
     "text": [
      "__________________________________________________\n",
      "Classifier:  CatBoostClassifier\n",
      "[[1381   59]\n",
      " [   4  116]]\n",
      "\n",
      "TNR: 0.95903\n",
      "TPR: 0.96667\n",
      "TNRxTPR: 0.92706\n",
      "G-mean: 0.96284\n",
      "__________________________________________________\n",
      "Classifier:  LGBMClassifier\n",
      "[[1378   62]\n",
      " [   9  111]]\n",
      "\n",
      "TNR: 0.95694\n",
      "TPR: 0.925\n",
      "TNRxTPR: 0.88517\n",
      "G-mean: 0.94084\n",
      "__________________________________________________\n",
      "Classifier:  XGBClassifier\n",
      "[[1386   54]\n",
      " [   9  111]]\n",
      "\n",
      "TNR: 0.9625\n",
      "TPR: 0.925\n",
      "TNRxTPR: 0.89031\n",
      "G-mean: 0.94356\n",
      "__________________________________________________\n",
      "Classifier:  BaggingClassifier\n",
      "[[1382   58]\n",
      " [  15  105]]\n",
      "\n",
      "TNR: 0.95972\n",
      "TPR: 0.875\n",
      "TNRxTPR: 0.83976\n",
      "G-mean: 0.91638\n",
      "__________________________________________________\n",
      "Classifier:  RandomForestClassifier\n",
      "[[1390   50]\n",
      " [   7  113]]\n",
      "\n",
      "TNR: 0.96528\n",
      "TPR: 0.94167\n",
      "TNRxTPR: 0.90897\n",
      "G-mean: 0.9534\n",
      "__________________________________________________\n",
      "Ensemble predictions (majority voting):\n",
      "[[1389   51]\n",
      " [   7  113]]\n",
      "\n",
      "TNR: 0.96458\n",
      "TPR: 0.94167\n",
      "TNRxTPR: 0.90832\n",
      "G-mean: 0.95306\n"
     ]
    }
   ],
   "source": [
    "train_val(X_eq, y_eq, X_test, y_test)"
   ]
  },
  {
   "cell_type": "markdown",
   "metadata": {
    "id": "RydFSMjOoD87"
   },
   "source": [
    "## References  \n",
    "\n",
    "  - Classification with Imbalanced Datasets:  \n",
    "    https://sci2s.ugr.es/imbalanced  \n",
    "  - Computer Vision:  Models, Learning, and Inference (Simon J.D. Prince):  \n",
    "    http://www.computervisionmodels.com/  \n",
    "  - Oversampling with VAEs:  \n",
    "    https://towardsdatascience.com/oversampling-with-vaes-e410887fe51  \n"
   ]
  }
 ],
 "metadata": {
  "colab": {
   "provenance": []
  },
  "gpuClass": "standard",
  "kernelspec": {
   "display_name": "Python 3 (ipykernel)",
   "language": "python",
   "name": "python3"
  },
  "language_info": {
   "codemirror_mode": {
    "name": "ipython",
    "version": 3
   },
   "file_extension": ".py",
   "mimetype": "text/x-python",
   "name": "python",
   "nbconvert_exporter": "python",
   "pygments_lexer": "ipython3",
   "version": "3.9.7"
  }
 },
 "nbformat": 4,
 "nbformat_minor": 1
}
