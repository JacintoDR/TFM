{
 "cells": [
  {
   "cell_type": "markdown",
   "metadata": {
    "id": "Tg7zYIFPRgzh",
    "papermill": {
     "duration": 0.024568,
     "end_time": "2022-11-29T18:30:45.366138",
     "exception": false,
     "start_time": "2022-11-29T18:30:45.34157",
     "status": "completed"
    },
    "tags": []
   },
   "source": [
    "<a id='table'></a>\n",
    "\n",
    "<div style=\"color:white;display:fill;border-radius:15px;\n",
    "            font-size:150%;background-image: url(https://upload.wikimedia.org/wikipedia/commons/thumb/f/f3/Orion_Nebula_-_Hubble_2006_mosaic_18000.jpg/1200px-Orion_Nebula_-_Hubble_2006_mosaic_18000.jpg);\n",
    "            letter-spacing:1.0px\">\n",
    "    <p style=\"padding: 12px;color:white;\"><b><b><span style='color:#F1A424'> |</span></b> Table of contents</b></p>\n",
    "</div>\n",
    "\n",
    "* [1. Introduction](#Introduction)\n",
    "* [2. Pima Indians Diabetes Database](#Data)\n",
    "* [3. GAN model](#GAN)\n",
    "* [4. Quality assessment](#Quality)\n",
    "* [Conclusion](#Conclusion)\n"
   ]
  },
  {
   "cell_type": "markdown",
   "metadata": {
    "id": "aQgsfYV5QVSi",
    "papermill": {
     "duration": 0.017115,
     "end_time": "2022-11-29T18:30:45.406272",
     "exception": false,
     "start_time": "2022-11-29T18:30:45.389157",
     "status": "completed"
    },
    "tags": []
   },
   "source": [
    "<a id='Introduction'></a>\n",
    "\n",
    "# <b><span style='color:#F1A424'>| 1.</span> Introduction </b>\n",
    "\n",
    "[Table of contents](#table)\n",
    "\n",
    "<div style=\"color:white;display:fill;border-radius:15px;\n",
    "            font-size:150%;background-image: url(https://upload.wikimedia.org/wikipedia/commons/thumb/f/f3/Orion_Nebula_-_Hubble_2006_mosaic_18000.jpg/1200px-Orion_Nebula_-_Hubble_2006_mosaic_18000.jpg);\n",
    "            letter-spacing:1.0px\">\n",
    "    <p style=\"padding: 12px;color:white;\"><b><b><span style='color:#F1A424'> | 1.1. </span></b> About the NoteBook </b></p>\n",
    "</div>\n",
    "\n",
    "[Table of contents](#table)\n",
    "\n",
    "### Generative Adversarial Network\n",
    "A Generative Adversarial Network (GAN) is a type of deep learning architecture composed of two neural networks: a generator and a discriminator. The generator is trained to generate new data samples that are similar to a given set of real data samples, while the discriminator is trained to distinguish between the generated samples and the real samples. The two networks are trained in a competition with each other where the generator tries to produce samples that are indistinguishable from the real samples and the discriminator tries to correctly identify whether a sample is real or generated.\n",
    "\n",
    "### Code\n",
    "In the following NoteBook, the generator is a neural network that takes a random noise vector as input and generates a sample of fake data. The discriminator is another neural network that takes a sample of either real or generated data as input and outputs a scalar indicating the probability that the sample is real. The generator and discriminator are trained together in an adversarial manner, where the generator tries to generate samples that are classified as real by the discriminator, and the discriminator tries to correctly identify whether a sample is real or generated. The generator and discriminator are trained iteratively, alternating between updating the generator and the discriminator, until they reach convergence and the generated samples become indistinguishable from the real samples.\n",
    "\n",
    "https://samanemami.github.io/"
   ]
  },
  {
   "cell_type": "code",
   "execution_count": 1,
   "metadata": {
    "_kg_hide-input": true,
    "_kg_hide-output": false,
    "execution": {
     "iopub.execute_input": "2023-02-02T10:05:36.939558Z",
     "iopub.status.busy": "2023-02-02T10:05:36.939141Z",
     "iopub.status.idle": "2023-02-02T10:05:36.946288Z",
     "shell.execute_reply": "2023-02-02T10:05:36.944988Z",
     "shell.execute_reply.started": "2023-02-02T10:05:36.939516Z"
    },
    "papermill": {
     "duration": 4.053462,
     "end_time": "2022-11-29T18:30:49.473653",
     "exception": false,
     "start_time": "2022-11-29T18:30:45.420191",
     "status": "completed"
    },
    "tags": []
   },
   "outputs": [
    {
     "name": "stderr",
     "output_type": "stream",
     "text": [
      "2023-08-04 13:54:51.288568: W tensorflow/stream_executor/platform/default/dso_loader.cc:64] Could not load dynamic library 'libcudart.so.11.0'; dlerror: libcudart.so.11.0: cannot open shared object file: No such file or directory\n",
      "2023-08-04 13:54:51.288591: I tensorflow/stream_executor/cuda/cudart_stub.cc:29] Ignore above cudart dlerror if you do not have a GPU set up on your machine.\n"
     ]
    }
   ],
   "source": [
    "import os\n",
    "import logging\n",
    "import numpy as np\n",
    "import tensorflow as tf\n",
    "from sklearn.impute import KNNImputer\n",
    "from sklearn.preprocessing import StandardScaler\n",
    "from sklearn.model_selection import train_test_split\n",
    "import matplotlib.pyplot as plt\n",
    "import seaborn as sns\n",
    "import pandas as pd\n",
    "\n",
    "tf.get_logger().setLevel(logging.ERROR)\n"
   ]
  },
  {
   "cell_type": "code",
   "execution_count": 2,
   "metadata": {},
   "outputs": [],
   "source": [
    "from catboost import CatBoostClassifier\n",
    "from lightgbm import LGBMClassifier\n",
    "from xgboost import XGBClassifier\n",
    "from sklearn.ensemble import BaggingClassifier, RandomForestClassifier\n",
    "\n",
    "from sklearn.metrics import confusion_matrix, make_scorer\n",
    "from imblearn.metrics import classification_report_imbalanced, geometric_mean_score\n",
    "from collections import Counter"
   ]
  },
  {
   "cell_type": "markdown",
   "metadata": {},
   "source": [
    "<a id='Data'></a>\n",
    "\n",
    "#  <b><span style='color:#F1A424'>| 2. </span> Tabular Data</b>\n",
    "\n",
    "\n",
    "<div style=\"color:white;display:fill;border-radius:15px;\n",
    "            font-size:150%;background-image: url(https://upload.wikimedia.org/wikipedia/commons/thumb/f/f3/Orion_Nebula_-_Hubble_2006_mosaic_18000.jpg/1200px-Orion_Nebula_-_Hubble_2006_mosaic_18000.jpg);\n",
    "            letter-spacing:1.0px\">\n",
    "    <p style=\"padding: 12px;color:white;\"><b><b><span style='color:#F1A424'> | 2.1. </span></b> Pima Indians Diabetes Database </b></p>\n",
    "</div>\n",
    "\n",
    "[Table of contents](#table)\n",
    "\n"
   ]
  },
  {
   "cell_type": "code",
   "execution_count": 3,
   "metadata": {
    "execution": {
     "iopub.execute_input": "2023-02-02T10:05:36.94884Z",
     "iopub.status.busy": "2023-02-02T10:05:36.948185Z",
     "iopub.status.idle": "2023-02-02T10:05:37.15557Z",
     "shell.execute_reply": "2023-02-02T10:05:37.154685Z",
     "shell.execute_reply.started": "2023-02-02T10:05:36.948801Z"
    }
   },
   "outputs": [],
   "source": [
    "from imblearn.datasets import fetch_datasets\n",
    "\n",
    "dset_name = 'libras_move'\n",
    "dset = fetch_datasets()[dset_name]\n",
    "\n",
    "\n",
    "def _df(data):\n",
    "    df = pd.DataFrame(data)\n",
    "    for c in range(df.shape[1]):\n",
    "        mapping = {df.columns[c]: c}\n",
    "        df = df.rename(columns=mapping)\n",
    "    return df\n",
    "\n",
    "\n",
    "X, y = StandardScaler().fit_transform(dset.data), dset.target\n",
    "\n",
    "y[y == -1] = 0\n",
    "\n",
    "X_train, X_test, y_train, y_test = train_test_split(X, y, test_size=0.2, random_state=42, stratify=y)"
   ]
  },
  {
   "cell_type": "code",
   "execution_count": 4,
   "metadata": {},
   "outputs": [],
   "source": [
    "X_train_pos = X_train[y_train == 1]"
   ]
  },
  {
   "cell_type": "code",
   "execution_count": 5,
   "metadata": {},
   "outputs": [
    {
     "data": {
      "text/plain": [
       "(288, 90)"
      ]
     },
     "execution_count": 5,
     "metadata": {},
     "output_type": "execute_result"
    }
   ],
   "source": [
    "X_train.shape"
   ]
  },
  {
   "cell_type": "markdown",
   "metadata": {},
   "source": [
    "<a id='GAN'></a>\n",
    "#  <b><span style='color:#F1A424'>| 3. </span> Gan Model</b>\n",
    "\n",
    "<div style=\"color:white;display:fill;border-radius:15px;\n",
    "            font-size:150%;background-image: url(https://upload.wikimedia.org/wikipedia/commons/thumb/f/f3/Orion_Nebula_-_Hubble_2006_mosaic_18000.jpg/1200px-Orion_Nebula_-_Hubble_2006_mosaic_18000.jpg);\n",
    "            letter-spacing:1.0px\">\n",
    "    <p style=\"padding: 12px;color:white;\"><b><b><span style='color:#F1A424'> | 3.1. </span></b> GAN Class\n",
    " </b></p>\n",
    "</div>\n",
    "\n",
    "[Table of contents](#table)\n",
    "\n",
    "#### how to implement a  <b><span style='color:#F1A424'>GAN </span></b> using TensorFlow and generate fake tabular data from real data;\n",
    "\n",
    "\n",
    "* Define the generator model: The generator model is a neural network that takes a random noise vector as input and generates a sample of fake data. In this code, the generator model is defined using the Sequential class from TensorFlow and consists of two dense layers with ReLU activation.\n",
    "\n",
    "* Define the discriminator model: The discriminator model is another neural network that takes a sample of either real or generated data as input and outputs a scalar indicating the probability that the sample is real. In this code, the discriminator model is also defined using the Sequential class from TensorFlow and consists of two dense layers with ReLU activation, followed by a single dense layer with a sigmoid activation.\n",
    "\n",
    "* Define the combined model: The combined model is used to train the generator, and it consists of the generator and the discriminator connected together. The generator model is connected to the discriminator model by setting the discriminator to be non-trainable, which means that the gradients from the discriminator are not used to update its parameters during training.\n",
    "\n",
    "* Load the real data: The code loads the real data from a .csv file using Pandas and converts it to a Numpy array.\n",
    "\n",
    "* Train the GAN: The GAN is trained using a for-loop that trains the discriminator and the generator alternately. In each iteration, the discriminator is trained on a batch of real and generated data using discriminator.train_on_batch(X, labels), where X is a concatenation of real data and generated data, and labels is a vector indicating whether each sample is real or generated. The generator is then trained using the combined.train_on_batch(noise, np.ones(batch_size)) method, where noise is a random noise vector, and np.ones(batch_size) is a vector of ones with the same length as the batch size.\n",
    "\n",
    "* Generate fake samples: After the GAN has been trained, the code generates fake samples by feeding random noise into the generator model using generator.predict(noise).\n",
    "\n",
    "https://samanemami.medium.com/\n"
   ]
  },
  {
   "cell_type": "code",
   "execution_count": 6,
   "metadata": {
    "execution": {
     "iopub.execute_input": "2023-02-02T10:05:37.157997Z",
     "iopub.status.busy": "2023-02-02T10:05:37.1574Z",
     "iopub.status.idle": "2023-02-02T10:05:37.174941Z",
     "shell.execute_reply": "2023-02-02T10:05:37.173746Z",
     "shell.execute_reply.started": "2023-02-02T10:05:37.157944Z"
    }
   },
   "outputs": [],
   "source": [
    "# https://samanemami.github.io/\n",
    "import os\n",
    "import logging\n",
    "import numpy as np\n",
    "import pandas as pd\n",
    "import tensorflow as tf\n",
    "\n",
    "tf.get_logger().setLevel(logging.ERROR)\n",
    "\n",
    "\n",
    "class Gan():\n",
    "\n",
    "    def __init__(self, data):\n",
    "\n",
    "\n",
    "        self.data = data\n",
    "        self.n_epochs = 200\n",
    "\n",
    "    # Genereta random noise in a latent space\n",
    "    def _noise(self):\n",
    "        noise = np.random.normal(0, 1, self.data.shape)\n",
    "        return noise\n",
    "\n",
    "    def _generator(self):\n",
    "        model = tf.keras.Sequential(name=\"Generator_model\")\n",
    "        model.add(tf.keras.layers.Dense(15, activation='relu',\n",
    "                                        kernel_initializer='he_uniform',\n",
    "                                        input_dim=self.data.shape[1]))\n",
    "        model.add(tf.keras.layers.Dense(30, activation='relu'))\n",
    "        model.add(tf.keras.layers.Dense(\n",
    "            self.data.shape[1], activation='linear'))\n",
    "        return model\n",
    "\n",
    "    def _discriminator(self):\n",
    "        model = tf.keras.Sequential(name=\"Discriminator_model\")\n",
    "        model.add(tf.keras.layers.Dense(25, activation='relu',\n",
    "                                        kernel_initializer='he_uniform',\n",
    "                                        input_dim=self.data.shape[1]))\n",
    "        model.add(tf.keras.layers.Dense(50, activation='relu'))\n",
    "        # sigmoid => real or fake\n",
    "        model.add(tf.keras.layers.Dense(1, activation='sigmoid'))\n",
    "        model.compile(loss='binary_crossentropy',\n",
    "                      optimizer='adam',\n",
    "                      metrics=['accuracy'])\n",
    "\n",
    "        return model\n",
    "\n",
    "    # define the combined generator and discriminator model,\n",
    "    # for updating the generator\n",
    "    def _GAN(self, generator, discriminator):\n",
    "        discriminator.trainable = False\n",
    "        generator.trainable = True\n",
    "        model = tf.keras.Sequential(name=\"GAN\")\n",
    "        model.add(generator)\n",
    "        model.add(discriminator)\n",
    "        model.compile(loss='binary_crossentropy', optimizer='adam')\n",
    "        return model\n",
    "\n",
    "    # train the generator and discriminator\n",
    "    def train(self, generator, discriminator, gan):\n",
    "\n",
    "        # determine half the size of one batch, for updating the  discriminator\n",
    "        # manually enumerate epochs\n",
    "        for epoch in range(self.n_epochs):\n",
    "            \n",
    "            # Train the discriminator\n",
    "            generated_data = generator.predict(self._noise())\n",
    "            labels = np.concatenate([np.ones(self.data.shape[0]), np.zeros(self.data.shape[0])])\n",
    "            X = np.concatenate([self.data, generated_data])\n",
    "            discriminator.trainable = True\n",
    "            d_loss , _ = discriminator.train_on_batch(X, labels)\n",
    "\n",
    "            # Train the generator\n",
    "            noise = self._noise()\n",
    "            g_loss = gan.train_on_batch(noise, np.ones(self.data.shape[0]))\n",
    "\n",
    "\n",
    "            print('>%d, d1=%.3f, d2=%.3f' %(epoch+1, d_loss, g_loss))\n",
    "\n",
    "        return generator\n"
   ]
  },
  {
   "cell_type": "markdown",
   "metadata": {},
   "source": [
    "<div style=\"color:white;display:fill;border-radius:15px;\n",
    "            font-size:150%;background-image: url(https://upload.wikimedia.org/wikipedia/commons/thumb/f/f3/Orion_Nebula_-_Hubble_2006_mosaic_18000.jpg/1200px-Orion_Nebula_-_Hubble_2006_mosaic_18000.jpg);\n",
    "            letter-spacing:1.0px\">\n",
    "    <p style=\"padding: 12px;color:white;\"><b><b><span style='color:#F1A424'> | 3.2. </span></b> Generating synthetic data\n",
    " </b></p>\n",
    "</div>"
   ]
  },
  {
   "cell_type": "code",
   "execution_count": 7,
   "metadata": {
    "_kg_hide-output": true,
    "execution": {
     "iopub.execute_input": "2023-02-02T10:05:37.177585Z",
     "iopub.status.busy": "2023-02-02T10:05:37.176615Z"
    }
   },
   "outputs": [
    {
     "name": "stderr",
     "output_type": "stream",
     "text": [
      "2023-08-04 13:55:01.996880: W tensorflow/stream_executor/platform/default/dso_loader.cc:64] Could not load dynamic library 'libcuda.so.1'; dlerror: libcuda.so.1: cannot open shared object file: No such file or directory\n",
      "2023-08-04 13:55:01.996919: W tensorflow/stream_executor/cuda/cuda_driver.cc:269] failed call to cuInit: UNKNOWN ERROR (303)\n",
      "2023-08-04 13:55:01.996948: I tensorflow/stream_executor/cuda/cuda_diagnostics.cc:156] kernel driver does not appear to be running on this host (a-Modern-15-A5M): /proc/driver/nvidia/version does not exist\n",
      "2023-08-04 13:55:01.997362: I tensorflow/core/platform/cpu_feature_guard.cc:151] This TensorFlow binary is optimized with oneAPI Deep Neural Network Library (oneDNN) to use the following CPU instructions in performance-critical operations:  AVX2 FMA\n",
      "To enable them in other operations, rebuild TensorFlow with the appropriate compiler flags.\n"
     ]
    },
    {
     "name": "stdout",
     "output_type": "stream",
     "text": [
      ">1, d1=0.811, d2=0.754\n",
      ">2, d1=0.776, d2=0.718\n",
      ">3, d1=0.748, d2=0.715\n",
      ">4, d1=0.709, d2=0.692\n",
      ">5, d1=0.696, d2=0.676\n",
      ">6, d1=0.665, d2=0.651\n",
      ">7, d1=0.654, d2=0.643\n",
      ">8, d1=0.643, d2=0.616\n",
      ">9, d1=0.630, d2=0.639\n",
      ">10, d1=0.628, d2=0.633\n",
      ">11, d1=0.619, d2=0.624\n",
      ">12, d1=0.595, d2=0.595\n",
      ">13, d1=0.597, d2=0.604\n",
      ">14, d1=0.610, d2=0.591\n",
      ">15, d1=0.590, d2=0.559\n",
      ">16, d1=0.561, d2=0.530\n",
      ">17, d1=0.597, d2=0.555\n",
      ">18, d1=0.598, d2=0.555\n",
      ">19, d1=0.582, d2=0.552\n",
      ">20, d1=0.619, d2=0.558\n",
      ">21, d1=0.623, d2=0.499\n",
      ">22, d1=0.580, d2=0.545\n",
      ">23, d1=0.566, d2=0.562\n",
      ">24, d1=0.583, d2=0.535\n",
      ">25, d1=0.595, d2=0.561\n",
      ">26, d1=0.566, d2=0.562\n",
      ">27, d1=0.566, d2=0.522\n",
      ">28, d1=0.566, d2=0.516\n",
      ">29, d1=0.544, d2=0.577\n",
      ">30, d1=0.558, d2=0.586\n",
      ">31, d1=0.522, d2=0.534\n",
      ">32, d1=0.507, d2=0.593\n",
      ">33, d1=0.528, d2=0.592\n",
      ">34, d1=0.513, d2=0.641\n",
      ">35, d1=0.530, d2=0.583\n",
      ">36, d1=0.503, d2=0.624\n",
      ">37, d1=0.495, d2=0.648\n",
      ">38, d1=0.461, d2=0.696\n",
      ">39, d1=0.490, d2=0.658\n",
      ">40, d1=0.447, d2=0.701\n",
      ">41, d1=0.426, d2=0.725\n",
      ">42, d1=0.435, d2=0.722\n",
      ">43, d1=0.450, d2=0.792\n",
      ">44, d1=0.407, d2=0.745\n",
      ">45, d1=0.395, d2=0.828\n",
      ">46, d1=0.409, d2=0.824\n",
      ">47, d1=0.386, d2=0.831\n",
      ">48, d1=0.383, d2=0.873\n",
      ">49, d1=0.365, d2=0.950\n",
      ">50, d1=0.364, d2=0.968\n",
      ">51, d1=0.356, d2=0.990\n",
      ">52, d1=0.344, d2=0.955\n",
      ">53, d1=0.353, d2=0.971\n",
      ">54, d1=0.339, d2=0.859\n",
      ">55, d1=0.369, d2=0.915\n",
      ">56, d1=0.345, d2=0.991\n",
      ">57, d1=0.340, d2=0.994\n",
      ">58, d1=0.358, d2=0.902\n",
      ">59, d1=0.369, d2=0.927\n",
      ">60, d1=0.361, d2=0.857\n",
      ">61, d1=0.351, d2=0.914\n",
      ">62, d1=0.354, d2=0.863\n",
      ">63, d1=0.357, d2=0.917\n",
      ">64, d1=0.366, d2=0.905\n",
      ">65, d1=0.355, d2=0.887\n",
      ">66, d1=0.386, d2=0.903\n",
      ">67, d1=0.373, d2=0.892\n",
      ">68, d1=0.386, d2=0.844\n",
      ">69, d1=0.419, d2=0.850\n",
      ">70, d1=0.420, d2=0.916\n",
      ">71, d1=0.390, d2=0.809\n",
      ">72, d1=0.391, d2=0.881\n",
      ">73, d1=0.410, d2=0.939\n",
      ">74, d1=0.394, d2=0.909\n",
      ">75, d1=0.431, d2=0.968\n",
      ">76, d1=0.431, d2=0.884\n",
      ">77, d1=0.404, d2=0.967\n",
      ">78, d1=0.385, d2=1.016\n",
      ">79, d1=0.422, d2=0.979\n",
      ">80, d1=0.422, d2=1.039\n",
      ">81, d1=0.408, d2=1.054\n",
      ">82, d1=0.403, d2=1.148\n",
      ">83, d1=0.411, d2=1.113\n",
      ">84, d1=0.408, d2=1.103\n",
      ">85, d1=0.400, d2=1.097\n",
      ">86, d1=0.411, d2=1.106\n",
      ">87, d1=0.387, d2=1.174\n",
      ">88, d1=0.374, d2=1.152\n",
      ">89, d1=0.420, d2=1.073\n",
      ">90, d1=0.392, d2=1.104\n",
      ">91, d1=0.385, d2=1.087\n",
      ">92, d1=0.395, d2=1.148\n",
      ">93, d1=0.407, d2=1.118\n",
      ">94, d1=0.409, d2=1.230\n",
      ">95, d1=0.401, d2=1.202\n",
      ">96, d1=0.368, d2=1.187\n",
      ">97, d1=0.387, d2=1.065\n",
      ">98, d1=0.378, d2=1.102\n",
      ">99, d1=0.372, d2=1.122\n",
      ">100, d1=0.380, d2=1.141\n",
      ">101, d1=0.359, d2=1.118\n",
      ">102, d1=0.368, d2=1.138\n",
      ">103, d1=0.351, d2=1.057\n",
      ">104, d1=0.352, d2=1.243\n",
      ">105, d1=0.361, d2=1.254\n",
      ">106, d1=0.344, d2=1.157\n",
      ">107, d1=0.327, d2=1.087\n",
      ">108, d1=0.354, d2=1.288\n",
      ">109, d1=0.340, d2=1.278\n",
      ">110, d1=0.325, d2=1.211\n",
      ">111, d1=0.329, d2=1.238\n",
      ">112, d1=0.350, d2=1.247\n",
      ">113, d1=0.356, d2=1.145\n",
      ">114, d1=0.335, d2=1.209\n",
      ">115, d1=0.362, d2=1.272\n",
      ">116, d1=0.334, d2=1.206\n",
      ">117, d1=0.334, d2=1.241\n",
      ">118, d1=0.336, d2=1.161\n",
      ">119, d1=0.306, d2=1.237\n",
      ">120, d1=0.331, d2=1.171\n",
      ">121, d1=0.328, d2=1.309\n",
      ">122, d1=0.324, d2=1.257\n",
      ">123, d1=0.331, d2=1.159\n",
      ">124, d1=0.331, d2=1.186\n",
      ">125, d1=0.326, d2=1.234\n",
      ">126, d1=0.326, d2=1.545\n",
      ">127, d1=0.292, d2=1.350\n",
      ">128, d1=0.289, d2=1.434\n",
      ">129, d1=0.274, d2=1.641\n",
      ">130, d1=0.281, d2=1.594\n",
      ">131, d1=0.270, d2=1.485\n",
      ">132, d1=0.262, d2=1.587\n",
      ">133, d1=0.265, d2=1.570\n",
      ">134, d1=0.245, d2=1.727\n",
      ">135, d1=0.254, d2=1.833\n",
      ">136, d1=0.241, d2=1.696\n",
      ">137, d1=0.244, d2=1.544\n",
      ">138, d1=0.235, d2=1.818\n",
      ">139, d1=0.247, d2=1.852\n",
      ">140, d1=0.250, d2=1.736\n",
      ">141, d1=0.235, d2=1.770\n",
      ">142, d1=0.220, d2=1.770\n",
      ">143, d1=0.225, d2=1.671\n",
      ">144, d1=0.233, d2=1.825\n",
      ">145, d1=0.200, d2=1.813\n",
      ">146, d1=0.216, d2=1.640\n",
      ">147, d1=0.210, d2=1.688\n",
      ">148, d1=0.226, d2=1.945\n",
      ">149, d1=0.182, d2=1.839\n",
      ">150, d1=0.213, d2=1.771\n",
      ">151, d1=0.200, d2=1.923\n",
      ">152, d1=0.216, d2=1.907\n",
      ">153, d1=0.191, d2=1.779\n",
      ">154, d1=0.185, d2=1.943\n",
      ">155, d1=0.194, d2=1.787\n",
      ">156, d1=0.174, d2=1.706\n",
      ">157, d1=0.182, d2=1.729\n",
      ">158, d1=0.182, d2=1.847\n",
      ">159, d1=0.197, d2=1.692\n",
      ">160, d1=0.197, d2=2.065\n",
      ">161, d1=0.237, d2=1.680\n",
      ">162, d1=0.227, d2=1.939\n",
      ">163, d1=0.203, d2=1.854\n",
      ">164, d1=0.196, d2=2.004\n",
      ">165, d1=0.199, d2=1.958\n",
      ">166, d1=0.223, d2=1.745\n",
      ">167, d1=0.219, d2=1.695\n",
      ">168, d1=0.253, d2=2.039\n",
      ">169, d1=0.219, d2=1.737\n",
      ">170, d1=0.204, d2=2.013\n",
      ">171, d1=0.216, d2=1.557\n",
      ">172, d1=0.243, d2=1.940\n",
      ">173, d1=0.291, d2=1.870\n",
      ">174, d1=0.213, d2=1.930\n",
      ">175, d1=0.260, d2=1.675\n",
      ">176, d1=0.221, d2=1.926\n",
      ">177, d1=0.234, d2=1.811\n",
      ">178, d1=0.278, d2=1.648\n",
      ">179, d1=0.229, d2=1.900\n",
      ">180, d1=0.269, d2=1.661\n",
      ">181, d1=0.252, d2=1.681\n",
      ">182, d1=0.224, d2=1.786\n",
      ">183, d1=0.204, d2=2.041\n",
      ">184, d1=0.263, d2=2.091\n",
      ">185, d1=0.267, d2=1.804\n",
      ">186, d1=0.247, d2=1.499\n",
      ">187, d1=0.295, d2=1.945\n",
      ">188, d1=0.237, d2=2.037\n",
      ">189, d1=0.321, d2=1.466\n",
      ">190, d1=0.273, d2=1.592\n",
      ">191, d1=0.383, d2=1.699\n",
      ">192, d1=0.388, d2=1.646\n",
      ">193, d1=0.345, d2=1.554\n",
      ">194, d1=0.347, d2=1.436\n",
      ">195, d1=0.387, d2=1.821\n",
      ">196, d1=0.364, d2=1.689\n",
      ">197, d1=0.393, d2=1.406\n",
      ">198, d1=0.410, d2=1.926\n",
      ">199, d1=0.436, d2=1.798\n",
      ">200, d1=0.359, d2=1.660\n"
     ]
    }
   ],
   "source": [
    "model = Gan(data=X_train_pos)\n",
    "generator = model._generator()\n",
    "descriminator = model._discriminator()\n",
    "gan_model = model._GAN(generator=generator, discriminator=descriminator)\n",
    "trained_model = model.train(\n",
    "    generator=generator, discriminator=descriminator, gan=gan_model)"
   ]
  },
  {
   "cell_type": "code",
   "execution_count": 8,
   "metadata": {},
   "outputs": [],
   "source": [
    "# Samples to generate\n",
    "sampling_strategy = 1\n",
    "num_examples = int((Counter(y_train)[0] - Counter(y_train)[1]) * sampling_strategy)"
   ]
  },
  {
   "cell_type": "code",
   "execution_count": 9,
   "metadata": {
    "papermill": {
     "duration": 0.031436,
     "end_time": "2022-11-29T18:30:54.314054",
     "exception": false,
     "start_time": "2022-11-29T18:30:54.282618",
     "status": "completed"
    },
    "tags": []
   },
   "outputs": [],
   "source": [
    "noise = np.random.normal(0, 1, (X_train_pos.shape[0] + num_examples, X_train_pos.shape[1]))\n",
    "new_data = _df(data=trained_model.predict(noise))"
   ]
  },
  {
   "cell_type": "code",
   "execution_count": 10,
   "metadata": {},
   "outputs": [
    {
     "data": {
      "text/plain": [
       "(269, 90)"
      ]
     },
     "execution_count": 10,
     "metadata": {},
     "output_type": "execute_result"
    }
   ],
   "source": [
    "new_data.shape"
   ]
  },
  {
   "cell_type": "markdown",
   "metadata": {},
   "source": [
    "<a id='Quality'></a>\n",
    "\n",
    "# <b><span style='color:#F1A424'>| 4.</span> Quality assessment </b>\n",
    "\n",
    "[Table of contents](#table)\n",
    "\n",
    "<div style=\"color:white;display:fill;border-radius:15px;\n",
    "            font-size:150%;background-image: url(https://upload.wikimedia.org/wikipedia/commons/thumb/f/f3/Orion_Nebula_-_Hubble_2006_mosaic_18000.jpg/1200px-Orion_Nebula_-_Hubble_2006_mosaic_18000.jpg);\n",
    "            letter-spacing:1.0px\">\n",
    "    <p style=\"padding: 12px;color:white;\"><b><b><span style='color:#F1A424'> | 4.1. </span></b> Check the quality of the generated synthetic data\n",
    " </b></p>\n",
    "</div>\n",
    "\n",
    "[Table of contents](#table)\n",
    "\n",
    "Evaluating how well the GAN is able to generate new data that is similar to the data it was trained on. The quality can be evaluated based on various metrics, such as the visual similarity, diversity, and robustness of the generated data. The goal is to determine if the GAN is able to generate high-quality synthetic data.\n",
    "\n",
    "https://samanemami.github.io/"
   ]
  },
  {
   "cell_type": "code",
   "execution_count": 11,
   "metadata": {},
   "outputs": [
    {
     "data": {
      "text/plain": [
       "Text(0.5, 1.0, 'synthetic Data')"
      ]
     },
     "execution_count": 11,
     "metadata": {},
     "output_type": "execute_result"
    },
    {
     "data": {
      "image/png": "[encoded data removed]",
      "text/plain": [
       "<Figure size 1440x432 with 4 Axes>"
      ]
     },
     "metadata": {
      "needs_background": "light"
     },
     "output_type": "display_data"
    }
   ],
   "source": [
    "fig, ax = plt.subplots(1, 2, figsize=(20, 6))\n",
    "sns.heatmap(pd.DataFrame(X_train_pos).corr(), annot=False, ax=ax[0], cmap=\"Blues\")\n",
    "sns.heatmap(new_data.corr(), annot=False, ax=ax[1], cmap=\"Blues\")\n",
    "ax[0].set_title(\"Original Data\")\n",
    "ax[1].set_title(\"synthetic Data\")"
   ]
  },
  {
   "cell_type": "code",
   "execution_count": 12,
   "metadata": {},
   "outputs": [
    {
     "data": {
      "text/plain": [
       "Text(0.5, 1.0, 'synthetic Data')"
      ]
     },
     "execution_count": 12,
     "metadata": {},
     "output_type": "execute_result"
    },
    {
     "data": {
      "image/png": "[encoded data removed]",
      "text/plain": [
       "<Figure size 1440x432 with 2 Axes>"
      ]
     },
     "metadata": {
      "needs_background": "light"
     },
     "output_type": "display_data"
    }
   ],
   "source": [
    "fig, ax = plt.subplots(1, 2, figsize=(20, 6))\n",
    "ax[0].scatter(pd.DataFrame(X_train_pos).iloc[:, 0], pd.DataFrame(X_train_pos).iloc[:, 1])\n",
    "ax[1].scatter(new_data.iloc[:, 0], new_data.iloc[:, 1])\n",
    "ax[0].set_title(\"Original Data\")\n",
    "ax[1].set_title(\"synthetic Data\")"
   ]
  },
  {
   "cell_type": "markdown",
   "metadata": {
    "papermill": {
     "duration": 0.014412,
     "end_time": "2022-11-29T18:31:49.241211",
     "exception": false,
     "start_time": "2022-11-29T18:31:49.226799",
     "status": "completed"
    },
    "tags": []
   },
   "source": [
    "<a id='Conclusion'></a>\n",
    "\n",
    "#  <b><span style='color:#F1A424'>| </span> Conclusion </b>\n",
    "\n",
    "[Table of contents](#table)\n",
    "\n",
    "Generative Adversarial Networks (GANs) are a powerful deep learning architecture that can be used to generate new data samples that are similar to a given set of real data samples. GANs consist of two neural networks: a generator and a discriminator, that are trained in an adversarial manner to produce realistic data. The code I provided is a simple example of how to implement a GAN in TensorFlow and generate fake tabular data from real data."
   ]
  },
  {
   "cell_type": "code",
   "execution_count": 13,
   "metadata": {},
   "outputs": [],
   "source": [
    "# RUS\n",
    "\n",
    "def RUS(X_res, y_res, frac=1, minority_class_id=1, random_state=42):\n",
    "    X_res = pd.DataFrame(X_res)\n",
    "    X_res['Class'] = y_res  \n",
    "    \n",
    "    X_neg = X_res[y_res != minority_class_id].sample(frac=frac, random_state=random_state)\n",
    "    X_pos = X_res[y_res == minority_class_id].sample(frac=1, random_state=random_state)\n",
    "    \n",
    "    X_rus = pd.concat([X_neg, X_pos], ignore_index=True)\n",
    "\n",
    "    X_eq = X_rus.drop('Class', axis=1)\n",
    "    y_eq = X_rus['Class']\n",
    "\n",
    "    return X_eq, y_eq"
   ]
  },
  {
   "cell_type": "code",
   "execution_count": 14,
   "metadata": {},
   "outputs": [],
   "source": [
    "def train_val(X, y, Xt, yt, random_state=42):\n",
    "    classifiers = {\n",
    "        \"CatBoostClassifier\": CatBoostClassifier(verbose=False, random_seed=random_state),\n",
    "        \"LGBMClassifier\": LGBMClassifier(random_state=random_state),\n",
    "        \"XGBClassifier\": XGBClassifier(random_state=random_state),\n",
    "        \"BaggingClassifier\": BaggingClassifier(random_state=random_state),\n",
    "        \"RandomForestClassifier\": RandomForestClassifier(random_state=random_state),\n",
    "    }\n",
    "    scores = []\n",
    "    predictions = []\n",
    "    for key, classifier in classifiers.items():\n",
    "        print('_' * 50)\n",
    "        name = key\n",
    "        classifier.fit(X, y)\n",
    "        print(\"Classifier: \", name)\n",
    "        y_pred = classifier.predict(Xt)\n",
    "        cm = confusion_matrix(yt, y_pred)\n",
    "        print(cm)\n",
    "        print('')\n",
    "        predictions.append(y_pred)\n",
    "        tn = cm[0,0]\n",
    "        fp = cm[0,1]\n",
    "        fn = cm[1,0]\n",
    "        tp = cm[1,1]\n",
    "        tnr = tn / (tn + fp)\n",
    "        tpr = tp / (tp + fn)\n",
    "        scores.append(tnr * tpr)\n",
    "        print('TNR:', round(tnr, 5))\n",
    "        print('TPR:', round(tpr, 5))\n",
    "        print('TNRxTPR:', round(tnr * tpr, 5))\n",
    "        print('G-mean:', round(np.sqrt(tnr * tpr), 5))\n",
    "\n",
    "    print('_' * 50)\n",
    "    print('Ensemble predictions (majority voting):')\n",
    "    predictions = np.sum(predictions, axis=0)\n",
    "    predictions[predictions < 3] = 0\n",
    "    predictions[predictions >= 3] = 1\n",
    "\n",
    "    cm = confusion_matrix(yt, predictions)\n",
    "    print(cm)\n",
    "    tn = cm[0,0]\n",
    "    fp = cm[0,1]\n",
    "    fn = cm[1,0]\n",
    "    tp = cm[1,1]\n",
    "    tnr = tn / (tn + fp)\n",
    "    tpr = tp / (tp + fn)\n",
    "    print('')\n",
    "    print('TNR:', round(tnr, 5))\n",
    "    print('TPR:', round(tpr, 5))\n",
    "    print('TNRxTPR:', round(tnr * tpr, 5))\n",
    "    print('G-mean:', round(np.sqrt(tnr * tpr), 5))\n",
    "    "
   ]
  },
  {
   "cell_type": "code",
   "execution_count": 15,
   "metadata": {},
   "outputs": [],
   "source": [
    "X_res = np.concatenate((X_train, new_data))\n",
    "y_res = np.concatenate((y_train, np.ones(new_data.shape[0])))"
   ]
  },
  {
   "cell_type": "code",
   "execution_count": 20,
   "metadata": {},
   "outputs": [
    {
     "name": "stdout",
     "output_type": "stream",
     "text": [
      "Resampled dataset shape Counter({1.0: 288, 0.0: 161})\n",
      "Ratio->  1 : 1.8\n"
     ]
    }
   ],
   "source": [
    "# RUS\n",
    "\n",
    "X_eq, y_eq = RUS(X_res, y_res, frac=.6)\n",
    "\n",
    "print('Resampled dataset shape %s' % Counter(y_eq))\n",
    "print('Ratio->  1 :', round(Counter(y_eq)[1]/Counter(y_eq)[0], 1))"
   ]
  },
  {
   "cell_type": "code",
   "execution_count": 21,
   "metadata": {},
   "outputs": [
    {
     "name": "stdout",
     "output_type": "stream",
     "text": [
      "__________________________________________________\n",
      "Classifier:  CatBoostClassifier\n",
      "[[66  1]\n",
      " [ 1  4]]\n",
      "\n",
      "TNR: 0.98507\n",
      "TPR: 0.8\n",
      "TNRxTPR: 0.78806\n",
      "G-mean: 0.88773\n",
      "__________________________________________________\n",
      "Classifier:  LGBMClassifier\n",
      "[[67  0]\n",
      " [ 1  4]]\n",
      "\n",
      "TNR: 1.0\n",
      "TPR: 0.8\n",
      "TNRxTPR: 0.8\n",
      "G-mean: 0.89443\n",
      "__________________________________________________\n",
      "Classifier:  XGBClassifier\n",
      "[[66  1]\n",
      " [ 1  4]]\n",
      "\n",
      "TNR: 0.98507\n",
      "TPR: 0.8\n",
      "TNRxTPR: 0.78806\n",
      "G-mean: 0.88773\n",
      "__________________________________________________\n",
      "Classifier:  BaggingClassifier\n",
      "[[66  1]\n",
      " [ 0  5]]\n",
      "\n",
      "TNR: 0.98507\n",
      "TPR: 1.0\n",
      "TNRxTPR: 0.98507\n",
      "G-mean: 0.99251\n",
      "__________________________________________________\n",
      "Classifier:  RandomForestClassifier\n",
      "[[67  0]\n",
      " [ 1  4]]\n",
      "\n",
      "TNR: 1.0\n",
      "TPR: 0.8\n",
      "TNRxTPR: 0.8\n",
      "G-mean: 0.89443\n",
      "__________________________________________________\n",
      "Ensemble predictions (majority voting):\n",
      "[[67  0]\n",
      " [ 1  4]]\n",
      "\n",
      "TNR: 1.0\n",
      "TPR: 0.8\n",
      "TNRxTPR: 0.8\n",
      "G-mean: 0.89443\n"
     ]
    }
   ],
   "source": [
    "train_val(X_eq, y_eq, X_test, y_test)"
   ]
  },
  {
   "cell_type": "code",
   "execution_count": null,
   "metadata": {},
   "outputs": [],
   "source": []
  }
 ],
 "metadata": {
  "kernelspec": {
   "display_name": "Python 3 (ipykernel)",
   "language": "python",
   "name": "python3"
  },
  "language_info": {
   "codemirror_mode": {
    "name": "ipython",
    "version": 3
   },
   "file_extension": ".py",
   "mimetype": "text/x-python",
   "name": "python",
   "nbconvert_exporter": "python",
   "pygments_lexer": "ipython3",
   "version": "3.9.7"
  }
 },
 "nbformat": 4,
 "nbformat_minor": 4
}
