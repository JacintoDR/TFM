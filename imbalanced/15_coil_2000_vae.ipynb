{
 "cells": [
  {
   "cell_type": "markdown",
   "metadata": {
    "id": "qLO_siFYEPSg"
   },
   "source": [
    "# Dealing with imbalanced datasets, combining oversampling with VAE and undersampling to improve model recognition over all classes.  "
   ]
  },
  {
   "cell_type": "code",
   "execution_count": 1,
   "metadata": {
    "colab": {
     "base_uri": "https://localhost:8080/"
    },
    "executionInfo": {
     "elapsed": 18451,
     "status": "ok",
     "timestamp": 1689021920436,
     "user": {
      "displayName": "JACINTO DOMINGUEZ RULL",
      "userId": "04779779024889038949"
     },
     "user_tz": -120
    },
    "id": "4_CcHvHZUwyO",
    "outputId": "0c3718ec-8830-4295-fc9b-04e4090a05a2"
   },
   "outputs": [
    {
     "name": "stdout",
     "output_type": "stream",
     "text": [
      "Collecting catboost\n",
      "  Downloading catboost-1.2-cp310-cp310-manylinux2014_x86_64.whl (98.6 MB)\n",
      "\u001b[2K     \u001b[90m━━━━━━━━━━━━━━━━━━━━━━━━━━━━━━━━━━━━━━━━\u001b[0m \u001b[32m98.6/98.6 MB\u001b[0m \u001b[31m8.5 MB/s\u001b[0m eta \u001b[36m0:00:00\u001b[0m\n",
      "\u001b[?25hRequirement already satisfied: graphviz in /usr/local/lib/python3.10/dist-packages (from catboost) (0.20.1)\n",
      "Requirement already satisfied: matplotlib in /usr/local/lib/python3.10/dist-packages (from catboost) (3.7.1)\n",
      "Requirement already satisfied: numpy>=1.16.0 in /usr/local/lib/python3.10/dist-packages (from catboost) (1.22.4)\n",
      "Requirement already satisfied: pandas>=0.24 in /usr/local/lib/python3.10/dist-packages (from catboost) (1.5.3)\n",
      "Requirement already satisfied: scipy in /usr/local/lib/python3.10/dist-packages (from catboost) (1.10.1)\n",
      "Requirement already satisfied: plotly in /usr/local/lib/python3.10/dist-packages (from catboost) (5.13.1)\n",
      "Requirement already satisfied: six in /usr/local/lib/python3.10/dist-packages (from catboost) (1.16.0)\n",
      "Requirement already satisfied: python-dateutil>=2.8.1 in /usr/local/lib/python3.10/dist-packages (from pandas>=0.24->catboost) (2.8.2)\n",
      "Requirement already satisfied: pytz>=2020.1 in /usr/local/lib/python3.10/dist-packages (from pandas>=0.24->catboost) (2022.7.1)\n",
      "Requirement already satisfied: contourpy>=1.0.1 in /usr/local/lib/python3.10/dist-packages (from matplotlib->catboost) (1.1.0)\n",
      "Requirement already satisfied: cycler>=0.10 in /usr/local/lib/python3.10/dist-packages (from matplotlib->catboost) (0.11.0)\n",
      "Requirement already satisfied: fonttools>=4.22.0 in /usr/local/lib/python3.10/dist-packages (from matplotlib->catboost) (4.40.0)\n",
      "Requirement already satisfied: kiwisolver>=1.0.1 in /usr/local/lib/python3.10/dist-packages (from matplotlib->catboost) (1.4.4)\n",
      "Requirement already satisfied: packaging>=20.0 in /usr/local/lib/python3.10/dist-packages (from matplotlib->catboost) (23.1)\n",
      "Requirement already satisfied: pillow>=6.2.0 in /usr/local/lib/python3.10/dist-packages (from matplotlib->catboost) (8.4.0)\n",
      "Requirement already satisfied: pyparsing>=2.3.1 in /usr/local/lib/python3.10/dist-packages (from matplotlib->catboost) (3.1.0)\n",
      "Requirement already satisfied: tenacity>=6.2.0 in /usr/local/lib/python3.10/dist-packages (from plotly->catboost) (8.2.2)\n",
      "Installing collected packages: catboost\n",
      "Successfully installed catboost-1.2\n"
     ]
    }
   ],
   "source": [
    "!pip install catboost"
   ]
  },
  {
   "cell_type": "markdown",
   "metadata": {
    "id": "IOzC3QPArH_F"
   },
   "source": [
    "Import packages, classifiers and etc."
   ]
  },
  {
   "cell_type": "code",
   "execution_count": 2,
   "metadata": {
    "_cell_guid": "b1076dfc-b9ad-4769-8c92-a6c4dae69d19",
    "_uuid": "8f2839f25d086af736a60e9eeb907d3b93b6e0e5",
    "executionInfo": {
     "elapsed": 6652,
     "status": "ok",
     "timestamp": 1689021928542,
     "user": {
      "displayName": "JACINTO DOMINGUEZ RULL",
      "userId": "04779779024889038949"
     },
     "user_tz": -120
    },
    "id": "GDNB_c5RrH_I"
   },
   "outputs": [],
   "source": [
    "import pandas as pd\n",
    "import numpy as np\n",
    "\n",
    "from sklearn.preprocessing import StandardScaler\n",
    "from sklearn.model_selection import train_test_split, cross_validate\n",
    "\n",
    "from catboost import CatBoostClassifier\n",
    "from lightgbm import LGBMClassifier\n",
    "from xgboost import XGBClassifier\n",
    "from sklearn.ensemble import BaggingClassifier, RandomForestClassifier\n",
    "\n",
    "from sklearn.metrics import confusion_matrix, make_scorer\n",
    "from imblearn.metrics import classification_report_imbalanced, geometric_mean_score\n",
    "from collections import Counter\n",
    "\n",
    "from imblearn.over_sampling import SMOTE, RandomOverSampler"
   ]
  },
  {
   "cell_type": "markdown",
   "metadata": {
    "id": "7qxBXk4fPiJx"
   },
   "source": [
    "Import VAEOversampler."
   ]
  },
  {
   "cell_type": "code",
   "execution_count": 3,
   "metadata": {
    "executionInfo": {
     "elapsed": 5960,
     "status": "ok",
     "timestamp": 1689021934497,
     "user": {
      "displayName": "JACINTO DOMINGUEZ RULL",
      "userId": "04779779024889038949"
     },
     "user_tz": -120
    },
    "id": "DqyRUyWlvryO"
   },
   "outputs": [],
   "source": [
    "from VAEOversampler import VAEOversampler"
   ]
  },
  {
   "cell_type": "markdown",
   "metadata": {
    "id": "8UEMO2hTPztj"
   },
   "source": [
    "## Loading data  \n",
    "You can load some dataset from Imbalanced Learn list (https://imbalanced-learn.org/stable/datasets/index.html) or use your own data.  \n"
   ]
  },
  {
   "cell_type": "code",
   "execution_count": 4,
   "metadata": {
    "executionInfo": {
     "elapsed": 109183,
     "status": "ok",
     "timestamp": 1689022043672,
     "user": {
      "displayName": "JACINTO DOMINGUEZ RULL",
      "userId": "04779779024889038949"
     },
     "user_tz": -120
    },
    "id": "Xnh_x70FwVCi"
   },
   "outputs": [],
   "source": [
    "from imblearn.datasets import fetch_datasets\n",
    "\n",
    "dset_name = 'coil_2000'\n",
    "dset = fetch_datasets()[dset_name]\n",
    "\n",
    "X, y = StandardScaler().fit_transform(dset.data), dset.target"
   ]
  },
  {
   "cell_type": "code",
   "execution_count": 5,
   "metadata": {
    "colab": {
     "base_uri": "https://localhost:8080/"
    },
    "executionInfo": {
     "elapsed": 17,
     "status": "ok",
     "timestamp": 1689022043673,
     "user": {
      "displayName": "JACINTO DOMINGUEZ RULL",
      "userId": "04779779024889038949"
     },
     "user_tz": -120
    },
    "id": "v_SUvgVSByCD",
    "outputId": "916ca483-d11a-495e-9734-2accdba759a0"
   },
   "outputs": [
    {
     "data": {
      "text/plain": [
       "array([[ 0.67713262, -0.26387007,  0.41303395, ..., -0.15048346,\n",
       "        -0.09121535, -0.11762048],\n",
       "       [ 0.98679246, -0.26387007, -0.86793209, ..., -0.15048346,\n",
       "        -0.09121535, -0.11762048],\n",
       "       [ 0.98679246, -0.26387007, -0.86793209, ..., -0.15048346,\n",
       "        -0.09121535, -0.11762048],\n",
       "       ...,\n",
       "       [ 0.9093775 , -0.26387007, -0.86793209, ..., -0.15048346,\n",
       "        10.70296685, -0.11762048],\n",
       "       [ 0.67713262, -0.26387007,  0.41303395, ..., -0.15048346,\n",
       "        -0.09121535, -0.11762048],\n",
       "       [-1.25824138, -0.26387007, -0.86793209, ..., -0.15048346,\n",
       "        -0.09121535, -0.11762048]])"
      ]
     },
     "execution_count": 5,
     "metadata": {},
     "output_type": "execute_result"
    }
   ],
   "source": [
    "X"
   ]
  },
  {
   "cell_type": "code",
   "execution_count": 6,
   "metadata": {
    "executionInfo": {
     "elapsed": 234,
     "status": "ok",
     "timestamp": 1689022052195,
     "user": {
      "displayName": "JACINTO DOMINGUEZ RULL",
      "userId": "04779779024889038949"
     },
     "user_tz": -120
    },
    "id": "Tb09lFMxPS2J"
   },
   "outputs": [],
   "source": [
    "y[y == -1] = 0"
   ]
  },
  {
   "cell_type": "markdown",
   "metadata": {
    "id": "hpLA_GmKSJwN"
   },
   "source": [
    "We split data into train and test partitions."
   ]
  },
  {
   "cell_type": "code",
   "execution_count": 7,
   "metadata": {
    "executionInfo": {
     "elapsed": 5,
     "status": "ok",
     "timestamp": 1689022052974,
     "user": {
      "displayName": "JACINTO DOMINGUEZ RULL",
      "userId": "04779779024889038949"
     },
     "user_tz": -120
    },
    "id": "ZS-Dd0R9GbBY"
   },
   "outputs": [],
   "source": [
    "X_train, X_test, y_train, y_test = train_test_split(X, y, test_size=0.2, random_state=42, stratify=y)"
   ]
  },
  {
   "cell_type": "markdown",
   "metadata": {
    "id": "Em7Um0N4rH_S"
   },
   "source": [
    "This is a simple function to undersample freely.  "
   ]
  },
  {
   "cell_type": "code",
   "execution_count": 8,
   "metadata": {
    "executionInfo": {
     "elapsed": 271,
     "status": "ok",
     "timestamp": 1689022054217,
     "user": {
      "displayName": "JACINTO DOMINGUEZ RULL",
      "userId": "04779779024889038949"
     },
     "user_tz": -120
    },
    "id": "1cdWcXE3Ofok"
   },
   "outputs": [],
   "source": [
    "# RUS\n",
    "\n",
    "def RUS(X_res, y_res, frac=1, minority_class_id=1, random_state=42):\n",
    "    X_res = pd.DataFrame(X_res)\n",
    "    X_res['Class'] = y_res\n",
    "\n",
    "    X_neg = X_res[y_res != minority_class_id].sample(frac=frac, random_state=random_state)\n",
    "    X_pos = X_res[y_res == minority_class_id].sample(frac=1, random_state=random_state)\n",
    "\n",
    "    X_rus = pd.concat([X_neg, X_pos], ignore_index=True)\n",
    "\n",
    "    X_eq = X_rus.drop('Class', axis=1)\n",
    "    y_eq = X_rus['Class']\n",
    "\n",
    "    return X_eq, y_eq"
   ]
  },
  {
   "cell_type": "code",
   "execution_count": 9,
   "metadata": {
    "executionInfo": {
     "elapsed": 4,
     "status": "ok",
     "timestamp": 1689022054840,
     "user": {
      "displayName": "JACINTO DOMINGUEZ RULL",
      "userId": "04779779024889038949"
     },
     "user_tz": -120
    },
    "id": "1Ep1nUMCES98"
   },
   "outputs": [],
   "source": [
    "def train_val(X, y, Xt, yt, random_state=42):\n",
    "    classifiers = {\n",
    "        \"CatBoostClassifier\": CatBoostClassifier(verbose=False, random_seed=random_state),\n",
    "        \"LGBMClassifier\": LGBMClassifier(random_state=random_state),\n",
    "        \"XGBClassifier\": XGBClassifier(random_state=random_state),\n",
    "        \"BaggingClassifier\": BaggingClassifier(random_state=random_state),\n",
    "        \"RandomForestClassifier\": RandomForestClassifier(random_state=random_state),\n",
    "    }\n",
    "    scores = []\n",
    "    predictions = []\n",
    "    for key, classifier in classifiers.items():\n",
    "        print('_' * 50)\n",
    "        name = key\n",
    "        classifier.fit(X, y)\n",
    "        print(\"Classifier: \", name)\n",
    "        y_pred = classifier.predict(Xt)\n",
    "        cm = confusion_matrix(yt, y_pred)\n",
    "        print(cm)\n",
    "        print('')\n",
    "        predictions.append(y_pred)\n",
    "        tn = cm[0,0]\n",
    "        fp = cm[0,1]\n",
    "        fn = cm[1,0]\n",
    "        tp = cm[1,1]\n",
    "        tnr = tn / (tn + fp)\n",
    "        tpr = tp / (tp + fn)\n",
    "        scores.append(tnr * tpr)\n",
    "        print('TNR:', round(tnr, 5))\n",
    "        print('TPR:', round(tpr, 5))\n",
    "        print('TNRxTPR:', round(tnr * tpr, 5))\n",
    "        print('G-mean:', round(np.sqrt(tnr * tpr), 5))\n",
    "\n",
    "    print('_' * 50)\n",
    "    print('Ensemble predictions (majority voting):')\n",
    "    predictions = np.sum(predictions, axis=0)\n",
    "    predictions[predictions < 3] = 0\n",
    "    predictions[predictions >= 3] = 1\n",
    "\n",
    "    cm = confusion_matrix(yt, predictions)\n",
    "    print(cm)\n",
    "    tn = cm[0,0]\n",
    "    fp = cm[0,1]\n",
    "    fn = cm[1,0]\n",
    "    tp = cm[1,1]\n",
    "    tnr = tn / (tn + fp)\n",
    "    tpr = tp / (tp + fn)\n",
    "    print('')\n",
    "    print('TNR:', round(tnr, 5))\n",
    "    print('TPR:', round(tpr, 5))\n",
    "    print('TNRxTPR:', round(tnr * tpr, 5))\n",
    "    print('G-mean:', round(np.sqrt(tnr * tpr), 5))\n"
   ]
  },
  {
   "cell_type": "markdown",
   "metadata": {
    "id": "A-n86Yaxbcji"
   },
   "source": [
    "## Without resampling (base line)\n",
    "Which is starting score?\n"
   ]
  },
  {
   "cell_type": "code",
   "execution_count": 10,
   "metadata": {
    "colab": {
     "base_uri": "https://localhost:8080/"
    },
    "executionInfo": {
     "elapsed": 7,
     "status": "ok",
     "timestamp": 1689022057008,
     "user": {
      "displayName": "JACINTO DOMINGUEZ RULL",
      "userId": "04779779024889038949"
     },
     "user_tz": -120
    },
    "id": "dW6YYJZ_bcjj",
    "outputId": "3a26edad-84aa-464f-ce90-9ef868f965c5"
   },
   "outputs": [
    {
     "name": "stdout",
     "output_type": "stream",
     "text": [
      "Original dataset shape Counter({0: 9236, 1: 586})\n",
      "Ratio-> 15.8 : 1\n"
     ]
    }
   ],
   "source": [
    "print('Original dataset shape %s' % Counter(y))\n",
    "print('Ratio->', round(Counter(y)[0]/Counter(y)[1], 1), ': 1')"
   ]
  },
  {
   "cell_type": "code",
   "execution_count": 11,
   "metadata": {
    "colab": {
     "base_uri": "https://localhost:8080/"
    },
    "executionInfo": {
     "elapsed": 12827,
     "status": "ok",
     "timestamp": 1689022071282,
     "user": {
      "displayName": "JACINTO DOMINGUEZ RULL",
      "userId": "04779779024889038949"
     },
     "user_tz": -120
    },
    "id": "bSSkbO1qbcjj",
    "outputId": "ee894d57-2129-4bb8-dbf0-32de3fc61aca"
   },
   "outputs": [
    {
     "name": "stdout",
     "output_type": "stream",
     "text": [
      "__________________________________________________\n",
      "Classifier:  CatBoostClassifier\n",
      "[[1842    6]\n",
      " [ 115    2]]\n",
      "\n",
      "TNR: 0.99675\n",
      "TPR: 0.01709\n",
      "TNRxTPR: 0.01704\n",
      "G-mean: 0.13053\n",
      "__________________________________________________\n",
      "Classifier:  LGBMClassifier\n",
      "[[1833   15]\n",
      " [ 112    5]]\n",
      "\n",
      "TNR: 0.99188\n",
      "TPR: 0.04274\n",
      "TNRxTPR: 0.04239\n",
      "G-mean: 0.20588\n",
      "__________________________________________________\n",
      "Classifier:  XGBClassifier\n",
      "[[1827   21]\n",
      " [ 110    7]]\n",
      "\n",
      "TNR: 0.98864\n",
      "TPR: 0.05983\n",
      "TNRxTPR: 0.05915\n",
      "G-mean: 0.24321\n",
      "__________________________________________________\n",
      "Classifier:  BaggingClassifier\n",
      "[[1799   49]\n",
      " [ 112    5]]\n",
      "\n",
      "TNR: 0.97348\n",
      "TPR: 0.04274\n",
      "TNRxTPR: 0.0416\n",
      "G-mean: 0.20397\n",
      "__________________________________________________\n",
      "Classifier:  RandomForestClassifier\n",
      "[[1813   35]\n",
      " [ 113    4]]\n",
      "\n",
      "TNR: 0.98106\n",
      "TPR: 0.03419\n",
      "TNRxTPR: 0.03354\n",
      "G-mean: 0.18314\n",
      "__________________________________________________\n",
      "Ensemble predictions (majority voting):\n",
      "[[1833   15]\n",
      " [ 113    4]]\n",
      "\n",
      "TNR: 0.99188\n",
      "TPR: 0.03419\n",
      "TNRxTPR: 0.03391\n",
      "G-mean: 0.18415\n"
     ]
    }
   ],
   "source": [
    "train_val(X_train, y_train, X_test, y_test)"
   ]
  },
  {
   "cell_type": "markdown",
   "metadata": {
    "id": "jcCxQq6-Uvyr"
   },
   "source": [
    "## Ratio 1:1  \n",
    "Let's see classifiers scores when dataset is balanced.  \n"
   ]
  },
  {
   "cell_type": "code",
   "execution_count": 12,
   "metadata": {
    "executionInfo": {
     "elapsed": 236,
     "status": "ok",
     "timestamp": 1689022097472,
     "user": {
      "displayName": "JACINTO DOMINGUEZ RULL",
      "userId": "04779779024889038949"
     },
     "user_tz": -120
    },
    "id": "BHJ2B9Cx_nsc"
   },
   "outputs": [],
   "source": [
    "# SMOTE\n",
    "\n",
    "sm = SMOTE(random_state=42, sampling_strategy=1) # N_rm / N_M\n",
    "X_res, y_res = sm.fit_resample(X_train, y_train)"
   ]
  },
  {
   "cell_type": "code",
   "execution_count": 13,
   "metadata": {
    "colab": {
     "base_uri": "https://localhost:8080/"
    },
    "executionInfo": {
     "elapsed": 257,
     "status": "ok",
     "timestamp": 1689022098859,
     "user": {
      "displayName": "JACINTO DOMINGUEZ RULL",
      "userId": "04779779024889038949"
     },
     "user_tz": -120
    },
    "id": "6U0Byc1lUvys",
    "outputId": "d426e9a3-9d2f-4528-927e-3024c1e14b6a"
   },
   "outputs": [
    {
     "name": "stdout",
     "output_type": "stream",
     "text": [
      "Resampled dataset shape Counter({0: 7388, 1: 7388})\n",
      "Ratio->  1 : 1.0\n"
     ]
    }
   ],
   "source": [
    "print('Resampled dataset shape %s' % Counter(y_res))\n",
    "print('Ratio->  1 :', round(Counter(y_res)[1]/Counter(y_res)[0], 1))"
   ]
  },
  {
   "cell_type": "code",
   "execution_count": 14,
   "metadata": {
    "colab": {
     "base_uri": "https://localhost:8080/"
    },
    "executionInfo": {
     "elapsed": 43084,
     "status": "ok",
     "timestamp": 1689022143307,
     "user": {
      "displayName": "JACINTO DOMINGUEZ RULL",
      "userId": "04779779024889038949"
     },
     "user_tz": -120
    },
    "id": "CMGEySDMpTdx",
    "outputId": "2fd8bda3-4677-465d-cfc8-2c62e45783be",
    "scrolled": false
   },
   "outputs": [
    {
     "name": "stdout",
     "output_type": "stream",
     "text": [
      "__________________________________________________\n",
      "Classifier:  CatBoostClassifier\n",
      "[[1823   25]\n",
      " [ 114    3]]\n",
      "\n",
      "TNR: 0.98647\n",
      "TPR: 0.02564\n",
      "TNRxTPR: 0.02529\n",
      "G-mean: 0.15904\n",
      "__________________________________________________\n",
      "Classifier:  LGBMClassifier\n",
      "[[1825   23]\n",
      " [ 113    4]]\n",
      "\n",
      "TNR: 0.98755\n",
      "TPR: 0.03419\n",
      "TNRxTPR: 0.03376\n",
      "G-mean: 0.18375\n",
      "__________________________________________________\n",
      "Classifier:  XGBClassifier\n",
      "[[1816   32]\n",
      " [ 112    5]]\n",
      "\n",
      "TNR: 0.98268\n",
      "TPR: 0.04274\n",
      "TNRxTPR: 0.042\n",
      "G-mean: 0.20493\n",
      "__________________________________________________\n",
      "Classifier:  BaggingClassifier\n",
      "[[1783   65]\n",
      " [ 110    7]]\n",
      "\n",
      "TNR: 0.96483\n",
      "TPR: 0.05983\n",
      "TNRxTPR: 0.05772\n",
      "G-mean: 0.24026\n",
      "__________________________________________________\n",
      "Classifier:  RandomForestClassifier\n",
      "[[1787   61]\n",
      " [ 109    8]]\n",
      "\n",
      "TNR: 0.96699\n",
      "TPR: 0.06838\n",
      "TNRxTPR: 0.06612\n",
      "G-mean: 0.25714\n",
      "__________________________________________________\n",
      "Ensemble predictions (majority voting):\n",
      "[[1822   26]\n",
      " [ 113    4]]\n",
      "\n",
      "TNR: 0.98593\n",
      "TPR: 0.03419\n",
      "TNRxTPR: 0.03371\n",
      "G-mean: 0.18359\n"
     ]
    }
   ],
   "source": [
    "train_val(X_res, y_res, X_test, y_test)"
   ]
  },
  {
   "cell_type": "code",
   "execution_count": 15,
   "metadata": {
    "executionInfo": {
     "elapsed": 271,
     "status": "ok",
     "timestamp": 1689022148298,
     "user": {
      "displayName": "JACINTO DOMINGUEZ RULL",
      "userId": "04779779024889038949"
     },
     "user_tz": -120
    },
    "id": "hiRVkg2eUx0U"
   },
   "outputs": [],
   "source": [
    "# ROS\n",
    "\n",
    "ros = RandomOverSampler(random_state=42, sampling_strategy=1) # N_rm / N_M\n",
    "X_res, y_res = ros.fit_resample(X_train, y_train)"
   ]
  },
  {
   "cell_type": "code",
   "execution_count": 16,
   "metadata": {
    "colab": {
     "base_uri": "https://localhost:8080/"
    },
    "executionInfo": {
     "elapsed": 6,
     "status": "ok",
     "timestamp": 1689022148793,
     "user": {
      "displayName": "JACINTO DOMINGUEZ RULL",
      "userId": "04779779024889038949"
     },
     "user_tz": -120
    },
    "id": "7igPUXNbUvyu",
    "outputId": "5ba41f42-56f9-4128-b4e1-2406250edb00"
   },
   "outputs": [
    {
     "name": "stdout",
     "output_type": "stream",
     "text": [
      "Resampled dataset shape Counter({0: 7388, 1: 7388})\n",
      "Ratio->  1 : 1.0\n"
     ]
    }
   ],
   "source": [
    "print('Resampled dataset shape %s' % Counter(y_res))\n",
    "print('Ratio->  1 :', round(Counter(y_res)[1]/Counter(y_res)[0], 1))"
   ]
  },
  {
   "cell_type": "code",
   "execution_count": 17,
   "metadata": {
    "colab": {
     "base_uri": "https://localhost:8080/"
    },
    "executionInfo": {
     "elapsed": 21515,
     "status": "ok",
     "timestamp": 1689022170525,
     "user": {
      "displayName": "JACINTO DOMINGUEZ RULL",
      "userId": "04779779024889038949"
     },
     "user_tz": -120
    },
    "id": "IMANwdwxUx0b",
    "outputId": "83717eb1-15cc-41d7-ca3a-bc1fd23a7f59",
    "scrolled": false
   },
   "outputs": [
    {
     "name": "stdout",
     "output_type": "stream",
     "text": [
      "__________________________________________________\n",
      "Classifier:  CatBoostClassifier\n",
      "[[1663  185]\n",
      " [  93   24]]\n",
      "\n",
      "TNR: 0.89989\n",
      "TPR: 0.20513\n",
      "TNRxTPR: 0.18459\n",
      "G-mean: 0.42964\n",
      "__________________________________________________\n",
      "Classifier:  LGBMClassifier\n",
      "[[1601  247]\n",
      " [  79   38]]\n",
      "\n",
      "TNR: 0.86634\n",
      "TPR: 0.32479\n",
      "TNRxTPR: 0.28138\n",
      "G-mean: 0.53045\n",
      "__________________________________________________\n",
      "Classifier:  XGBClassifier\n",
      "[[1663  185]\n",
      " [  95   22]]\n",
      "\n",
      "TNR: 0.89989\n",
      "TPR: 0.18803\n",
      "TNRxTPR: 0.16921\n",
      "G-mean: 0.41135\n",
      "__________________________________________________\n",
      "Classifier:  BaggingClassifier\n",
      "[[1748  100]\n",
      " [ 103   14]]\n",
      "\n",
      "TNR: 0.94589\n",
      "TPR: 0.11966\n",
      "TNRxTPR: 0.11318\n",
      "G-mean: 0.33643\n",
      "__________________________________________________\n",
      "Classifier:  RandomForestClassifier\n",
      "[[1759   89]\n",
      " [ 105   12]]\n",
      "\n",
      "TNR: 0.95184\n",
      "TPR: 0.10256\n",
      "TNRxTPR: 0.09762\n",
      "G-mean: 0.31245\n",
      "__________________________________________________\n",
      "Ensemble predictions (majority voting):\n",
      "[[1692  156]\n",
      " [  96   21]]\n",
      "\n",
      "TNR: 0.91558\n",
      "TPR: 0.17949\n",
      "TNRxTPR: 0.16434\n",
      "G-mean: 0.40538\n"
     ]
    }
   ],
   "source": [
    "train_val(X_res, y_res, X_test, y_test)"
   ]
  },
  {
   "cell_type": "code",
   "execution_count": 18,
   "metadata": {
    "colab": {
     "base_uri": "https://localhost:8080/"
    },
    "executionInfo": {
     "elapsed": 43513,
     "status": "ok",
     "timestamp": 1689022223033,
     "user": {
      "displayName": "JACINTO DOMINGUEZ RULL",
      "userId": "04779779024889038949"
     },
     "user_tz": -120
    },
    "id": "B065rYa3wO-o",
    "outputId": "ed22fc5a-dbdf-493d-901d-eb1562ac391c"
   },
   "outputs": [
    {
     "name": "stdout",
     "output_type": "stream",
     "text": [
      "217/217 [==============================] - 0s 1ms/step\n"
     ]
    }
   ],
   "source": [
    "# VAEOversampler\n",
    "\n",
    "vae_sampler = VAEOversampler(epochs=500,\n",
    "                              intermediate_dim=512,\n",
    "                              batch_size=64,\n",
    "                              random_state=42,\n",
    "                              verbose=False)\n",
    "X_res, y_res = vae_sampler.fit_resample(X_train, y_train)"
   ]
  },
  {
   "cell_type": "code",
   "execution_count": 19,
   "metadata": {
    "colab": {
     "base_uri": "https://localhost:8080/"
    },
    "executionInfo": {
     "elapsed": 14,
     "status": "ok",
     "timestamp": 1689022223033,
     "user": {
      "displayName": "JACINTO DOMINGUEZ RULL",
      "userId": "04779779024889038949"
     },
     "user_tz": -120
    },
    "id": "nOsNattyeSXh",
    "outputId": "529d8674-c057-4999-8433-e255ba05e967"
   },
   "outputs": [
    {
     "name": "stdout",
     "output_type": "stream",
     "text": [
      "Resampled dataset shape Counter({0.0: 7388, 1.0: 7388})\n",
      "Ratio->  1 : 1.0\n"
     ]
    }
   ],
   "source": [
    "print('Resampled dataset shape %s' % Counter(y_res))\n",
    "print('Ratio->  1 :', round(Counter(y_res)[1]/Counter(y_res)[0], 1))"
   ]
  },
  {
   "cell_type": "code",
   "execution_count": 20,
   "metadata": {
    "colab": {
     "base_uri": "https://localhost:8080/"
    },
    "executionInfo": {
     "elapsed": 49596,
     "status": "ok",
     "timestamp": 1689022272953,
     "user": {
      "displayName": "JACINTO DOMINGUEZ RULL",
      "userId": "04779779024889038949"
     },
     "user_tz": -120
    },
    "id": "6BNffQSbwO-t",
    "outputId": "69f8d371-b2dc-4eff-d866-aaeab7a60eac"
   },
   "outputs": [
    {
     "name": "stdout",
     "output_type": "stream",
     "text": [
      "__________________________________________________\n",
      "Classifier:  CatBoostClassifier\n",
      "[[1837   11]\n",
      " [ 114    3]]\n",
      "\n",
      "TNR: 0.99405\n",
      "TPR: 0.02564\n",
      "TNRxTPR: 0.02549\n",
      "G-mean: 0.15965\n",
      "__________________________________________________\n",
      "Classifier:  LGBMClassifier\n",
      "[[1840    8]\n",
      " [ 115    2]]\n",
      "\n",
      "TNR: 0.99567\n",
      "TPR: 0.01709\n",
      "TNRxTPR: 0.01702\n",
      "G-mean: 0.13046\n",
      "__________________________________________________\n",
      "Classifier:  XGBClassifier\n",
      "[[1828   20]\n",
      " [ 112    5]]\n",
      "\n",
      "TNR: 0.98918\n",
      "TPR: 0.04274\n",
      "TNRxTPR: 0.04227\n",
      "G-mean: 0.2056\n",
      "__________________________________________________\n",
      "Classifier:  BaggingClassifier\n",
      "[[1801   47]\n",
      " [ 111    6]]\n",
      "\n",
      "TNR: 0.97457\n",
      "TPR: 0.05128\n",
      "TNRxTPR: 0.04998\n",
      "G-mean: 0.22356\n",
      "__________________________________________________\n",
      "Classifier:  RandomForestClassifier\n",
      "[[1815   33]\n",
      " [ 113    4]]\n",
      "\n",
      "TNR: 0.98214\n",
      "TPR: 0.03419\n",
      "TNRxTPR: 0.03358\n",
      "G-mean: 0.18324\n",
      "__________________________________________________\n",
      "Ensemble predictions (majority voting):\n",
      "[[1835   13]\n",
      " [ 114    3]]\n",
      "\n",
      "TNR: 0.99297\n",
      "TPR: 0.02564\n",
      "TNRxTPR: 0.02546\n",
      "G-mean: 0.15956\n"
     ]
    }
   ],
   "source": [
    "train_val(X_res, y_res, X_test, y_test)"
   ]
  },
  {
   "cell_type": "markdown",
   "metadata": {
    "id": "w9swp8C1wO-w"
   },
   "source": [
    "## Under/Oversampling combination  \n",
    "Now we can tuning the number of instances for each class to optimize metric.  \n"
   ]
  },
  {
   "cell_type": "code",
   "execution_count": 54,
   "metadata": {
    "executionInfo": {
     "elapsed": 3,
     "status": "ok",
     "timestamp": 1689023168181,
     "user": {
      "displayName": "JACINTO DOMINGUEZ RULL",
      "userId": "04779779024889038949"
     },
     "user_tz": -120
    },
    "id": "D0jtqxJ8Uvyv"
   },
   "outputs": [],
   "source": [
    "# SMOTE\n",
    "\n",
    "sm = SMOTE(random_state=42, sampling_strategy=1) # N_rm / N_M\n",
    "X_res, y_res = sm.fit_resample(X_train, y_train)"
   ]
  },
  {
   "cell_type": "code",
   "execution_count": 55,
   "metadata": {
    "colab": {
     "base_uri": "https://localhost:8080/"
    },
    "executionInfo": {
     "elapsed": 347,
     "status": "ok",
     "timestamp": 1689023168833,
     "user": {
      "displayName": "JACINTO DOMINGUEZ RULL",
      "userId": "04779779024889038949"
     },
     "user_tz": -120
    },
    "id": "uQ3_RoAsUvyv",
    "outputId": "725d270d-48b9-48b2-a8e0-8a87c8e69916"
   },
   "outputs": [
    {
     "name": "stdout",
     "output_type": "stream",
     "text": [
      "Resampled dataset shape Counter({1: 7388, 0: 443})\n",
      "Ratio->  1 : 16.7\n"
     ]
    }
   ],
   "source": [
    "# RUS\n",
    "\n",
    "X_eq, y_eq = RUS(X_res, y_res, frac=.06)\n",
    "\n",
    "print('Resampled dataset shape %s' % Counter(y_eq))\n",
    "print('Ratio->  1 :', round(Counter(y_eq)[1]/Counter(y_eq)[0], 1))"
   ]
  },
  {
   "cell_type": "code",
   "execution_count": 56,
   "metadata": {
    "colab": {
     "base_uri": "https://localhost:8080/"
    },
    "executionInfo": {
     "elapsed": 36851,
     "status": "ok",
     "timestamp": 1689023206604,
     "user": {
      "displayName": "JACINTO DOMINGUEZ RULL",
      "userId": "04779779024889038949"
     },
     "user_tz": -120
    },
    "id": "TPcOZeONUvyw",
    "outputId": "6f14573f-070f-428d-89c5-c02175fd54f8",
    "scrolled": false
   },
   "outputs": [
    {
     "name": "stdout",
     "output_type": "stream",
     "text": [
      "__________________________________________________\n",
      "Classifier:  CatBoostClassifier\n",
      "[[1032  816]\n",
      " [  41   76]]\n",
      "\n",
      "TNR: 0.55844\n",
      "TPR: 0.64957\n",
      "TNRxTPR: 0.36275\n",
      "G-mean: 0.60229\n",
      "__________________________________________________\n",
      "Classifier:  LGBMClassifier\n",
      "[[1173  675]\n",
      " [  50   67]]\n",
      "\n",
      "TNR: 0.63474\n",
      "TPR: 0.57265\n",
      "TNRxTPR: 0.36348\n",
      "G-mean: 0.6029\n",
      "__________________________________________________\n",
      "Classifier:  XGBClassifier\n",
      "[[1154  694]\n",
      " [  45   72]]\n",
      "\n",
      "TNR: 0.62446\n",
      "TPR: 0.61538\n",
      "TNRxTPR: 0.38428\n",
      "G-mean: 0.61991\n",
      "__________________________________________________\n",
      "Classifier:  BaggingClassifier\n",
      "[[1086  762]\n",
      " [  44   73]]\n",
      "\n",
      "TNR: 0.58766\n",
      "TPR: 0.62393\n",
      "TNRxTPR: 0.36666\n",
      "G-mean: 0.60553\n",
      "__________________________________________________\n",
      "Classifier:  RandomForestClassifier\n",
      "[[990 858]\n",
      " [ 38  79]]\n",
      "\n",
      "TNR: 0.53571\n",
      "TPR: 0.67521\n",
      "TNRxTPR: 0.36172\n",
      "G-mean: 0.60143\n",
      "__________________________________________________\n",
      "Ensemble predictions (majority voting):\n",
      "[[1090  758]\n",
      " [  43   74]]\n",
      "\n",
      "TNR: 0.58983\n",
      "TPR: 0.63248\n",
      "TNRxTPR: 0.37305\n",
      "G-mean: 0.61078\n"
     ]
    }
   ],
   "source": [
    "train_val(X_eq, y_eq, X_test, y_test)"
   ]
  },
  {
   "cell_type": "code",
   "execution_count": 49,
   "metadata": {
    "executionInfo": {
     "elapsed": 267,
     "status": "ok",
     "timestamp": 1689023098432,
     "user": {
      "displayName": "JACINTO DOMINGUEZ RULL",
      "userId": "04779779024889038949"
     },
     "user_tz": -120
    },
    "id": "-mGQlfSdUvyw"
   },
   "outputs": [],
   "source": [
    "# ROS\n",
    "\n",
    "ros = RandomOverSampler(random_state=42, sampling_strategy=1) # N_rm / N_M\n",
    "X_res, y_res = ros.fit_resample(X_train, y_train)"
   ]
  },
  {
   "cell_type": "code",
   "execution_count": 52,
   "metadata": {
    "colab": {
     "base_uri": "https://localhost:8080/"
    },
    "executionInfo": {
     "elapsed": 258,
     "status": "ok",
     "timestamp": 1689023124280,
     "user": {
      "displayName": "JACINTO DOMINGUEZ RULL",
      "userId": "04779779024889038949"
     },
     "user_tz": -120
    },
    "id": "8fdzr1qOUvyw",
    "outputId": "71effba9-1b68-4c85-b62c-70877525ead1"
   },
   "outputs": [
    {
     "name": "stdout",
     "output_type": "stream",
     "text": [
      "Resampled dataset shape Counter({1: 7388, 0: 739})\n",
      "Ratio->  1 : 10.0\n"
     ]
    }
   ],
   "source": [
    "# RUS\n",
    "\n",
    "X_eq, y_eq = RUS(X_res, y_res, frac=.1)\n",
    "\n",
    "print('Resampled dataset shape %s' % Counter(y_eq))\n",
    "print('Ratio->  1 :', round(Counter(y_eq)[1]/Counter(y_eq)[0], 1))"
   ]
  },
  {
   "cell_type": "code",
   "execution_count": 53,
   "metadata": {
    "colab": {
     "base_uri": "https://localhost:8080/"
    },
    "executionInfo": {
     "elapsed": 11219,
     "status": "ok",
     "timestamp": 1689023136601,
     "user": {
      "displayName": "JACINTO DOMINGUEZ RULL",
      "userId": "04779779024889038949"
     },
     "user_tz": -120
    },
    "id": "u0UCU05gUvyw",
    "outputId": "7b65fadb-e208-44b0-8ee3-764813eb296c",
    "scrolled": false
   },
   "outputs": [
    {
     "name": "stdout",
     "output_type": "stream",
     "text": [
      "__________________________________________________\n",
      "Classifier:  CatBoostClassifier\n",
      "[[920 928]\n",
      " [ 28  89]]\n",
      "\n",
      "TNR: 0.49784\n",
      "TPR: 0.76068\n",
      "TNRxTPR: 0.3787\n",
      "G-mean: 0.61538\n",
      "__________________________________________________\n",
      "Classifier:  LGBMClassifier\n",
      "[[1104  744]\n",
      " [  39   78]]\n",
      "\n",
      "TNR: 0.5974\n",
      "TPR: 0.66667\n",
      "TNRxTPR: 0.39827\n",
      "G-mean: 0.63109\n",
      "__________________________________________________\n",
      "Classifier:  XGBClassifier\n",
      "[[1218  630]\n",
      " [  47   70]]\n",
      "\n",
      "TNR: 0.65909\n",
      "TPR: 0.59829\n",
      "TNRxTPR: 0.39433\n",
      "G-mean: 0.62796\n",
      "__________________________________________________\n",
      "Classifier:  BaggingClassifier\n",
      "[[1339  509]\n",
      " [  65   52]]\n",
      "\n",
      "TNR: 0.72457\n",
      "TPR: 0.44444\n",
      "TNRxTPR: 0.32203\n",
      "G-mean: 0.56748\n",
      "__________________________________________________\n",
      "Classifier:  RandomForestClassifier\n",
      "[[1330  518]\n",
      " [  61   56]]\n",
      "\n",
      "TNR: 0.7197\n",
      "TPR: 0.47863\n",
      "TNRxTPR: 0.34447\n",
      "G-mean: 0.58692\n",
      "__________________________________________________\n",
      "Ensemble predictions (majority voting):\n",
      "[[1201  647]\n",
      " [  46   71]]\n",
      "\n",
      "TNR: 0.64989\n",
      "TPR: 0.60684\n",
      "TNRxTPR: 0.39438\n",
      "G-mean: 0.628\n"
     ]
    }
   ],
   "source": [
    "train_val(X_eq, y_eq, X_test, y_test)"
   ]
  },
  {
   "cell_type": "code",
   "execution_count": 46,
   "metadata": {
    "colab": {
     "base_uri": "https://localhost:8080/"
    },
    "executionInfo": {
     "elapsed": 1514,
     "status": "ok",
     "timestamp": 1689023001149,
     "user": {
      "displayName": "JACINTO DOMINGUEZ RULL",
      "userId": "04779779024889038949"
     },
     "user_tz": -120
    },
    "id": "T6benPDnCzym",
    "outputId": "b857b63b-7d6c-42fa-90d1-82788209ffbf"
   },
   "outputs": [
    {
     "name": "stdout",
     "output_type": "stream",
     "text": [
      "325/325 [==============================] - 1s 2ms/step\n"
     ]
    }
   ],
   "source": [
    "# VAEOversampler\n",
    "\n",
    "X_res, y_res = vae_sampler.resample(X_train, y_train, sampling_strategy=1.5)"
   ]
  },
  {
   "cell_type": "code",
   "execution_count": 47,
   "metadata": {
    "colab": {
     "base_uri": "https://localhost:8080/"
    },
    "executionInfo": {
     "elapsed": 5,
     "status": "ok",
     "timestamp": 1689023001149,
     "user": {
      "displayName": "JACINTO DOMINGUEZ RULL",
      "userId": "04779779024889038949"
     },
     "user_tz": -120
    },
    "id": "7a1QqxB6Czyx",
    "outputId": "6e6cfa61-88f3-4664-9055-743a96da10ec"
   },
   "outputs": [
    {
     "name": "stdout",
     "output_type": "stream",
     "text": [
      "Resampled dataset shape Counter({1.0: 10847, 0.0: 369})\n",
      "Ratio->  1 : 29.4\n"
     ]
    }
   ],
   "source": [
    "# RUS\n",
    "\n",
    "X_eq, y_eq = RUS(X_res, y_res, frac=.05)\n",
    "\n",
    "print('Resampled dataset shape %s' % Counter(y_eq))\n",
    "print('Ratio->  1 :', round(Counter(y_eq)[1]/Counter(y_eq)[0], 1))"
   ]
  },
  {
   "cell_type": "code",
   "execution_count": 48,
   "metadata": {
    "colab": {
     "base_uri": "https://localhost:8080/"
    },
    "executionInfo": {
     "elapsed": 44028,
     "status": "ok",
     "timestamp": 1689023046848,
     "user": {
      "displayName": "JACINTO DOMINGUEZ RULL",
      "userId": "04779779024889038949"
     },
     "user_tz": -120
    },
    "id": "oAv7STUxCzy0",
    "outputId": "f90f42c6-faed-4569-b892-66d77a986f12"
   },
   "outputs": [
    {
     "name": "stdout",
     "output_type": "stream",
     "text": [
      "__________________________________________________\n",
      "Classifier:  CatBoostClassifier\n",
      "[[1098  750]\n",
      " [  43   74]]\n",
      "\n",
      "TNR: 0.59416\n",
      "TPR: 0.63248\n",
      "TNRxTPR: 0.37579\n",
      "G-mean: 0.61302\n",
      "__________________________________________________\n",
      "Classifier:  LGBMClassifier\n",
      "[[1175  673]\n",
      " [  41   76]]\n",
      "\n",
      "TNR: 0.63582\n",
      "TPR: 0.64957\n",
      "TNRxTPR: 0.41301\n",
      "G-mean: 0.64266\n",
      "__________________________________________________\n",
      "Classifier:  XGBClassifier\n",
      "[[1148  700]\n",
      " [  43   74]]\n",
      "\n",
      "TNR: 0.62121\n",
      "TPR: 0.63248\n",
      "TNRxTPR: 0.3929\n",
      "G-mean: 0.62682\n",
      "__________________________________________________\n",
      "Classifier:  BaggingClassifier\n",
      "[[1248  600]\n",
      " [  61   56]]\n",
      "\n",
      "TNR: 0.67532\n",
      "TPR: 0.47863\n",
      "TNRxTPR: 0.32323\n",
      "G-mean: 0.56854\n",
      "__________________________________________________\n",
      "Classifier:  RandomForestClassifier\n",
      "[[1133  715]\n",
      " [  42   75]]\n",
      "\n",
      "TNR: 0.6131\n",
      "TPR: 0.64103\n",
      "TNRxTPR: 0.39301\n",
      "G-mean: 0.6269\n",
      "__________________________________________________\n",
      "Ensemble predictions (majority voting):\n",
      "[[1160  688]\n",
      " [  45   72]]\n",
      "\n",
      "TNR: 0.62771\n",
      "TPR: 0.61538\n",
      "TNRxTPR: 0.38628\n",
      "G-mean: 0.62151\n"
     ]
    }
   ],
   "source": [
    "train_val(X_eq, y_eq, X_test, y_test)"
   ]
  },
  {
   "cell_type": "markdown",
   "metadata": {
    "id": "RydFSMjOoD87"
   },
   "source": [
    "## References  \n",
    "\n",
    "  - Classification with Imbalanced Datasets:  \n",
    "    https://sci2s.ugr.es/imbalanced  \n",
    "  - Computer Vision:  Models, Learning, and Inference (Simon J.D. Prince):  \n",
    "    http://www.computervisionmodels.com/  \n",
    "  - Oversampling with VAEs:  \n",
    "    https://towardsdatascience.com/oversampling-with-vaes-e410887fe51  \n"
   ]
  }
 ],
 "metadata": {
  "colab": {
   "provenance": []
  },
  "gpuClass": "standard",
  "kernelspec": {
   "display_name": "Python 3 (ipykernel)",
   "language": "python",
   "name": "python3"
  },
  "language_info": {
   "codemirror_mode": {
    "name": "ipython",
    "version": 3
   },
   "file_extension": ".py",
   "mimetype": "text/x-python",
   "name": "python",
   "nbconvert_exporter": "python",
   "pygments_lexer": "ipython3",
   "version": "3.9.7"
  }
 },
 "nbformat": 4,
 "nbformat_minor": 1
}
